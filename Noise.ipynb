{
 "cells": [
  {
   "cell_type": "markdown",
   "metadata": {},
   "source": [
    "# Noise propagation in HQNSL quantum loss\n",
    "In practice the circuit preparing the quantum state for which we wish to learn the symmetries of will be noisy, resulting in a state that is\n",
    "not quite exactly the state we expect. Possible errors include a depolarizing error, unitary gate (e.g. Pauli), and so forth. Measurement of the quantum\n",
    "loss function propagates the effect of the error classically into the metric value itself. \n",
    "\n",
    "A practical symmetry learning scheme must be robust, at least to some threshold, to such errors. It suffices to show that the loss function does not change significantly enough on noisy states than when the state is prepared without an `e` amount of noise. To demonstrate this, we use the generalized GHZ state. In `HQN.ipynb`, we can find some symmetries of the state both with and without noise. In this notebook, we will apply the noiseless symmetries to the noisy state and check that the quantum loss metric is still small. We will also apply the noisy symmetries to the noiseless state and check likewise that the loss is small. If both cases hold, we conclude that the learning scheme is robust to `e`-noisy states.\n",
    "\n",
    "State preparation is not the only source of noise. The parametrized quantum circuit (PQC) that implements the symmetry operation can itself have errors similar to those in the state preparation circuit. This poses a separate robustness challenge---can the learning scheme produce valid symmetries when the circuit is itself noisy? This question requires adding a noise parameter to the PQC but does not otherwise differ in any sense to normal learning (one must simply check, as they would usually do, that the learning can converge to a negligbly small quantum loss metric.) Consequently, we defer this latter question to `HQN.ipynb`.\n",
    "\n",
    "Everything in this notebook is classically simulated. In a quantum hardware, we (sadly) don't need to introduce error manually.\n",
    "\n",
    "See [this link](https://qiskit.org/documentation/tutorials/simulators/3_building_noise_models.html) for more."
   ]
  },
  {
   "cell_type": "code",
   "execution_count": 1,
   "metadata": {},
   "outputs": [],
   "source": [
    "from __loss_funcs import KL\n",
    "from __helpers import prepare_basis, qubit_expansion\n",
    "from __class_HQNet import HQNet\n",
    "from __class_PQC import PQC\n",
    "import numpy as np\n",
    "import torch as t\n",
    "from qiskit.quantum_info import Statevector\n",
    "%matplotlib inline\n",
    "from qiskit.providers.aer import AerSimulator\n",
    "from qiskit import transpile\n",
    "from qiskit.providers.aer.noise import pauli_error, depolarizing_error\n",
    "from qiskit.tools.visualization import plot_histogram\n",
    "from qiskit.providers.aer.noise import NoiseModel"
   ]
  },
  {
   "cell_type": "code",
   "execution_count": 13,
   "metadata": {},
   "outputs": [],
   "source": [
    "NUM_QUBITS = 5\n",
    "\n",
    "PROB_DEPOL = 0.01\n",
    "\n",
    "PROB_RESET = 0.01\n",
    "PROB_MEAS = 0\n",
    "PROB_GATE1 = 0.01"
   ]
  },
  {
   "cell_type": "code",
   "execution_count": 14,
   "metadata": {},
   "outputs": [
    {
     "name": "stdout",
     "output_type": "stream",
     "text": [
      "          ┌───┐                     ░ ┌─┐            \n",
      "q39770_0: ┤ H ├──■────■────■────■───░─┤M├────────────\n",
      "          └───┘┌─┴─┐  │    │    │   ░ └╥┘┌─┐         \n",
      "q39770_1: ─────┤ X ├──┼────┼────┼───░──╫─┤M├─────────\n",
      "               └───┘┌─┴─┐  │    │   ░  ║ └╥┘┌─┐      \n",
      "q39770_2: ──────────┤ X ├──┼────┼───░──╫──╫─┤M├──────\n",
      "                    └───┘┌─┴─┐  │   ░  ║  ║ └╥┘┌─┐   \n",
      "q39770_3: ───────────────┤ X ├──┼───░──╫──╫──╫─┤M├───\n",
      "                         └───┘┌─┴─┐ ░  ║  ║  ║ └╥┘┌─┐\n",
      "q39770_4: ────────────────────┤ X ├─░──╫──╫──╫──╫─┤M├\n",
      "                              └───┘ ░  ║  ║  ║  ║ └╥┘\n",
      "  meas: 5/═════════════════════════════╩══╩══╩══╩══╩═\n",
      "                                       0  1  2  3  4 \n"
     ]
    }
   ],
   "source": [
    "# Prepare noisy and noiseless GHZ State \n",
    "from GHZ_generator import GHZ_state_circuit\n",
    "noiseless_state = Statevector.from_int(0, 2**NUM_QUBITS)\n",
    "qc = GHZ_state_circuit(L=NUM_QUBITS)\n",
    "noiseless_state = noiseless_state.evolve(qc)\n",
    "qc.measure_all()\n",
    "print(qc)"
   ]
  },
  {
   "cell_type": "markdown",
   "metadata": {},
   "source": [
    "## Noiseless state"
   ]
  },
  {
   "cell_type": "code",
   "execution_count": 15,
   "metadata": {},
   "outputs": [
    {
     "data": {
      "image/png": "[encoded data removed]",
      "text/plain": [
       "<Figure size 504x360 with 1 Axes>"
      ]
     },
     "execution_count": 15,
     "metadata": {},
     "output_type": "execute_result"
    }
   ],
   "source": [
    "sim_ideal = AerSimulator()\n",
    "result_ideal = sim_ideal.run(qc).result()\n",
    "plot_histogram(result_ideal.get_counts(0), color='firebrick')"
   ]
  },
  {
   "cell_type": "markdown",
   "metadata": {},
   "source": [
    "## Depolarizing error"
   ]
  },
  {
   "cell_type": "code",
   "execution_count": 16,
   "metadata": {},
   "outputs": [
    {
     "name": "stdout",
     "output_type": "stream",
     "text": [
      "NoiseModel:\n",
      "  Basis gates: ['cx', 'id', 'rz', 'sx']\n",
      "  Instructions with noise: ['depolarize']\n",
      "  All-qubits errors: ['depolarize']\n"
     ]
    }
   ],
   "source": [
    "error_depol = depolarizing_error(PROB_DEPOL, NUM_QUBITS)\n",
    "noise_depol = NoiseModel()\n",
    "noise_depol.add_all_qubit_quantum_error(error_depol, \"depolarize\")\n",
    "print(noise_depol)"
   ]
  },
  {
   "cell_type": "code",
   "execution_count": 17,
   "metadata": {},
   "outputs": [
    {
     "data": {
      "image/png": "[encoded data removed]",
      "text/plain": [
       "<Figure size 504x360 with 1 Axes>"
      ]
     },
     "execution_count": 17,
     "metadata": {},
     "output_type": "execute_result"
    }
   ],
   "source": [
    "# Create noisy simulator backend\n",
    "sim_dpnoise = AerSimulator(noise_model=noise_depol)\n",
    "circ_dpnoise = transpile(qc, sim_dpnoise)\n",
    "\n",
    "# Run and get counts\n",
    "result_dp = sim_dpnoise.run(circ_dpnoise).result()\n",
    "counts_dp = dict.fromkeys(qubit_expansion(NUM_QUBITS), 0)\n",
    "counts_dp.update(result_dp.get_counts(0))\n",
    "\n",
    "# Plot noisy output\n",
    "plot_histogram(counts_dp)"
   ]
  },
  {
   "cell_type": "markdown",
   "metadata": {},
   "source": [
    "## Error ensemble\n",
    "Give a variety of random possible errors to the state, one for each type of gate in our locally universal set."
   ]
  },
  {
   "cell_type": "code",
   "execution_count": 18,
   "metadata": {},
   "outputs": [
    {
     "name": "stdout",
     "output_type": "stream",
     "text": [
      "NoiseModel:\n",
      "  Basis gates: ['cx', 'id', 'rx', 'ry', 'rz', 'sx', 'u1', 'u2', 'u3']\n",
      "  Instructions with noise: ['rz', 'u1', 'reset', 'u3', 'rx', 'cx', 'ry', 'u2']\n",
      "  All-qubits errors: ['reset', 'u1', 'u2', 'u3', 'rx', 'ry', 'rz', 'cx']\n"
     ]
    }
   ],
   "source": [
    "# QuantumError objects\n",
    "error_reset = pauli_error([('X', PROB_RESET), ('I', 1 - PROB_RESET)])\n",
    "error_meas = pauli_error([('X', PROB_MEAS), ('I', 1 - PROB_MEAS)])\n",
    "error_gate1 = pauli_error([('X', PROB_GATE1), ('I', 1 - PROB_GATE1)])\n",
    "error_gate2 = error_gate1.tensor(error_gate1)\n",
    "\n",
    "# Add errors to noise model\n",
    "noise_bit_flip = NoiseModel()\n",
    "noise_bit_flip.add_all_qubit_quantum_error(error_reset, \"reset\")\n",
    "noise_bit_flip.add_all_qubit_quantum_error(error_meas, \"measure\")\n",
    "noise_bit_flip.add_all_qubit_quantum_error(error_gate1, [\"u1\", \"u2\", \"u3\", \"rx\", \"ry\", \"rz\"])\n",
    "noise_bit_flip.add_all_qubit_quantum_error(error_gate2, [\"cx\"])\n",
    "\n",
    "print(noise_bit_flip)"
   ]
  },
  {
   "cell_type": "code",
   "execution_count": 19,
   "metadata": {},
   "outputs": [
    {
     "data": {
      "image/png": "[encoded data removed]",
      "text/plain": [
       "<Figure size 504x360 with 1 Axes>"
      ]
     },
     "execution_count": 19,
     "metadata": {},
     "output_type": "execute_result"
    }
   ],
   "source": [
    "sim_noise = AerSimulator(noise_model=noise_bit_flip)\n",
    "circ_tnoise = transpile(qc, sim_noise)\n",
    "\n",
    "# Run and get counts\n",
    "result_bit_flip = sim_noise.run(circ_tnoise).result()\n",
    "counts_bit_flip = dict.fromkeys(qubit_expansion(NUM_QUBITS), 0)\n",
    "counts_bit_flip.update(result_bit_flip.get_counts(0))\n",
    "\n",
    "# Plot noisy output\n",
    "plot_histogram(counts_bit_flip)"
   ]
  },
  {
   "cell_type": "code",
   "execution_count": 20,
   "metadata": {},
   "outputs": [],
   "source": [
    "dp_dist = np.array([i[1] for i in sorted(counts_dp.items())]) / sum(counts_dp.values())\n",
    "dp_noisy_state = Statevector(dp_dist)\n",
    "\n",
    "bf_dist = np.array([i[1] for i in sorted(counts_bit_flip.items())]) / sum(counts_bit_flip.values())\n",
    "bf_noisy_state = Statevector(bf_dist)"
   ]
  },
  {
   "cell_type": "markdown",
   "metadata": {},
   "source": [
    "## Analysis\n",
    "Take some symmetries from `HQN.ipynb` and analyze the losses under some error."
   ]
  },
  {
   "cell_type": "code",
   "execution_count": 21,
   "metadata": {},
   "outputs": [
    {
     "name": "stdout",
     "output_type": "stream",
     "text": [
      "Classical deep net of circuit depth 0 initialized.\n",
      "Classical deep net of circuit depth 0 initialized.\n",
      "Parametrized quantum circuit initialized.\n",
      "Parametrized quantum circuit initialized.\n",
      "5-qubit non-regularized 'Nelder-Mead' hybrid quantum net initialized -- Hello world!\n",
      "Classical deep net of circuit depth 0 initialized.\n",
      "Classical deep net of circuit depth 0 initialized.\n",
      "Parametrized quantum circuit initialized.\n",
      "Parametrized quantum circuit initialized.\n",
      "5-qubit non-regularized 'Nelder-Mead' hybrid quantum net initialized -- Hello world!\n",
      "Classical deep net of circuit depth 0 initialized.\n",
      "Classical deep net of circuit depth 0 initialized.\n",
      "Parametrized quantum circuit initialized.\n",
      "Parametrized quantum circuit initialized.\n",
      "5-qubit non-regularized 'Nelder-Mead' hybrid quantum net initialized -- Hello world!\n"
     ]
    },
    {
     "data": {
      "image/png": "[encoded data removed]",
      "text/plain": [
       "<Figure size 333.118x325.08 with 1 Axes>"
      ]
     },
     "execution_count": 21,
     "metadata": {},
     "output_type": "execute_result"
    }
   ],
   "source": [
    "bases = prepare_basis(noiseless_state.num_qubits)\n",
    "num_bases = len(bases)\n",
    "hqn_noiseless = HQNet(noiseless_state, bases, eta=1e-2, maxiter=1E4, disp=False,\n",
    "            mode='Nelder-Mead', depth=0, \n",
    "            metric_func=KL, regularize=False)\n",
    "hqn_dp = HQNet(dp_noisy_state, bases, eta=1e-2, maxiter=1E4, disp=False,\n",
    "            mode='Nelder-Mead', depth=0, \n",
    "            metric_func=KL, regularize=False)\n",
    "hqn_bf = HQNet(bf_noisy_state, bases, eta=1e-2, maxiter=1E4, disp=False,\n",
    "            mode='Nelder-Mead', depth=0, \n",
    "            metric_func=KL, regularize=False)\n",
    "\n",
    "# Examine the parametrized circuit\n",
    "hqn_noiseless.view_circuit().draw(output='mpl')"
   ]
  },
  {
   "cell_type": "code",
   "execution_count": 22,
   "metadata": {},
   "outputs": [
    {
     "name": "stdout",
     "output_type": "stream",
     "text": [
      "\n",
      "Net 1:\n",
      "Optimized to QKL = 3.7555868576347336e-16\n",
      "Queried loss func 1668 times\n",
      "Optimized to QKL = -6.085523032625098e-16\n",
      "Queried loss func 1773 times\n",
      "Optimized to QKL = -2.6863763742222423e-16\n",
      "Queried loss func 1972 times\n",
      "Average loss for net 1: -1.6721041830708688e-16\n",
      "\n",
      "Net 2:\n",
      "Optimized to QKL = 0.0007629551691934466\n",
      "Queried loss func 1494 times\n",
      "Optimized to QKL = 0.0007629551691934466\n",
      "Queried loss func 1272 times\n",
      "Optimized to QKL = 0.0007629551691934466\n",
      "Queried loss func 1328 times\n",
      "Average loss for net 2: 0.0007629551691934466\n",
      "\n",
      "Net 3:\n",
      "Optimized to QKL = 0.0009310580790042877\n",
      "Queried loss func 4037 times\n",
      "Optimized to QKL = 4.417351900931621e-13\n",
      "Queried loss func 3571 times\n",
      "Optimized to QKL = 3.5898996957343856e-15\n",
      "Queried loss func 4561 times\n",
      "Average loss for net 3: 0.00031035269314987096\n"
     ]
    }
   ],
   "source": [
    "# Find the symmetries of the noiseless and noisy states.\n",
    "param_shape = (noiseless_state.num_qubits, 1, 2)\n",
    "NRUN = 3\n",
    "param_dim = np.prod(param_shape)\n",
    "nets = [hqn_noiseless, hqn_dp, hqn_bf]\n",
    "proposed_syms = t.zeros((len(nets), NRUN, param_dim)) # first dim is for the 3 types of noise\n",
    "\n",
    "for i, net in enumerate(nets):\n",
    "    print(f\"\\nNet {i+1}:\")\n",
    "    avg = 0\n",
    "    for j in range(NRUN):\n",
    "        potential_sym, loss, regularizer_loss = net.find_potential_symmetry(print_log=True)\n",
    "        proposed_syms[i,j] = potential_sym if t.is_tensor(potential_sym) else t.from_numpy(potential_sym)\n",
    "        potential_sym = potential_sym.reshape(param_shape)\n",
    "        avg += loss\n",
    "    print(f\"Average loss for net {i+1}: {avg / NRUN}\")\n",
    "    "
   ]
  },
  {
   "cell_type": "markdown",
   "metadata": {},
   "source": [
    "#### Cross validation between noise models\n",
    "Are symmetries of noisy (noiseless) states still symmetries of noiseless (noisy) states?"
   ]
  },
  {
   "cell_type": "code",
   "execution_count": 23,
   "metadata": {},
   "outputs": [
    {
     "name": "stdout",
     "output_type": "stream",
     "text": [
      "Key: [state, operator, run, basis]\n",
      "[1,2,1,1] 2.913170902550183e-14\n",
      "[1,2,1,2] 7.200627582452422e-11\n",
      "[1,2,2,1] 2.336006324181126e-13\n",
      "[1,2,2,2] 1.0746000438905007e-10\n",
      "[1,2,3,1] 2.4928461762822027e-14\n",
      "[1,2,3,2] 1.0788569950047721e-10\n",
      "[1,3,1,1] 0.0001394409621467026\n",
      "[1,3,1,2] 0.00028061193287935954\n",
      "[1,3,2,1] -8.18706642402999e-17\n",
      "[1,3,2,2] 6.582062065591861e-14\n",
      "[1,3,3,1] -1.2745836232285273e-15\n",
      "[1,3,3,2] 6.39934382215951e-14\n",
      "[2,1,1,1] 0.00038148170123597155\n",
      "[2,1,1,2] 0.0003814734850093558\n",
      "[2,1,2,1] 0.00038148170123573043\n",
      "[2,1,2,2] 0.0003814734793743668\n",
      "[2,1,3,1] 0.00038148170123569053\n",
      "[2,1,3,2] 0.0003814734830700408\n",
      "[2,3,1,1] 0.0004496752167417444\n",
      "[2,3,1,2] 0.0005217014135272952\n",
      "[2,3,2,1] 1.7831678173861383e-17\n",
      "[2,3,2,2] 3.3144511084040647e-14\n",
      "[2,3,3,1] -4.740530122828571e-16\n",
      "[2,3,3,2] 3.212392891598562e-14\n",
      "[3,1,1,1] 0.0005980536923000006\n",
      "[3,1,1,2] 0.001868653104859402\n",
      "[3,1,2,1] 0.000598055997307132\n",
      "[3,1,2,2] 0.0020662845219529408\n",
      "[3,1,3,1] 0.000598051731929141\n",
      "[3,1,3,2] 0.0008214811314190603\n",
      "[3,2,1,1] 0.0005983079441659331\n",
      "[3,2,1,2] 0.0014410713992661708\n",
      "[3,2,2,1] 0.0005981857110648574\n",
      "[3,2,2,2] 0.0012882222787705747\n",
      "[3,2,3,1] 0.0005980159382424745\n",
      "[3,2,3,2] 0.002653123531927223\n"
     ]
    }
   ],
   "source": [
    "print(\"Key: [state, operator, run, basis]\")\n",
    "for s_i, state in enumerate([noiseless_state, dp_noisy_state, bf_noisy_state]):\n",
    "    for noise_idx in range(len(nets)):\n",
    "        if s_i == noise_idx:\n",
    "            continue # skip diagonal components\n",
    "        for i, sym in enumerate(proposed_syms[noise_idx]):\n",
    "            for j, basis_here in enumerate(bases):\n",
    "                loss_metric = PQC(state, depth=0, basis_param=basis_here, metric_func=KL, say_hi=False).evaluate_true_metric(sym)\n",
    "                print(f\"[{s_i+1},{noise_idx+1},{i+1},{j+1}] {loss_metric}\")"
   ]
  },
  {
   "cell_type": "markdown",
   "metadata": {},
   "source": [
    "## Summary\n",
    "If the noise is sufficiently high (e.g. high noise general bit flip) then the symmetry learning is obviously perturbed. However, for a sufficiently small noise example like the depolarizing noise, the scheme continues to learn the symmetry, at least for small qubit sizes. More tests on larger (`>5`) qubits needed."
   ]
  },
  {
   "cell_type": "code",
   "execution_count": null,
   "metadata": {},
   "outputs": [],
   "source": []
  }
 ],
 "metadata": {
  "interpreter": {
   "hash": "d6de9be78b6020e3c4b915c697ec9df5423262584917bd5f64c63e56f57b2ea4"
  },
  "kernelspec": {
   "display_name": "Python 3.7.7 ('base')",
   "language": "python",
   "name": "python3"
  },
  "language_info": {
   "codemirror_mode": {
    "name": "ipython",
    "version": 3
   },
   "file_extension": ".py",
   "mimetype": "text/x-python",
   "name": "python",
   "nbconvert_exporter": "python",
   "pygments_lexer": "ipython3",
   "version": "3.7.7"
  },
  "orig_nbformat": 4
 },
 "nbformat": 4,
 "nbformat_minor": 2
}
