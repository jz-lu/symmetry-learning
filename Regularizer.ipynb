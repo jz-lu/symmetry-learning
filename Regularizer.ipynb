{
 "cells": [
  {
   "cell_type": "markdown",
   "metadata": {},
   "source": [
    "# Regularization proof of concept\n"
   ]
  },
  {
   "cell_type": "code",
   "execution_count": 1,
   "metadata": {},
   "outputs": [],
   "source": [
    "from __helpers import qubit_expansion, prepare_basis, rand_basis\n",
    "from ___constants import PARAM_PER_QUBIT_PER_DEPTH\n",
    "from __loss_funcs import KL, Em_MMD, MMD\n",
    "from __class_BasisTransformer import BasisTransformer\n",
    "from __class_PQC import PQC\n",
    "from __class_HQNet import HQNet\n",
    "import matplotlib.pyplot as plt\n",
    "import numpy as np\n",
    "import torch as t\n",
    "from math import pi, cos, sin, exp\n",
    "from qiskit.quantum_info import Statevector\n",
    "%matplotlib inline"
   ]
  },
  {
   "cell_type": "code",
   "execution_count": 2,
   "metadata": {},
   "outputs": [],
   "source": [
    "\"\"\"\n",
    "The below flags control all the main parts of a run. The only things you\n",
    "would need to change besides these is the optimization parameters, like which\n",
    "algorithm to use, learning rate, maximum iterations, etc.\n",
    "\n",
    "When using KL, set `OPS = None`. When using Em_MMD, set `ops = s` \n",
    "where `s` is the desired MMD parameter.\n",
    "\"\"\"\n",
    "CIRCUIT_DEPTH = 0 # Depth of the parameterized quantum circuit\n",
    "STATE_TYPE = 'GHZ'\n",
    "NUM_QUBITS = 3\n",
    "NUM_BASES = 2\n",
    "USE_REGULARIZER = True\n",
    "LOSS_METRIC = KL\n",
    "ESTIMATE = False\n",
    "SAMPLE = False\n",
    "NOISE_SCALE = 5\n",
    "OPS = None # MMD sigma parameter"
   ]
  },
  {
   "cell_type": "code",
   "execution_count": 3,
   "metadata": {},
   "outputs": [
    {
     "name": "stdout",
     "output_type": "stream",
     "text": [
      "      ┌───┐          \n",
      "q0_0: ┤ H ├──■────■──\n",
      "      └───┘┌─┴─┐  │  \n",
      "q0_1: ─────┤ X ├──┼──\n",
      "           └───┘┌─┴─┐\n",
      "q0_2: ──────────┤ X ├\n",
      "                └───┘\n"
     ]
    },
    {
     "data": {
      "image/png": "[encoded data removed]",
      "text/plain": [
       "<Figure size 432x288 with 1 Axes>"
      ]
     },
     "metadata": {
      "needs_background": "light"
     },
     "output_type": "display_data"
    }
   ],
   "source": [
    "\"\"\"[Notes on the states]\n",
    "\n",
    "Confusingly, the cluster state is actually NUM_QUBITS^2 qubits rather than NUM_QUBITS. \n",
    "This is due to the way the circuit is designed. The rest are as you would expect.\n",
    "\"\"\"\n",
    "\n",
    "if STATE_TYPE == 'GHZ':\n",
    "    # Prepare: GHZ State (from: Q-circuit)\n",
    "    from GHZ_generator import GHZ_state_circuit\n",
    "    state = Statevector.from_int(0, 2**NUM_QUBITS)\n",
    "    qc = GHZ_state_circuit(L=NUM_QUBITS)\n",
    "    print(qc)\n",
    "    state = state.evolve(qc)\n",
    "elif STATE_TYPE == 'mGHZ':\n",
    "    # Prepare: GHZ State (from: Q-circuit)\n",
    "    from mGHZ_generator import mGHZ_state_circuit\n",
    "    state = Statevector.from_int(0, 2**NUM_QUBITS)\n",
    "    qc = mGHZ_state_circuit(L=NUM_QUBITS)\n",
    "    print(qc)\n",
    "    state = state.evolve(qc)\n",
    "elif STATE_TYPE == 'XY':\n",
    "    # Prepare: XY(L) (from: ED)\n",
    "    from XY_generator import xy_ground_state\n",
    "    state = Statevector(xy_ground_state(NUM_QUBITS).numpy())\n",
    "elif STATE_TYPE == 'Cluster':\n",
    "    # Prepare cluster(L) (from: Q-circuit)\n",
    "    from cluster_generator import cluster_state_circuit\n",
    "    state = Statevector.from_int(0, 2**(NUM_QUBITS**2))\n",
    "    qc = cluster_state_circuit(NUM_QUBITS)\n",
    "    print(qc)\n",
    "    state = state.evolve(qc)\n",
    "else:\n",
    "    raise TypeError(\"Invalid state type specified.\")\n",
    "param_shape = (state.num_qubits, CIRCUIT_DEPTH+1, PARAM_PER_QUBIT_PER_DEPTH)\n",
    "\n",
    "# Visualize the distribution\n",
    "plt.bar(qubit_expansion(state.num_qubits), state.probabilities())\n",
    "plt.xticks(rotation=45)\n",
    "plt.title(f\"{NUM_QUBITS}-{STATE_TYPE} State Distribution (z-basis)\")\n",
    "plt.show()"
   ]
  },
  {
   "cell_type": "code",
   "execution_count": 4,
   "metadata": {},
   "outputs": [],
   "source": [
    "# Preparation of two bases\n",
    "bases = prepare_basis(state.num_qubits, num=NUM_BASES)\n",
    "num_bases = len(bases)"
   ]
  },
  {
   "cell_type": "code",
   "execution_count": 5,
   "metadata": {},
   "outputs": [
    {
     "name": "stdout",
     "output_type": "stream",
     "text": [
      "Classical deep net of circuit depth 0 initialized.\n",
      "Classical deep net of circuit depth 0 initialized.\n",
      "3-qubit (noise: 0) regularized 'Nelder-Mead' hybrid quantum net initialized -- Hello world!\n"
     ]
    },
    {
     "data": {
      "image/png": "[encoded data removed]",
      "text/plain": [
       "<Figure size 280.469x204.68 with 1 Axes>"
      ]
     },
     "execution_count": 5,
     "metadata": {},
     "output_type": "execute_result"
    }
   ],
   "source": [
    "# Start up the HQN\n",
    "disp = False # Display convergence messages from optimizer\n",
    "\n",
    "hqn = HQNet(state, bases, eta=1e-2, maxiter=1E4, disp=disp,\n",
    "            mode='Nelder-Mead', depth=CIRCUIT_DEPTH, \n",
    "            estimate=ESTIMATE, s_eps=NOISE_SCALE, \n",
    "            metric_func=LOSS_METRIC, ops=OPS, sample=SAMPLE, \n",
    "            regularize=USE_REGULARIZER)\n",
    "\n",
    "# Examine the parametrized circuit\n",
    "hqn.view_circuit().draw(output='mpl')"
   ]
  },
  {
   "cell_type": "code",
   "execution_count": 6,
   "metadata": {},
   "outputs": [
    {
     "name": "stdout",
     "output_type": "stream",
     "text": [
      "Optimized to loss metric = 0.07719938891626578\n",
      "Queried loss func 4474 times\n",
      "True QKL's = tensor([0.0283, 0.0276])\n",
      "Predicted QKL's = tensor([-0.0006, -0.0013])\n",
      "MSE = tensor([0.0008, 0.0008])\n",
      "[CNet] Training 4474 points...\n",
      "[CNet] Training 4474 points...\n",
      "Regularizer loss = 0.021268180261027628\n",
      "Optimized to loss metric = 2.429796791255296e-15\n",
      "Queried loss func 1581 times\n",
      "True QKL's = tensor([-5.7789e-16,  2.3915e-15])\n",
      "Predicted QKL's = tensor([0.0640, 0.0640])\n",
      "MSE = tensor([0.0041, 0.0041])\n",
      "[CNet] Training 1581 points...\n",
      "[CNet] Training 1581 points...\n",
      "Regularizer loss = 6.161863311040581e-16\n",
      "Optimized to loss metric = 0.04400190903438354\n",
      "Queried loss func 2377 times\n",
      "True QKL's = tensor([2.3757e-02, 1.1477e-06])\n",
      "Predicted QKL's = tensor([-0.0052, -0.1563])\n",
      "MSE = tensor([0.0008, 0.0244])\n",
      "[CNet] Training 2377 points...\n",
      "[CNet] Training 2377 points...\n",
      "Regularizer loss = 0.020243359440902647\n",
      "Optimized to loss metric = 0.03870512783073787\n",
      "Queried loss func 1220 times\n",
      "True QKL's = tensor([1.3699e-08, 7.0662e-03])\n",
      "Predicted QKL's = tensor([-0.2555, -0.0219])\n",
      "MSE = tensor([0.0653, 0.0008])\n",
      "[CNet] Training 1220 points...\n",
      "[CNet] Training 1220 points...\n",
      "Regularizer loss = 0.03163887080334116\n",
      "Optimized to loss metric = 0.02583478921060511\n",
      "Queried loss func 5517 times\n",
      "True QKL's = tensor([0.0033, 0.0077])\n",
      "Predicted QKL's = tensor([-0.0582, -0.0177])\n",
      "MSE = tensor([0.0038, 0.0006])\n",
      "[CNet] Training 5517 points...\n",
      "[CNet] Training 5517 points...\n",
      "Regularizer loss = 0.014843058716180408\n",
      "\n",
      "Average loss: 0.037148242998398945\n"
     ]
    }
   ],
   "source": [
    "# Optimize a few times.\n",
    "NRUN = 5\n",
    "param_dim = np.prod(param_shape)\n",
    "proposed_syms = t.zeros((NRUN, param_dim))\n",
    "avg = 0\n",
    "# x0 = np.array([3.1416, 1.8676, 3.9111, 3.1416, 0.0572, 3.4207, 3.1416, 1.2177, 8.6164]) # Off diag\n",
    "x0 = np.array([6.2832, 4.6871, 1.5150, 6.2832, 6.8319, 1.4635, 6.2832, 7.3298, 2.4352]) # diag\n",
    "# x0 = None # random\n",
    "for i in range(NRUN):\n",
    "    if disp:\n",
    "        print(f\"== Run {i+1}/{NRUN} ==\")\n",
    "    potential_sym, loss, regularizer_loss = hqn.find_potential_symmetry(print_log=True, x0=x0)\n",
    "    if USE_REGULARIZER:\n",
    "        print(f\"Regularizer loss = {regularizer_loss}\")\n",
    "    proposed_syms[i] = potential_sym if t.is_tensor(potential_sym) else t.from_numpy(potential_sym)\n",
    "    potential_sym = potential_sym.reshape(param_shape)\n",
    "    if disp:\n",
    "        print(f\"Proposed symmetry:\\n{potential_sym}\\n\")\n",
    "    avg += loss / NRUN\n",
    "print(f\"\\nAverage loss: {avg}\")"
   ]
  },
  {
   "cell_type": "markdown",
   "metadata": {},
   "source": [
    "## Quantum Training Validation"
   ]
  },
  {
   "cell_type": "markdown",
   "metadata": {},
   "source": []
  },
  {
   "cell_type": "code",
   "execution_count": 7,
   "metadata": {},
   "outputs": [
    {
     "name": "stdout",
     "output_type": "stream",
     "text": [
      "[B0] KL = 0.028329584408381417\n",
      "[B1] KL = 0.027601641276340873\n",
      "[B0] KL = -5.01717339444277e-16\n",
      "[B1] KL = 4.181902307464641e-14\n",
      "[B0] KL = 0.023757441487043236\n",
      "[B1] KL = 1.1477108451014715e-06\n",
      "[B0] KL = 1.3685320132684809e-08\n",
      "[B1] KL = 0.007066235875413543\n",
      "[B0] KL = 0.003263189506236581\n",
      "[B1] KL = 0.007728510113445631\n"
     ]
    }
   ],
   "source": [
    "# Look at the final KL divergence in each of the chosen bases.\n",
    "for i, sym in enumerate(proposed_syms):\n",
    "    for j, basis_here in enumerate(bases):\n",
    "        loss_metric = PQC(state, depth=CIRCUIT_DEPTH, basis_param=basis_here, \n",
    "                          metric_func=KL, say_hi=False).evaluate_true_metric(sym)\n",
    "        print(f\"[B{j}] KL = {loss_metric}\")"
   ]
  },
  {
   "cell_type": "markdown",
   "metadata": {},
   "source": [
    "## Quantum Loss Cross-Validation"
   ]
  },
  {
   "cell_type": "code",
   "execution_count": 8,
   "metadata": {},
   "outputs": [
    {
     "name": "stdout",
     "output_type": "stream",
     "text": [
      "[B0] KL = 0.364370470482245\n",
      "[B1] KL = 0.07127542666926742\n",
      "[B2] KL = 0.031032611953007747\n",
      "[B0] KL = 1.131378332902631e-07\n",
      "[B1] KL = 1.700117401911354e-07\n",
      "[B2] KL = 2.3574134358998457e-10\n",
      "[B0] KL = 0.05281387756110714\n",
      "[B1] KL = 0.007251789495495592\n",
      "[B2] KL = 0.035810758873050394\n",
      "[B0] KL = 0.3944133731878213\n",
      "[B1] KL = 0.005299857123607912\n",
      "[B2] KL = 0.026693556061623172\n",
      "[B0] KL = 0.0018738047221613105\n",
      "[B1] KL = 0.4410793060733089\n",
      "[B2] KL = 0.0012663212038566674\n"
     ]
    }
   ],
   "source": [
    "# Choose some random bases to examine.\n",
    "NUM_RAND_BASES = 3 # arbitrary\n",
    "for i, sym in enumerate(proposed_syms):\n",
    "    for j in range(NUM_RAND_BASES):\n",
    "        basis_here = rand_basis(state.num_qubits)\n",
    "        loss_metric = PQC(state, depth=CIRCUIT_DEPTH, basis_param=basis_here, \n",
    "                          metric_func=KL, say_hi=False).evaluate_true_metric(sym)\n",
    "        print(f\"[B{j}] KL = {loss_metric}\")"
   ]
  },
  {
   "cell_type": "markdown",
   "metadata": {},
   "source": [
    "## Regularization validation"
   ]
  },
  {
   "cell_type": "code",
   "execution_count": 9,
   "metadata": {},
   "outputs": [],
   "source": [
    "def param_to_unitary(param):\n",
    "    L = param.shape[0]\n",
    "    unitaries = np.zeros((L, 2, 2), dtype=np.complex_)\n",
    "    for i in range(L):\n",
    "        theta, phi, lamb = param[i]\n",
    "        unitaries[i,0,0] = np.cos(theta/2)\n",
    "        unitaries[i,0,1] = -np.exp(1j*lamb) * np.sin(theta/2)\n",
    "        unitaries[i,1,0] = np.exp(1j*phi) * np.sin(theta/2)\n",
    "        unitaries[i,1,1] = np.exp(1j*(lamb+phi)) * np.cos(theta/2)\n",
    "    return unitaries"
   ]
  },
  {
   "cell_type": "code",
   "execution_count": 10,
   "metadata": {},
   "outputs": [
    {
     "name": "stdout",
     "output_type": "stream",
     "text": [
      "[S0] Operator = \n",
      " [[[-0.9949+0.j     -0.0766+0.0658j]\n",
      "  [-0.0111+0.1004j -0.5612-0.8215j]]\n",
      "\n",
      " [[-0.9972+0.j     -0.0298+0.0687j]\n",
      "  [-0.0721+0.0202j  0.1356-0.9879j]]\n",
      "\n",
      " [[-0.9938+0.j      0.0422+0.103j ]\n",
      "  [-0.0961-0.0562j  0.1391-0.984j ]]]\n",
      "[S1] Operator = \n",
      " [[[-1.    +0.j      0.    -0.j    ]\n",
      "  [ 0.    +0.j      0.9953-0.0967j]]\n",
      "\n",
      " [[-1.    +0.j      0.    +0.j    ]\n",
      "  [ 0.    -0.j      0.5924+0.8056j]]\n",
      "\n",
      " [[-1.    +0.j      0.    -0.j    ]\n",
      "  [-0.    -0.j     -0.9796+0.201j ]]]\n",
      "[S2] Operator = \n",
      " [[[-9.904e-01+0.000e+00j  1.355e-01+2.800e-02j]\n",
      "  [-5.950e-02-1.249e-01j -2.364e-01-9.618e-01j]]\n",
      "\n",
      " [[-1.000e+00+0.000e+00j  1.000e-04+0.000e+00j]\n",
      "  [ 1.000e-04-1.000e-04j  9.944e-01-1.056e-01j]]\n",
      "\n",
      " [[-9.978e-01+0.000e+00j -3.170e-02+5.840e-02j]\n",
      "  [-1.350e-02+6.510e-02j -7.616e-01-6.446e-01j]]]\n",
      "[S3] Operator = \n",
      " [[[-1.000e+00+0.000e+00j -0.000e+00-1.000e-04j]\n",
      "  [ 1.000e-04+1.000e-04j  7.078e-01-7.064e-01j]]\n",
      "\n",
      " [[-1.000e+00+0.000e+00j  2.000e-04+1.000e-04j]\n",
      "  [-2.000e-04-0.000e+00j -8.505e-01-5.260e-01j]]\n",
      "\n",
      " [[-1.000e+00+0.000e+00j -2.000e-04+2.000e-04j]\n",
      "  [-1.000e-04-2.000e-04j  9.696e-01+2.448e-01j]]]\n",
      "[S4] Operator = \n",
      " [[[-9.984e-01+0.j     -5.110e-02-0.0239j]\n",
      "  [-5.610e-02-0.0065j  8.497e-01+0.5243j]]\n",
      "\n",
      " [[-1.000e+00+0.j      2.400e-03-0.0032j]\n",
      "  [-2.800e-03+0.0029j  1.462e-01+0.9892j]]\n",
      "\n",
      " [[-1.000e+00+0.j      2.300e-03-0.0075j]\n",
      "  [ 3.000e-04-0.0079j -9.423e-01-0.3347j]]]\n"
     ]
    }
   ],
   "source": [
    "# Convert the proposed symmetries to unitaries\n",
    "for i, sym in enumerate(proposed_syms):\n",
    "    sym = sym.reshape((NUM_QUBITS, -1)).numpy()\n",
    "    unitary = np.around(param_to_unitary(sym), 4)\n",
    "    print(f\"[S{i}] Operator = \\n {unitary}\")"
   ]
  },
  {
   "cell_type": "code",
   "execution_count": 11,
   "metadata": {},
   "outputs": [
    {
     "name": "stdout",
     "output_type": "stream",
     "text": [
      "tensor([6.4855, 4.8229, 2.4317, 6.4330, 6.0105, 1.9798, 6.5063, 0.5292, 1.1820])\n"
     ]
    }
   ],
   "source": [
    "print(proposed_syms[0])"
   ]
  },
  {
   "cell_type": "code",
   "execution_count": null,
   "metadata": {},
   "outputs": [],
   "source": []
  }
 ],
 "metadata": {
  "interpreter": {
   "hash": "d6de9be78b6020e3c4b915c697ec9df5423262584917bd5f64c63e56f57b2ea4"
  },
  "kernelspec": {
   "display_name": "Python 3.7.7 64-bit ('base': conda)",
   "language": "python",
   "name": "python3"
  },
  "language_info": {
   "codemirror_mode": {
    "name": "ipython",
    "version": 3
   },
   "file_extension": ".py",
   "mimetype": "text/x-python",
   "name": "python",
   "nbconvert_exporter": "python",
   "pygments_lexer": "ipython3",
   "version": "3.7.7"
  },
  "orig_nbformat": 4
 },
 "nbformat": 4,
 "nbformat_minor": 2
}
