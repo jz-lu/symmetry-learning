{
 "cells": [
  {
   "cell_type": "markdown",
   "metadata": {},
   "source": [
    "# Regularization proof of concept\n"
   ]
  },
  {
   "cell_type": "code",
   "execution_count": 44,
   "metadata": {},
   "outputs": [],
   "source": [
    "from __helpers import qubit_expansion, prepare_basis, rand_basis, param_to_unitary\n",
    "from ___constants import PARAM_PER_QUBIT_PER_DEPTH\n",
    "from __loss_funcs import KL, Em_MMD, MMD\n",
    "from __class_BasisTransformer import BasisTransformer\n",
    "from __class_PQC import PQC\n",
    "from __class_HQNet import HQNet\n",
    "import matplotlib.pyplot as plt\n",
    "import numpy as np\n",
    "import torch as t\n",
    "from math import pi, cos, sin, exp\n",
    "from qiskit.quantum_info import Statevector\n",
    "%matplotlib inline"
   ]
  },
  {
   "cell_type": "code",
   "execution_count": 45,
   "metadata": {},
   "outputs": [],
   "source": [
    "\"\"\"\n",
    "The below flags control all the main parts of a run. The only things you\n",
    "would need to change besides these is the optimization parameters, like which\n",
    "algorithm to use, learning rate, maximum iterations, etc.\n",
    "\n",
    "When using KL, set `OPS = None`. When using Em_MMD, set `ops = s` \n",
    "where `s` is the desired MMD parameter.\n",
    "\"\"\"\n",
    "CIRCUIT_DEPTH = 0 # Depth of the parameterized quantum circuit\n",
    "STATE_TYPE = 'GHZ'\n",
    "NUM_QUBITS = 3\n",
    "NUM_BASES = 2\n",
    "USE_REGULARIZER = False\n",
    "JUMP = True\n",
    "LOSS_METRIC = KL\n",
    "ESTIMATE = False\n",
    "SAMPLE = False\n",
    "NOISE_SCALE = 5\n",
    "OPS = None # MMD sigma parameter"
   ]
  },
  {
   "cell_type": "code",
   "execution_count": 46,
   "metadata": {},
   "outputs": [
    {
     "name": "stdout",
     "output_type": "stream",
     "text": [
      "            ┌───┐          \n",
      "q3877458_0: ┤ H ├──■────■──\n",
      "            └───┘┌─┴─┐  │  \n",
      "q3877458_1: ─────┤ X ├──┼──\n",
      "                 └───┘┌─┴─┐\n",
      "q3877458_2: ──────────┤ X ├\n",
      "                      └───┘\n"
     ]
    },
    {
     "data": {
      "image/png": "[encoded data removed]",
      "text/plain": [
       "<Figure size 432x288 with 1 Axes>"
      ]
     },
     "metadata": {
      "needs_background": "light"
     },
     "output_type": "display_data"
    }
   ],
   "source": [
    "\"\"\"[Notes on the states]\n",
    "\n",
    "Confusingly, the cluster state is actually NUM_QUBITS^2 qubits rather than NUM_QUBITS. \n",
    "This is due to the way the circuit is designed. The rest are as you would expect.\n",
    "\"\"\"\n",
    "\n",
    "if STATE_TYPE == 'GHZ':\n",
    "    # Prepare: GHZ State (from: Q-circuit)\n",
    "    from GHZ_generator import GHZ_state_circuit\n",
    "    state = Statevector.from_int(0, 2**NUM_QUBITS)\n",
    "    qc = GHZ_state_circuit(L=NUM_QUBITS)\n",
    "    print(qc)\n",
    "    state = state.evolve(qc)\n",
    "elif STATE_TYPE == 'mGHZ':\n",
    "    # Prepare: GHZ State (from: Q-circuit)\n",
    "    from mGHZ_generator import mGHZ_state_circuit\n",
    "    state = Statevector.from_int(0, 2**NUM_QUBITS)\n",
    "    qc = mGHZ_state_circuit(L=NUM_QUBITS)\n",
    "    print(qc)\n",
    "    state = state.evolve(qc)\n",
    "elif STATE_TYPE == 'XY':\n",
    "    # Prepare: XY(L) (from: ED)\n",
    "    from XY_generator import xy_ground_state\n",
    "    state = Statevector(xy_ground_state(NUM_QUBITS).numpy())\n",
    "elif STATE_TYPE == 'Cluster':\n",
    "    # Prepare cluster(L) (from: Q-circuit)\n",
    "    from cluster_generator import cluster_state_circuit\n",
    "    state = Statevector.from_int(0, 2**(NUM_QUBITS**2))\n",
    "    qc = cluster_state_circuit(NUM_QUBITS)\n",
    "    print(qc)\n",
    "    state = state.evolve(qc)\n",
    "else:\n",
    "    raise TypeError(\"Invalid state type specified.\")\n",
    "param_shape = (state.num_qubits, CIRCUIT_DEPTH+1, PARAM_PER_QUBIT_PER_DEPTH)\n",
    "\n",
    "# Visualize the distribution\n",
    "plt.bar(qubit_expansion(state.num_qubits), state.probabilities())\n",
    "plt.xticks(rotation=45)\n",
    "plt.title(f\"{NUM_QUBITS}-{STATE_TYPE} State Distribution (z-basis)\")\n",
    "plt.show()"
   ]
  },
  {
   "cell_type": "code",
   "execution_count": 47,
   "metadata": {},
   "outputs": [],
   "source": [
    "# Preparation of two bases\n",
    "bases = prepare_basis(state.num_qubits, num=NUM_BASES)\n",
    "num_bases = len(bases)"
   ]
  },
  {
   "cell_type": "code",
   "execution_count": 48,
   "metadata": {},
   "outputs": [
    {
     "data": {
      "image/png": "[encoded data removed]",
      "text/plain": [
       "<Figure size 359.661x204.68 with 1 Axes>"
      ]
     },
     "execution_count": 48,
     "metadata": {},
     "output_type": "execute_result"
    }
   ],
   "source": [
    "# Start up the HQN\n",
    "disp = False # Display convergence messages from optimizer\n",
    "\n",
    "hqn = HQNet(state, bases, eta=1e-2, maxiter=5E3, disp=disp,\n",
    "            mode='Nelder-Mead', depth=CIRCUIT_DEPTH, \n",
    "            estimate=ESTIMATE, s_eps=NOISE_SCALE, \n",
    "            metric_func=LOSS_METRIC, ops=OPS, sample=SAMPLE, \n",
    "            regularize=USE_REGULARIZER, jump=JUMP,\n",
    "            checkpoint=700)\n",
    "\n",
    "# Examine the parametrized circuit\n",
    "hqn.view_circuit().draw(output='mpl')"
   ]
  },
  {
   "cell_type": "code",
   "execution_count": 49,
   "metadata": {},
   "outputs": [
    {
     "name": "stdout",
     "output_type": "stream",
     "text": [
      "Jumped 6 times\n",
      "Optimized to loss metric = 4.321382363059456e-08\n",
      "Queried loss func 701 times\n",
      "Regularizer loss = [1.7141138e-05 3.3346108e-09]\n",
      "Jumped 1 times\n",
      "Optimized to loss metric = 2.125477749359561e-08\n",
      "Queried loss func 701 times\n",
      "Regularizer loss = [1.5315832e-06 2.5530811e-08]\n",
      "\n",
      "Average loss: 3.2234300562095086e-08\n"
     ]
    }
   ],
   "source": [
    "# Optimize a few times.\n",
    "NRUN = 2\n",
    "param_dim = np.prod(param_shape)\n",
    "proposed_syms = t.zeros((NRUN, param_dim))\n",
    "avg = 0\n",
    "x0 = np.array([3.1416, 1.8676, 3.9111, 3.1416, 0.0572, 3.4207, 3.1416, 1.2177, 8.6164]) # Off diag\n",
    "# x0 = np.array([6.2832, 4.6871, 1.5150, 6.2832, 6.8319, 1.4635, 6.2832, 7.3298, 2.4352]) # diag\n",
    "# x0 = None # random\n",
    "for i in range(NRUN):\n",
    "    if disp:\n",
    "        print(f\"== Run {i+1}/{NRUN} ==\")\n",
    "    potential_sym, loss, regularizer_loss = hqn.find_potential_symmetry(print_log=True, x0=x0)\n",
    "    if USE_REGULARIZER or JUMP:\n",
    "        print(f\"Regularizer loss = {regularizer_loss}\")\n",
    "    proposed_syms[i] = potential_sym if t.is_tensor(potential_sym) else t.from_numpy(potential_sym)\n",
    "    potential_sym = potential_sym.reshape(param_shape)\n",
    "    if disp:\n",
    "        print(f\"Proposed symmetry:\\n{potential_sym}\\n\")\n",
    "    avg += loss / NRUN\n",
    "print(f\"\\nAverage loss: {avg}\")"
   ]
  },
  {
   "cell_type": "markdown",
   "metadata": {},
   "source": [
    "## Quantum Training Validation"
   ]
  },
  {
   "cell_type": "markdown",
   "metadata": {},
   "source": []
  },
  {
   "cell_type": "code",
   "execution_count": 50,
   "metadata": {},
   "outputs": [
    {
     "name": "stdout",
     "output_type": "stream",
     "text": [
      "[B0] KL = 1.0570853462819744e-11\n",
      "[B1] KL = 4.320164103441091e-08\n",
      "[B0] KL = 3.3141767216315944e-11\n",
      "[B1] KL = 2.1218364456197568e-08\n"
     ]
    }
   ],
   "source": [
    "# Look at the final KL divergence in each of the chosen bases.\n",
    "for i, sym in enumerate(proposed_syms):\n",
    "    for j, basis_here in enumerate(bases):\n",
    "        loss_metric = PQC(state, depth=CIRCUIT_DEPTH, basis_param=basis_here, \n",
    "                          metric_func=KL, say_hi=False).evaluate_true_metric(sym)\n",
    "        print(f\"[B{j}] KL = {loss_metric}\")"
   ]
  },
  {
   "cell_type": "markdown",
   "metadata": {},
   "source": [
    "## Quantum Loss Cross-Validation"
   ]
  },
  {
   "cell_type": "code",
   "execution_count": 51,
   "metadata": {},
   "outputs": [
    {
     "name": "stdout",
     "output_type": "stream",
     "text": [
      "[B0] KL = 0.002988072522642155\n",
      "[B1] KL = 0.0033345064782024647\n",
      "[B2] KL = 0.00036417583302645294\n",
      "[B0] KL = 0.0020424537601023756\n",
      "[B1] KL = 1.3158550584089448e-07\n",
      "[B2] KL = 0.00026205975613012144\n"
     ]
    }
   ],
   "source": [
    "# Choose some random bases to examine.\n",
    "NUM_RAND_BASES = 3 # arbitrary\n",
    "for i, sym in enumerate(proposed_syms):\n",
    "    for j in range(NUM_RAND_BASES):\n",
    "        basis_here = rand_basis(state.num_qubits)\n",
    "        loss_metric = PQC(state, depth=CIRCUIT_DEPTH, basis_param=basis_here, \n",
    "                          metric_func=KL, say_hi=False).evaluate_true_metric(sym)\n",
    "        print(f\"[B{j}] KL = {loss_metric}\")"
   ]
  },
  {
   "cell_type": "markdown",
   "metadata": {},
   "source": [
    "## Regularization validation"
   ]
  },
  {
   "cell_type": "code",
   "execution_count": 52,
   "metadata": {},
   "outputs": [
    {
     "name": "stdout",
     "output_type": "stream",
     "text": [
      "[S0] Operator = \n",
      " [[[ 1.    +0.j      0.    -0.j    ]\n",
      "  [-0.    -0.j      0.5482-0.8364j]]\n",
      "\n",
      " [[ 1.    +0.j      0.    -0.j    ]\n",
      "  [-0.    -0.j      0.9798-0.2002j]]\n",
      "\n",
      " [[-1.    +0.j      0.    -0.j    ]\n",
      "  [ 0.    -0.j      0.1487-0.9889j]]]\n",
      "[S1] Operator = \n",
      " [[[ 1.000e-04+0.j      9.643e-01-0.2646j]\n",
      "  [ 7.194e-01+0.6946j -0.000e+00-0.j    ]]\n",
      "\n",
      " [[ 0.000e+00+0.j      9.532e-01+0.3022j]\n",
      "  [ 8.601e-01+0.5101j -0.000e+00-0.j    ]]\n",
      "\n",
      " [[ 0.000e+00+0.j     -9.987e-01-0.0504j]\n",
      "  [-3.277e-01+0.9448j -0.000e+00+0.j    ]]]\n"
     ]
    }
   ],
   "source": [
    "# Convert the proposed symmetries to unitaries\n",
    "for i, sym in enumerate(proposed_syms):\n",
    "    sym = sym.reshape((NUM_QUBITS, -1)).numpy()\n",
    "    unitary = np.around(param_to_unitary(sym), 4)\n",
    "    print(f\"[S{i}] Operator = \\n {unitary}\")"
   ]
  },
  {
   "cell_type": "code",
   "execution_count": 53,
   "metadata": {},
   "outputs": [
    {
     "name": "stdout",
     "output_type": "stream",
     "text": [
      "tensor([-6.3559e-05,  2.5560e-01,  5.0370e+00, -3.9712e-05,  6.7184e+00,\n",
      "         5.6464e+00,  6.2831e+00,  5.5103e+00,  2.4929e+00])\n"
     ]
    }
   ],
   "source": [
    "print(proposed_syms[0])"
   ]
  },
  {
   "cell_type": "code",
   "execution_count": null,
   "metadata": {},
   "outputs": [],
   "source": []
  }
 ],
 "metadata": {
  "interpreter": {
   "hash": "d6de9be78b6020e3c4b915c697ec9df5423262584917bd5f64c63e56f57b2ea4"
  },
  "kernelspec": {
   "display_name": "Python 3.7.7 64-bit ('base': conda)",
   "language": "python",
   "name": "python3"
  },
  "language_info": {
   "codemirror_mode": {
    "name": "ipython",
    "version": 3
   },
   "file_extension": ".py",
   "mimetype": "text/x-python",
   "name": "python",
   "nbconvert_exporter": "python",
   "pygments_lexer": "ipython3",
   "version": "3.7.7"
  },
  "orig_nbformat": 4
 },
 "nbformat": 4,
 "nbformat_minor": 2
}
