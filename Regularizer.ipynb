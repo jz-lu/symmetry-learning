{
 "cells": [
  {
   "cell_type": "markdown",
   "metadata": {},
   "source": [
    "# Regularization proof of concept\n"
   ]
  },
  {
   "cell_type": "code",
   "execution_count": 1,
   "metadata": {},
   "outputs": [],
   "source": [
    "from __helpers import qubit_expansion, prepare_basis, rand_basis, param_to_unitary\n",
    "from ___constants import PARAM_PER_QUBIT_PER_DEPTH\n",
    "from __loss_funcs import KL, Em_MMD, MMD\n",
    "from __class_BasisTransformer import BasisTransformer\n",
    "from __class_PQC import PQC\n",
    "from __class_HQNet import HQNet\n",
    "import matplotlib.pyplot as plt\n",
    "import numpy as np\n",
    "import torch as t\n",
    "from math import pi, cos, sin, exp\n",
    "from qiskit.quantum_info import Statevector\n",
    "%matplotlib inline"
   ]
  },
  {
   "cell_type": "code",
   "execution_count": 2,
   "metadata": {},
   "outputs": [],
   "source": [
    "\"\"\"\n",
    "The below flags control all the main parts of a run. The only things you\n",
    "would need to change besides these is the optimization parameters, like which\n",
    "algorithm to use, learning rate, maximum iterations, etc.\n",
    "\n",
    "When using KL, set `OPS = None`. When using Em_MMD, set `ops = s` \n",
    "where `s` is the desired MMD parameter.\n",
    "\"\"\"\n",
    "CIRCUIT_DEPTH = 0 # Depth of the parameterized quantum circuit\n",
    "STATE_TYPE = 'GHZ'\n",
    "NUM_QUBITS = 3\n",
    "NUM_BASES = 2\n",
    "USE_REGULARIZER = False\n",
    "JUMP = True\n",
    "LOSS_METRIC = KL\n",
    "ESTIMATE = False\n",
    "SAMPLE = False\n",
    "NOISE_SCALE = 5\n",
    "OPS = None # MMD sigma parameter"
   ]
  },
  {
   "cell_type": "code",
   "execution_count": 3,
   "metadata": {},
   "outputs": [
    {
     "name": "stdout",
     "output_type": "stream",
     "text": [
      "      ┌───┐          \n",
      "q0_0: ┤ H ├──■────■──\n",
      "      └───┘┌─┴─┐  │  \n",
      "q0_1: ─────┤ X ├──┼──\n",
      "           └───┘┌─┴─┐\n",
      "q0_2: ──────────┤ X ├\n",
      "                └───┘\n"
     ]
    },
    {
     "data": {
      "image/png": "[encoded data removed]",
      "text/plain": [
       "<Figure size 432x288 with 1 Axes>"
      ]
     },
     "metadata": {
      "needs_background": "light"
     },
     "output_type": "display_data"
    }
   ],
   "source": [
    "\"\"\"[Notes on the states]\n",
    "\n",
    "Confusingly, the cluster state is actually NUM_QUBITS^2 qubits rather than NUM_QUBITS. \n",
    "This is due to the way the circuit is designed. The rest are as you would expect.\n",
    "\"\"\"\n",
    "\n",
    "if STATE_TYPE == 'GHZ':\n",
    "    # Prepare: GHZ State (from: Q-circuit)\n",
    "    from GHZ_generator import GHZ_state_circuit\n",
    "    state = Statevector.from_int(0, 2**NUM_QUBITS)\n",
    "    qc = GHZ_state_circuit(L=NUM_QUBITS)\n",
    "    print(qc)\n",
    "    state = state.evolve(qc)\n",
    "elif STATE_TYPE == 'mGHZ':\n",
    "    # Prepare: GHZ State (from: Q-circuit)\n",
    "    from mGHZ_generator import mGHZ_state_circuit\n",
    "    state = Statevector.from_int(0, 2**NUM_QUBITS)\n",
    "    qc = mGHZ_state_circuit(L=NUM_QUBITS)\n",
    "    print(qc)\n",
    "    state = state.evolve(qc)\n",
    "elif STATE_TYPE == 'XY':\n",
    "    # Prepare: XY(L) (from: ED)\n",
    "    from XY_generator import xy_ground_state\n",
    "    state = Statevector(xy_ground_state(NUM_QUBITS).numpy())\n",
    "elif STATE_TYPE == 'Cluster':\n",
    "    # Prepare cluster(L) (from: Q-circuit)\n",
    "    from cluster_generator import cluster_state_circuit\n",
    "    state = Statevector.from_int(0, 2**(NUM_QUBITS**2))\n",
    "    qc = cluster_state_circuit(NUM_QUBITS)\n",
    "    print(qc)\n",
    "    state = state.evolve(qc)\n",
    "else:\n",
    "    raise TypeError(\"Invalid state type specified.\")\n",
    "param_shape = (state.num_qubits, CIRCUIT_DEPTH+1, PARAM_PER_QUBIT_PER_DEPTH)\n",
    "\n",
    "# Visualize the distribution\n",
    "plt.bar(qubit_expansion(state.num_qubits), state.probabilities())\n",
    "plt.xticks(rotation=45)\n",
    "plt.title(f\"{NUM_QUBITS}-{STATE_TYPE} State Distribution (z-basis)\")\n",
    "plt.show()"
   ]
  },
  {
   "cell_type": "code",
   "execution_count": 4,
   "metadata": {},
   "outputs": [],
   "source": [
    "# Preparation of two bases\n",
    "bases = prepare_basis(state.num_qubits, num=NUM_BASES)\n",
    "num_bases = len(bases)"
   ]
  },
  {
   "cell_type": "code",
   "execution_count": 5,
   "metadata": {},
   "outputs": [
    {
     "name": "stdout",
     "output_type": "stream",
     "text": [
      "Classical deep net of circuit depth 0 initialized.\n",
      "Classical deep net of circuit depth 0 initialized.\n",
      "3-qubit (noise: 0) non-regularized 'Nelder-Mead' hybrid quantum net initialized -- Hello world!\n"
     ]
    },
    {
     "data": {
      "image/png": "[encoded data removed]",
      "text/plain": [
       "<Figure size 280.469x204.68 with 1 Axes>"
      ]
     },
     "execution_count": 5,
     "metadata": {},
     "output_type": "execute_result"
    }
   ],
   "source": [
    "# Start up the HQN\n",
    "disp = False # Display convergence messages from optimizer\n",
    "\n",
    "hqn = HQNet(state, bases, eta=1e-2, maxiter=5E3, disp=disp,\n",
    "            mode='Nelder-Mead', depth=CIRCUIT_DEPTH, \n",
    "            estimate=ESTIMATE, s_eps=NOISE_SCALE, \n",
    "            metric_func=LOSS_METRIC, ops=OPS, sample=SAMPLE, \n",
    "            regularize=USE_REGULARIZER, jump=JUMP)\n",
    "\n",
    "# Examine the parametrized circuit\n",
    "hqn.view_circuit().draw(output='mpl')"
   ]
  },
  {
   "cell_type": "code",
   "execution_count": 6,
   "metadata": {},
   "outputs": [
    {
     "name": "stdout",
     "output_type": "stream",
     "text": [
      "Jumped to: \n",
      "[[[ 0.23344541+0.j          0.82099903+0.52102192j]\n",
      "  [-0.27128265-0.93376065j -0.06512908+0.22417619j]]\n",
      "\n",
      " [[ 0.04710643+0.j         -0.58713257+0.80811901j]\n",
      "  [-0.9398362 -0.33836209j -0.0389608 +0.02647775j]]\n",
      "\n",
      " [[-0.50904133+0.j         -0.3418419 -0.78995002j]\n",
      "  [-0.62745388-0.5892186j  -0.17243168+0.47894717j]]]\n",
      "\n",
      "Jumped to: \n",
      "[[[ 0.98510932+0.j         -0.17184427-0.00540042j]\n",
      "  [-0.01079552-0.17158985j -0.03094303-0.98462323j]]\n",
      "\n",
      " [[-0.2334455 +0.j         -0.57154452+0.78666388j]\n",
      "  [-0.96470247+0.12187023j  0.11246314-0.2045699j ]]\n",
      "\n",
      " [[-0.18738143+0.j         -0.73682453-0.6495982j ]\n",
      "  [ 0.75686529+0.62613348j -0.0293129 -0.18507446j]]]\n",
      "\n",
      "Jumped to: \n",
      "[[[-0.91775469+0.j          0.1108007 -0.38137847j]\n",
      "  [ 0.22323013+0.32847319j  0.87283663-0.28360162j]]\n",
      "\n",
      " [[-0.91140334+0.j         -0.35420767+0.20947763j]\n",
      "  [ 0.02583921-0.41070219j  0.41376807+0.81206652j]]\n",
      "\n",
      " [[-0.6959128 +0.j          0.42210419+0.58097628j]\n",
      "  [-0.30576337+0.64978007j -0.68358622+0.13040131j]]]\n",
      "\n",
      "Jumped to: \n",
      "[[[ 0.0627905 +0.j         -0.99015707+0.12508532j]\n",
      "  [ 0.99359751-0.093922j    0.06127832-0.01369725j]]\n",
      "\n",
      " [[ 0.89802757+0.j         -0.36386525+0.24728235j]\n",
      "  [ 0.1747208 -0.40375627j -0.16827307-0.88212113j]]\n",
      "\n",
      " [[-0.6959128 +0.j         -0.34595993-0.6292989j ]\n",
      "  [ 0.71246366+0.0900051j  -0.2561825 -0.64704339j]]]\n",
      "\n",
      "Jumped to: \n",
      "[[[ 0.3387379 +0.j         -0.34636131-0.87480883j]\n",
      "  [-0.26249746-0.90352184j  0.26765543-0.20761487j]]\n",
      "\n",
      " [[ 0.14090113+0.j          0.98807011-0.0621638j ]\n",
      "  [-0.70005233-0.70005257j  0.10569145+0.09317964j]]\n",
      "\n",
      " [[ 0.95105651+0.j         -0.01940335+0.30840723j]\n",
      "  [ 0.30764559-0.02908088j -0.02987279-0.95058724j]]]\n",
      "\n",
      "Jumped to: \n",
      "[[[-0.96029374+0.j          0.17783545+0.21496622j]\n",
      "  [ 0.1266592 +0.24858273j -0.38137879+0.88131396j]]\n",
      "\n",
      " [[-0.90482711+0.j          0.26096298+0.33643159j]\n",
      "  [ 0.04006938-0.42388953j  0.7639707 -0.48483077j]]\n",
      "\n",
      " [[-0.99950656+0.j          0.02077226-0.0235615j ]\n",
      "  [-0.0228974 +0.02150209j  0.03139526+0.99901337j]]]\n",
      "\n",
      "Jumped to: \n",
      "[[[ 9.99506560e-01+0.j         -2.70365688e-02+0.01598937j]\n",
      "  [ 9.86636613e-04-0.03139526j -4.81515556e-01-0.8758745j ]]\n",
      "\n",
      " [[-5.49022753e-01+0.j         -9.96690337e-09+0.8358074j ]\n",
      "  [ 3.55869497e-01+0.75626114j -4.96770639e-01+0.23376252j]]\n",
      "\n",
      " [[-4.25779385e-01+0.j         -7.63970915e-01+0.48483023j]\n",
      "  [ 5.31843952e-01+0.73202044j -3.95879609e-01-0.15673998j]]]\n",
      "\n",
      "Jumped to: \n",
      "[[[-0.99211471+0.j          0.12477696+0.01179491j]\n",
      "  [-0.11502512-0.04977582j -0.86939679-0.47795482j]]\n",
      "\n",
      " [[-0.78043044+0.j         -0.58827875-0.2117934j ]\n",
      "  [-0.31827424-0.53817268j  0.14623777+0.76660693j]]\n",
      "\n",
      " [[ 0.20278722+0.j          0.97487701-0.09215296j]\n",
      "  [ 0.18348815-0.96187808j -0.01908404+0.20188723j]]]\n",
      "\n",
      "Jumped to: \n",
      "[[[ 0.92977648+0.j         -0.20691668-0.30446868j]\n",
      "  [ 0.27613431+0.24344514j -0.11653187+0.92244492j]]\n",
      "\n",
      " [[-0.5877854 +0.j         -0.77689381-0.22570851j]\n",
      "  [-0.74247899-0.32129936j  0.45289638+0.37466857j]]\n",
      "\n",
      " [[-0.76040599+0.j          0.55900718+0.33059598j]\n",
      "  [-0.48715819-0.42948763j -0.23497822-0.72318912j]]]\n",
      "\n",
      "Jumped to: \n",
      "[[[ 0.92387953+0.j          0.27059801+0.2705981j ]\n",
      "  [-0.32939174+0.19480169j  0.89485409+0.22975974j]]\n",
      "\n",
      " [[-0.64944803+0.j          0.74209291+0.16587756j]\n",
      "  [-0.407446  +0.64203194j -0.45922926+0.45922895j]]\n",
      "\n",
      " [[-0.90482711+0.j          0.31037965-0.29146589j]\n",
      "  [-0.11878861+0.40887303j  0.41078306+0.80620679j]]]\n",
      "\n",
      "Jumped to: \n",
      "[[[-0.64944803+0.j          0.53768823-0.53768822j]\n",
      "  [-0.32376519+0.68803587j  0.21999275+0.61105313j]]\n",
      "\n",
      " [[ 0.29404029+0.j         -0.82269121-0.48653827j]\n",
      "  [ 0.95579303+0.j          0.25309283+0.14967869j]]\n",
      "\n",
      " [[ 0.97236992+0.j          0.09939623-0.21122768j]\n",
      "  [ 0.10598196+0.20800136j -0.97189012+0.03054257j]]]\n",
      "\n",
      "Jumped to: \n",
      "[[[ 0.12533324+0.j          0.98429158-0.12434491j]\n",
      "  [ 0.21642321-0.96822134j -0.01179495+0.124777j  ]]\n",
      "\n",
      " [[-0.49545879+0.j         -0.31976456-0.8076331j ]\n",
      "  [-0.3943502 -0.7739564j  -0.32765289+0.37164902j]]\n",
      "\n",
      " [[-0.24868991+0.j          0.95142693-0.18149415j]\n",
      "  [ 0.35655923+0.90056584j  0.13325466+0.20997587j]]]\n",
      "\n",
      "Jumped to: \n",
      "[[[ 0.73963105+0.j          0.54447856+0.39558691j]\n",
      "  [-0.66109167-0.12610993j  0.50631228+0.53916785j]]\n",
      "\n",
      " [[-0.91775469+0.j         -0.35386123-0.18030131j]\n",
      "  [ 0.32129927+0.23343759j -0.41665193-0.8177254j ]]\n",
      "\n",
      " [[ 0.0627905 +0.j         -0.45309457-0.88924837j]\n",
      "  [ 0.42493929-0.9030415j   0.06275952-0.00197229j]]]\n",
      "\n",
      "Jumped to: \n",
      "[[[ 0.95579301+0.j         -0.01846294-0.29346011j]\n",
      "  [-0.18742835+0.22656197j -0.77325273-0.56180112j]]\n",
      "\n",
      " [[-0.86074208+0.j         -0.23109988-0.45355916j]\n",
      "  [ 0.43815325+0.25912313j  0.0540466 -0.85904359j]]\n",
      "\n",
      " [[ 0.54902278+0.j          0.77711398+0.30768141j]\n",
      "  [-0.02625349+0.83539496j  0.21804333-0.50386816j]]]\n",
      "\n",
      "Jumped to: \n",
      "[[[ 0.66131183+0.j          0.65732741-0.3613687j ]\n",
      "  [-0.67872081-0.31938179j  0.66000689-0.04152401j]]\n",
      "\n",
      " [[-0.91775469+0.j         -0.38467062-0.09876663j]\n",
      "  [ 0.03737486+0.39538519j  0.14356856-0.90645559j]]\n",
      "\n",
      " [[-0.54902275+0.j          0.23318286-0.80262056j]\n",
      "  [ 0.49127512-0.6761825j  -0.33649989-0.4338131j ]]]\n",
      "\n",
      "Jumped to: \n",
      "[[[-0.63742396+0.j         -0.52745261-0.56168001j]\n",
      "  [ 0.3280686 +0.69718124j  0.23465146-0.5926618j ]]\n",
      "\n",
      " [[ 0.01570728+0.j          0.99199231-0.12531774j]\n",
      "  [ 0.8908966 -0.45393451j -0.01299118+0.0088288j ]]\n",
      "\n",
      " [[-0.99987663+0.j          0.00438218-0.01508356j]\n",
      "  [-0.00294324+0.01542902j  0.89089659+0.45393453j]]]\n",
      "\n",
      "Jumped 16 times\n",
      "Optimized to loss metric = 6.099585516494699e-05\n",
      "Queried loss func 300 times\n",
      "[CNet] Training 4820 points...\n",
      "[CNet] Training 4820 points...\n",
      "Jumped to: \n",
      "[[[-0.64944803+0.j          0.32376491+0.688036j  ]\n",
      "  [ 0.66634883+0.36632839j -0.04077951+0.64816647j]]\n",
      "\n",
      " [[-0.72896864+0.j          0.66806098-0.14932932j]\n",
      "  [-0.25199864+0.63647577j -0.11403587+0.71999382j]]\n",
      "\n",
      " [[ 0.58778523+0.j         -0.20119444+0.78360023j]\n",
      "  [ 0.63924883+0.49585225j  0.46444158-0.36025754j]]]\n",
      "\n",
      "Jumped 1 times\n",
      "Optimized to loss metric = 1.502417308074655e-05\n",
      "Queried loss func 301 times\n",
      "[CNet] Training 4832 points...\n",
      "[CNet] Training 4832 points...\n",
      "Jumped to: \n",
      "[[[ 0.86074201+0.j          0.28612371-0.42101831j]\n",
      "  [ 0.50904145+0.j         -0.48380872+0.71190303j]]\n",
      "\n",
      " [[-0.38268351+0.j          0.49503951-0.78005719j]\n",
      "  [ 0.3669168 +0.84789468j  0.37797203+0.05986495j]]\n",
      "\n",
      " [[-0.62524281+0.j          0.55184745+0.55184764j]\n",
      "  [-0.67174919+0.39727126j -0.60559962-0.15549173j]]]\n",
      "\n",
      "Jumped 1 times\n",
      "Optimized to loss metric = 0.0001650202029850334\n",
      "Queried loss func 301 times\n",
      "[CNet] Training 4832 points...\n",
      "[CNet] Training 4832 points...\n",
      "\n",
      "Average loss: 8.034674374357564e-05\n"
     ]
    }
   ],
   "source": [
    "# Optimize a few times.\n",
    "NRUN = 3\n",
    "param_dim = np.prod(param_shape)\n",
    "proposed_syms = t.zeros((NRUN, param_dim))\n",
    "avg = 0\n",
    "# x0 = np.array([3.1416, 1.8676, 3.9111, 3.1416, 0.0572, 3.4207, 3.1416, 1.2177, 8.6164]) # Off diag\n",
    "x0 = np.array([6.2832, 4.6871, 1.5150, 6.2832, 6.8319, 1.4635, 6.2832, 7.3298, 2.4352]) # diag\n",
    "# x0 = None # random\n",
    "for i in range(NRUN):\n",
    "    if disp:\n",
    "        print(f\"== Run {i+1}/{NRUN} ==\")\n",
    "    potential_sym, loss, regularizer_loss = hqn.find_potential_symmetry(print_log=True, x0=x0)\n",
    "    if USE_REGULARIZER:\n",
    "        print(f\"Regularizer loss = {regularizer_loss}\")\n",
    "    proposed_syms[i] = potential_sym if t.is_tensor(potential_sym) else t.from_numpy(potential_sym)\n",
    "    potential_sym = potential_sym.reshape(param_shape)\n",
    "    if disp:\n",
    "        print(f\"Proposed symmetry:\\n{potential_sym}\\n\")\n",
    "    avg += loss / NRUN\n",
    "print(f\"\\nAverage loss: {avg}\")"
   ]
  },
  {
   "cell_type": "markdown",
   "metadata": {},
   "source": [
    "## Quantum Training Validation"
   ]
  },
  {
   "cell_type": "markdown",
   "metadata": {},
   "source": []
  },
  {
   "cell_type": "code",
   "execution_count": 7,
   "metadata": {},
   "outputs": [
    {
     "name": "stdout",
     "output_type": "stream",
     "text": [
      "[B0] KL = 3.530603396195215e-05\n",
      "[B1] KL = 2.5689364973552104e-05\n",
      "[B0] KL = 9.595954444680824e-06\n",
      "[B1] KL = 5.428351362265742e-06\n",
      "[B0] KL = 6.121177793008987e-05\n",
      "[B1] KL = 0.00010380578475922332\n"
     ]
    }
   ],
   "source": [
    "# Look at the final KL divergence in each of the chosen bases.\n",
    "for i, sym in enumerate(proposed_syms):\n",
    "    for j, basis_here in enumerate(bases):\n",
    "        loss_metric = PQC(state, depth=CIRCUIT_DEPTH, basis_param=basis_here, \n",
    "                          metric_func=KL, say_hi=False).evaluate_true_metric(sym)\n",
    "        print(f\"[B{j}] KL = {loss_metric}\")"
   ]
  },
  {
   "cell_type": "markdown",
   "metadata": {},
   "source": [
    "## Quantum Loss Cross-Validation"
   ]
  },
  {
   "cell_type": "code",
   "execution_count": 8,
   "metadata": {},
   "outputs": [
    {
     "name": "stdout",
     "output_type": "stream",
     "text": [
      "[B0] KL = 0.0022414567720244467\n",
      "[B1] KL = 0.00017590830267425308\n",
      "[B2] KL = 0.0003063076758181391\n",
      "[B0] KL = 0.0010262244181825386\n",
      "[B1] KL = 0.0002651647583164123\n",
      "[B2] KL = 2.0613097244274754e-05\n",
      "[B0] KL = 0.015599750476935452\n",
      "[B1] KL = 0.003546009140165108\n",
      "[B2] KL = 0.0018739223976692474\n"
     ]
    }
   ],
   "source": [
    "# Choose some random bases to examine.\n",
    "NUM_RAND_BASES = 3 # arbitrary\n",
    "for i, sym in enumerate(proposed_syms):\n",
    "    for j in range(NUM_RAND_BASES):\n",
    "        basis_here = rand_basis(state.num_qubits)\n",
    "        loss_metric = PQC(state, depth=CIRCUIT_DEPTH, basis_param=basis_here, \n",
    "                          metric_func=KL, say_hi=False).evaluate_true_metric(sym)\n",
    "        print(f\"[B{j}] KL = {loss_metric}\")"
   ]
  },
  {
   "cell_type": "markdown",
   "metadata": {},
   "source": [
    "## Regularization validation"
   ]
  },
  {
   "cell_type": "code",
   "execution_count": 9,
   "metadata": {},
   "outputs": [
    {
     "name": "stdout",
     "output_type": "stream",
     "text": [
      "[S0] Operator = \n",
      " [[[ 1.000e+00+0.j     -2.400e-03+0.0023j]\n",
      "  [-2.500e-03+0.0022j -1.113e-01+0.9938j]]\n",
      "\n",
      " [[-1.000e+00+0.j      3.900e-03+0.001j ]\n",
      "  [-4.000e-04-0.004j   1.626e-01-0.9867j]]\n",
      "\n",
      " [[-1.000e+00+0.j      7.000e-04-0.0032j]\n",
      "  [ 2.600e-03-0.002j  -4.245e-01-0.9054j]]]\n",
      "[S1] Operator = \n",
      " [[[-4.000e-04+0.000e+00j  4.308e-01+9.024e-01j]\n",
      "  [ 8.672e-01+4.979e-01j -0.000e+00+4.000e-04j]]\n",
      "\n",
      " [[ 2.800e-03+0.000e+00j  9.790e-01-2.040e-01j]\n",
      "  [-3.032e-01+9.529e-01j  3.000e-04-2.800e-03j]]\n",
      "\n",
      " [[ 1.800e-03+0.000e+00j -3.224e-01+9.466e-01j]\n",
      "  [ 7.806e-01+6.250e-01j  1.500e-03-1.000e-03j]]]\n",
      "[S2] Operator = \n",
      " [[[ 6.500e-03+0.000e+00j  2.125e-01-9.771e-01j]\n",
      "  [ 1.000e+00-9.000e-04j -1.400e-03+6.300e-03j]]\n",
      "\n",
      " [[ 4.600e-03+0.000e+00j  4.586e-01-8.887e-01j]\n",
      "  [ 7.178e-01+6.962e-01j -4.400e-03+1.500e-03j]]\n",
      "\n",
      " [[-1.000e-04+0.000e+00j  9.521e-01-3.058e-01j]\n",
      "  [-5.256e-01+8.508e-01j -0.000e+00+1.000e-04j]]]\n"
     ]
    }
   ],
   "source": [
    "# Convert the proposed symmetries to unitaries\n",
    "for i, sym in enumerate(proposed_syms):\n",
    "    sym = sym.reshape((NUM_QUBITS, -1)).numpy()\n",
    "    unitary = np.around(param_to_unitary(sym), 4)\n",
    "    print(f\"[S{i}] Operator = \\n {unitary}\")"
   ]
  },
  {
   "cell_type": "code",
   "execution_count": 10,
   "metadata": {},
   "outputs": [
    {
     "name": "stdout",
     "output_type": "stream",
     "text": [
      "tensor([-0.0066,  5.5734,  2.3921,  6.2913,  1.4766,  0.2576,  6.2767,  5.6218,\n",
      "         1.7938])\n"
     ]
    }
   ],
   "source": [
    "print(proposed_syms[0])"
   ]
  },
  {
   "cell_type": "code",
   "execution_count": null,
   "metadata": {},
   "outputs": [],
   "source": []
  }
 ],
 "metadata": {
  "interpreter": {
   "hash": "d6de9be78b6020e3c4b915c697ec9df5423262584917bd5f64c63e56f57b2ea4"
  },
  "kernelspec": {
   "display_name": "Python 3.7.7 64-bit ('base': conda)",
   "language": "python",
   "name": "python3"
  },
  "language_info": {
   "codemirror_mode": {
    "name": "ipython",
    "version": 3
   },
   "file_extension": ".py",
   "mimetype": "text/x-python",
   "name": "python",
   "nbconvert_exporter": "python",
   "pygments_lexer": "ipython3",
   "version": "3.7.7"
  },
  "orig_nbformat": 4
 },
 "nbformat": 4,
 "nbformat_minor": 2
}
