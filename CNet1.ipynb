{
 "cells": [
  {
   "cell_type": "markdown",
   "metadata": {},
   "source": [
    "# Classical Net (CNet) Unit Test on GHZ State\n",
    "The goal of this notebook is to construct a first step in the classical component of the hybrid quantum net. Ultimately, the classical net (CNet) should be able to take the parametrization of the quantum circuit as input and output the desired loss metric to a high degree of accuracy. As a first round, instead of giving the parameters, we will give the actual probability distributions themselves and see if it can learn the metric from the distributions. This is generally an easier problem since the distbution gives maximal information."
   ]
  },
  {
   "cell_type": "code",
   "execution_count": 1,
   "metadata": {
    "colab": {
     "base_uri": "https://localhost:8080/",
     "height": 264
    },
    "id": "K7BmCK9BbWkp",
    "outputId": "57c56a24-e35f-4b08-f096-ee9f0393665e"
   },
   "outputs": [],
   "source": [
    "import matplotlib.pyplot as plt\n",
    "import numpy as np\n",
    "import numpy.random as npr\n",
    "import random\n",
    "from math import pi\n",
    "%matplotlib inline\n",
    "\n",
    "from qiskit import QuantumCircuit, QuantumRegister\n",
    "from qiskit.quantum_info import Statevector\n",
    "import torch as t\n",
    "from torch.nn import functional as F\n",
    "from __helpers import qubit_expansion\n",
    "from __loss_funcs import KL\n",
    "from __class_BasisTransformer import BasisTransformer\n",
    "from __class_PQC import CNetDataGenerator\n",
    "from __class_CNet import CNet\n"
   ]
  },
  {
   "cell_type": "markdown",
   "metadata": {},
   "source": [
    "## Construction of the State"
   ]
  },
  {
   "cell_type": "code",
   "execution_count": 2,
   "metadata": {},
   "outputs": [
    {
     "name": "stdout",
     "output_type": "stream",
     "text": [
      "      ┌───┐          \n",
      "q0_0: ┤ H ├──■────■──\n",
      "      └───┘┌─┴─┐  │  \n",
      "q0_1: ─────┤ X ├──┼──\n",
      "           └───┘┌─┴─┐\n",
      "q0_2: ──────────┤ X ├\n",
      "                └───┘\n"
     ]
    }
   ],
   "source": [
    "STATE_TYPE = 'GHZ'\n",
    "if STATE_TYPE == 'GHZ':\n",
    "    # Prepare: GHZ State (from: Q-circuit)\n",
    "    from GHZ_generator import GHZ_state_circuit\n",
    "    state = Statevector.from_int(0, 2**3)\n",
    "    qc = GHZ_state_circuit()\n",
    "    print(qc)\n",
    "    state = state.evolve(qc)\n",
    "elif STATE_TYPE == 'XY':\n",
    "    # Prepare: XY(3) (from: ED)\n",
    "    from XY_generator import xy_ground_state\n",
    "    state = Statevector(xy_ground_state(3).numpy()) # L = 3 qubits\n",
    "elif STATE_TYPE == 'Cluster':\n",
    "    # Prepare cluster(3) (from: Q-circuit)\n",
    "    from cluster_generator import cluster_state_circuit\n",
    "    state = Statevector.from_int(0, 2**9)\n",
    "    qc = cluster_state_circuit(3)\n",
    "    print(qc)\n",
    "    state = state.evolve(qc)\n",
    "else:\n",
    "    raise TypeError(\"Invalid state type specified.\")"
   ]
  },
  {
   "cell_type": "code",
   "execution_count": 3,
   "metadata": {},
   "outputs": [
    {
     "data": {
      "image/png": "[encoded data removed]",
      "text/plain": [
       "<Figure size 432x288 with 1 Axes>"
      ]
     },
     "metadata": {
      "needs_background": "light"
     },
     "output_type": "display_data"
    }
   ],
   "source": [
    "# Visualize the distribution\n",
    "plt.bar(qubit_expansion(state.num_qubits), state.probabilities())\n",
    "plt.title(f\"{STATE_TYPE} State Distribution (z-basis)\")\n",
    "plt.show()"
   ]
  },
  {
   "cell_type": "markdown",
   "metadata": {},
   "source": [
    "## Example of Basis Transformation"
   ]
  },
  {
   "cell_type": "code",
   "execution_count": 4,
   "metadata": {},
   "outputs": [
    {
     "data": {
      "image/png": "[encoded data removed]",
      "text/plain": [
       "<Figure size 432x288 with 1 Axes>"
      ]
     },
     "metadata": {
      "needs_background": "light"
     },
     "output_type": "display_data"
    }
   ],
   "source": [
    "# Example: change of basis with 5 uniform Pi/10 rotations.\n",
    "basis_p = t.zeros(3,3) # generally L x 3\n",
    "fig, ax = plt.subplots()\n",
    "for i in range(5):\n",
    "    basis_p[1,0] += pi/10\n",
    "    # print(f\"[{i+1}/5] Parameter matrix:\\n\", parameter)\n",
    "    dist_i = BasisTransformer([state], basis_p).updated_dist()[0]\n",
    "    bar = ax.bar(np.arange(2**state.num_qubits) + 0.25*i - 0.175*state.num_qubits, dist_i, width=0.2)\n",
    "    bar.set_label(rf\"${i+1}\\pi/10$\")\n",
    "plt.legend()\n",
    "ax.set_xticks(np.arange(2**state.num_qubits))\n",
    "ax.set_xticklabels(qubit_expansion(state.num_qubits))\n",
    "plt.title(\"State Distribution (z-basis) over Rotations\")\n",
    "plt.show()"
   ]
  },
  {
   "cell_type": "markdown",
   "metadata": {},
   "source": [
    "## Classical Deep Neural Net Construction\n",
    "We will use Pyt for the neural net implementation.\n",
    "Potential architectures:\n",
    "1. Feed-forward: very simple, but possibly ineffective.\n",
    "2. Convolutional: simple, respects 1-local structure of the qubit change-of-basis.\n",
    "3. Variational autoencoder: used to project distributions, but no clear generalization to learn-by-parameters in place of learn-by-distribution."
   ]
  },
  {
   "cell_type": "markdown",
   "metadata": {},
   "source": [
    "## CNet Training on State\n",
    "We generate the train and test input data, and train the CNet to learn the metric."
   ]
  },
  {
   "cell_type": "code",
   "execution_count": 5,
   "metadata": {},
   "outputs": [
    {
     "name": "stdout",
     "output_type": "stream",
     "text": [
      "Training....\n",
      "[Basis 1/2] Training error: 0.5671139419078828\n",
      "[Basis 1/2] Cross-validation error: 0.6085889935493469\n",
      "Training..."
     ]
    }
   ],
   "source": [
    "# Train one with a rotation of 0, one with Pi/10\n",
    "X_BASIS = True\n",
    "num_bases = 2\n",
    "basis_p = t.zeros(state.num_qubits, 3) # z-basis\n",
    "if X_BASIS:\n",
    "    basis_p[:,0] = t.ones(3) * pi/2 # x-basis\n",
    "fig, (ax1, ax2) = plt.subplots(nrows=2)\n",
    "for i in range(num_bases):\n",
    "    train_data, test_data = CNetDataGenerator(state, basis_p).generate_train_test()\n",
    "    basis_p[:,0] += pi/10 * t.ones(3) # change the basis param for next iteration of loop\n",
    "    net = CNet(state.num_qubits)\n",
    "    losses = net.train(train_data, nepoch=4000, eta=1e-2)\n",
    "\n",
    "    ax1.plot(np.arange(len(losses)), np.log10(losses), label=fr'{i}$\\pi/10$')\n",
    "\n",
    "    dist_i = BasisTransformer([state], basis_p).updated_dist()[0]\n",
    "    bar = ax2.bar(np.arange(2**state.num_qubits) + 0.25*i - 0.125, dist_i, width=0.25)\n",
    "    bar.set_label(fr\"${i+1}\\pi/10$\")\n",
    "    print(f\"[Basis {i+1}/{num_bases}] Training error: {np.mean(losses[-10:-1])}\")\n",
    "    \n",
    "    cv_err = net.test(test_data)\n",
    "    print(f\"[Basis {i+1}/{num_bases}] Cross-validation error: {cv_err}\")\n",
    "ax1.legend(); ax2.legend()\n",
    "ax2.set_xticks(np.arange(2**state.num_qubits))\n",
    "ax2.set_xticklabels(qubit_expansion(state.num_qubits))\n",
    "ax1.set_title(f'Log-Loss ({\"x\" if X_BASIS else \"z\"}-Basis)'); ax2.set_title('Distributions')\n",
    "fig.tight_layout()\n",
    "plt.show()"
   ]
  },
  {
   "cell_type": "code",
   "execution_count": null,
   "metadata": {},
   "outputs": [],
   "source": []
  }
 ],
 "metadata": {
  "colab": {
   "collapsed_sections": [],
   "name": "Untitled1.ipynb",
   "provenance": []
  },
  "interpreter": {
   "hash": "90779316f194e2e5479652345a17af545355bf918319becd7e11a824792fc4d0"
  },
  "kernelspec": {
   "display_name": "Python 3",
   "language": "python",
   "name": "python3"
  },
  "language_info": {
   "codemirror_mode": {
    "name": "ipython",
    "version": 3
   },
   "file_extension": ".py",
   "mimetype": "text/x-python",
   "name": "python",
   "nbconvert_exporter": "python",
   "pygments_lexer": "ipython3",
   "version": "3.7.7"
  }
 },
 "nbformat": 4,
 "nbformat_minor": 4
}
