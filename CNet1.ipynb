{
 "cells": [
  {
   "cell_type": "markdown",
   "metadata": {},
   "source": [
    "# Classical Net (CNet) Unit Test on GHZ State\n",
    "The goal of this notebook is to construct a first step in the classical component of the hybrid quantum net. Ultimately, the classical net (CNet) should be able to take the parametrization of the quantum circuit as input and output the desired loss metric to a high degree of accuracy. As a first round, instead of giving the parameters, we will give the actual probability distributions themselves and see if it can learn the metric from the distributions. This is generally an easier problem since the distbution gives maximal information."
   ]
  },
  {
   "cell_type": "code",
   "execution_count": 1,
   "metadata": {
    "colab": {
     "base_uri": "https://localhost:8080/",
     "height": 264
    },
    "id": "K7BmCK9BbWkp",
    "outputId": "57c56a24-e35f-4b08-f096-ee9f0393665e"
   },
   "outputs": [],
   "source": [
    "import matplotlib.pyplot as plt\n",
    "import numpy as np\n",
    "import numpy.random as npr\n",
    "import random\n",
    "from math import pi\n",
    "%matplotlib inline\n",
    "\n",
    "from qiskit import QuantumCircuit, ClassicalRegister, QuantumRegister, transpile\n",
    "from qiskit.tools.visualization import circuit_drawer\n",
    "from qiskit.quantum_info import state_fidelity\n",
    "from qiskit import BasicAer\n",
    "from qiskit.quantum_info import Operator\n",
    "from qiskit.quantum_info import Statevector\n",
    "\n",
    "import torch as t\n",
    "from torch.nn import functional as F\n",
    "import torch.nn as nn"
   ]
  },
  {
   "cell_type": "code",
   "execution_count": 2,
   "metadata": {},
   "outputs": [],
   "source": [
    "# Useful decimal to binary converter\n",
    "def qubit_expansion(L):\n",
    "    \"\"\"Returns list of all L-qubits in z basis in lexicographical order\"\"\"\n",
    "    assert isinstance(L, int) and L > 0\n",
    "    d2b = np.vectorize(np.binary_repr)\n",
    "    return d2b(np.arange(2**L), L)"
   ]
  },
  {
   "cell_type": "markdown",
   "metadata": {},
   "source": [
    "## Construction of the State"
   ]
  },
  {
   "cell_type": "code",
   "execution_count": 8,
   "metadata": {},
   "outputs": [
    {
     "name": "stdout",
     "output_type": "stream",
     "text": [
      "     ┌───┐                        \n",
      "q_0: ┤ H ├─■─────■────────────────\n",
      "     ├───┤ │     │                \n",
      "q_1: ┤ H ├─■──■──┼──■─────────────\n",
      "     ├───┤    │  │  │             \n",
      "q_2: ┤ H ├────■──┼──┼──■──────────\n",
      "     ├───┤       │  │  │          \n",
      "q_3: ┤ H ├─■─────■──┼──┼──■───────\n",
      "     ├───┤ │        │  │  │       \n",
      "q_4: ┤ H ├─■──■─────■──┼──┼──■────\n",
      "     ├───┤    │        │  │  │    \n",
      "q_5: ┤ H ├────■────────■──┼──┼──■─\n",
      "     ├───┤                │  │  │ \n",
      "q_6: ┤ H ├─■──────────────■──┼──┼─\n",
      "     ├───┤ │                 │  │ \n",
      "q_7: ┤ H ├─■──■──────────────■──┼─\n",
      "     ├───┤    │                 │ \n",
      "q_8: ┤ H ├────■─────────────────■─\n",
      "     └───┘                        \n"
     ]
    }
   ],
   "source": [
    "STATE_TYPE = 'GHZ'\n",
    "if STATE_TYPE == 'GHZ':\n",
    "    # Prepare: GHZ State (from: Q-circuit)\n",
    "    from GHZ_generator import GHZ_state_circuit\n",
    "    state = Statevector.from_int(0, 2**3)\n",
    "    qc = GHZ_state_circuit()\n",
    "    print(qc)\n",
    "    state = state.evolve(qc)\n",
    "elif STATE_TYPE == 'XY':\n",
    "    # Prepare: XY(3) (from: ED)\n",
    "    from XY_generator import xy_ground_state\n",
    "    state = Statevector(xy_ground_state(3).numpy()) # L = 3 qubits\n",
    "elif STATE_TYPE == 'Cluster':\n",
    "    # Prepare cluster(3) (from: Q-circuit)\n",
    "    from cluster_generator import cluster_state_circuit\n",
    "    state = Statevector.from_int(0, 2**9)\n",
    "    qc = cluster_state_circuit(3)\n",
    "    print(qc)\n",
    "    state = state.evolve(qc)\n",
    "else:\n",
    "    raise TypeError(\"Invalid state type specified.\")"
   ]
  },
  {
   "cell_type": "code",
   "execution_count": 10,
   "metadata": {},
   "outputs": [
    {
     "data": {
      "image/png": "[encoded data removed]",
      "text/plain": [
       "<Figure size 432x288 with 1 Axes>"
      ]
     },
     "metadata": {
      "needs_background": "light"
     },
     "output_type": "display_data"
    }
   ],
   "source": [
    "# Visualize the distribution\n",
    "plt.bar(qubit_expansion(state.num_qubits), state.probabilities())\n",
    "plt.title(f\"{STATE_TYPE} State Distribution (z-basis)\")\n",
    "plt.show()"
   ]
  },
  {
   "cell_type": "markdown",
   "metadata": {},
   "source": [
    "## Loss Metric Choices"
   ]
  },
  {
   "cell_type": "code",
   "execution_count": null,
   "metadata": {},
   "outputs": [],
   "source": [
    "def KS(P1, P2):\n",
    "    \"\"\"Deprecated: KS Test on two discrete distributions\"\"\"\n",
    "    assert len(P1) == len(P2)\n",
    "    return np.abs(np.cumsum(P1) - np.cumsum(P2)).max()"
   ]
  },
  {
   "cell_type": "code",
   "execution_count": null,
   "metadata": {},
   "outputs": [],
   "source": [
    "def KL(P, Q, eps=1e-7):\n",
    "    \"\"\"KL divergence on two discrete distributions\"\"\"\n",
    "    P = P + eps * np.ones_like(P)\n",
    "    Q = Q + eps * np.ones_like(Q)\n",
    "    return np.sum(P * np.log(P/Q))\n",
    "\n",
    "def SymKL(P, Q, eps=1e-7):\n",
    "    \"\"\"Symmetrized KL divergence on two discrete distributions\"\"\"\n",
    "    return 1/2 * (KL(P, Q, eps) + KL(Q, P, eps))"
   ]
  },
  {
   "cell_type": "code",
   "execution_count": null,
   "metadata": {},
   "outputs": [],
   "source": [
    "def Gaussian(x, m, s):\n",
    "    \"\"\"Element-wise Gaussian map with mean m and deviation s\"\"\"\n",
    "    return np.exp(-np.square(x-m) / (2 * s**2))\n",
    "\n",
    "def Em_MMD(x, y, s):\n",
    "    \"\"\"Empirical (sample) MMD loss function with width parameter s\"\"\"\n",
    "    assert len(x) == len(y), f\"Samples x and y differ in size: {len(x)} vs {len(y)}\"\n",
    "    n = len(x)\n",
    "    return sum([Gaussian(x[i], x[j], s) + Gaussian(y[i], y[j], s) - \\\n",
    "           2*Gaussian(x[i], y[j], s) for i in range(n) for j in range(n)]) / n**2\n",
    "\n",
    "def MMD(P, Q, n=101, s=1):\n",
    "    \"\"\"\n",
    "    Define the MMD loss over distributions as a random variable obtained by sampling\n",
    "    from the distributions and computing the empirical MMD over the samples.\n",
    "    \"\"\"\n",
    "    return Em_MMD(npr.choice(len(P), size=n, p=P), \\\n",
    "                  npr.choice(len(Q), size=n, p=Q), s=s)"
   ]
  },
  {
   "cell_type": "markdown",
   "metadata": {},
   "source": [
    "## Learning in Multiple Bases\n",
    "By analogy to partial tomography, our quantum learning scheme requires multiple bases to learn the phases in the state expansion. The general idea will be to (a) randomly sample bases until a good one is found (i.e. one where the learning converges well) and then (b) perturb that basis slightly by a small rotation to generate a second good basis. It is possible to replace (b) with a second random sampling, but there is no need to do this unless we find that the above scheme doesn't learn the phases well enough because the two bases are too close to each other. Hopefully, that will not be the case."
   ]
  },
  {
   "cell_type": "code",
   "execution_count": null,
   "metadata": {},
   "outputs": [],
   "source": [
    "\"\"\"\n",
    "Given a quantum state expressed in the z-basis, we apply a quantum circuit\n",
    "operation to change the basis into a different one, using a parametrizaed\n",
    "rotation via 1-gates. \n",
    "Current metric: KL divergence.\n",
    "\"\"\"\n",
    "class BasisTransformer:\n",
    "    def __init__(self, states, updated_parameters):\n",
    "        self.states = states\n",
    "        self.L = states[0].num_qubits\n",
    "        assert np.all([states[0].num_qubits == state.num_qubits for state in states])\n",
    "        if type(updated_parameters).__module__ == t.__name__:\n",
    "            self.p = updated_parameters.clone().cpu().detach().numpy()\n",
    "        else:\n",
    "            assert type(updated_parameters).__module__ == np.__name__\n",
    "            self.p = updated_parameters\n",
    "        self.__transform()\n",
    "    \n",
    "    def __make_qc(self):\n",
    "        \"\"\"\n",
    "        Make the quantum circuit in qiskit to execute the transformation. Rotation\n",
    "        performed with qiskit U-gates: https://qiskit.org/documentation/stubs/qiskit.circuit.library.UGate.html\n",
    "        \n",
    "        param_mat: L x L matrix of (theta, phi, lambda) parameters (each col)\n",
    "        \"\"\"\n",
    "        qubits = QuantumRegister(self.L)\n",
    "        qc = QuantumCircuit(qubits)\n",
    "        \n",
    "        for i in range(self.L):\n",
    "            qc.u(*self.p[i], qubits[i])\n",
    "        self.qc = qc\n",
    "    \n",
    "    def __transform(self):\n",
    "        \"\"\"Perform the change of basis for each state\"\"\"\n",
    "        self.__make_qc()\n",
    "        self.transformed_states = [state.copy().evolve(self.qc) for state in self.states]\n",
    "    \n",
    "    def transformed_states(self):\n",
    "        return self.transformed_states\n",
    "    \n",
    "    def updated_dist(self):\n",
    "        return [state.probabilities() for state in self.transformed_states]"
   ]
  },
  {
   "cell_type": "code",
   "execution_count": null,
   "metadata": {},
   "outputs": [],
   "source": [
    "\"\"\"\n",
    "For two bases, generate train and test datasets along with the true metric value.\n",
    "Specify a basis parametrization in addition to the state itself (assumed ot be in z-basis).\n",
    "Apply a theta-parametrized quantum circuit Q_theta (Q_th) to the state.\n",
    "\"\"\"\n",
    "TRAIN_SIZE = 3000\n",
    "TEST_SIZE = 500\n",
    "SAMPLING_DENSITY = 200\n",
    "class CNetDataGenerator:\n",
    "    def __init__(self, state, basis_param):\n",
    "        self.metric = KL #* change this if the metric changes\n",
    "        self.state = BasisTransformer([state], basis_param).transformed_states[0]\n",
    "        self.L = state.num_qubits\n",
    "        \n",
    "    def __Q_th(self, p):\n",
    "        \"\"\"\n",
    "        Apply the quantum circuit in qiskit corresponding to Q_theta with parameters p.\n",
    "        For the moment, it is also just a bunch of single-qubit rotations.\n",
    "        This will eventually change to a richer parametrization of circuits.\n",
    "        \"\"\"\n",
    "        qubits = QuantumRegister(self.L)\n",
    "        Q_th = QuantumCircuit(qubits)\n",
    "        p_sqrt = int(np.sqrt(p.size()[0]))\n",
    "        p = torch.reshape(p, (p_sqrt, p_sqrt))\n",
    "        if type(p).__module__ == t.__name__:\n",
    "            p = p.clone().cpu().detach().numpy()\n",
    "        \n",
    "        for i in range(self.L):\n",
    "            Q_th.u(*p[i], qubits[i])\n",
    "        return self.state.copy().evolve(Q_th)\n",
    "        \n",
    "    def __true_loss(self, p):\n",
    "        \"\"\"\n",
    "        Calculate the metric loss of Q_th(p)|state> against reference |state>,\n",
    "        where p parametrizes the circuit Q_th.\n",
    "        \"\"\"\n",
    "        return self.metric(self.state.probabilities(), self.__Q_th(p).probabilities())\n",
    "    \n",
    "    def __generate_some_data(self, sz):\n",
    "        \"\"\"\n",
    "        Generate a random input parameter, which input to the CNet, \n",
    "        sampled from X ~ 2 * Pi * DUnif(n), whwere n = SAMPLING_DENSITY.\n",
    "        \"\"\"\n",
    "        dataset = t.zeros(sz, 3*self.L + 1) # + 1 for the output value\n",
    "        \n",
    "        params = t.randint(0, SAMPLING_DENSITY, (sz, self.L*3)) * 2 * pi / SAMPLING_DENSITY\n",
    "        dataset[:,:-1] = params\n",
    "        \n",
    "        true_metric = t.tensor([self.__true_loss(param) for param in params]) # target value for CNet\n",
    "        dataset[:,-1] = true_metric\n",
    "        return dataset\n",
    "  \n",
    "    def generate_train_test(self, train_size=TRAIN_SIZE, test_size=TEST_SIZE):\n",
    "        \"\"\"Generate the train and test datasets for neural network training\"\"\"\n",
    "        train_data = self.__generate_some_data(train_size)\n",
    "        test_data = self.__generate_some_data(test_size)\n",
    "        return train_data, test_data"
   ]
  },
  {
   "cell_type": "code",
   "execution_count": null,
   "metadata": {},
   "outputs": [
    {
     "data": {
      "image/png": "[encoded data removed]",
      "text/plain": [
       "<Figure size 432x288 with 1 Axes>"
      ]
     },
     "metadata": {
      "needs_background": "light"
     },
     "output_type": "display_data"
    }
   ],
   "source": [
    "# Example: change of basis with 5 uniform Pi/10 rotations.\n",
    "basis_p = torch.zeros(3,3) #! geerally L x 3\n",
    "fig, ax = plt.subplots()\n",
    "for i in range(5):\n",
    "    basis_p[1,0] += pi/10\n",
    "    # print(f\"[{i+1}/5] Parameter matrix:\\n\", parameter)\n",
    "    dist_i = BasisTransformer([state], basis_p).updated_dist()[0]\n",
    "    bar = ax.bar(np.arange(2**state.num_qubits) + 0.25*i - 0.175*state.num_qubits, dist_i, width=0.2)\n",
    "    bar.set_label(rf\"${i+1}\\pi/10$\")\n",
    "plt.legend()\n",
    "ax.set_xticks(np.arange(2**state.num_qubits))\n",
    "ax.set_xticklabels(qubit_expansion(state.num_qubits))\n",
    "plt.title(\"State Distribution (z-basis) over Rotations\")\n",
    "plt.show()"
   ]
  },
  {
   "cell_type": "markdown",
   "metadata": {},
   "source": [
    "## Classical Deep Neural Net Construction\n",
    "We will use PyTorch for the neural net implementation.\n",
    "Potential architectures:\n",
    "1. Feed-forward: very simple, but possibly ineffective.\n",
    "2. Convolutional: simple, respects 1-local structure of the qubit change-of-basis.\n",
    "3. Variational autoencoder: used to project distributions, but no clear generalization to learn-by-parameters in place of learn-by-distribution."
   ]
  },
  {
   "cell_type": "code",
   "execution_count": null,
   "metadata": {},
   "outputs": [],
   "source": [
    "\"\"\"\n",
    "The CNet component of the HQ Net. \n",
    "In iteration 1: CNet is a stochastic function approximator\n",
    "mapping distributions to the approximate metric.\n",
    "\n",
    "Implementation followed from: https://pytorch.org/tutorials/beginner/blitz/neural_networks_tutorial.html.\n",
    "\n",
    "Currently, the metric we use is the: KL Divergence.\n",
    "\"\"\"\n",
    "HIDDEN_DIM = 100\n",
    "class CNet(nn.Module):\n",
    "    def __init__(self, num_qubits):\n",
    "        super(CNet, self).__init__()\n",
    "        self.loss_func = nn.MSELoss()\n",
    "        self.batch_size = 20 # batch SGD size parameter\n",
    "        self.fc1 = nn.Linear(3 * num_qubits, HIDDEN_DIM)\n",
    "        self.fc2 = nn.Linear(HIDDEN_DIM, HIDDEN_DIM)\n",
    "        self.fc3 = nn.Linear(HIDDEN_DIM, 1)\n",
    "        self.model = self\n",
    "    \n",
    "    def forward(self, inpt):\n",
    "        \"\"\"ReLU is the natural activation on KL, since KL >= 0\"\"\"\n",
    "        x = F.relu(self.fc1(inpt))\n",
    "        x = F.relu(self.fc2(x))\n",
    "        x = F.relu(self.fc3(x))\n",
    "        return x\n",
    "    \n",
    "    def train(self, train_data, nepoch=2000, eta=1e-3):\n",
    "        \"\"\"Train the net with learning rate `eta` for `nepochs` epochs\"\"\"\n",
    "        true_metric = train_data[:,-1] # True metric value\n",
    "        sz = train_data.size(0)\n",
    "        self.optimizer = t.optim.Adam(self.model.parameters(), lr=eta)\n",
    "        self.losses = np.zeros(nepoch // 10)\n",
    "        \n",
    "        for epoch in range(nepoch):\n",
    "            self.optimizer.zero_grad()\n",
    "            batch_idxs = random.sample(range(sz), self.batch_size)\n",
    "            batch = train_data[batch_idxs].clone()\n",
    "            estimated_metric = self.model(batch[:,:-1]).squeeze()\n",
    "            loss = self.loss_func(estimated_metric, true_metric[batch_idxs])\n",
    "            if epoch % 10 ==0:\n",
    "                self.losses[epoch // 10] = loss.item()\n",
    "            loss.backward()\n",
    "            self.optimizer.step()\n",
    "            if epoch % 1000 == 0:\n",
    "                print(\"Finished Epoch:\", epoch)\n",
    "        return self.losses\n",
    "    \n",
    "    def test(self, test_data):\n",
    "        \"\"\"Apply the CNet to a test dataset. Returns the cross-validation MSE\"\"\"\n",
    "        estimated_metric = self.model(test_data[:,:-1]).detach()\n",
    "        true_metric = self.test_data[:,-1]\n",
    "        return torch.pow(estimated_metric - true_metric, 2).sum() / current.size(0)"
   ]
  },
  {
   "cell_type": "markdown",
   "metadata": {},
   "source": [
    "## CNet Training on State\n",
    "We generate the train and test input data, and train the CNet to learn the metric."
   ]
  },
  {
   "cell_type": "code",
   "execution_count": null,
   "metadata": {},
   "outputs": [
    {
     "name": "stdout",
     "output_type": "stream",
     "text": [
      "Finished Epoch: 0\n",
      "Finished Epoch: 1000\n",
      "Finished Epoch: 2000\n",
      "Finished Epoch: 3000\n",
      "Finished Epoch: 0\n",
      "Finished Epoch: 1000\n",
      "Finished Epoch: 2000\n",
      "Finished Epoch: 3000\n"
     ]
    },
    {
     "data": {
      "image/png": "[encoded data removed]",
      "text/plain": [
       "<Figure size 432x288 with 2 Axes>"
      ]
     },
     "metadata": {
      "needs_background": "light"
     },
     "output_type": "display_data"
    }
   ],
   "source": [
    "# Train one with a rotation of 0, one with Pi/10\n",
    "num_bases = 2\n",
    "basis_p = torch.zeros(state.num_qubits, 3)\n",
    "fig, (ax1, ax2) = plt.subplots(nrows=2)\n",
    "for i in range(num_bases):\n",
    "    train_data, test_data = CNetDataGenerator(state, basis_p).generate_train_test()\n",
    "    basis_p[:,0] += pi/10 * torch.ones(3) # change the basis param for next iteration of loop\n",
    "    net = CNet(state.num_qubits)\n",
    "    losses = net.train(train_data, nepoch=4000, eta=1e-2)\n",
    "\n",
    "    ax1.plot(np.arange(len(losses)), losses, label=fr'{i}$\\pi/10$')\n",
    "\n",
    "    dist_i = BasisTransformer([state], basis_p).updated_dist()[0]\n",
    "    bar = ax2.bar(np.arange(2**state.num_qubits) + 0.25*i - 0.125, dist_i, width=0.25)\n",
    "    bar.set_label(fr\"${i+1}\\pi/10$\")\n",
    "ax1.legend(); ax2.legend()\n",
    "ax2.set_xticks(np.arange(2**state.num_qubits))\n",
    "ax2.set_xticklabels(qubit_expansion(state.num_qubits))\n",
    "ax1.set_title('Loss Analysis'); ax2.set_title('Distributions (z-basis)')\n",
    "fig.tight_layout()\n",
    "plt.show()"
   ]
  }
 ],
 "metadata": {
  "colab": {
   "collapsed_sections": [],
   "name": "Untitled1.ipynb",
   "provenance": []
  },
  "interpreter": {
   "hash": "90779316f194e2e5479652345a17af545355bf918319becd7e11a824792fc4d0"
  },
  "kernelspec": {
   "display_name": "Python 3",
   "language": "python",
   "name": "python3"
  },
  "language_info": {
   "codemirror_mode": {
    "name": "ipython",
    "version": 3
   },
   "file_extension": ".py",
   "mimetype": "text/x-python",
   "name": "python",
   "nbconvert_exporter": "python",
   "pygments_lexer": "ipython3",
   "version": "3.7.7"
  }
 },
 "nbformat": 4,
 "nbformat_minor": 4
}
