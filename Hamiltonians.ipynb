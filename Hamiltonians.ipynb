{
 "cells": [
  {
   "cell_type": "code",
   "execution_count": 4,
   "id": "cc67a8ed",
   "metadata": {},
   "outputs": [
    {
     "name": "stdout",
     "output_type": "stream",
     "text": [
      "Running on the CPU\n"
     ]
    }
   ],
   "source": [
    "import torch as t\n",
    "import numpy as np\n",
    "\n",
    "'''Device where we are running'''\n",
    "#defining the device\n",
    "if t.cuda.is_available():\n",
    "    device = t.device(\"cuda:0\") \n",
    "    print(\"Running on the GPU\")\n",
    "else:\n",
    "    device = t.device(\"cpu\")\n",
    "    print(\"Running on the CPU\")"
   ]
  },
  {
   "cell_type": "code",
   "execution_count": 7,
   "id": "83e7677a",
   "metadata": {},
   "outputs": [],
   "source": [
    "#Matrices we need\n",
    "Sx = t.tensor([[0,1.],[1,0]], dtype=t.cfloat).to(device)\n",
    "Sy = t.tensor([[0,-1j],[1j,0]], dtype=t.cfloat).to(device)\n",
    "Sz = t.tensor([[1,0],[0,-1]], dtype=t.cfloat).to(device)\n",
    "Sp = t.tensor([[0,1],[0,0]], dtype=t.cfloat).to(device)\n",
    "Sm = t.tensor([[0,0],[1,0]], dtype=t.cfloat).to(device)\n",
    "Id2 = t.tensor([[1,0],[0,1]], dtype=t.cfloat).to(device)"
   ]
  },
  {
   "cell_type": "code",
   "execution_count": 10,
   "id": "bdddfab0",
   "metadata": {},
   "outputs": [],
   "source": [
    "#Function to add terms to Hamiltonians\n",
    "\n",
    "def add_op(ops, Js, sites, L): \n",
    "    l = [Id2 for i in range(L)]\n",
    "    for i in range(len(sites)): \n",
    "        l[sites[i]] = Js[i]*ops[i]\n",
    "    m = l[0]\n",
    "    for i in range(1,L): m = t.kron(m,l[i])\n",
    "    return m"
   ]
  },
  {
   "cell_type": "markdown",
   "id": "755b1379",
   "metadata": {},
   "source": [
    "# XY MODEL\n",
    "\n",
    "The Hamitlonian is \n",
    "\n",
    "\\begin{equation}\n",
    "H_{XY} = h\\sum_{i} S_i^z + \\sum_{i}\\left(\\frac{J(1+\\eta)}{2}S_i^xS_{i+1}^x + \\frac{J(1-\\eta)}{2}S_i^yS_{i+1}^y\\right)\n",
    "\\end{equation}\n",
    "\n",
    "where $J, \\eta, h$ are the interaction strengths, anisotropy, and the transverse field respectively. Note that when $\\eta = 1$, the Hamiltonian is an Ising model.\n",
    "\n",
    "For $\\gamma=h=0$, we have that $[H_{XY}, S^z] = 0$ where $S^z = \\sum_{i}S_i^z$. When $\\gamma=1$, $[H,Z_2]=0$ where $Z_2 = \\prod_{i}S^z_i$ \n",
    "\n",
    "Other symmetries include the fermionic operators... "
   ]
  },
  {
   "cell_type": "code",
   "execution_count": 28,
   "id": "e3cd9540",
   "metadata": {},
   "outputs": [],
   "source": [
    "class XY(): \n",
    "    def __init__(self,J, n, h, L, bc = 'periodic'): \n",
    "        self.J = J\n",
    "        self.n = n\n",
    "        self.h = h\n",
    "        self.L = L\n",
    "        self.bc = bc\n",
    "        \n",
    "        self.Jx = J*(1+n)/2\n",
    "        self.Jy = J*(1-n)/2\n",
    "        \n",
    "        self.get_H()\n",
    "        \n",
    "    def get_H(self): \n",
    "        self.H = t.zeros((2**self.L, 2**self.L), dtype=t.cfloat).to(device)\n",
    "        for i in range(self.L): \n",
    "            self.H += add_op([Sz],[self.h], [i], self.L)\n",
    "            if self.bc == 'periodic' or i<self.L-1:\n",
    "                self.H += add_op([Sx, Sx], [self.Jx, 1], [i,(i+1)//self.L], self.L)\n",
    "                self.H += add_op([Sy, Sy], [self.Jy, 1], [i,(i+1)//self.L], self.L)\n",
    "        return\n",
    "    \n",
    "    def evolution(self, t): \n",
    "        return t.matrix_exp(self.H*t*1j)"
   ]
  },
  {
   "cell_type": "markdown",
   "id": "9957d842",
   "metadata": {},
   "source": [
    "# Toric code \n",
    "Imagine a 2D grid. Spins live on the edges. We have periodic boundary conditions in both directions (hence toric). Hamiltonian is \n",
    "\\begin{equation}\n",
    "H_{TC} = -J\\sum_{v}A_v-J\\sum_{p}B_p\n",
    "\\end{equation}\n",
    "where $A_v=\\prod_{e\\in v}S_e^x$ with $v$ denoting a vertex of the grid, and $e\\in v$ means the edge connected to $v$. $B_p=\\prod_{e\\in p}S^z_e$ where $p$ is a plaquet. \n",
    "\n",
    "For all $v,p$, $[H_{TC}, A_v]= [H_{TC}, B_p]=0$. "
   ]
  },
  {
   "cell_type": "code",
   "execution_count": 197,
   "id": "791677a7",
   "metadata": {},
   "outputs": [],
   "source": [
    "def is_it_int_int(t): \n",
    "    flag = False\n",
    "    if abs(t[0]-int(t[0]))>0 and abs(t[1]-int(t[1]))>0: \n",
    "        flag = True \n",
    "    return flag\n",
    "\n",
    "def is_it_int(t): \n",
    "    flag = False\n",
    "    if abs(t[0]-int(t[0]))>0 or abs(t[1]-int(t[1]))>0: \n",
    "        flag = True \n",
    "    return flag\n",
    "\n",
    "def location(coords, t): \n",
    "    for i in range(len(coords)): \n",
    "        for j in range(len(coords[0])): \n",
    "            if coords[i][j]==t:\n",
    "                v = [i,j]\n",
    "                break\n",
    "    return v"
   ]
  },
  {
   "cell_type": "code",
   "execution_count": 337,
   "id": "6f2b658c",
   "metadata": {},
   "outputs": [],
   "source": [
    "class ToricCode(): \n",
    "    def __init__(self, J, Lx, Ly): \n",
    "        self.J = J\n",
    "        self.Lx = Lx\n",
    "        self.Ly = Ly\n",
    "        \n",
    "        self.coords = [[ (i/2,j/2) for j in range(2*self.Lx) if not is_it_int_int((i/2,j/2))] for i in range(2*self.Ly)]\n",
    "        self.coords_sites = []\n",
    "        for i in range(len(self.coords)): \n",
    "            if i%2==0: self.coords_sites.append(self.coords[i][1::2])\n",
    "            elif i%2==1: self.coords_sites.append(self.coords[i][:])\n",
    "        self.coords_vertices = []\n",
    "        for i in range(len(self.coords)): \n",
    "            if i%2==0: self.coords_vertices.append(self.coords[i][0::2])\n",
    "        \n",
    "        self.get_As()\n",
    "        self.get_Bs()\n",
    "        \n",
    "        self.H = -self.J*self.As[0]-self.J*self.Bs[0]\n",
    "        for i in range(1,len(self.As)): self.H+=-self.J*self.As[i]-self.J*self.Bs[i]\n",
    "            \n",
    "    def get_As(self):\n",
    "        self.As = []\n",
    "        for i in range(self.Lx):\n",
    "            for j in range(self.Ly):\n",
    "                vertex = (i,j)\n",
    "                #print(vertex)\n",
    "                self.As.append(self.Av(vertex))\n",
    "        return \n",
    "    \n",
    "    def get_Bs(self): \n",
    "        self.Bs = []\n",
    "        for p in self.coords_sites[1::2]:\n",
    "            for s in p:\n",
    "                self.Bs.append(self.Bp(s))\n",
    "        return \n",
    "    \n",
    "    def Av(self, v): \n",
    "        '''v=(x,y) is a vertex'''\n",
    "        (x,y) = v \n",
    "        if not (abs(x-int(x)))==0 and (abs(y-int(y)))==0: raise ValueError( 'not a valid vertex')\n",
    "        l = [[ Id2 for i in range(self.Lx)] for j in range(2*self.Ly)]\n",
    "        #sites = [vr,vl,vup,vdown]\n",
    "        sites = [(x+0.5,y), (x-0.5, y) if x>0.0 else (self.Lx-1+0.5,y), (x,y+0.5),\\\n",
    "                 (x,y-0.5) if y>0.0 else (x, self.Ly-1+0.5)]\n",
    "        for i in range(len(sites)):\n",
    "            loc = location(self.coords_sites, sites[i])\n",
    "            l[loc[0]][loc[1]] = Sx\n",
    "        m = Id2\n",
    "        for i in range(2*self.Ly): \n",
    "            for j in range(self.Ly): \n",
    "                m = t.kron(m,l[i][j])\n",
    "        return m\n",
    "    \n",
    "    def Bp(self, p):\n",
    "        '''p=(x,y) is a site, the plaquet lives above the site'''\n",
    "        (x,y) = p\n",
    "        if (x-int(x))==0.0 and (y-int(y))==0.0: raise ValueError( 'not a valid site')\n",
    "        l = [[ Id2 for i in range(self.Lx)] for j in range(2*self.Ly)]\n",
    "        #sites = [p, pur, pul, puu]\n",
    "        sites = [p, (x+0.5,y+0.5) if x<self.Lx-0.5 and y<self.Ly-0.5 else (0,y+0.5)]\n",
    "        sites+= [(x-0.5,y+0.5), (x,y+1.0) if y<self.Ly-1 else (x,0.0) ]\n",
    "        #print(sites)\n",
    "        for i in range(len(sites)):\n",
    "            loc = location(self.coords_sites, sites[i])\n",
    "            l[loc[0]][loc[1]] = Sz\n",
    "        m = Id2\n",
    "        for i in range(2*self.Ly): \n",
    "            for j in range(self.Ly): \n",
    "                m = t.kron(m,l[i][j])\n",
    "        return m\n",
    "    \n",
    "    def evolution(self, t): \n",
    "        return t.matrix_exp(self.H*t*1j)"
   ]
  },
  {
   "cell_type": "code",
   "execution_count": 344,
   "id": "2e0a7a15",
   "metadata": {},
   "outputs": [],
   "source": [
    "mytoric = ToricCode(1,2,2)"
   ]
  },
  {
   "cell_type": "code",
   "execution_count": 359,
   "id": "5c3a9063",
   "metadata": {},
   "outputs": [
    {
     "name": "stdout",
     "output_type": "stream",
     "text": [
      "[True, True, True, True] [True, True, True, True]\n"
     ]
    }
   ],
   "source": [
    "#The commutation relations are satisfied\n",
    "Acomms = []\n",
    "for a in mytoric.As:\n",
    "    Acomms.append(t.allclose(mytoric.H@a-a@mytoric.H, t.tensor(0+0j)))\n",
    "Bcomms = []\n",
    "for b in mytoric.Bs:\n",
    "    Bcomms.append(t.allclose(mytoric.H@b-b@mytoric.H, t.tensor(0+0j)))\n",
    "print(Acomms, Bcomms)"
   ]
  }
 ],
 "metadata": {
  "kernelspec": {
   "display_name": "Python 3",
   "language": "python",
   "name": "python3"
  },
  "language_info": {
   "codemirror_mode": {
    "name": "ipython",
    "version": 3
   },
   "file_extension": ".py",
   "mimetype": "text/x-python",
   "name": "python",
   "nbconvert_exporter": "python",
   "pygments_lexer": "ipython3",
   "version": "3.8.8"
  }
 },
 "nbformat": 4,
 "nbformat_minor": 5
}
