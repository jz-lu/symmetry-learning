{
 "cells": [
  {
   "cell_type": "markdown",
   "metadata": {
    "id": "DWaFqLMXbUDa"
   },
   "source": [
    "**Problem 3**"
   ]
  },
  {
   "cell_type": "code",
   "execution_count": 1,
   "metadata": {
    "colab": {
     "base_uri": "https://localhost:8080/",
     "height": 264
    },
    "id": "K7BmCK9BbWkp",
    "outputId": "57c56a24-e35f-4b08-f096-ee9f0393665e"
   },
   "outputs": [
    {
     "name": "stdout",
     "output_type": "stream",
     "text": [
      "Statevector([0.70710678+0.j, 0.        +0.j, 0.        +0.j,\n",
      "             0.        +0.j, 0.        +0.j, 0.        +0.j,\n",
      "             0.        +0.j, 0.70710678+0.j],\n",
      "            dims=(2, 2, 2))\n",
      "Statevector([1.+0.j, 0.+0.j, 0.+0.j, 0.+0.j, 0.+0.j, 0.+0.j, 0.+0.j,\n",
      "             0.+0.j],\n",
      "            dims=(2, 2, 2))\n"
     ]
    }
   ],
   "source": [
    "\n",
    "# Useful additional packages \n",
    "import matplotlib.pyplot as plt\n",
    "import numpy as np\n",
    "from math import pi\n",
    "\n",
    "from qiskit import QuantumCircuit, ClassicalRegister, QuantumRegister, transpile\n",
    "from qiskit.tools.visualization import circuit_drawer\n",
    "from qiskit.quantum_info import state_fidelity\n",
    "from qiskit import BasicAer\n",
    "from qiskit.quantum_info import Operator\n",
    "from qiskit.quantum_info import Statevector\n",
    "import torch\n",
    "\n",
    "\n",
    "\n",
    "\n",
    "\"\"\"\n",
    "q = QuantumRegister(2)\n",
    "\n",
    "qc = QuantumCircuit(q)\n",
    "qc.u(pi,0,pi,q[0])\n",
    "qc.draw()\n",
    "\"\"\"\n",
    "\n",
    "\n",
    "#lets create GHZ state\n",
    "circ = QuantumCircuit(3)\n",
    "# Add a H gate on qubit 0, putting this qubit in superposition.\n",
    "circ.h(0)\n",
    "# Add a CX (CNOT) gate on control qubit 0 and target qubit 1, putting\n",
    "# the qubits in a Bell state.\n",
    "circ.cx(0, 1)\n",
    "# Add a CX (CNOT) gate on control qubit 0 and target qubit 2, putting\n",
    "# the qubits in a GHZ state.\n",
    "circ.cx(0, 2)\n",
    "# Set the intial state of the simulator to the ground state using from_int\n",
    "state = Statevector.from_int(0, 2**3)\n",
    "state1 = state.copy()\n",
    "# Evolve the state by the quantum circuit\n",
    "state = state.evolve(circ)\n",
    "print(state)\n",
    "print(state1)"
   ]
  },
  {
   "cell_type": "code",
   "execution_count": 2,
   "metadata": {
    "colab": {
     "base_uri": "https://localhost:8080/",
     "height": 506
    },
    "id": "KkAYQqj1tM1x",
    "outputId": "c0469ff4-6910-433f-aad1-77672e48c334"
   },
   "outputs": [
    {
     "name": "stdout",
     "output_type": "stream",
     "text": [
      "0.30000001192092896\n"
     ]
    }
   ],
   "source": [
    "#function that apply the KS test to two probability list\n",
    "def KS(P1, P2):\n",
    "    assert len(P1) == len(P2)\n",
    "    cdf1 = [P1[0]]\n",
    "    cdf2 = [P2[0]]\n",
    "    for i in range(len(P1)-1):\n",
    "        cdf1.append(cdf1[i] + P1[i+1])\n",
    "        cdf2.append(cdf2[i] + P2[i+1])\n",
    "    difference = torch.tensor(cdf1) - torch.tensor(cdf2)\n",
    "    #print(difference)\n",
    "    return difference.abs().max().item()\n",
    "\n",
    "print(KS([0.2, 0.8], [0.5, 0.5]))"
   ]
  },
  {
   "cell_type": "code",
   "execution_count": 3,
   "metadata": {},
   "outputs": [
    {
     "data": {
      "text/plain": [
       "<qiskit.circuit.instructionset.InstructionSet at 0x7f87356900d0>"
      ]
     },
     "execution_count": 3,
     "metadata": {},
     "output_type": "execute_result"
    }
   ],
   "source": [
    "q = QuantumRegister(3)\n",
    "qc = QuantumCircuit(q)\n",
    "qc.u(0.5,0,pi,q[0])\n",
    "qc.u(0.5,0,pi,q[1])\n",
    "qc.u(0.5,0,pi,q[2])"
   ]
  },
  {
   "cell_type": "code",
   "execution_count": 4,
   "metadata": {},
   "outputs": [
    {
     "name": "stdout",
     "output_type": "stream",
     "text": [
      "tensor([[ 0.9960,  0.5384],\n",
      "        [-1.4568,  0.1620]])\n"
     ]
    }
   ],
   "source": [
    "import torch\n",
    "print(torch.randn(2,2))"
   ]
  },
  {
   "cell_type": "code",
   "execution_count": 18,
   "metadata": {},
   "outputs": [
    {
     "name": "stdout",
     "output_type": "stream",
     "text": [
      "Current Parameters:  tensor([[3.1102, 0.0314, 2.5133],\n",
      "        [1.3823, 2.5761, 2.5761],\n",
      "        [2.9845, 2.9217, 1.7907]])\n",
      "Current Transformation:\n",
      "tensor([[ 0.0157+0.0000j,  0.8089+0.5877j],\n",
      "        [ 0.9994+0.0314j, -0.0130+0.0088j]])\n",
      "tensor([[ 0.7705+0.0000j,  0.5382+0.3415j],\n",
      "        [-0.5382+0.3415j,  0.3281-0.6972j]])\n",
      "tensor([[ 7.8459e-02+0.0000j,  2.1747e-01+0.9729j],\n",
      "        [-9.7291e-01+0.2175j,  9.3561e-10-0.0785j]])\n"
     ]
    },
    {
     "data": {
      "image/png": "[encoded data removed]",
      "text/plain": [
       "<Figure size 432x288 with 1 Axes>"
      ]
     },
     "metadata": {
      "needs_background": "light"
     },
     "output_type": "display_data"
    },
    {
     "name": "stdout",
     "output_type": "stream",
     "text": [
      "Current Parameters:  tensor([[ 3.1360, -0.2441,  2.7472],\n",
      "        [ 3.1358,  2.0417,  2.8100],\n",
      "        [ 3.1366,  2.6427,  2.0246]])\n",
      " \n",
      "Current Transformation:\n",
      "tensor([[ 0.0028+0.0000j,  0.9232+0.3843j],\n",
      "        [ 0.9703-0.2417j, -0.0022+0.0017j]])\n",
      "tensor([[ 2.9039e-03+0.0000j,  9.4553e-01+0.3255j],\n",
      "        [-4.5365e-01+0.8912j,  4.0316e-04-0.0029j]])\n",
      "tensor([[ 2.5002e-03+0.0000j,  4.3840e-01+0.8988j],\n",
      "        [-8.7810e-01+0.4785j, -1.1269e-04-0.0025j]])\n",
      " \n",
      "New vs Original State Vector:\n",
      "Statevector([0.70710678+0.j, 0.        +0.j, 0.        +0.j,\n",
      "             0.        +0.j, 0.        +0.j, 0.        +0.j,\n",
      "             0.        +0.j, 0.70710678+0.j],\n",
      "            dims=(2, 2, 2))\n",
      "Statevector([-1.90079283e-01-6.81071706e-01j,\n",
      "              9.73578179e-04+1.70516403e-03j,\n",
      "             -2.01517118e-03-4.00944098e-04j,\n",
      "             -3.91761220e-04+1.72241480e-03j,\n",
      "             -1.23708114e-03-1.26516853e-03j,\n",
      "             -1.50797692e-03+1.39170582e-03j,\n",
      "             -5.99307712e-05-1.95985091e-03j,\n",
      "             -1.90075620e-01-6.81072736e-01j],\n",
      "            dims=(2, 2, 2))\n"
     ]
    }
   ],
   "source": [
    "#this is where we try to learn the symmetry\n",
    "\n",
    "\n",
    "class SymFinder():\n",
    "  def __init__(self, eta, step_size):\n",
    "    self.parameters = torch.randint(0, 100, (3, 3)) * pi /100\n",
    "    #parameters[i,0] is the theta for ith qubit, 1 is \\phi, 2 is lambda\n",
    "    self.original_state = state\n",
    "    self.transformed_state = None\n",
    "    self.lr = eta\n",
    "    self.reg = 10 # this is regularizer's coefficient.\n",
    "    self.step_size = step_size\n",
    "    self.losses = []\n",
    "\n",
    "  \n",
    "  #return a transformed state according to parameter\n",
    "  def transform(self, p):\n",
    "    q = QuantumRegister(3)\n",
    "    qc = QuantumCircuit(q)\n",
    "    qc.u(p[0,0].item(),p[0,1].item(),p[0,2].item(),q[0])\n",
    "    qc.u(p[1,0].item(),p[1,1].item(),p[1,2].item(),q[1])\n",
    "    qc.u(p[2,0].item(),p[2,1].item(),p[2,2].item(),q[2])\n",
    "    return self.original_state.copy().evolve(qc)\n",
    "\n",
    "\n",
    "  \n",
    "  def change_basis(self, state1, state2):\n",
    "    q = QuantumRegister(3)\n",
    "    qc = QuantumCircuit(q)\n",
    "    qc.u(pi/2, 0, 0, q[0])\n",
    "    qc.u(pi/2, 0, 0, q[1])\n",
    "    qc.u(pi/2, 0, 0, q[2])\n",
    "    return state1.copy().evolve(qc), state2.copy().evolve(qc)\n",
    "\n",
    "  #return the loss from KS test of original vs another state\n",
    "  def calculate_loss(self, state2):\n",
    "    #get the probability in the original basis\n",
    "    P1 = self.original_state.probabilities()\n",
    "    P2 = state2.probabilities()\n",
    "    #now we calculate probability in another basis\n",
    "    new_state1, new_state2 = self.change_basis(self.original_state, state2)\n",
    "    Q1 = new_state1.probabilities()\n",
    "    Q2 = new_state2.probabilities()\n",
    "    #lets add regularizer, punish u0 last coefficient being absolute value 1.\n",
    "    a = torch.abs(self.current_matrix()[0][1,1])\n",
    "    #print(a)\n",
    "    v = torch.exp(-(a-1)**2) * self.reg\n",
    "    #print(a, v)\n",
    "    return [KS(P1, P2) + KS(Q1, Q2) + v, KS(P1, P2) + KS(Q1, Q2)]\n",
    "  \n",
    "    \n",
    "  def update(self):\n",
    "    #calculate the gradient using good old finite difference:\n",
    "    cur_state = self.transform(self.parameters)\n",
    "    cur_loss = self.calculate_loss(cur_state)[0]\n",
    "    grad = torch.zeros(3,3)\n",
    "    for i in range(3):\n",
    "        for j in range(3):\n",
    "            new_param = self.parameters.clone()\n",
    "            new_param[i,j] = new_param[i,j] + self.step_size\n",
    "            new_state = self.transform(new_param)\n",
    "            new_loss = self.calculate_loss(new_state)[0]\n",
    "            grad[i,j] = (new_loss - cur_loss) / self.step_size\n",
    "    #update the parameters:\n",
    "    self.parameters = self.parameters - self.lr * grad\n",
    "    #self.parameters[:, 2] = torch.zeros(3)\n",
    "    return self.calculate_loss(cur_state)[1]\n",
    "\n",
    "  def current_matrix(self):\n",
    "    p = self.parameters\n",
    "    #p[0,:] = torch.tensor([3.14159, 0,3.1415926])\n",
    "    u0 = torch.tensor([[torch.cos(p[0,0]/2), -torch.exp(-p[0,2]*1j)*torch.sin(p[0,0]/2)],\\\n",
    "                    [torch.exp(p[0,1]*1j)*torch.sin(p[0,0]/2), torch.exp((p[0,1] + p[0,2])*1j)*torch.cos(p[0,0]/2)]])\n",
    "    u1 = torch.tensor([[torch.cos(p[1,0]/2), -torch.exp(-p[1,2]*1j)*torch.sin(p[1,0]/2)],\\\n",
    "                    [torch.exp(p[1,1]*1j)*torch.sin(p[1,0]/2), torch.exp((p[1,1] + p[1,2])*1j)*torch.cos(p[1,0]/2)]])\n",
    "    u2 = torch.tensor([[torch.cos(p[2,0]/2), -torch.exp(-p[2,2]*1j)*torch.sin(p[2,0]/2)],\\\n",
    "                    [torch.exp(p[2,1]*1j)*torch.sin(p[2,0]/2), torch.exp((p[2,1] + p[2,2])*1j)*torch.cos(p[2,0]/2)]])\n",
    "    return [u0, u1, u2]\n",
    "        \n",
    "        \n",
    "        \n",
    "        \n",
    "        \n",
    "  def train(self):\n",
    "    for i in range(700):\n",
    "      self.losses.append(self.update())\n",
    "      #print(self.losses[i])\n",
    "\n",
    "\n",
    "\n",
    "model = SymFinder(0.05, 0.01)\n",
    "#model.parameters = torch.tensor([[pi, 0, 3.0], [pi, 0, pi], [pi, 0, pi]])\n",
    "\n",
    "print(\"Current Parameters: \", model.parameters)\n",
    "\n",
    "print(\"Current Transformation:\")\n",
    "print(model.current_matrix()[0])\n",
    "print(model.current_matrix()[1])\n",
    "print(model.current_matrix()[2])\n",
    "\n",
    "\n",
    "\n",
    "model.train()\n",
    "\n",
    "import numpy as np\n",
    "\n",
    "plt.scatter(range(len(model.losses)), np.log10(model.losses))\n",
    "#plt.scatter(range(len(model.losses)), model.losses)\n",
    "plt.show()\n",
    "\n",
    "print(\"Current Parameters: \", model.parameters)\n",
    "print(\" \")\n",
    "print(\"Current Transformation:\")\n",
    "print(model.current_matrix()[0])\n",
    "print(model.current_matrix()[1])\n",
    "print(model.current_matrix()[2])\n",
    "print(\" \")\n",
    "print(\"New vs Original State Vector:\")\n",
    "print(model.original_state)\n",
    "print(model.transform(model.parameters))\n",
    "\n",
    "  \n",
    "\n",
    "  \n",
    "  \n",
    "  \n",
    "\n",
    "  \n"
   ]
  },
  {
   "cell_type": "code",
   "execution_count": 61,
   "metadata": {},
   "outputs": [
    {
     "name": "stdout",
     "output_type": "stream",
     "text": [
      "tensor(1.0000)\n",
      "tensor(1.0000-0.0024j)\n"
     ]
    }
   ],
   "source": [
    "import numpy as np\n",
    "\n",
    "print(torch.pow(model.current_matrix()[2][:,0].abs(), 2).sum())\n",
    "print(model.current_matrix()[0][1,1] * model.current_matrix()[1][1,1] * model.current_matrix()[2][1,1])\n",
    "\n",
    "\n",
    "#plt.scatter(range(len(model.losses)), np.log10(model.losses))"
   ]
  },
  {
   "cell_type": "code",
   "execution_count": 33,
   "metadata": {},
   "outputs": [
    {
     "ename": "SyntaxError",
     "evalue": "unexpected EOF while parsing (<ipython-input-33-31d575f077ea>, line 1)",
     "output_type": "error",
     "traceback": [
      "\u001b[0;36m  File \u001b[0;32m\"<ipython-input-33-31d575f077ea>\"\u001b[0;36m, line \u001b[0;32m1\u001b[0m\n\u001b[0;31m    print(torch.exp(torch.tensor([3+3j]))\u001b[0m\n\u001b[0m                                         ^\u001b[0m\n\u001b[0;31mSyntaxError\u001b[0m\u001b[0;31m:\u001b[0m unexpected EOF while parsing\n"
     ]
    }
   ],
   "source": [
    "print(torch.exp(torch.tensor([3+3j]))"
   ]
  },
  {
   "cell_type": "code",
   "execution_count": null,
   "metadata": {},
   "outputs": [],
   "source": []
  }
 ],
 "metadata": {
  "colab": {
   "collapsed_sections": [],
   "name": "Untitled1.ipynb",
   "provenance": []
  },
  "interpreter": {
   "hash": "90779316f194e2e5479652345a17af545355bf918319becd7e11a824792fc4d0"
  },
  "kernelspec": {
   "display_name": "Python 3",
   "language": "python",
   "name": "python3"
  },
  "language_info": {
   "codemirror_mode": {
    "name": "ipython",
    "version": 3
   },
   "file_extension": ".py",
   "mimetype": "text/x-python",
   "name": "python",
   "nbconvert_exporter": "python",
   "pygments_lexer": "ipython3",
   "version": "3.8.5"
  }
 },
 "nbformat": 4,
 "nbformat_minor": 4
}
