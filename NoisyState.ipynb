{
 "cells": [
  {
   "cell_type": "markdown",
   "metadata": {},
   "source": [
    "# Noise propagation in HQNSL quantum loss\n",
    "In practice the circuit preparing the quantum state for which we wish to learn the symmetries of will be noisy, resulting in a state that is\n",
    "not quite exactly the state we expect. Possible errors include a depolarizing error, unitary gate (e.g. Pauli), and so forth. Measurement of the quantum\n",
    "loss function propagates the effect of the error classically into the metric value itself. \n",
    "\n",
    "A practical symmetry learning scheme must be robust, at least to some threshold, to such errors. It suffices to show that the loss function does not change significantly enough on noisy states than when the state is prepared without an `e` amount of noise. To demonstrate this, we use the generalized GHZ state. In `HQN.ipynb`, we can find some symmetries of the state both with and without noise. In this notebook, we will apply the noiseless symmetries to the noisy state and check that the quantum loss metric is still small. We will also apply the noisy symmetries to the noiseless state and check likewise that the loss is small. If both cases hold, we conclude that the learning scheme is robust to `e`-noisy states.\n",
    "\n",
    "State preparation is not the only source of noise. The parametrized quantum circuit (PQC) that implements the symmetry operation can itself have errors similar to those in the state preparation circuit. This poses a separate robustness challenge---can the learning scheme produce valid symmetries when the circuit is itself noisy? This question requires adding a noise parameter to the PQC but does not otherwise differ in any sense to normal learning (one must simply check, as they would usually do, that the learning can converge to a negligbly small quantum loss metric.) Consequently, we defer this latter question to `HQN.ipynb`.\n",
    "\n",
    "Everything in this notebook is classically simulated. In a quantum hardware, we (sadly) don't need to introduce error manually.\n",
    "\n",
    "See [this link](https://qiskit.org/documentation/tutorials/simulators/3_building_noise_models.html) for more."
   ]
  },
  {
   "cell_type": "code",
   "execution_count": 1,
   "metadata": {},
   "outputs": [],
   "source": [
    "from __loss_funcs import KL\n",
    "from __helpers import prepare_basis, qubit_expansion\n",
    "from __class_HQNet import HQNet\n",
    "from __class_PQC import PQC\n",
    "import numpy as np\n",
    "import torch as t\n",
    "from qiskit.quantum_info import Statevector\n",
    "%matplotlib inline\n",
    "from qiskit.providers.aer import AerSimulator\n",
    "from qiskit import transpile\n",
    "from qiskit.providers.aer.noise import pauli_error, depolarizing_error\n",
    "from qiskit.tools.visualization import plot_histogram\n",
    "from qiskit.providers.aer.noise import NoiseModel"
   ]
  },
  {
   "cell_type": "code",
   "execution_count": 2,
   "metadata": {},
   "outputs": [],
   "source": [
    "NUM_QUBITS = 5\n",
    "STATE_TYPE = 'mGHZ'\n",
    "\n",
    "PROB_DEPOL = 0.01\n",
    "\n",
    "PROB_RESET = 0.01\n",
    "PROB_MEAS = 0\n",
    "PROB_GATE1 = 0.01"
   ]
  },
  {
   "cell_type": "code",
   "execution_count": 3,
   "metadata": {},
   "outputs": [
    {
     "name": "stdout",
     "output_type": "stream",
     "text": [
      "        ┌───┐                             ░ ┌─┐            \n",
      "  q0_0: ┤ H ├──■──────────────────────────░─┤M├────────────\n",
      "        └───┘┌─┴─┐┌─────────┐┌──────────┐ ░ └╥┘┌─┐         \n",
      "  q0_1: ─────┤ X ├┤ Rx(π/3) ├┤ Ry(-π/3) ├─░──╫─┤M├─────────\n",
      "        ┌───┐└───┘└─────────┘└──────────┘ ░  ║ └╥┘┌─┐      \n",
      "  q0_2: ┤ H ├──■──────────────────────────░──╫──╫─┤M├──────\n",
      "        └───┘┌─┴─┐┌─────────┐┌──────────┐ ░  ║  ║ └╥┘┌─┐   \n",
      "  q0_3: ─────┤ X ├┤ Rx(π/3) ├┤ Ry(-π/3) ├─░──╫──╫──╫─┤M├───\n",
      "             └───┘└─────────┘└──────────┘ ░  ║  ║  ║ └╥┘┌─┐\n",
      "  q0_4: ──────────────────────────────────░──╫──╫──╫──╫─┤M├\n",
      "                                          ░  ║  ║  ║  ║ └╥┘\n",
      "meas: 5/═════════════════════════════════════╩══╩══╩══╩══╩═\n",
      "                                             0  1  2  3  4 \n"
     ]
    }
   ],
   "source": [
    "# Prepare noisy and noiseless GHZ State \n",
    "if STATE_TYPE == 'GHZ':\n",
    "    from GHZ_generator import GHZ_state_circuit\n",
    "    noiseless_state = Statevector.from_int(0, 2**NUM_QUBITS)\n",
    "    qc = GHZ_state_circuit(L=NUM_QUBITS)\n",
    "if STATE_TYPE == 'mGHZ':\n",
    "    from mGHZ_generator import mGHZ_state_circuit\n",
    "    noiseless_state = Statevector.from_int(0, 2**NUM_QUBITS)\n",
    "    qc = mGHZ_state_circuit(L=NUM_QUBITS)\n",
    "elif STATE_TYPE == 'Cluster':\n",
    "    from cluster_generator import cluster_state_circuit\n",
    "    noiseless_state = Statevector.from_int(0, 2**(NUM_QUBITS**2))\n",
    "    qc = cluster_state_circuit(NUM_QUBITS)\n",
    "    NUM_QUBITS = NUM_QUBITS**2\n",
    "else:\n",
    "    raise TypeError(\"Invalid state type specified.\")\n",
    "noiseless_state = noiseless_state.evolve(qc)\n",
    "qc.measure_all()\n",
    "print(qc)"
   ]
  },
  {
   "cell_type": "markdown",
   "metadata": {},
   "source": [
    "## Noiseless state"
   ]
  },
  {
   "cell_type": "code",
   "execution_count": 4,
   "metadata": {},
   "outputs": [],
   "source": [
    "sim_ideal = AerSimulator()\n",
    "result_ideal = sim_ideal.run(qc).result()\n",
    "# plot_histogram(result_ideal.get_counts(0), color='firebrick')"
   ]
  },
  {
   "cell_type": "markdown",
   "metadata": {},
   "source": [
    "## Depolarizing error"
   ]
  },
  {
   "cell_type": "code",
   "execution_count": 5,
   "metadata": {},
   "outputs": [
    {
     "name": "stdout",
     "output_type": "stream",
     "text": [
      "NoiseModel:\n",
      "  Basis gates: ['cx', 'id', 'rz', 'sx']\n",
      "  Instructions with noise: ['depolarize']\n",
      "  All-qubits errors: ['depolarize']\n"
     ]
    }
   ],
   "source": [
    "error_depol = depolarizing_error(PROB_DEPOL, NUM_QUBITS)\n",
    "noise_depol = NoiseModel()\n",
    "noise_depol.add_all_qubit_quantum_error(error_depol, \"depolarize\")\n",
    "print(noise_depol)"
   ]
  },
  {
   "cell_type": "code",
   "execution_count": 6,
   "metadata": {},
   "outputs": [],
   "source": [
    "# Create noisy simulator backend\n",
    "sim_dpnoise = AerSimulator(noise_model=noise_depol)\n",
    "circ_dpnoise = transpile(qc, sim_dpnoise)\n",
    "\n",
    "# Run and get counts\n",
    "result_dp = sim_dpnoise.run(circ_dpnoise).result()\n",
    "counts_dp = dict.fromkeys(qubit_expansion(NUM_QUBITS), 0)\n",
    "counts_dp.update(result_dp.get_counts(0))\n",
    "\n",
    "# Plot noisy output\n",
    "# plot_histogram(counts_dp)"
   ]
  },
  {
   "cell_type": "markdown",
   "metadata": {},
   "source": [
    "## Error ensemble\n",
    "Give a variety of random possible errors to the state, one for each type of gate in our locally universal set."
   ]
  },
  {
   "cell_type": "code",
   "execution_count": 7,
   "metadata": {},
   "outputs": [
    {
     "name": "stdout",
     "output_type": "stream",
     "text": [
      "NoiseModel:\n",
      "  Basis gates: ['cx', 'id', 'rx', 'ry', 'rz', 'sx', 'u1', 'u2', 'u3']\n",
      "  Instructions with noise: ['rz', 'rx', 'u1', 'u3', 'reset', 'u2', 'cx', 'ry']\n",
      "  All-qubits errors: ['reset', 'u1', 'u2', 'u3', 'rx', 'ry', 'rz', 'cx']\n"
     ]
    }
   ],
   "source": [
    "# QuantumError objects\n",
    "error_reset = pauli_error([('X', PROB_RESET), ('I', 1 - PROB_RESET)])\n",
    "error_meas = pauli_error([('X', PROB_MEAS), ('I', 1 - PROB_MEAS)])\n",
    "error_gate1 = pauli_error([('X', PROB_GATE1), ('I', 1 - PROB_GATE1)])\n",
    "error_gate2 = error_gate1.tensor(error_gate1)\n",
    "\n",
    "# Add errors to noise model\n",
    "noise_bit_flip = NoiseModel()\n",
    "noise_bit_flip.add_all_qubit_quantum_error(error_reset, \"reset\")\n",
    "noise_bit_flip.add_all_qubit_quantum_error(error_meas, \"measure\")\n",
    "noise_bit_flip.add_all_qubit_quantum_error(error_gate1, [\"u1\", \"u2\", \"u3\", \"rx\", \"ry\", \"rz\"])\n",
    "noise_bit_flip.add_all_qubit_quantum_error(error_gate2, [\"cx\"])\n",
    "\n",
    "print(noise_bit_flip)"
   ]
  },
  {
   "cell_type": "code",
   "execution_count": 8,
   "metadata": {},
   "outputs": [
    {
     "data": {
      "image/png": "[encoded data removed]",
      "text/plain": [
       "<Figure size 504x360 with 1 Axes>"
      ]
     },
     "execution_count": 8,
     "metadata": {},
     "output_type": "execute_result"
    }
   ],
   "source": [
    "sim_noise = AerSimulator(noise_model=noise_bit_flip)\n",
    "circ_tnoise = transpile(qc, sim_noise)\n",
    "\n",
    "# Run and get counts\n",
    "result_bit_flip = sim_noise.run(circ_tnoise).result()\n",
    "counts_bit_flip = dict.fromkeys(qubit_expansion(NUM_QUBITS), 0)\n",
    "counts_bit_flip.update(result_bit_flip.get_counts(0))\n",
    "\n",
    "# Plot noisy output\n",
    "plot_histogram(counts_bit_flip)"
   ]
  },
  {
   "cell_type": "code",
   "execution_count": 9,
   "metadata": {},
   "outputs": [],
   "source": [
    "dp_dist = np.array([i[1] for i in sorted(counts_dp.items())]) / sum(counts_dp.values())\n",
    "dp_noisy_state = Statevector(dp_dist)\n",
    "\n",
    "bf_dist = np.array([i[1] for i in sorted(counts_bit_flip.items())]) / sum(counts_bit_flip.values())\n",
    "bf_noisy_state = Statevector(bf_dist)"
   ]
  },
  {
   "cell_type": "markdown",
   "metadata": {},
   "source": [
    "## Analysis\n",
    "Take some symmetries from `HQN.ipynb` and analyze the losses under some error."
   ]
  },
  {
   "cell_type": "code",
   "execution_count": 10,
   "metadata": {},
   "outputs": [
    {
     "name": "stdout",
     "output_type": "stream",
     "text": [
      "Classical deep net of circuit depth 1 initialized.\n",
      "Classical deep net of circuit depth 1 initialized.\n",
      "5-qubit (noise: 0) non-regularized 'Nelder-Mead' hybrid quantum net initialized -- Hello world!\n",
      "Classical deep net of circuit depth 1 initialized.\n",
      "Classical deep net of circuit depth 1 initialized.\n",
      "5-qubit (noise: 0) non-regularized 'Nelder-Mead' hybrid quantum net initialized -- Hello world!\n",
      "Classical deep net of circuit depth 1 initialized.\n",
      "Classical deep net of circuit depth 1 initialized.\n",
      "5-qubit (noise: 0) non-regularized 'Nelder-Mead' hybrid quantum net initialized -- Hello world!\n"
     ]
    },
    {
     "data": {
      "image/png": "[encoded data removed]",
      "text/plain": [
       "<Figure size 654.94x325.08 with 1 Axes>"
      ]
     },
     "execution_count": 10,
     "metadata": {},
     "output_type": "execute_result"
    }
   ],
   "source": [
    "bases = prepare_basis(noiseless_state.num_qubits)\n",
    "DEPTH = 1\n",
    "MAXITER = 5E4\n",
    "num_bases = len(bases)\n",
    "hqn_noiseless = HQNet(noiseless_state, bases, eta=1e-2, maxiter=MAXITER, disp=False,\n",
    "            mode='Nelder-Mead', depth=DEPTH, \n",
    "            metric_func=KL, regularize=False)\n",
    "hqn_dp = HQNet(dp_noisy_state, bases, eta=1e-2, maxiter=MAXITER, disp=False,\n",
    "            mode='Nelder-Mead', depth=DEPTH, \n",
    "            metric_func=KL, regularize=False)\n",
    "hqn_bf = HQNet(bf_noisy_state, bases, eta=1e-2, maxiter=MAXITER, disp=False,\n",
    "            mode='Nelder-Mead', depth=DEPTH, \n",
    "            metric_func=KL, regularize=False)\n",
    "\n",
    "# Examine the parametrized circuit\n",
    "hqn_noiseless.view_circuit().draw(output='mpl')"
   ]
  },
  {
   "cell_type": "code",
   "execution_count": 11,
   "metadata": {},
   "outputs": [
    {
     "name": "stdout",
     "output_type": "stream",
     "text": [
      "\n",
      "Net 1:\n",
      "Optimized to QKL = 0.12074451148509979\n",
      "Queried loss func 4966 times\n",
      "Optimized to QKL = 0.04061945900321007\n",
      "Queried loss func 4687 times\n",
      "Optimized to QKL = 0.03638395667076111\n",
      "Queried loss func 50016 times\n",
      "Average loss for net 1: 0.06591597571969032\n",
      "\n",
      "Net 2:\n",
      "Optimized to QKL = 0.000679476885125041\n",
      "Queried loss func 11443 times\n",
      "Optimized to QKL = 0.003379181493073702\n",
      "Queried loss func 14492 times\n",
      "Optimized to QKL = 0.00099351373501122\n",
      "Queried loss func 7519 times\n",
      "Average loss for net 2: 0.0016840573710699875\n",
      "\n",
      "Net 3:\n",
      "Optimized to QKL = 0.0026930291205644608\n",
      "Queried loss func 13159 times\n",
      "Optimized to QKL = 0.00047452026046812534\n",
      "Queried loss func 13779 times\n",
      "Optimized to QKL = 0.00047452046419493854\n",
      "Queried loss func 16085 times\n",
      "Average loss for net 3: 0.0012140232817425083\n"
     ]
    }
   ],
   "source": [
    "# Find the symmetries of the noiseless and noisy states.\n",
    "param_shape = (noiseless_state.num_qubits, DEPTH+1, 2)\n",
    "NRUN = 3\n",
    "param_dim = np.prod(param_shape)\n",
    "nets = [hqn_noiseless, hqn_dp, hqn_bf]\n",
    "proposed_syms = t.zeros((len(nets), NRUN, param_dim)) # first dim is for the 3 types of noise\n",
    "\n",
    "for i, net in enumerate(nets):\n",
    "    print(f\"\\nNet {i+1}:\")\n",
    "    avg = 0\n",
    "    for j in range(NRUN):\n",
    "        potential_sym, loss, regularizer_loss = net.find_potential_symmetry(print_log=True)\n",
    "        proposed_syms[i,j] = potential_sym if t.is_tensor(potential_sym) else t.from_numpy(potential_sym)\n",
    "        potential_sym = potential_sym.reshape(param_shape)\n",
    "        avg += loss\n",
    "    print(f\"Average loss for net {i+1}: {avg / NRUN}\")\n",
    "    "
   ]
  },
  {
   "cell_type": "markdown",
   "metadata": {},
   "source": [
    "#### Cross validation between noise models\n",
    "Are symmetries of noisy (noiseless) states still symmetries of noiseless (noisy) states?"
   ]
  },
  {
   "cell_type": "code",
   "execution_count": 12,
   "metadata": {},
   "outputs": [
    {
     "name": "stdout",
     "output_type": "stream",
     "text": [
      "Key: [state, operator, run, basis]\n",
      "[1,2,1,1] 0.531556105787345\n",
      "[1,2,1,2] 0.49653699791811406\n",
      "[1,2,2,1] 0.794091916440744\n",
      "[1,2,2,2] 1.0920046400740402\n",
      "[1,2,3,1] 0.596495047719922\n",
      "[1,2,3,2] 0.6326669221795794\n",
      "[1,3,1,1] 0.6743389726855309\n",
      "[1,3,1,2] 0.792689254836531\n",
      "[1,3,2,1] 0.463774799874852\n",
      "[1,3,2,2] 0.49014739716275446\n",
      "[1,3,3,1] 0.46374886558194806\n",
      "[1,3,3,2] 0.4901567004056091\n",
      "[2,1,1,1] 0.054970354081577535\n",
      "[2,1,1,2] 0.04282480282280528\n",
      "[2,1,2,1] 0.09060661076081726\n",
      "[2,1,2,2] 0.04272240059708711\n",
      "[2,1,3,1] 0.07640307510511919\n",
      "[2,1,3,2] 0.10785101617134672\n",
      "[2,3,1,1] 0.003820204551899524\n",
      "[2,3,1,2] 0.0034786308512685976\n",
      "[2,3,2,1] 0.004016826215838347\n",
      "[2,3,2,2] 0.005424564680882733\n",
      "[2,3,3,1] 0.004016974833136392\n",
      "[2,3,3,2] 0.005424728620833926\n",
      "[3,1,1,1] 0.04920640863511395\n",
      "[3,1,1,2] 0.032011048347595716\n",
      "[3,1,2,1] 0.06878501097050466\n",
      "[3,1,2,2] 0.032642434605982845\n",
      "[3,1,3,1] 0.08331558902866666\n",
      "[3,1,3,2] 0.15554081483773563\n",
      "[3,2,1,1] 0.0037180321555453587\n",
      "[3,2,1,2] 0.003213985352813216\n",
      "[3,2,2,1] 0.005651204907049914\n",
      "[3,2,2,2] 0.004123911999843388\n",
      "[3,2,3,1] 0.005031535174994519\n",
      "[3,2,3,2] 0.0041955591936500315\n"
     ]
    }
   ],
   "source": [
    "print(\"Key: [state, operator, run, basis]\")\n",
    "for s_i, state in enumerate([noiseless_state, dp_noisy_state, bf_noisy_state]):\n",
    "    for noise_idx in range(len(nets)):\n",
    "        if s_i == noise_idx:\n",
    "            continue # skip diagonal components\n",
    "        for i, sym in enumerate(proposed_syms[noise_idx]):\n",
    "            for j, basis_here in enumerate(bases):\n",
    "                loss_metric = PQC(state, depth=DEPTH, basis_param=basis_here, metric_func=KL, say_hi=False).evaluate_true_metric(sym)\n",
    "                print(f\"[{s_i+1},{noise_idx+1},{i+1},{j+1}] {loss_metric}\")"
   ]
  },
  {
   "cell_type": "markdown",
   "metadata": {},
   "source": [
    "## Summary\n",
    "If the noise is sufficiently high (e.g. high noise general bit flip) then the symmetry learning is obviously perturbed. However, for a sufficiently small noise example like the depolarizing noise, the scheme continues to learn the symmetry, at least for small qubit sizes. More tests on larger (`>5`) qubits needed.\n",
    "\n",
    "We can distinguish between Markovian (unitary-representable) errors and non-Markovian (e.g. measurement, depolarizing) errors. The symmetries of Markovian perturbed states are easily predictable, for they essentially contain the daggers of the unitary representations of the errors. Therefore, we should expect that the scheme work well to find the noisy symmetry, but that it should have a cross validation error roughly proportional to the noise probabilities. On the other hand, non-Markovian perturbed states don't have an easily predictable symmetry, so naively we should expect very poor learning and cross validation. Amazingly, the scheme is learning poorly, but the cross validation error is just as low as if the noise were never there, implying that somehow, the scheme is filtering out the noise while learning non-Markovian symmetries! How it is doing this I have no idea, but this is a key point of discussion."
   ]
  },
  {
   "cell_type": "code",
   "execution_count": null,
   "metadata": {},
   "outputs": [],
   "source": []
  }
 ],
 "metadata": {
  "interpreter": {
   "hash": "d6de9be78b6020e3c4b915c697ec9df5423262584917bd5f64c63e56f57b2ea4"
  },
  "kernelspec": {
   "display_name": "Python 3.7.7 ('base')",
   "language": "python",
   "name": "python3"
  },
  "language_info": {
   "codemirror_mode": {
    "name": "ipython",
    "version": 3
   },
   "file_extension": ".py",
   "mimetype": "text/x-python",
   "name": "python",
   "nbconvert_exporter": "python",
   "pygments_lexer": "ipython3",
   "version": "3.7.7"
  },
  "orig_nbformat": 4
 },
 "nbformat": 4,
 "nbformat_minor": 2
}
