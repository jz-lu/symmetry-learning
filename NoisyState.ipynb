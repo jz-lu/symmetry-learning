{
 "cells": [
  {
   "cell_type": "markdown",
   "metadata": {},
   "source": [
    "# Noise propagation in HQNSL quantum loss\n",
    "In practice the circuit preparing the quantum state for which we wish to learn the symmetries of will be noisy, resulting in a state that is\n",
    "not quite exactly the state we expect. Possible errors include a depolarizing error, unitary gate (e.g. Pauli), and so forth. Measurement of the quantum\n",
    "loss function propagates the effect of the error classically into the metric value itself. \n",
    "\n",
    "A practical symmetry learning scheme must be robust, at least to some threshold, to such errors. It suffices to show that the loss function does not change significantly enough on noisy states than when the state is prepared without an `e` amount of noise. To demonstrate this, we use the generalized GHZ state. In `HQN.ipynb`, we can find some symmetries of the state both with and without noise. In this notebook, we will apply the noiseless symmetries to the noisy state and check that the quantum loss metric is still small. We will also apply the noisy symmetries to the noiseless state and check likewise that the loss is small. If both cases hold, we conclude that the learning scheme is robust to `e`-noisy states.\n",
    "\n",
    "State preparation is not the only source of noise. The parametrized quantum circuit (PQC) that implements the symmetry operation can itself have errors similar to those in the state preparation circuit. This poses a separate robustness challenge---can the learning scheme produce valid symmetries when the circuit is itself noisy? This question requires adding a noise parameter to the PQC but does not otherwise differ in any sense to normal learning (one must simply check, as they would usually do, that the learning can converge to a negligbly small quantum loss metric.) Consequently, we defer this latter question to `HQN.ipynb`.\n",
    "\n",
    "Everything in this notebook is classically simulated. In a quantum hardware, we (sadly) don't need to introduce error manually.\n",
    "\n",
    "See [this link](https://qiskit.org/documentation/tutorials/simulators/3_building_noise_models.html) for more."
   ]
  },
  {
   "cell_type": "code",
   "execution_count": 31,
   "metadata": {},
   "outputs": [],
   "source": [
    "from __loss_funcs import KL\n",
    "from __helpers import prepare_basis, qubit_expansion\n",
    "from ___constants import PARAM_PER_QUBIT_PER_DEPTH\n",
    "from __class_HQNet import HQNet\n",
    "from __class_PQC import PQC\n",
    "import numpy as np\n",
    "import torch as t\n",
    "from qiskit.quantum_info import Statevector\n",
    "%matplotlib inline\n",
    "from qiskit.providers.aer import AerSimulator\n",
    "from qiskit import transpile\n",
    "from qiskit.providers.aer.noise import pauli_error, depolarizing_error\n",
    "from qiskit.tools.visualization import plot_histogram\n",
    "from qiskit.providers.aer.noise import NoiseModel"
   ]
  },
  {
   "cell_type": "code",
   "execution_count": 21,
   "metadata": {},
   "outputs": [],
   "source": [
    "NUM_QUBITS = 3\n",
    "STATE_TYPE = 'GHZ'\n",
    "\n",
    "PROB_DEPOL = 0.01\n",
    "\n",
    "PROB_RESET = 0.01\n",
    "PROB_MEAS = 0\n",
    "PROB_GATE1 = 0.01"
   ]
  },
  {
   "cell_type": "code",
   "execution_count": 22,
   "metadata": {},
   "outputs": [
    {
     "name": "stdout",
     "output_type": "stream",
     "text": [
      "          ┌───┐           ░ ┌─┐      \n",
      "q27190_0: ┤ H ├──■────■───░─┤M├──────\n",
      "          └───┘┌─┴─┐  │   ░ └╥┘┌─┐   \n",
      "q27190_1: ─────┤ X ├──┼───░──╫─┤M├───\n",
      "               └───┘┌─┴─┐ ░  ║ └╥┘┌─┐\n",
      "q27190_2: ──────────┤ X ├─░──╫──╫─┤M├\n",
      "                    └───┘ ░  ║  ║ └╥┘\n",
      "  meas: 3/═══════════════════╩══╩══╩═\n",
      "                             0  1  2 \n"
     ]
    }
   ],
   "source": [
    "# Prepare noisy and noiseless GHZ State \n",
    "if STATE_TYPE == 'GHZ':\n",
    "    from GHZ_generator import GHZ_state_circuit\n",
    "    noiseless_state = Statevector.from_int(0, 2**NUM_QUBITS)\n",
    "    qc = GHZ_state_circuit(L=NUM_QUBITS)\n",
    "elif STATE_TYPE == 'mGHZ':\n",
    "    from mGHZ_generator import mGHZ_state_circuit\n",
    "    noiseless_state = Statevector.from_int(0, 2**NUM_QUBITS)\n",
    "    qc = mGHZ_state_circuit(L=NUM_QUBITS)\n",
    "elif STATE_TYPE == 'Cluster':\n",
    "    from cluster_generator import cluster_state_circuit\n",
    "    noiseless_state = Statevector.from_int(0, 2**(NUM_QUBITS**2))\n",
    "    qc = cluster_state_circuit(NUM_QUBITS)\n",
    "    NUM_QUBITS = NUM_QUBITS**2\n",
    "else:\n",
    "    raise TypeError(f\"Invalid state type '{STATE_TYPE}' specified.\")\n",
    "noiseless_state = noiseless_state.evolve(qc)\n",
    "qc.measure_all()\n",
    "print(qc)"
   ]
  },
  {
   "cell_type": "markdown",
   "metadata": {},
   "source": [
    "## Noiseless state"
   ]
  },
  {
   "cell_type": "code",
   "execution_count": 23,
   "metadata": {},
   "outputs": [],
   "source": [
    "sim_ideal = AerSimulator()\n",
    "result_ideal = sim_ideal.run(qc).result()\n",
    "# plot_histogram(result_ideal.get_counts(0), color='firebrick')"
   ]
  },
  {
   "cell_type": "markdown",
   "metadata": {},
   "source": [
    "## Depolarizing error"
   ]
  },
  {
   "cell_type": "code",
   "execution_count": 24,
   "metadata": {},
   "outputs": [
    {
     "name": "stdout",
     "output_type": "stream",
     "text": [
      "NoiseModel:\n",
      "  Basis gates: ['cx', 'id', 'rz', 'sx']\n",
      "  Instructions with noise: ['depolarize']\n",
      "  All-qubits errors: ['depolarize']\n"
     ]
    }
   ],
   "source": [
    "error_depol = depolarizing_error(PROB_DEPOL, NUM_QUBITS)\n",
    "noise_depol = NoiseModel()\n",
    "noise_depol.add_all_qubit_quantum_error(error_depol, \"depolarize\")\n",
    "print(noise_depol)"
   ]
  },
  {
   "cell_type": "code",
   "execution_count": 25,
   "metadata": {},
   "outputs": [],
   "source": [
    "# Create noisy simulator backend\n",
    "sim_dpnoise = AerSimulator(noise_model=noise_depol)\n",
    "circ_dpnoise = transpile(qc, sim_dpnoise)\n",
    "\n",
    "# Run and get counts\n",
    "result_dp = sim_dpnoise.run(circ_dpnoise).result()\n",
    "counts_dp = dict.fromkeys(qubit_expansion(NUM_QUBITS), 0)\n",
    "counts_dp.update(result_dp.get_counts(0))\n",
    "\n",
    "# Plot noisy output\n",
    "# plot_histogram(counts_dp)"
   ]
  },
  {
   "cell_type": "markdown",
   "metadata": {},
   "source": [
    "## Error ensemble\n",
    "Give a variety of random possible errors to the state, one for each type of gate in our locally universal set."
   ]
  },
  {
   "cell_type": "code",
   "execution_count": 26,
   "metadata": {},
   "outputs": [
    {
     "name": "stdout",
     "output_type": "stream",
     "text": [
      "NoiseModel:\n",
      "  Basis gates: ['cx', 'id', 'rx', 'ry', 'rz', 'sx', 'u1', 'u2', 'u3']\n",
      "  Instructions with noise: ['cx', 'rx', 'reset', 'u3', 'ry', 'u2', 'rz', 'u1']\n",
      "  All-qubits errors: ['reset', 'u1', 'u2', 'u3', 'rx', 'ry', 'rz', 'cx']\n"
     ]
    }
   ],
   "source": [
    "# QuantumError objects\n",
    "error_reset = pauli_error([('X', PROB_RESET), ('I', 1 - PROB_RESET)])\n",
    "error_meas = pauli_error([('X', PROB_MEAS), ('I', 1 - PROB_MEAS)])\n",
    "error_gate1 = pauli_error([('X', PROB_GATE1), ('I', 1 - PROB_GATE1)])\n",
    "error_gate2 = error_gate1.tensor(error_gate1)\n",
    "\n",
    "# Add errors to noise model\n",
    "noise_bit_flip = NoiseModel()\n",
    "noise_bit_flip.add_all_qubit_quantum_error(error_reset, \"reset\")\n",
    "noise_bit_flip.add_all_qubit_quantum_error(error_meas, \"measure\")\n",
    "noise_bit_flip.add_all_qubit_quantum_error(error_gate1, [\"u1\", \"u2\", \"u3\", \"rx\", \"ry\", \"rz\"])\n",
    "noise_bit_flip.add_all_qubit_quantum_error(error_gate2, [\"cx\"])\n",
    "\n",
    "print(noise_bit_flip)"
   ]
  },
  {
   "cell_type": "code",
   "execution_count": 27,
   "metadata": {},
   "outputs": [
    {
     "data": {
      "image/png": "[encoded data removed]",
      "text/plain": [
       "<Figure size 504x360 with 1 Axes>"
      ]
     },
     "execution_count": 27,
     "metadata": {},
     "output_type": "execute_result"
    }
   ],
   "source": [
    "sim_noise = AerSimulator(noise_model=noise_bit_flip)\n",
    "circ_tnoise = transpile(qc, sim_noise)\n",
    "\n",
    "# Run and get counts\n",
    "result_bit_flip = sim_noise.run(circ_tnoise).result()\n",
    "counts_bit_flip = dict.fromkeys(qubit_expansion(NUM_QUBITS), 0)\n",
    "counts_bit_flip.update(result_bit_flip.get_counts(0))\n",
    "\n",
    "# Plot noisy output\n",
    "plot_histogram(counts_bit_flip)"
   ]
  },
  {
   "cell_type": "code",
   "execution_count": 28,
   "metadata": {},
   "outputs": [],
   "source": [
    "dp_dist = np.array([i[1] for i in sorted(counts_dp.items())]) / sum(counts_dp.values())\n",
    "dp_noisy_state = Statevector(dp_dist)\n",
    "\n",
    "bf_dist = np.array([i[1] for i in sorted(counts_bit_flip.items())]) / sum(counts_bit_flip.values())\n",
    "bf_noisy_state = Statevector(bf_dist)"
   ]
  },
  {
   "cell_type": "markdown",
   "metadata": {},
   "source": [
    "## Analysis\n",
    "Take some symmetries from `HQN.ipynb` and analyze the losses under some error."
   ]
  },
  {
   "cell_type": "code",
   "execution_count": 29,
   "metadata": {},
   "outputs": [
    {
     "data": {
      "image/png": "[encoded data removed]",
      "text/plain": [
       "<Figure size 574.209x204.68 with 1 Axes>"
      ]
     },
     "execution_count": 29,
     "metadata": {},
     "output_type": "execute_result"
    }
   ],
   "source": [
    "bases = prepare_basis(noiseless_state.num_qubits)\n",
    "DEPTH = 1\n",
    "MAXITER = 5E4\n",
    "num_bases = len(bases)\n",
    "hqn_noiseless = HQNet(noiseless_state, bases, eta=1e-2, maxiter=MAXITER, disp=False,\n",
    "            mode='Nelder-Mead', depth=DEPTH, \n",
    "            metric_func=KL, regularize=False)\n",
    "hqn_dp = HQNet(dp_noisy_state, bases, eta=1e-2, maxiter=MAXITER, disp=False,\n",
    "            mode='Nelder-Mead', depth=DEPTH, \n",
    "            metric_func=KL, regularize=False)\n",
    "hqn_bf = HQNet(bf_noisy_state, bases, eta=1e-2, maxiter=MAXITER, disp=False,\n",
    "            mode='Nelder-Mead', depth=DEPTH, \n",
    "            metric_func=KL, regularize=False)\n",
    "\n",
    "# Examine the parametrized circuit\n",
    "hqn_noiseless.view_circuit().draw(output='mpl')"
   ]
  },
  {
   "cell_type": "code",
   "execution_count": 33,
   "metadata": {},
   "outputs": [
    {
     "name": "stdout",
     "output_type": "stream",
     "text": [
      "\n",
      "Noiseless:\n",
      "Optimized to loss metric = 3.950950030600373e-15\n",
      "Queried loss func 4752 times\n",
      "Optimized to loss metric = 3.16260113529445e-14\n",
      "Queried loss func 3766 times\n",
      "Optimized to loss metric = 8.697607385829351e-14\n",
      "Queried loss func 4282 times\n",
      "Average loss for net 1: 4.085101174727946e-14\n",
      "\n",
      "Depolarizing:\n",
      "Optimized to loss metric = 0.0003629954007919878\n",
      "Queried loss func 2423 times\n",
      "Optimized to loss metric = 0.0003544155042618513\n",
      "Queried loss func 7193 times\n",
      "Optimized to loss metric = 9.172995487460867e-05\n",
      "Queried loss func 10111 times\n",
      "Average loss for net 2: 0.00026971361997614923\n",
      "\n",
      "General:\n",
      "Optimized to loss metric = 5.011900793761015e-05\n",
      "Queried loss func 12716 times\n",
      "Optimized to loss metric = 5.011900793761015e-05\n",
      "Queried loss func 10698 times\n",
      "Optimized to loss metric = 0.0015060864388942719\n",
      "Queried loss func 6636 times\n",
      "Average loss for net 3: 0.000535441484923164\n"
     ]
    }
   ],
   "source": [
    "# Find the symmetries of the noiseless and noisy states.\n",
    "param_shape = (noiseless_state.num_qubits, DEPTH+1, PARAM_PER_QUBIT_PER_DEPTH)\n",
    "NRUN = 3\n",
    "param_dim = np.prod(param_shape)\n",
    "nets = [hqn_noiseless, hqn_dp, hqn_bf]\n",
    "names = ['Noiseless', 'Depolarizing', 'General']\n",
    "proposed_syms = t.zeros((len(nets), NRUN, param_dim)) # first dim is for the 3 types of noise\n",
    "\n",
    "for i, net in enumerate(nets):\n",
    "    print(f\"\\n{names[i]}:\")\n",
    "    avg = 0\n",
    "    for j in range(NRUN):\n",
    "        potential_sym, loss, regularizer_loss = net.find_potential_symmetry(print_log=True)\n",
    "        proposed_syms[i,j] = potential_sym if t.is_tensor(potential_sym) else t.from_numpy(potential_sym)\n",
    "        potential_sym = potential_sym.reshape(param_shape)\n",
    "        avg += loss\n",
    "    print(f\"Average loss for {names[i]} net: {avg / NRUN}\")\n",
    "    "
   ]
  },
  {
   "cell_type": "markdown",
   "metadata": {},
   "source": [
    "#### Cross validation between noise models\n",
    "Are symmetries of noisy (noiseless) states still symmetries of noiseless (noisy) states?"
   ]
  },
  {
   "cell_type": "code",
   "execution_count": 35,
   "metadata": {},
   "outputs": [
    {
     "name": "stdout",
     "output_type": "stream",
     "text": [
      "\n",
      "Depolarizing CV\n",
      "0.00025664061342551555 with deviation 8.582059438269165e-05\n",
      "\n",
      "General CV\n",
      "0.0010585213179769386 with deviation 4.6076133441177484e-05\n"
     ]
    }
   ],
   "source": [
    "cv_names = ['Depolarizing', 'General']\n",
    "for i in range(2):\n",
    "    print(f\"\\n{cv_names[i]} CV\")\n",
    "    losses = np.zeros(NRUN)\n",
    "    for j, sym in enumerate(proposed_syms[i+1]):\n",
    "        losses[j] = np.mean([PQC(noiseless_state, depth=DEPTH, basis_param=basis_here, metric_func=KL, say_hi=False)\\\n",
    "                .evaluate_true_metric(sym)for basis_here in bases])\n",
    "    print(f\"{np.mean(losses)} with deviation {np.std(losses)}\")"
   ]
  },
  {
   "cell_type": "markdown",
   "metadata": {},
   "source": [
    "## Summary\n",
    "If the noise is sufficiently high (e.g. high noise general bit flip) then the symmetry learning is obviously perturbed. However, for a sufficiently small noise example like the depolarizing noise, the scheme continues to learn the symmetry, at least for small qubit sizes. More tests on larger (`>5`) qubits needed.\n",
    "\n",
    "We can distinguish between Markovian (unitary-representable) errors and non-Markovian (e.g. measurement, depolarizing) errors. The symmetries of Markovian perturbed states are easily predictable, for they essentially contain the daggers of the unitary representations of the errors. Therefore, we should expect that the scheme work well to find the noisy symmetry, but that it should have a cross validation error roughly proportional to the noise probabilities. On the other hand, non-Markovian perturbed states don't have an easily predictable symmetry, so naively we should expect very poor learning and cross validation. Amazingly, the scheme is learning poorly, but the cross validation error is just as low as if the noise were never there, implying that somehow, the scheme is filtering out the noise while learning non-Markovian symmetries! How it is doing this I have no idea, but this is a key point of discussion."
   ]
  },
  {
   "cell_type": "code",
   "execution_count": null,
   "metadata": {},
   "outputs": [],
   "source": []
  }
 ],
 "metadata": {
  "interpreter": {
   "hash": "d6de9be78b6020e3c4b915c697ec9df5423262584917bd5f64c63e56f57b2ea4"
  },
  "kernelspec": {
   "display_name": "Python 3.7.7 ('base')",
   "language": "python",
   "name": "python3"
  },
  "language_info": {
   "codemirror_mode": {
    "name": "ipython",
    "version": 3
   },
   "file_extension": ".py",
   "mimetype": "text/x-python",
   "name": "python",
   "nbconvert_exporter": "python",
   "pygments_lexer": "ipython3",
   "version": "3.7.7"
  },
  "orig_nbformat": 4
 },
 "nbformat": 4,
 "nbformat_minor": 2
}
