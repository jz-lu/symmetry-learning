{
 "cells": [
  {
   "cell_type": "markdown",
   "metadata": {},
   "source": [
    "# Noise propagation in HQNSL quantum loss\n",
    "In this notebook we will generalize the work of `NoisyState.ipynb` to include a noisy circuit. While the error on the prepared state is fixed, the error of the circuit is dynamical, changing between every iteration of each epoch."
   ]
  },
  {
   "cell_type": "code",
   "execution_count": 1,
   "metadata": {},
   "outputs": [],
   "source": [
    "from __loss_funcs import KL\n",
    "from __helpers import prepare_basis, qubit_expansion\n",
    "from ___constants import PARAM_PER_QUBIT_PER_DEPTH\n",
    "from __class_HQNet import HQNet\n",
    "from __class_PQC import PQC\n",
    "import numpy as np\n",
    "import torch as t\n",
    "from qiskit.quantum_info import Statevector\n",
    "%matplotlib inline\n",
    "from qiskit.providers.aer import AerSimulator\n",
    "from qiskit import transpile, QuantumRegister\n",
    "from qiskit.providers.aer.noise import pauli_error, depolarizing_error\n",
    "from qiskit.tools.visualization import plot_histogram\n",
    "from qiskit.providers.aer.noise import NoiseModel"
   ]
  },
  {
   "cell_type": "code",
   "execution_count": 2,
   "metadata": {},
   "outputs": [],
   "source": [
    "NUM_QUBITS = 3\n",
    "qreg = QuantumRegister(NUM_QUBITS)\n",
    "STATE_TYPE = 'GHZ'\n",
    "PROBABILITY = 0.001\n",
    "\n",
    "PROB_DEPOL = PROBABILITY\n",
    "PROB_RESET = PROBABILITY\n",
    "PROB_MEAS = 0\n",
    "PROB_GATE1 = PROBABILITY"
   ]
  },
  {
   "cell_type": "code",
   "execution_count": 3,
   "metadata": {},
   "outputs": [
    {
     "name": "stdout",
     "output_type": "stream",
     "text": [
      "      ┌───┐          \n",
      "q0_0: ┤ H ├──■────■──\n",
      "      └───┘┌─┴─┐  │  \n",
      "q0_1: ─────┤ X ├──┼──\n",
      "           └───┘┌─┴─┐\n",
      "q0_2: ──────────┤ X ├\n",
      "                └───┘\n"
     ]
    }
   ],
   "source": [
    "# Prepare noisy and noiseless GHZ State \n",
    "if STATE_TYPE == 'GHZ':\n",
    "    from GHZ_generator import GHZ_state_circuit\n",
    "    noiseless_state = Statevector.from_int(0, 2**NUM_QUBITS)\n",
    "    qc = GHZ_state_circuit(L=NUM_QUBITS, qreg=qreg)\n",
    "elif STATE_TYPE == 'mGHZ':\n",
    "    from mGHZ_generator import mGHZ_state_circuit\n",
    "    noiseless_state = Statevector.from_int(0, 2**NUM_QUBITS)\n",
    "    qc = mGHZ_state_circuit(L=NUM_QUBITS)\n",
    "elif STATE_TYPE == 'Cluster':\n",
    "    from cluster_generator import cluster_state_circuit\n",
    "    noiseless_state = Statevector.from_int(0, 2**(NUM_QUBITS**2))\n",
    "    qc = cluster_state_circuit(NUM_QUBITS)\n",
    "    NUM_QUBITS = NUM_QUBITS**2\n",
    "else:\n",
    "    raise TypeError(f\"Invalid state type '{STATE_TYPE}' specified.\")\n",
    "noiseless_state = noiseless_state.evolve(qc)\n",
    "print(qc)"
   ]
  },
  {
   "cell_type": "markdown",
   "metadata": {},
   "source": [
    "## Analysis\n",
    "Take some symmetries from `HQN.ipynb` and analyze the losses under some error."
   ]
  },
  {
   "cell_type": "code",
   "execution_count": 4,
   "metadata": {},
   "outputs": [
    {
     "data": {
      "image/png": "[encoded data removed]",
      "text/plain": [
       "<Figure size 280.469x204.68 with 1 Axes>"
      ]
     },
     "execution_count": 4,
     "metadata": {},
     "output_type": "execute_result"
    }
   ],
   "source": [
    "bases = prepare_basis(noiseless_state.num_qubits)\n",
    "DEPTH = 0\n",
    "MAXITER = 5E3\n",
    "num_bases = len(bases)\n",
    "hqn = HQNet(noiseless_state, bases, eta=1e-2, maxiter=MAXITER, disp=False,\n",
    "            mode='Nelder-Mead', depth=DEPTH, \n",
    "            noise=2, state_prep_circ=qc, qreg=qreg, \n",
    "            error_prob=PROBABILITY, \n",
    "            metric_func=KL, regularize=False)\n",
    "\n",
    "# Examine the parametrized circuit\n",
    "hqn.view_circuit().draw(output='mpl')"
   ]
  },
  {
   "cell_type": "code",
   "execution_count": 5,
   "metadata": {},
   "outputs": [
    {
     "name": "stdout",
     "output_type": "stream",
     "text": [
      "Optimized to loss metric = 1.725368857383728\n",
      "Queried loss func 5001 times\n"
     ]
    }
   ],
   "source": [
    "# Find the symmetries of the noiseless and noisy states.\n",
    "param_shape = (noiseless_state.num_qubits, DEPTH+1, PARAM_PER_QUBIT_PER_DEPTH)\n",
    "NRUN = 3\n",
    "param_dim = np.prod(param_shape)\n",
    "proposed_syms = t.zeros((NRUN, param_dim)) # first dim is for the 3 types of noise\n",
    "\n",
    "total_loss = 0\n",
    "for j in range(NRUN):\n",
    "    potential_sym, loss, regularizer_loss = hqn.find_potential_symmetry(print_log=True)\n",
    "    proposed_syms[j] = potential_sym if t.is_tensor(potential_sym) else t.from_numpy(potential_sym)\n",
    "    potential_sym = potential_sym.reshape(param_shape)\n",
    "    total_loss += loss\n",
    "print(f\"Average loss: {total_loss / NRUN}\")"
   ]
  },
  {
   "cell_type": "markdown",
   "metadata": {},
   "source": [
    "#### Cross validation between noise models\n",
    "Are symmetries of noisy (noiseless) states still symmetries of noiseless (noisy) states?"
   ]
  },
  {
   "cell_type": "code",
   "execution_count": null,
   "metadata": {},
   "outputs": [
    {
     "name": "stdout",
     "output_type": "stream",
     "text": [
      "1.8557410781901098 with deviation 1.1381903897034142\n",
      "[1.62710047 3.34991958 0.59020319]\n"
     ]
    }
   ],
   "source": [
    "losses = np.zeros(NRUN)\n",
    "for j, sym in enumerate(proposed_syms):\n",
    "    losses[j] = np.mean([PQC(noiseless_state, depth=DEPTH, basis_param=basis_here, metric_func=KL, say_hi=False)\\\n",
    "            .evaluate_true_metric(sym)for basis_here in bases])\n",
    "print(f\"{np.mean(losses)} with deviation {np.std(losses)}\")\n",
    "print(losses)"
   ]
  },
  {
   "cell_type": "markdown",
   "metadata": {},
   "source": [
    "## Summary\n",
    "If the noise is sufficiently high (e.g. high noise general bit flip) then the symmetry learning is obviously perturbed. However, for a sufficiently small noise example like the depolarizing noise, the scheme continues to learn the symmetry, at least for small qubit sizes. More tests on larger (`>5`) qubits needed.\n",
    "\n",
    "We can distinguish between Markovian (unitary-representable) errors and non-Markovian (e.g. measurement, depolarizing) errors. The symmetries of Markovian perturbed states are easily predictable, for they essentially contain the daggers of the unitary representations of the errors. Therefore, we should expect that the scheme work well to find the noisy symmetry, but that it should have a cross validation error roughly proportional to the noise probabilities. On the other hand, non-Markovian perturbed states don't have an easily predictable symmetry, so naively we should expect very poor learning and cross validation. Amazingly, the scheme is learning poorly, but the cross validation error is just as low as if the noise were never there, implying that somehow, the scheme is filtering out the noise while learning non-Markovian symmetries! How it is doing this I have no idea, but this is a key point of discussion."
   ]
  },
  {
   "cell_type": "code",
   "execution_count": null,
   "metadata": {},
   "outputs": [
    {
     "name": "stdout",
     "output_type": "stream",
     "text": [
      "[[[ 0.36476654+0.j         -0.93060261-0.0303995j ]\n",
      "  [-0.90144074-0.2331308j  -0.34997749-0.10281233j]]\n",
      "\n",
      " [[-0.02919108+0.j          0.22774224-0.97328377j]\n",
      "  [-0.15795101+0.98701537j  0.02701526+0.01105872j]]\n",
      "\n",
      " [[-0.8744905 +0.j         -0.37641826-0.30590147j]\n",
      "  [-0.36749819+0.31656203j  0.87413144-0.02505819j]]]\n",
      "[[[-0.60012466+0.j          0.76959056-0.21813029j]\n",
      "  [-0.192178  +0.77647799j  0.02014171+0.59978658j]]\n",
      "\n",
      " [[-0.75001913+0.j          0.42850906-0.50383651j]\n",
      "  [ 0.59789968-0.28282014j  0.19495012-0.72423971j]]\n",
      "\n",
      " [[-0.77519655+0.j          0.62815654-0.06700449j]\n",
      "  [ 0.38149214-0.50352156j  0.39995962-0.66404969j]]]\n",
      "[[[ 0.7017684 +0.j         -0.04924016+0.71070141j]\n",
      "  [-0.69580448+0.15289609j  0.10287818+0.69418651j]]\n",
      "\n",
      " [[-0.28281653+0.j          0.27850524-0.91785055j]\n",
      "  [-0.20472151+0.93707198j  0.24686906+0.13798863j]]\n",
      "\n",
      " [[-0.03223592+0.j         -0.03502318-0.99886644j]\n",
      "  [-0.89372128-0.4474631j  -0.01341296+0.02931292j]]]\n"
     ]
    }
   ],
   "source": [
    "from __helpers import param_to_unitary as p2u\n",
    "for sym in proposed_syms:\n",
    "    print(p2u(np.squeeze(sym.reshape(param_shape))))"
   ]
  },
  {
   "cell_type": "code",
   "execution_count": null,
   "metadata": {},
   "outputs": [],
   "source": []
  }
 ],
 "metadata": {
  "interpreter": {
   "hash": "d6de9be78b6020e3c4b915c697ec9df5423262584917bd5f64c63e56f57b2ea4"
  },
  "kernelspec": {
   "display_name": "Python 3.7.7 ('base')",
   "language": "python",
   "name": "python3"
  },
  "language_info": {
   "codemirror_mode": {
    "name": "ipython",
    "version": 3
   },
   "file_extension": ".py",
   "mimetype": "text/x-python",
   "name": "python",
   "nbconvert_exporter": "python",
   "pygments_lexer": "ipython3",
   "version": "3.7.7"
  },
  "orig_nbformat": 4
 },
 "nbformat": 4,
 "nbformat_minor": 2
}
