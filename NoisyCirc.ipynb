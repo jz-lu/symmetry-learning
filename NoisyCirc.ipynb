{
 "cells": [
  {
   "cell_type": "markdown",
   "metadata": {},
   "source": [
    "# Noise propagation in HQNSL quantum loss\n",
    "In this notebook we will generalize the work of `NoisyState.ipynb` to include a noisy circuit. While the error on the prepared state is fixed, the error of the circuit is dynamical, changing between every iteration of each epoch."
   ]
  },
  {
   "cell_type": "code",
   "execution_count": 1,
   "metadata": {},
   "outputs": [],
   "source": [
    "from __loss_funcs import KL\n",
    "from __helpers import prepare_basis, qubit_expansion\n",
    "from ___constants import PARAM_PER_QUBIT_PER_DEPTH\n",
    "from __class_HQNet import HQNet\n",
    "from __class_PQC import PQC\n",
    "import numpy as np\n",
    "import torch as t\n",
    "from qiskit.quantum_info import Statevector\n",
    "%matplotlib inline\n",
    "from qiskit.providers.aer import AerSimulator\n",
    "from qiskit import transpile, QuantumRegister\n",
    "from qiskit.providers.aer.noise import pauli_error, depolarizing_error\n",
    "from qiskit.tools.visualization import plot_histogram\n",
    "from qiskit.providers.aer.noise import NoiseModel"
   ]
  },
  {
   "cell_type": "code",
   "execution_count": 8,
   "metadata": {},
   "outputs": [],
   "source": [
    "NUM_QUBITS = 3\n",
    "qreg = QuantumRegister(NUM_QUBITS)\n",
    "STATE_TYPE = 'GHZ'\n",
    "PROBABILITY = 0.01\n",
    "\n",
    "PROB_DEPOL = PROBABILITY\n",
    "PROB_RESET = PROBABILITY\n",
    "PROB_MEAS = 0\n",
    "PROB_GATE1 = PROBABILITY"
   ]
  },
  {
   "cell_type": "code",
   "execution_count": 9,
   "metadata": {},
   "outputs": [
    {
     "name": "stdout",
     "output_type": "stream",
     "text": [
      "           ┌───┐          \n",
      "q751016_0: ┤ H ├──■────■──\n",
      "           └───┘┌─┴─┐  │  \n",
      "q751016_1: ─────┤ X ├──┼──\n",
      "                └───┘┌─┴─┐\n",
      "q751016_2: ──────────┤ X ├\n",
      "                     └───┘\n"
     ]
    }
   ],
   "source": [
    "# Prepare noisy and noiseless GHZ State \n",
    "if STATE_TYPE == 'GHZ':\n",
    "    from GHZ_generator import GHZ_state_circuit\n",
    "    noiseless_state = Statevector.from_int(0, 2**NUM_QUBITS)\n",
    "    qc = GHZ_state_circuit(L=NUM_QUBITS, qreg=qreg)\n",
    "elif STATE_TYPE == 'mGHZ':\n",
    "    from mGHZ_generator import mGHZ_state_circuit\n",
    "    noiseless_state = Statevector.from_int(0, 2**NUM_QUBITS)\n",
    "    qc = mGHZ_state_circuit(L=NUM_QUBITS)\n",
    "elif STATE_TYPE == 'Cluster':\n",
    "    from cluster_generator import cluster_state_circuit\n",
    "    noiseless_state = Statevector.from_int(0, 2**(NUM_QUBITS**2))\n",
    "    qc = cluster_state_circuit(NUM_QUBITS)\n",
    "    NUM_QUBITS = NUM_QUBITS**2\n",
    "else:\n",
    "    raise TypeError(f\"Invalid state type '{STATE_TYPE}' specified.\")\n",
    "noiseless_state = noiseless_state.evolve(qc)\n",
    "print(qc)"
   ]
  },
  {
   "cell_type": "markdown",
   "metadata": {},
   "source": [
    "## Analysis\n",
    "Take some symmetries from `HQN.ipynb` and analyze the losses under some error."
   ]
  },
  {
   "cell_type": "code",
   "execution_count": 10,
   "metadata": {},
   "outputs": [
    {
     "data": {
      "image/png": "[encoded data removed]",
      "text/plain": [
       "<Figure size 346.244x204.68 with 1 Axes>"
      ]
     },
     "execution_count": 10,
     "metadata": {},
     "output_type": "execute_result"
    }
   ],
   "source": [
    "bases = prepare_basis(noiseless_state.num_qubits)\n",
    "DEPTH = 0\n",
    "MAXITER = 5E3\n",
    "num_bases = len(bases)\n",
    "hqn = HQNet(noiseless_state, bases, eta=1e-2, maxiter=MAXITER, disp=False,\n",
    "            mode='Nelder-Mead', depth=DEPTH, \n",
    "            noise=2, state_prep_circ=qc, qreg=qreg, \n",
    "            error_prob=PROBABILITY, \n",
    "            metric_func=KL, regularize=False)\n",
    "\n",
    "# Examine the parametrized circuit\n",
    "hqn.view_circuit().draw(output='mpl')"
   ]
  },
  {
   "cell_type": "code",
   "execution_count": 11,
   "metadata": {},
   "outputs": [
    {
     "name": "stdout",
     "output_type": "stream",
     "text": [
      "Optimized to loss metric = 3.6130623817443848\n",
      "Queried loss func 5000 times\n",
      "Optimized to loss metric = 2.4468812942504883\n",
      "Queried loss func 5009 times\n",
      "Optimized to loss metric = 1.9117980003356934\n",
      "Queried loss func 5003 times\n",
      "Average loss: 2.657247225443522\n"
     ]
    }
   ],
   "source": [
    "# Find the symmetries of the noiseless and noisy states.\n",
    "param_shape = (noiseless_state.num_qubits, DEPTH+1, PARAM_PER_QUBIT_PER_DEPTH)\n",
    "NRUN = 3\n",
    "param_dim = np.prod(param_shape)\n",
    "proposed_syms = t.zeros((NRUN, param_dim)) # first dim is for the 3 types of noise\n",
    "\n",
    "total_loss = 0\n",
    "for j in range(NRUN):\n",
    "    potential_sym, loss, regularizer_loss = hqn.find_potential_symmetry(print_log=True)\n",
    "    proposed_syms[j] = potential_sym if t.is_tensor(potential_sym) else t.from_numpy(potential_sym)\n",
    "    potential_sym = potential_sym.reshape(param_shape)\n",
    "    total_loss += loss\n",
    "print(f\"Average loss: {total_loss / NRUN}\")"
   ]
  },
  {
   "cell_type": "markdown",
   "metadata": {},
   "source": [
    "#### Cross validation between noise models\n",
    "Are symmetries of noisy (noiseless) states still symmetries of noiseless (noisy) states?"
   ]
  },
  {
   "cell_type": "code",
   "execution_count": 12,
   "metadata": {},
   "outputs": [
    {
     "name": "stdout",
     "output_type": "stream",
     "text": [
      "0.21752537678669703 with deviation 0.19626858759175916\n",
      "[0.4786565  0.16844564 0.00547399]\n"
     ]
    }
   ],
   "source": [
    "losses = np.zeros(NRUN)\n",
    "for j, sym in enumerate(proposed_syms):\n",
    "    losses[j] = np.mean([PQC(noiseless_state, depth=DEPTH, basis_param=basis_here, metric_func=KL, say_hi=False)\\\n",
    "            .evaluate_true_metric(sym)for basis_here in bases])\n",
    "print(f\"{np.mean(losses)} with deviation {np.std(losses)}\")\n",
    "print(losses)"
   ]
  },
  {
   "cell_type": "markdown",
   "metadata": {},
   "source": [
    "## Summary\n",
    "If the noise is sufficiently high (e.g. high noise general bit flip) then the symmetry learning is obviously perturbed. However, for a sufficiently small noise example like the depolarizing noise, the scheme continues to learn the symmetry, at least for small qubit sizes. More tests on larger (`>5`) qubits needed.\n",
    "\n",
    "We can distinguish between Markovian (unitary-representable) errors and non-Markovian (e.g. measurement, depolarizing) errors. The symmetries of Markovian perturbed states are easily predictable, for they essentially contain the daggers of the unitary representations of the errors. Therefore, we should expect that the scheme work well to find the noisy symmetry, but that it should have a cross validation error roughly proportional to the noise probabilities. On the other hand, non-Markovian perturbed states don't have an easily predictable symmetry, so naively we should expect very poor learning and cross validation. Amazingly, the scheme is learning poorly, but the cross validation error is just as low as if the noise were never there, implying that somehow, the scheme is filtering out the noise while learning non-Markovian symmetries! How it is doing this I have no idea, but this is a key point of discussion."
   ]
  },
  {
   "cell_type": "code",
   "execution_count": 13,
   "metadata": {},
   "outputs": [
    {
     "name": "stdout",
     "output_type": "stream",
     "text": [
      "[[[ 0.11867724+0.j         -0.79602271-0.5935179j ]\n",
      "  [ 0.45301399+0.88356888j -0.01971756+0.1170278j ]]\n",
      "\n",
      " [[ 0.11955523+0.j          0.92684662-0.35589588j]\n",
      "  [-0.80983227+0.5743503j   0.06624573-0.09952365j]]\n",
      "\n",
      " [[ 0.59733379+0.j          0.07906255-0.79808617j]\n",
      "  [ 0.53156549+0.6005252j  -0.48413008+0.34989387j]]]\n",
      "[[[ 0.90415305+0.00000000e+00j  0.19194393-3.81660521e-01j]\n",
      "  [ 0.10947786-4.12942857e-01j  0.67667794+5.99666357e-01j]]\n",
      "\n",
      " [[-0.99703616+0.00000000e+00j -0.07693443-2.16587032e-05j]\n",
      "  [-0.03665893+6.76389784e-02j  0.4753302 -8.76437306e-01j]]\n",
      "\n",
      " [[-0.99900097+0.00000000e+00j  0.04460031+2.80527328e-03j]\n",
      "  [-0.02205588+3.88663746e-02j -0.54662341+8.36185277e-01j]]]\n",
      "[[[-0.06191837+0.j         -0.78154963+0.62076265j]\n",
      "  [ 0.43360126+0.89897501j -0.05575024-0.02694057j]]\n",
      "\n",
      " [[ 0.01143629+0.j          0.61078537-0.7917136j ]\n",
      "  [-0.28254133+0.95918697j -0.00671203-0.00925945j]]\n",
      "\n",
      " [[ 0.01995141+0.j          0.61248702-0.79022884j]\n",
      "  [-0.55762744-0.82985163j  0.01990571+0.00134965j]]]\n"
     ]
    }
   ],
   "source": [
    "from __helpers import param_to_unitary as p2u\n",
    "for sym in proposed_syms:\n",
    "    print(p2u(np.squeeze(sym.reshape(param_shape))))"
   ]
  },
  {
   "cell_type": "code",
   "execution_count": null,
   "metadata": {},
   "outputs": [],
   "source": []
  }
 ],
 "metadata": {
  "interpreter": {
   "hash": "d6de9be78b6020e3c4b915c697ec9df5423262584917bd5f64c63e56f57b2ea4"
  },
  "kernelspec": {
   "display_name": "Python 3.7.7 ('base')",
   "language": "python",
   "name": "python3"
  },
  "language_info": {
   "codemirror_mode": {
    "name": "ipython",
    "version": 3
   },
   "file_extension": ".py",
   "mimetype": "text/x-python",
   "name": "python",
   "nbconvert_exporter": "python",
   "pygments_lexer": "ipython3",
   "version": "3.7.7"
  },
  "orig_nbformat": 4
 },
 "nbformat": 4,
 "nbformat_minor": 2
}
