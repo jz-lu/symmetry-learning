{
 "cells": [
  {
   "cell_type": "code",
   "execution_count": 10,
   "metadata": {},
   "outputs": [],
   "source": [
    "import matplotlib.pyplot as plt\n",
    "import numpy as np\n",
    "import torch as t\n",
    "from sklearn.preprocessing import StandardScaler\n",
    "from sklearn.decomposition import PCA\n",
    "from PCA import classify_sym, type_to_color\n",
    "%matplotlib inline"
   ]
  },
  {
   "cell_type": "code",
   "execution_count": 11,
   "metadata": {},
   "outputs": [
    {
     "name": "stdout",
     "output_type": "stream",
     "text": [
      "100 symmetries on a 3-qubit state\n"
     ]
    }
   ],
   "source": [
    "unitaries_prods = np.load(\"/Users/jonathanlu/Documents/symmetry-learning/unitaries.npy\")\n",
    "NRUN, NUM_QUBITS = unitaries_prods.shape[:2]\n",
    "sym_labels = np.array([type_to_color(classify_sym(np.abs(unitary_prod))) \\\n",
    "                            for unitary_prod in unitaries_prods])\n",
    "print(f\"{NRUN} symmetries on a {NUM_QUBITS}-qubit state\")"
   ]
  },
  {
   "cell_type": "code",
   "execution_count": 12,
   "metadata": {},
   "outputs": [
    {
     "name": "stdout",
     "output_type": "stream",
     "text": [
      "PCA explained variance ratio = [9.99999999e-01 2.28823119e-10]\n"
     ]
    }
   ],
   "source": [
    "# Project from the Lie group to 2D space\n",
    "unitary_vecs = StandardScaler().fit_transform(np.abs(unitaries_prods.reshape((NRUN, -1))))\n",
    "pca = PCA(n_components=2)\n",
    "fit = pca.fit_transform(unitary_vecs)\n",
    "explained_variance = pca.explained_variance_ratio_\n",
    "print(f\"PCA explained variance ratio = {explained_variance}\")"
   ]
  },
  {
   "cell_type": "code",
   "execution_count": 16,
   "metadata": {},
   "outputs": [
    {
     "data": {
      "text/plain": [
       "array([-3.46409019, -3.46408714, -3.46413472,  3.46411959, -3.46413364,\n",
       "        3.46412417,  3.46407999,  3.46409241, -3.46407891,  3.46413933,\n",
       "       -3.4640707 ,  3.4641603 ,  3.46401655,  3.46412748, -3.46408796,\n",
       "        3.46413397, -3.46410679, -3.46410264,  3.46406655, -3.46408647,\n",
       "        3.4641606 , -3.46409836,  3.46418916,  3.46415707, -3.4640537 ,\n",
       "       -3.46410801,  3.46410913, -3.46409956,  3.46403719,  3.46411865,\n",
       "        3.4640505 ,  3.46412376,  3.46407157, -3.46414277,  3.46405097,\n",
       "        3.46407919,  3.46413013,  3.46405847,  3.46408284, -3.46413242,\n",
       "        3.46410265,  3.46405737,  3.46409415,  3.46411386,  3.46411237,\n",
       "       -3.46410725, -3.46407071,  3.46412582, -3.46415877,  3.46408645,\n",
       "       -3.46411647, -3.46409588, -3.46408486,  3.46411333,  3.46416621,\n",
       "        3.46412467, -3.46412334,  3.46407451, -3.4640686 , -3.46410537,\n",
       "        3.46403379, -3.46409445,  3.46412565, -3.46407114, -3.4641165 ,\n",
       "        3.46409077, -3.46414127, -3.46413837, -3.46410138,  3.46399231,\n",
       "       -3.46410246,  3.46407611,  3.46412251, -3.46412255, -3.46409778,\n",
       "        3.46409155,  3.46410485, -3.46409309, -3.46406901, -3.46412523,\n",
       "       -3.46409493, -3.46414342,  3.46414646, -3.46408065, -3.4640765 ,\n",
       "        3.46408772, -3.46407515, -3.46406917,  3.46417364, -3.46411689,\n",
       "       -3.46412485,  3.46414551, -3.46409336,  3.46407573, -3.46408751,\n",
       "        3.46409742, -3.46408547, -3.4640943 , -3.46411994,  3.46406568])"
      ]
     },
     "execution_count": 16,
     "metadata": {},
     "output_type": "execute_result"
    }
   ],
   "source": [
    "fit[:,0]"
   ]
  },
  {
   "cell_type": "code",
   "execution_count": 30,
   "metadata": {},
   "outputs": [
    {
     "data": {
      "image/png": "[encoded data removed]",
      "text/plain": [
       "<Figure size 432x288 with 1 Axes>"
      ]
     },
     "metadata": {
      "needs_background": "light"
     },
     "output_type": "display_data"
    }
   ],
   "source": [
    "plt.clf()\n",
    "plt.title(\"Classified symmetries of 3-GHZ\")\n",
    "plt.xlabel(r'PC$_1$')\n",
    "plt.ylabel(r'PC$_2$')\n",
    "plt.ticklabel_format(axis='y', style='sci', scilimits=(-4, -4))\n",
    "clab = [('darkblue', 'Diagonal'), ('darkred', 'Off-diagonal')]\n",
    "for color, label in clab:\n",
    "    idxs = np.where(sym_labels == color)\n",
    "    plt.scatter(fit[idxs,0], fit[idxs,1], c=color, label=label)\n",
    "plt.legend()\n",
    "plt.savefig(\"/Users/jonathanlu/Documents/symmetry-learning/Figures/pca.png\")\n",
    "plt.show()"
   ]
  },
  {
   "cell_type": "code",
   "execution_count": null,
   "metadata": {},
   "outputs": [],
   "source": []
  }
 ],
 "metadata": {
  "interpreter": {
   "hash": "d6de9be78b6020e3c4b915c697ec9df5423262584917bd5f64c63e56f57b2ea4"
  },
  "kernelspec": {
   "display_name": "Python 3.7.7 ('base')",
   "language": "python",
   "name": "python3"
  },
  "language_info": {
   "codemirror_mode": {
    "name": "ipython",
    "version": 3
   },
   "file_extension": ".py",
   "mimetype": "text/x-python",
   "name": "python",
   "nbconvert_exporter": "python",
   "pygments_lexer": "ipython3",
   "version": "3.7.7"
  },
  "orig_nbformat": 4
 },
 "nbformat": 4,
 "nbformat_minor": 2
}
