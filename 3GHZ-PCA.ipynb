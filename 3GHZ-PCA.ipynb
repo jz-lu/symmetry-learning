{
 "cells": [
  {
   "cell_type": "code",
   "execution_count": 1,
   "metadata": {},
   "outputs": [
    {
     "name": "stdout",
     "output_type": "stream",
     "text": [
      "Running on the CPU\n"
     ]
    }
   ],
   "source": [
    "import matplotlib.pyplot as plt\n",
    "import numpy as np\n",
    "import torch as t\n",
    "from sklearn.preprocessing import StandardScaler\n",
    "from sklearn.decomposition import PCA\n",
    "from PCA import classify_sym, type_to_color\n",
    "%matplotlib inline"
   ]
  },
  {
   "cell_type": "code",
   "execution_count": 2,
   "metadata": {},
   "outputs": [
    {
     "name": "stdout",
     "output_type": "stream",
     "text": [
      "100 symmetries on a 3-qubit state\n"
     ]
    }
   ],
   "source": [
    "unitaries_prods = np.load(\"/Users/jonathanlu/Documents/symmetry-learning/data/3GHZ-PCA-unitaries.npy\")\n",
    "NRUN, NUM_QUBITS = unitaries_prods.shape[:2]\n",
    "sym_labels = np.array([type_to_color(classify_sym(np.abs(unitary_prod))) \\\n",
    "                            for unitary_prod in unitaries_prods])\n",
    "print(f\"{NRUN} symmetries on a {NUM_QUBITS}-qubit state\")"
   ]
  },
  {
   "cell_type": "code",
   "execution_count": 11,
   "metadata": {},
   "outputs": [
    {
     "name": "stdout",
     "output_type": "stream",
     "text": [
      "PCA explained variance ratio = [9.99999999e-01 2.28823119e-10]\n",
      "Fit shape: (100, 2)\n"
     ]
    }
   ],
   "source": [
    "# Project from the Lie group to 2D space\n",
    "unitary_vecs = StandardScaler().fit_transform(np.abs(unitaries_prods.reshape((NRUN, -1))))\n",
    "pca = PCA(n_components=2)\n",
    "fit = np.squeeze(pca.fit_transform(unitary_vecs))\n",
    "explained_variance = pca.explained_variance_ratio_\n",
    "print(f\"PCA explained variance ratio = {explained_variance}\")\n",
    "print(f\"Fit shape: {fit.shape}\")"
   ]
  },
  {
   "cell_type": "code",
   "execution_count": 23,
   "metadata": {},
   "outputs": [
    {
     "data": {
      "image/png": "[encoded data removed]",
      "text/plain": [
       "<Figure size 432x72 with 1 Axes>"
      ]
     },
     "metadata": {
      "needs_background": "light"
     },
     "output_type": "display_data"
    }
   ],
   "source": [
    "plt.title(rf\"Classified $d=0$ symmetries of {NUM_QUBITS}-GHZ\")\n",
    "fig = plt.gcf()\n",
    "fig.set_size_inches(6, 1)\n",
    "plt.xlabel(r'PC$_1$')\n",
    "plt.ylabel(r'PC$_2$')\n",
    "plt.ticklabel_format(axis='y', style='sci', scilimits=(-4, -4))\n",
    "clab = [('darkblue', r'$M_1$'), ('darkred', r'$M_2$')]\n",
    "for color, label in clab:\n",
    "    idxs = np.where(sym_labels == color)\n",
    "    plt.scatter(fit[idxs,0], fit[idxs,1], c=color, label=label)\n",
    "plt.legend()\n",
    "plt.savefig(\"/Users/jonathanlu/Documents/symmetry-learning/Figures/pca.png\")\n",
    "plt.show()"
   ]
  },
  {
   "cell_type": "code",
   "execution_count": null,
   "metadata": {},
   "outputs": [],
   "source": []
  }
 ],
 "metadata": {
  "interpreter": {
   "hash": "d6de9be78b6020e3c4b915c697ec9df5423262584917bd5f64c63e56f57b2ea4"
  },
  "kernelspec": {
   "display_name": "Python 3.7.7 ('base')",
   "language": "python",
   "name": "python3"
  },
  "language_info": {
   "codemirror_mode": {
    "name": "ipython",
    "version": 3
   },
   "file_extension": ".py",
   "mimetype": "text/x-python",
   "name": "python",
   "nbconvert_exporter": "python",
   "pygments_lexer": "ipython3",
   "version": "3.7.7"
  },
  "orig_nbformat": 4
 },
 "nbformat": 4,
 "nbformat_minor": 2
}
