{
 "cells": [
  {
   "cell_type": "markdown",
   "metadata": {},
   "source": [
    "# Regularization analysis"
   ]
  },
  {
   "cell_type": "code",
   "execution_count": 15,
   "metadata": {},
   "outputs": [],
   "source": [
    "import matplotlib.pyplot as plt\n",
    "import numpy as np\n",
    "import torch as t\n",
    "%matplotlib inline"
   ]
  },
  {
   "cell_type": "code",
   "execution_count": 16,
   "metadata": {},
   "outputs": [],
   "source": [
    "ROOT = \"/Users/jonathanlu/Documents/data_sym/SG\"\n",
    "losses = np.load(f\"{ROOT}/losses.npy\")\n",
    "sym_labels = np.load(f\"{ROOT}/labels.npy\")\n",
    "NUM_N0, NEPOCH = sym_labels.shape[:-1]\n",
    "scores = np.zeros(NUM_N0)\n",
    "N0s = np.linspace(0, 5e3, NUM_N0+1)[1:]"
   ]
  },
  {
   "cell_type": "code",
   "execution_count": 19,
   "metadata": {},
   "outputs": [
    {
     "data": {
      "text/plain": [
       "array([[[5., 3.],\n",
       "        [5., 5.],\n",
       "        [5., 3.],\n",
       "        ...,\n",
       "        [5., 3.],\n",
       "        [5., 1.],\n",
       "        [3., 2.]],\n",
       "\n",
       "       [[2., 3.],\n",
       "        [2., 3.],\n",
       "        [2., 1.],\n",
       "        ...,\n",
       "        [3., 2.],\n",
       "        [5., 1.],\n",
       "        [5., 1.]],\n",
       "\n",
       "       [[2., 2.],\n",
       "        [2., 1.],\n",
       "        [1., 2.],\n",
       "        ...,\n",
       "        [1., 1.],\n",
       "        [1., 2.],\n",
       "        [2., 2.]],\n",
       "\n",
       "       ...,\n",
       "\n",
       "       [[2., 2.],\n",
       "        [1., 2.],\n",
       "        [2., 1.],\n",
       "        ...,\n",
       "        [2., 2.],\n",
       "        [2., 1.],\n",
       "        [1., 1.]],\n",
       "\n",
       "       [[1., 1.],\n",
       "        [3., 1.],\n",
       "        [1., 1.],\n",
       "        ...,\n",
       "        [2., 2.],\n",
       "        [2., 2.],\n",
       "        [1., 2.]],\n",
       "\n",
       "       [[2., 1.],\n",
       "        [2., 2.],\n",
       "        [2., 2.],\n",
       "        ...,\n",
       "        [1., 2.],\n",
       "        [2., 2.],\n",
       "        [1., 2.]]])"
      ]
     },
     "execution_count": 19,
     "metadata": {},
     "output_type": "execute_result"
    }
   ],
   "source": [
    "# Compute the score function\n",
    "for pj, label in enumerate(sym_labels):\n",
    "    score = 0\n",
    "    for m1, m2 in label:\n",
    "        if (m1 in [1,3] and m2 in [2,4]) or (m2 in [1,3] and m1 in [2,4]):\n",
    "            score += 1\n",
    "    scores[pj] = score / NEPOCH\n",
    "sym_labels"
   ]
  },
  {
   "cell_type": "code",
   "execution_count": 20,
   "metadata": {},
   "outputs": [
    {
     "data": {
      "text/plain": [
       "<matplotlib.collections.PathCollection at 0x7fd5e5fdce90>"
      ]
     },
     "execution_count": 20,
     "metadata": {},
     "output_type": "execute_result"
    },
    {
     "data": {
      "image/png": "[encoded data removed]",
      "text/plain": [
       "<Figure size 432x288 with 1 Axes>"
      ]
     },
     "metadata": {
      "needs_background": "light"
     },
     "output_type": "display_data"
    }
   ],
   "source": [
    "plt.title(\"Global regularization score on 3-GHZ\")\n",
    "plt.xlabel(r\"$N_0$\")\n",
    "plt.ylabel(r\"$S_G(N_0)$\")\n",
    "plt.scatter(N0s, scores, c='k')"
   ]
  },
  {
   "cell_type": "code",
   "execution_count": null,
   "metadata": {},
   "outputs": [],
   "source": []
  }
 ],
 "metadata": {
  "interpreter": {
   "hash": "d6de9be78b6020e3c4b915c697ec9df5423262584917bd5f64c63e56f57b2ea4"
  },
  "kernelspec": {
   "display_name": "Python 3.7.7 ('base')",
   "language": "python",
   "name": "python3"
  },
  "language_info": {
   "codemirror_mode": {
    "name": "ipython",
    "version": 3
   },
   "file_extension": ".py",
   "mimetype": "text/x-python",
   "name": "python",
   "nbconvert_exporter": "python",
   "pygments_lexer": "ipython3",
   "version": "3.7.7"
  },
  "orig_nbformat": 4
 },
 "nbformat": 4,
 "nbformat_minor": 2
}
