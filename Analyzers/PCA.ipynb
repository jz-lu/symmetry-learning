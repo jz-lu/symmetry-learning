{
 "cells": [
  {
   "cell_type": "code",
   "execution_count": 5,
   "metadata": {},
   "outputs": [],
   "source": [
    "import matplotlib.pyplot as plt\n",
    "import numpy as np\n",
    "import torch as t\n",
    "from sklearn.preprocessing import StandardScaler\n",
    "from sklearn.decomposition import PCA\n",
    "from PCA import classify_sym, type_to_color\n",
    "import matplotlib as mpl\n",
    "mpl.rcParams['mathtext.fontset'] = 'stix'\n",
    "mpl.rcParams['font.family'] = 'STIXGeneral'\n",
    "%matplotlib inline"
   ]
  },
  {
   "cell_type": "code",
   "execution_count": 6,
   "metadata": {},
   "outputs": [
    {
     "name": "stdout",
     "output_type": "stream",
     "text": [
      "100 symmetries on a 3-qubit state\n"
     ]
    }
   ],
   "source": [
    "unitaries_prods = np.load(\"/Users/jonathanlu/Documents/symmetry-learning/data/PCA/3GHZ-PCA-unitaries.npy\")\n",
    "NRUN, NUM_QUBITS = unitaries_prods.shape[:2]\n",
    "sym_labels = np.array([type_to_color(classify_sym(np.abs(unitary_prod))) \\\n",
    "                            for unitary_prod in unitaries_prods])\n",
    "print(f\"{NRUN} symmetries on a {NUM_QUBITS}-qubit state\")"
   ]
  },
  {
   "cell_type": "code",
   "execution_count": 7,
   "metadata": {},
   "outputs": [
    {
     "name": "stdout",
     "output_type": "stream",
     "text": [
      "PCA explained variance ratio = [9.99999999e-01 2.28823119e-10]\n"
     ]
    }
   ],
   "source": [
    "# Project from the Lie group to 2D space\n",
    "unitary_vecs = StandardScaler().fit_transform(np.abs(unitaries_prods.reshape((NRUN, -1))))\n",
    "pca = PCA(n_components=2)\n",
    "fit = pca.fit_transform(unitary_vecs)\n",
    "explained_variance = pca.explained_variance_ratio_\n",
    "print(f\"PCA explained variance ratio = {explained_variance}\")"
   ]
  },
  {
   "cell_type": "code",
   "execution_count": 21,
   "metadata": {},
   "outputs": [
    {
     "data": {
      "image/png": "[encoded data removed]",
      "text/plain": [
       "<Figure size 432x288 with 1 Axes>"
      ]
     },
     "metadata": {
      "needs_background": "light"
     },
     "output_type": "display_data"
    }
   ],
   "source": [
    "FONT_SIZE = 17\n",
    "plt.rc('font', size=16)\n",
    "plt.xlabel(r'PC$_1$', fontsize=FONT_SIZE)\n",
    "plt.ylabel(r'PC$_2$ ($10^{-4}$)', fontsize=FONT_SIZE)\n",
    "clab = [('darkblue', 'Diagonal'), ('darkred', 'Off-diagonal')]\n",
    "for color, label in clab:\n",
    "    idxs = np.where(sym_labels == color)\n",
    "    plt.scatter(fit[idxs,0], fit[idxs,1] * 10**4, c=color, label=label)\n",
    "plt.legend()\n",
    "plt.xticks([-4, -2, 0, 2, 4], fontsize=FONT_SIZE)\n",
    "plt.yticks(np.array([-1.5, -0.75, 0, 0.75, 1.5]), fontsize=FONT_SIZE)\n",
    "plt.tight_layout()\n",
    "plt.savefig(\"/Users/jonathanlu/Documents/data_sym/PCA.pdf\")"
   ]
  },
  {
   "cell_type": "code",
   "execution_count": null,
   "metadata": {},
   "outputs": [],
   "source": []
  }
 ],
 "metadata": {
  "interpreter": {
   "hash": "d6de9be78b6020e3c4b915c697ec9df5423262584917bd5f64c63e56f57b2ea4"
  },
  "kernelspec": {
   "display_name": "Python 3.7.7 ('base')",
   "language": "python",
   "name": "python3"
  },
  "language_info": {
   "codemirror_mode": {
    "name": "ipython",
    "version": 3
   },
   "file_extension": ".py",
   "mimetype": "text/x-python",
   "name": "python",
   "nbconvert_exporter": "python",
   "pygments_lexer": "ipython3",
   "version": "3.7.7"
  },
  "orig_nbformat": 4
 },
 "nbformat": 4,
 "nbformat_minor": 2
}
