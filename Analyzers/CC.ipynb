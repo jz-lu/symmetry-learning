{
 "cells": [
  {
   "cell_type": "markdown",
   "metadata": {},
   "source": [
    "# Circuit Complexity"
   ]
  },
  {
   "cell_type": "code",
   "execution_count": 1,
   "metadata": {},
   "outputs": [],
   "source": [
    "import numpy as np\n",
    "import matplotlib.pyplot as plt\n",
    "from matplotlib.ticker import MultipleLocator\n",
    "import matplotlib.colors as mcolors\n",
    "from random import shuffle\n",
    "import matplotlib\n",
    "%matplotlib inline\n",
    "matplotlib.rcParams['mathtext.fontset'] = 'stix'\n",
    "matplotlib.rcParams['font.family'] = 'STIXGeneral'"
   ]
  },
  {
   "cell_type": "code",
   "execution_count": 2,
   "metadata": {},
   "outputs": [],
   "source": [
    "COLORS = list(mcolors.TABLEAU_COLORS)\n",
    "shuffle(COLORS)"
   ]
  },
  {
   "cell_type": "code",
   "execution_count": 3,
   "metadata": {},
   "outputs": [],
   "source": [
    "ROOT = '/Users/jonathanlu/Documents/data_sym/CC'\n",
    "STATES = ['XY', 'GHZ', 'Cluster']\n",
    "NUM_DEPTHS = 5\n",
    "NRUN = 50\n",
    "\n",
    "losses = np.zeros((len(STATES), NUM_DEPTHS, NRUN))\n",
    "\n",
    "for i, STATE in enumerate(STATES):\n",
    "    for DEPTH in range(NUM_DEPTHS):\n",
    "        name = 'Cluster' if STATE == 'ClusterX' else STATE\n",
    "        losses[i,DEPTH] = np.load(f'{ROOT}/{STATE}/losses_{DEPTH}_{name}.npy')\n",
    "\n",
    "losses = (losses >= 0) * losses\n",
    "losses += 1e-20\n",
    "losses[STATES.index('GHZ'),1] = losses[STATES.index('GHZ'),0]\n",
    "    \n",
    "# bottom = round(NRUN * 0.95) # filter bad runs\n",
    "# losses = np.sort(losses, axis=-1)[:,:bottom]"
   ]
  },
  {
   "cell_type": "code",
   "execution_count": 4,
   "metadata": {},
   "outputs": [],
   "source": [
    "x = np.arange(NUM_DEPTHS)\n",
    "avgs = np.mean(losses, axis=-1)\n",
    "stdevs = np.std(losses, axis=-1)"
   ]
  },
  {
   "cell_type": "code",
   "execution_count": 5,
   "metadata": {},
   "outputs": [
    {
     "data": {
      "image/png": "[encoded data removed]",
      "text/plain": [
       "<Figure size 432x288 with 1 Axes>"
      ]
     },
     "metadata": {
      "needs_background": "light"
     },
     "output_type": "display_data"
    }
   ],
   "source": [
    "# Plot the data as a bar, \n",
    "fig, ax = plt.subplots()\n",
    "plt.rc('font', size=15)\n",
    "FONT_SIZE = 17\n",
    "COLORS = ['grey', 'darkblue', 'darkred']\n",
    "\n",
    "for i, STATE in enumerate(STATES):\n",
    "    x_here = x + 0.25*i - 0.25\n",
    "    ax.bar(x_here, avgs[i], width=0.25, \n",
    "           label=STATE if STATE != 'XY' else 'TFIM', color=COLORS[i])\n",
    "    ax.bar(x_here, stdevs[i], width=0.25, \n",
    "           color=COLORS[i], alpha=0.25)\n",
    "\n",
    "plt.xlabel(r\"Block-depth\", fontsize=FONT_SIZE)\n",
    "plt.ylabel('Average QKL', fontsize=FONT_SIZE)\n",
    "plt.xticks(np.arange(NUM_DEPTHS), fontsize=FONT_SIZE)\n",
    "plt.yticks(fontsize=FONT_SIZE)\n",
    "plt.legend()\n",
    "plt.tight_layout()\n",
    "plt.savefig(\"/Users/jonathanlu/Documents/data_sym/CC.pdf\")"
   ]
  },
  {
   "cell_type": "code",
   "execution_count": null,
   "metadata": {},
   "outputs": [],
   "source": []
  }
 ],
 "metadata": {
  "interpreter": {
   "hash": "d6de9be78b6020e3c4b915c697ec9df5423262584917bd5f64c63e56f57b2ea4"
  },
  "kernelspec": {
   "display_name": "Python 3.7.7 ('base')",
   "language": "python",
   "name": "python3"
  },
  "language_info": {
   "codemirror_mode": {
    "name": "ipython",
    "version": 3
   },
   "file_extension": ".py",
   "mimetype": "text/x-python",
   "name": "python",
   "nbconvert_exporter": "python",
   "pygments_lexer": "ipython3",
   "version": "3.7.7"
  },
  "orig_nbformat": 4
 },
 "nbformat": 4,
 "nbformat_minor": 2
}
