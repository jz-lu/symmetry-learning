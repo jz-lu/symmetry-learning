{
 "cells": [
  {
   "cell_type": "code",
   "execution_count": null,
   "metadata": {},
   "outputs": [],
   "source": [
    "print(\"hello world\")"
   ]
  },
  {
   "cell_type": "code",
   "execution_count": 2,
   "metadata": {},
   "outputs": [
    {
     "name": "stdout",
     "output_type": "stream",
     "text": [
      "[2 0 0 1 2 0 0 2 0 1 0 1 1 0 1 2 2 2 0 1 1 0 0 2 1 1 0 1 1 0 1 2 1 0 1 2 0\n",
      " 1 0 0 2 2 1 1 0 2 1 0 0 2]\n"
     ]
    }
   ],
   "source": [
    "import numpy as np \n",
    "data = np.random.choice(  \n",
    "    a=[0, 1, 2],  \n",
    "   size=50,  \n",
    "    p=[0.5, 0.3, 0.2]  \n",
    " )                                                                                                                                                                                                                                                        \n",
    "print(data)                                                                                                                                                                                                                                             "
   ]
  },
  {
   "cell_type": "code",
   "execution_count": 14,
   "metadata": {},
   "outputs": [
    {
     "name": "stdout",
     "output_type": "stream",
     "text": [
      "[0.00027396 0.00034054 0.00026133 ... 0.00617644 0.00822258 0.01692838]\n",
      "[[1. 1. 1. ... 1. 1. 1.]\n",
      " [0. 1. 1. ... 1. 1. 1.]\n",
      " [1. 0. 1. ... 1. 1. 1.]\n",
      " ...\n",
      " [0. 1. 0. ... 0. 0. 0.]\n",
      " [1. 0. 0. ... 0. 0. 0.]\n",
      " [0. 0. 0. ... 0. 0. 0.]]\n",
      "[851 866 967]\n"
     ]
    }
   ],
   "source": [
    "import numpy as np\n",
    "import scipy \n",
    "import torch\n",
    "input = np.loadtxt(\"data.txt\", dtype=float, delimiter=',')\n",
    "prob_ls = (input[:, 10])\n",
    "choices = (np.round_(input[:, 0:10]))\n",
    "print(prob_ls)\n",
    "print(choices)\n",
    "\n",
    "\n",
    "data = np.random.choice(  \n",
    "    a = np.arange(prob_ls.size),  \n",
    "    size = 3,  \n",
    "    p = prob_ls\n",
    " )                                                                                                                                                                                                                                                        \n",
    "print(data)   \n"
   ]
  },
  {
   "cell_type": "code",
   "execution_count": 15,
   "metadata": {},
   "outputs": [
    {
     "data": {
      "text/plain": [
       "array([[0., 0., 0., 0., 0., 0., 1., 1., 1., 0.],\n",
       "       [0., 0., 0., 0., 1., 1., 0., 1., 0., 0.],\n",
       "       [1., 1., 1., 0., 0., 0., 0., 0., 0., 0.]])"
      ]
     },
     "execution_count": 15,
     "metadata": {},
     "output_type": "execute_result"
    }
   ],
   "source": [
    "choices[data]"
   ]
  },
  {
   "cell_type": "code",
   "execution_count": null,
   "metadata": {},
   "outputs": [],
   "source": [
    "def binlist_to_int(a):\n",
    "   return int(''.join(list(map(str, a))), 2)\n",
    "\n",
    "\n",
    "\n",
    "\n",
    "#d1 is of the form [[[0., 0., 0., 0., 0., 0., 1., 1., 1., 0.],\n",
    " #      [0., 0., 0., 0., 1., 1., 0., 1., 0., 0.],\n",
    " #      [1., 1., 1., 0., 0., 0., 0., 0., 0., 0.]], [0.2, 0.2, 0.6]]\n",
    "def KS(d1, d2, n):\n",
    "    choices1 = d1[0]\n",
    "    prob1 = d1[1]\n",
    "    choices2 = d2[0]\n",
    "    prob2 = d2[1]\n",
    "    \n",
    "    data1 = np.random.choice(  \n",
    "    a = np.arange(prob1.size),  \n",
    "    size = n,  \n",
    "    p = prob1\n",
    " )\n",
    "    data2 = np.random.choice(  \n",
    "    a = np.arange(prob2.size),  \n",
    "    size = n,  \n",
    "    p = prob2\n",
    " )\n",
    "    data1 = choices[data1]\n",
    "    data2 = choices[data2]\n",
    "    \n",
    "    int_data1 = np.array([binlist_to_int(d) for d in data1])\n",
    "    int_data2 = np.array([binlist_to_int(d) for d in data2])\n",
    "    \n",
    "    return stats.kstest(int_data1, int_data2)"
   ]
  }
 ],
 "metadata": {
  "kernelspec": {
   "display_name": "Python 3",
   "language": "python",
   "name": "python3"
  },
  "language_info": {
   "codemirror_mode": {
    "name": "ipython",
    "version": 3
   },
   "file_extension": ".py",
   "mimetype": "text/x-python",
   "name": "python",
   "nbconvert_exporter": "python",
   "pygments_lexer": "ipython3",
   "version": "3.8.5"
  }
 },
 "nbformat": 4,
 "nbformat_minor": 4
}
