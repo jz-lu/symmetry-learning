{
 "cells": [
  {
   "cell_type": "code",
   "execution_count": 1,
   "metadata": {},
   "outputs": [
    {
     "name": "stdout",
     "output_type": "stream",
     "text": [
      "Running on the CPU\n"
     ]
    }
   ],
   "source": [
    "import matplotlib.pyplot as plt\n",
    "import numpy as np\n",
    "import torch as t\n",
    "from sklearn.preprocessing import StandardScaler\n",
    "from sklearn.decomposition import PCA\n",
    "from PCA import classify_sym, type_to_color\n",
    "%matplotlib inline"
   ]
  },
  {
   "cell_type": "code",
   "execution_count": 8,
   "metadata": {},
   "outputs": [
    {
     "name": "stdout",
     "output_type": "stream",
     "text": [
      "100 symmetries on a 4-qubit state\n"
     ]
    }
   ],
   "source": [
    "unitaries_prods = np.load(\"/Users/jonathanlu/Documents/symmetry-learning/data/4XY-PCA-unitaries.npy\")\n",
    "losses = np.load(\"/Users/jonathanlu/Documents/symmetry-learning/data/4XY-PCA-losses.npy\")\n",
    "# unitaries_prods = unitaries_prods[losses < 1e-3]\n",
    "sym_labels = np.array([type_to_color(classify_sym(np.abs(unitary_prod))) \\\n",
    "                            for unitary_prod in unitaries_prods])\n",
    "NRUN, NUM_QUBITS = unitaries_prods.shape[:2]\n",
    "print(f\"{NRUN} symmetries on a {NUM_QUBITS}-qubit state\")"
   ]
  },
  {
   "cell_type": "code",
   "execution_count": 9,
   "metadata": {},
   "outputs": [
    {
     "name": "stdout",
     "output_type": "stream",
     "text": [
      "PCA explained variance ratio = [0.29034418 0.26015628]\n"
     ]
    }
   ],
   "source": [
    "# Project from the Lie group to 2D space\n",
    "unitary_vecs = StandardScaler().fit_transform(np.abs(unitaries_prods.reshape((NRUN, -1))))\n",
    "pca = PCA(n_components=2)\n",
    "fit = pca.fit_transform(unitary_vecs)\n",
    "explained_variance = pca.explained_variance_ratio_\n",
    "print(f\"PCA explained variance ratio = {explained_variance}\")"
   ]
  },
  {
   "cell_type": "code",
   "execution_count": 11,
   "metadata": {},
   "outputs": [
    {
     "data": {
      "image/png": "[encoded data removed]",
      "text/plain": [
       "<Figure size 432x288 with 1 Axes>"
      ]
     },
     "metadata": {
      "needs_background": "light"
     },
     "output_type": "display_data"
    }
   ],
   "source": [
    "fig = plt.figure()\n",
    "# ax = fig.add_subplot(projection='3d')\n",
    "ax = fig.add_subplot()\n",
    "ax.set_title(f\"Classified symmetries of {NUM_QUBITS}-XY\")\n",
    "ax.set_xlabel(r'PC$_1$')\n",
    "ax.set_ylabel(r'PC$_2$')\n",
    "# ax.set_zlabel(r'PC$_3$')\n",
    "clab = [('darkblue', 'D'), ('darkred', 'OD'), \\\n",
    "        ('cornflowerblue', 'Probably D'), ('tomato', 'Probably OD'), \\\n",
    "        ('gray', 'No idea')]\n",
    "for color, label in clab:\n",
    "    idxs = np.where(sym_labels == color)\n",
    "    plt.scatter(fit[idxs,0], fit[idxs,1], c=color, label=label)\n",
    "plt.legend()\n",
    "# plt.savefig(\"/Users/jonathanlu/Documents/symmetry-learning/Figures/pca.png\")\n",
    "plt.show()"
   ]
  },
  {
   "cell_type": "code",
   "execution_count": null,
   "metadata": {},
   "outputs": [],
   "source": []
  }
 ],
 "metadata": {
  "interpreter": {
   "hash": "d6de9be78b6020e3c4b915c697ec9df5423262584917bd5f64c63e56f57b2ea4"
  },
  "kernelspec": {
   "display_name": "Python 3.7.7 ('base')",
   "language": "python",
   "name": "python3"
  },
  "language_info": {
   "codemirror_mode": {
    "name": "ipython",
    "version": 3
   },
   "file_extension": ".py",
   "mimetype": "text/x-python",
   "name": "python",
   "nbconvert_exporter": "python",
   "pygments_lexer": "ipython3",
   "version": "3.7.7"
  },
  "orig_nbformat": 4
 },
 "nbformat": 4,
 "nbformat_minor": 2
}
