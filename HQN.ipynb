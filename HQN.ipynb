{
 "cells": [
  {
   "cell_type": "markdown",
   "metadata": {},
   "source": [
    "# HQNSL for 1-qubit operations\n",
    "This notebook is a test of the HQNSL scheme for the simplest parametrization of a quantum circuit: a collection of `depth` sets of `L` 1-qubit rotations given by `L x 2` parameters per set. We will learn in 2 bases and examine the effectiveness of the algorithm."
   ]
  },
  {
   "cell_type": "code",
   "execution_count": 1,
   "metadata": {},
   "outputs": [],
   "source": [
    "from __helpers import qubit_expansion, prepare_basis, rand_basis\n",
    "from ___constants import PARAM_PER_QUBIT_PER_DEPTH\n",
    "from __loss_funcs import KL, Em_MMD\n",
    "from __class_BasisTransformer import BasisTransformer\n",
    "from __class_PQC import PQC\n",
    "from __class_HQNet import HQNet\n",
    "import matplotlib.pyplot as plt\n",
    "import numpy as np\n",
    "import torch as t\n",
    "from math import pi\n",
    "from qiskit.quantum_info import Statevector\n",
    "%matplotlib inline"
   ]
  },
  {
   "cell_type": "markdown",
   "metadata": {},
   "source": [
    "## Construction of the State"
   ]
  },
  {
   "cell_type": "code",
   "execution_count": 33,
   "metadata": {},
   "outputs": [],
   "source": [
    "\"\"\"\n",
    "The below flags control all the main parts of a run. The only things you\n",
    "would need to change besides these is the optimization parameters, like which\n",
    "algorithm to use, learning rate, maximum iterations, etc.\n",
    "\n",
    "When using KL, set `OPS = None`. When using Em_MMD, set `ops = s` \n",
    "where `s` is the desired MMD parameter.\n",
    "\"\"\"\n",
    "CIRCUIT_DEPTH = 0 # Depth of the parameterized quantum circuit\n",
    "STATE_TYPE = 'GHZ'\n",
    "NUM_QUBITS = 3\n",
    "NUM_BASES = 2\n",
    "USE_REGULARIZER = False\n",
    "LOSS_METRIC = Em_MMD\n",
    "OPS = 0.1 # MMD sigma parameter"
   ]
  },
  {
   "cell_type": "markdown",
   "metadata": {},
   "source": [
    "## Which loss to use?\n",
    "KL seems great.\n",
    "\n",
    "MMD loss is very unstable. It depends heavily on the `s` parameter, and with substantial probability the operation found by MMD optimization has a high KL value. On the other hand, operations found by KL optimization have just as small of a MMD loss, suggesting that the MMD loss is not a good choice for a quantum loss metric. Question: why?"
   ]
  },
  {
   "cell_type": "code",
   "execution_count": 34,
   "metadata": {},
   "outputs": [
    {
     "name": "stdout",
     "output_type": "stream",
     "text": [
      "         ┌───┐          \n",
      "q4636_0: ┤ H ├──■────■──\n",
      "         └───┘┌─┴─┐  │  \n",
      "q4636_1: ─────┤ X ├──┼──\n",
      "              └───┘┌─┴─┐\n",
      "q4636_2: ──────────┤ X ├\n",
      "                   └───┘\n"
     ]
    },
    {
     "data": {
      "image/png": "[encoded data removed]",
      "text/plain": [
       "<Figure size 432x288 with 1 Axes>"
      ]
     },
     "metadata": {
      "needs_background": "light"
     },
     "output_type": "display_data"
    }
   ],
   "source": [
    "\"\"\"[Notes on the states]\n",
    "\n",
    "Confusingly, the cluster state is actually NUM_QUBITS^2 qubits rather than NUM_QUBITS. \n",
    "This is due to the way the circuit is designed. The rest are as you would expect.\n",
    "\"\"\"\n",
    "\n",
    "if STATE_TYPE == 'GHZ':\n",
    "    # Prepare: GHZ State (from: Q-circuit)\n",
    "    from GHZ_generator import GHZ_state_circuit\n",
    "    state = Statevector.from_int(0, 2**NUM_QUBITS)\n",
    "    qc = GHZ_state_circuit(L=NUM_QUBITS)\n",
    "    print(qc)\n",
    "    state = state.evolve(qc)\n",
    "elif STATE_TYPE == 'mGHZ':\n",
    "    # Prepare: GHZ State (from: Q-circuit)\n",
    "    from mGHZ_generator import mGHZ_state_circuit\n",
    "    state = Statevector.from_int(0, 2**NUM_QUBITS)\n",
    "    qc = mGHZ_state_circuit(L=NUM_QUBITS)\n",
    "    print(qc)\n",
    "    state = state.evolve(qc)\n",
    "elif STATE_TYPE == 'XY':\n",
    "    # Prepare: XY(L) (from: ED)\n",
    "    from XY_generator import xy_ground_state\n",
    "    state = Statevector(xy_ground_state(NUM_QUBITS).numpy())\n",
    "elif STATE_TYPE == 'Cluster':\n",
    "    # Prepare cluster(L) (from: Q-circuit)\n",
    "    from cluster_generator import cluster_state_circuit\n",
    "    state = Statevector.from_int(0, 2**(NUM_QUBITS**2))\n",
    "    qc = cluster_state_circuit(NUM_QUBITS)\n",
    "    print(qc)\n",
    "    state = state.evolve(qc)\n",
    "else:\n",
    "    raise TypeError(\"Invalid state type specified.\")\n",
    "param_shape = (state.num_qubits, CIRCUIT_DEPTH+1, PARAM_PER_QUBIT_PER_DEPTH)\n",
    "\n",
    "# Visualize the distribution\n",
    "plt.bar(qubit_expansion(state.num_qubits), state.probabilities())\n",
    "plt.xticks(rotation=45)\n",
    "plt.title(f\"{NUM_QUBITS}-{STATE_TYPE} State Distribution (z-basis)\")\n",
    "plt.show()"
   ]
  },
  {
   "cell_type": "markdown",
   "metadata": {},
   "source": [
    "## HQN Training\n",
    "We will construct the bases we want as a list of `L x 3` rotation-parameter matrices, then pass them into the hybrid quantum net and run the optimization algorithm. "
   ]
  },
  {
   "cell_type": "code",
   "execution_count": 35,
   "metadata": {},
   "outputs": [
    {
     "data": {
      "image/png": "[encoded data removed]",
      "text/plain": [
       "<Figure size 432x288 with 1 Axes>"
      ]
     },
     "metadata": {
      "needs_background": "light"
     },
     "output_type": "display_data"
    }
   ],
   "source": [
    "# Preparation of two bases\n",
    "bases = prepare_basis(state.num_qubits, num=NUM_BASES)\n",
    "num_bases = len(bases)\n",
    "\n",
    "# Visualize the distribution of the bases\n",
    "fig, ax = plt.subplots()\n",
    "for i, basis in enumerate(bases):\n",
    "    dist_i = BasisTransformer([state], basis).updated_dist()[0]\n",
    "    bar = ax.bar(np.arange(2**state.num_qubits) + 0.25*i - 0.04*state.num_qubits, dist_i, width=0.25)\n",
    "    bar.set_label(f\"Basis {i+1}\")\n",
    "plt.legend()\n",
    "ax.set_xticks(np.arange(2**state.num_qubits))\n",
    "ax.set_xticklabels(qubit_expansion(state.num_qubits))\n",
    "plt.xticks(rotation=45)\n",
    "plt.title(\"State Distribution Over Rotations\")\n",
    "plt.show()"
   ]
  },
  {
   "cell_type": "code",
   "execution_count": 36,
   "metadata": {},
   "outputs": [
    {
     "name": "stdout",
     "output_type": "stream",
     "text": [
      "Classical deep net of circuit depth 0 initialized.\n",
      "Classical deep net of circuit depth 0 initialized.\n",
      "3-qubit (noise: 0) non-regularized 'Nelder-Mead' hybrid quantum net initialized -- Hello world!\n"
     ]
    },
    {
     "data": {
      "image/png": "[encoded data removed]",
      "text/plain": [
       "<Figure size 319.992x204.68 with 1 Axes>"
      ]
     },
     "execution_count": 36,
     "metadata": {},
     "output_type": "execute_result"
    }
   ],
   "source": [
    "# Start up the HQN\n",
    "disp = False # Display convergence messages from optimizer\n",
    "\n",
    "hqn = HQNet(state, bases, eta=1e-2, maxiter=5E4, disp=disp,\n",
    "            mode='Nelder-Mead', depth=CIRCUIT_DEPTH, \n",
    "            metric_func=LOSS_METRIC, regularize=False, ops=OPS)\n",
    "\n",
    "# Examine the parametrized circuit\n",
    "hqn.view_circuit().draw(output='mpl')"
   ]
  },
  {
   "cell_type": "code",
   "execution_count": 37,
   "metadata": {},
   "outputs": [
    {
     "name": "stdout",
     "output_type": "stream",
     "text": [
      "Optimized to QKL = -1.734723475976807e-16\n",
      "Queried loss func 440 times\n",
      "\n",
      "Average loss: -1.734723475976807e-16\n"
     ]
    }
   ],
   "source": [
    "# Optimize a few times.\n",
    "NRUN = 1\n",
    "param_dim = np.prod(param_shape)\n",
    "proposed_syms = t.zeros((NRUN, param_dim))\n",
    "avg = 0\n",
    "for i in range(NRUN):\n",
    "    if disp:\n",
    "        print(f\"== Run {i+1}/{NRUN} ==\")\n",
    "    potential_sym, loss, regularizer_loss = hqn.find_potential_symmetry(print_log=True)\n",
    "    proposed_syms[i] = potential_sym if t.is_tensor(potential_sym) else t.from_numpy(potential_sym)\n",
    "    potential_sym = potential_sym.reshape(param_shape)\n",
    "    if disp:\n",
    "        print(f\"Proposed symmetry:\\n{potential_sym}\\n\")\n",
    "    avg += loss / NRUN\n",
    "print(f\"\\nAverage loss: {avg}\")\n",
    "\n",
    "# ? | Ooen question: `regularizer_loss` gives a list (one element per basis) of losses over time\n",
    "# ? | that the regularizer CNets report during their batch training. These can be plotted\n",
    "# ? | to see how well the regularizer is learning. In particular, if the paths start out in\n",
    "# ? | totally different parts of the manifold, does the regularizer learn it well? If so, we \n",
    "# ? | are in trouble. We want the CNets to intentionally overfit, so it extrapolates relatively\n",
    "# ? | poorly."
   ]
  },
  {
   "cell_type": "markdown",
   "metadata": {},
   "source": [
    "### LD-GHZ Scalability\n",
    "At least for a small number of qubits, the query complexity seems to scale linearly or sublinearly with the circuit depth.\n",
    "\n",
    "* Nelder-Mead query complexity appears to scale exponentially with number of qubits.\n",
    "* NFT scales a bit better, but is not accurate either.\n",
    "* 3 qubits, `depth = k`, `2500 * k` queries. \n",
    "* 4 qubits, `depth = 3`, 16000 queries. Doesn't seem to depend on depth.\n",
    "* 5 qubits, `depth = 2`, 15000 queries.\n",
    "* 6 qubits, `depth = 2`, 13000 queries.\n",
    "* 7 qubits, `depth = 2`, 26000-45000 queries.\n",
    "\n",
    "There is evidently a sharp query complexity increase at 7 qubits. What is happening?\n",
    "The number of parameters is `L x D x 2`. The adaptive Nelder-Mead algorithm apparently adaps well up to 30 \n",
    "parameters or so, then takes much longer to search. Nonteheless, accuracy was not compromised, which is good news.\n",
    "\n",
    "### LD-mGHZ Analysis\n",
    "A \"general\" state like the mGHZ state probably doesn't have any nontrivial symmetries. This explains the high quantum loss validation. It is interesting to note, however, that the learning scheme finds what I like to call `k`-projective pseudosymmetries. Given a set of bases, there exists operators that are symmetries in those bases. Naively, we might imagine that we can use `k` to test for whether a symmetry is real: just keep increasing `k` until the learner breaks down. But there is a much more efficient way---look at the QCV error. If that is high, we immediately know that the learning scheme has only found a `k`-projective pseudosymmetry. If not, the symmetry is true. In general, **there is a tradeoff between confidence and accuracy**. If you want to be sure that the scheme finds symmetries, use 3 orthogonal bases. But the state cannot be poly-sparse in all of them, so this is exponentially hard. On the other hand, if you want to be efficient, find a poly-sparse basis and rotate locally around it. If the state really has symmetries, with high probability you will find it. If it doesn't, you will find `k`-projective pseudosymmetries, but you will be able to know this by the quantum cross validation.\n",
    "\n",
    "Note that in general, computing the QCV loss is exponetially hard since the basis is random. However, this is not a huge issue, since we are not learning with it, but just checking once at the end. If we had to learn with it, i.e. do millions/billions of calculations with it, one for each iteration, then the scheme is infeasible. "
   ]
  },
  {
   "cell_type": "markdown",
   "metadata": {},
   "source": [
    "### Comparison of Optimizers in 3-GHZ\n",
    "tl;dr Nelder-Mead and NFT works best\n",
    "\n",
    "We define `LA = A | B` to be the average loss `A` over `B` runs, throwing out extreme outliers. Times given are per run. The below results are for the 3-qubit GHZ state.\n",
    "\n",
    "#### Local optimizers\n",
    "1. Vanilla gradient descent is extremely slow (`~3 min`) and performs moderately poorly (`LA = 0.021 | 100`)\n",
    "2. Adam is super fast (`<1 sec`) but performs very poorly (`LA = 3.77 | 1000`)\n",
    "3. Nelder-Mead is very fast (`~5 sec`) and performs very well, needs `~1000` queries (`LA = 1e-14 | 100`).\n",
    "4. Conjugate gradient is super fast (`<1 sec`) but performs very poorly (`LA = 3.171 | 1000`)\n",
    "5. NFT is very fast (`~5 sec`) and performs well (`LA = 1e-5 | 100`).\n",
    "6. SPSA is very slow (`~40 sec`) and performs reasonably well (`LA = 0.0036 | 100`)\n",
    "7. TNC is extremely fast (`<<1 sec`) but performs very poorly (`LA = 3.62 | 1000`)\n",
    "8. AQGD: I cannot get it to run. Seems like they are running some strange batch training which is not compatible\n",
    "with my loss function `param_to_quantum_loss`. Too bad.\n",
    "\n",
    "#### Global optimizers\n",
    "1. TODO\n"
   ]
  },
  {
   "cell_type": "markdown",
   "metadata": {},
   "source": [
    "## Quantum Training Validation\n",
    "The quantum loss function is a sum over the classical loss metric projected into each basis, so let's first make sure that\n",
    "the loss is uniformly and sufficiently small in each of the bases we used in the search."
   ]
  },
  {
   "cell_type": "code",
   "execution_count": 38,
   "metadata": {},
   "outputs": [
    {
     "name": "stdout",
     "output_type": "stream",
     "text": [
      "Analysing proposed symmetry 1:\n",
      "tensor([[[ 6.2832e+00,  7.6949e-01]],\n",
      "\n",
      "        [[-4.0907e-05,  3.6508e-01]],\n",
      "\n",
      "        [[ 3.1416e+00,  6.6445e+00]]])\n",
      "\n",
      "\tKL value for training basis tensor([0., 0., 0.]) is: 15.424887394514977\n",
      "\tMMD loss for training basis tensor([0., 0., 0.]) is: -5.898059818321144e-17\n",
      "\tKL value for training basis tensor([0.0000, 0.3142, 0.0000]) is: 15.424887394514982\n",
      "\tMMD loss for training basis tensor([0.0000, 0.3142, 0.0000]) is: -5.898059818321144e-17\n"
     ]
    }
   ],
   "source": [
    "# Look at the final KL divergence in each of the chosen bases.\n",
    "for i, sym in enumerate(proposed_syms):\n",
    "    if i > 0:\n",
    "        print(\"\\n\")\n",
    "    print(f\"Analysing proposed symmetry {i+1}:\\n{sym.reshape(param_shape)}\\n\")\n",
    "    for basis_here in bases:\n",
    "        loss_metric = PQC(state, depth=CIRCUIT_DEPTH, basis_param=basis_here, \n",
    "                          metric_func=KL, say_hi=False).evaluate_true_metric(sym)\n",
    "        print(f\"\\tKL value for training basis {basis_here[0]} is: {loss_metric}\")\n",
    "        \n",
    "        loss_metric = PQC(state, depth=CIRCUIT_DEPTH, basis_param=basis_here, \n",
    "                          metric_func=Em_MMD, say_hi=False, ops=OPS).evaluate_true_metric(sym)\n",
    "        print(f\"\\tMMD loss for training basis {basis_here[0]} is: {loss_metric}\")"
   ]
  },
  {
   "cell_type": "markdown",
   "metadata": {},
   "source": [
    "## Quantum Loss Cross-Validation\n",
    "We chose a small number of bases to run the quantum loss scheme over. But are those bases enough? \n",
    "If the proposed symmetries are truly symmetries, then they will be a symmetry in every basis. We shall test\n",
    "these proposed symmetries by choosing some random bases, applying the quantum circuit, and examining the loss metric there.\n",
    "\n",
    "If the loss metric is high there, then we did not use enough bases in the quantum loss function.\n",
    "\n",
    "Note that this has more general implications, as the number of bases necessary to achieve a good quantum loss function\n",
    "informs the amount of information necessary to construct a reasonable tomography of the state."
   ]
  },
  {
   "cell_type": "code",
   "execution_count": 39,
   "metadata": {},
   "outputs": [
    {
     "name": "stdout",
     "output_type": "stream",
     "text": [
      "Analysing proposed symmetry 1:\n",
      "tensor([[[ 6.2832e+00,  7.6949e-01]],\n",
      "\n",
      "        [[-4.0907e-05,  3.6508e-01]],\n",
      "\n",
      "        [[ 3.1416e+00,  6.6445e+00]]])\n",
      "\n",
      "\tKL value for random basis tensor([5.8224, 3.8122, 3.2290]) is: 2.3816902629015377\n",
      "\tMMD loss for random basis tensor([5.8224, 3.8122, 3.2290]) is: 7.5748670923629635e-06\n",
      "\tKL value for random basis tensor([0.2237, 4.5870, 1.3601]) is: 4.162270863075975\n",
      "\tMMD loss for random basis tensor([0.2237, 4.5870, 1.3601]) is: 1.9439573770152485e-09\n",
      "\tKL value for random basis tensor([1.1921, 3.0942, 2.5752]) is: 0.07259642141376095\n",
      "\tMMD loss for random basis tensor([1.1921, 3.0942, 2.5752]) is: 0.0006285633415355346\n",
      "\n",
      "\n"
     ]
    }
   ],
   "source": [
    "# Choose some random bases to examine.\n",
    "NUM_RAND_BASES = 3 # arbitrary\n",
    "for i, sym in enumerate(proposed_syms):\n",
    "    if i > 0:\n",
    "        print(\"\\n\")\n",
    "    print(f\"Analysing proposed symmetry {i+1}:\\n{sym.reshape(param_shape)}\\n\")\n",
    "    for _ in range(NUM_RAND_BASES):\n",
    "        basis_here = rand_basis(state.num_qubits)\n",
    "        loss_metric = PQC(state, depth=CIRCUIT_DEPTH, basis_param=basis_here, \n",
    "                          metric_func=KL, say_hi=False).evaluate_true_metric(sym)\n",
    "        print(f\"\\tKL value for random basis {basis_here[0]} is: {loss_metric}\")\n",
    "        \n",
    "        loss_metric = PQC(state, depth=CIRCUIT_DEPTH, basis_param=basis_here, \n",
    "                          metric_func=Em_MMD, say_hi=False, ops=OPS).evaluate_true_metric(sym)\n",
    "        print(f\"\\tMMD loss for random basis {basis_here[0]} is: {loss_metric}\")\n",
    "    print('\\n')"
   ]
  },
  {
   "cell_type": "code",
   "execution_count": null,
   "metadata": {},
   "outputs": [],
   "source": []
  }
 ],
 "metadata": {
  "interpreter": {
   "hash": "d6de9be78b6020e3c4b915c697ec9df5423262584917bd5f64c63e56f57b2ea4"
  },
  "kernelspec": {
   "display_name": "Python 3.7.7 64-bit ('base': conda)",
   "language": "python",
   "name": "python3"
  },
  "language_info": {
   "codemirror_mode": {
    "name": "ipython",
    "version": 3
   },
   "file_extension": ".py",
   "mimetype": "text/x-python",
   "name": "python",
   "nbconvert_exporter": "python",
   "pygments_lexer": "ipython3",
   "version": "3.7.7"
  },
  "orig_nbformat": 4
 },
 "nbformat": 4,
 "nbformat_minor": 2
}
