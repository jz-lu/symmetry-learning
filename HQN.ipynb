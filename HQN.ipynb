{
 "cells": [
  {
   "cell_type": "markdown",
   "metadata": {},
   "source": [
    "# HQNSL for 1-qubit operations\n",
    "This notebook is a test of the HQNSL scheme for the simplest parametrization of a quantum circuit: a set of `L` 1-qubit rotations given by `L x 3` parameters. We will learn in 2 bases and examine the effectiveness of the algorithm."
   ]
  },
  {
   "cell_type": "code",
   "execution_count": 1,
   "metadata": {},
   "outputs": [],
   "source": [
    "from __helpers import qubit_expansion, rand_basis\n",
    "from ___constants import PARAM_PER_QUBIT\n",
    "from __loss_funcs import KL\n",
    "from __class_BasisTransformer import BasisTransformer\n",
    "from __class_PQC import PQC\n",
    "from __class_HQNet import HQNet\n",
    "import matplotlib.pyplot as plt\n",
    "import numpy as np\n",
    "import torch as t\n",
    "from math import pi\n",
    "from qiskit import QuantumCircuit, QuantumRegister\n",
    "from qiskit.quantum_info import Statevector\n",
    "%matplotlib inline"
   ]
  },
  {
   "cell_type": "markdown",
   "metadata": {},
   "source": [
    "## Construction of the State"
   ]
  },
  {
   "cell_type": "code",
   "execution_count": 7,
   "metadata": {},
   "outputs": [],
   "source": [
    "\"\"\"\n",
    "The below flags control all the main parts of a run. The only things you\n",
    "would need to change besides these is the optimization parameters, like which\n",
    "algorithm to use, learning rate, maximum iterations, etc.\n",
    "\"\"\"\n",
    "CIRCUIT_DEPTH = 0 # Depth of the parameterized quantum circuit\n",
    "STATE_TYPE = 'GHZ'\n",
    "NUM_QUBITS = 3\n",
    "USE_REGULARIZER = False"
   ]
  },
  {
   "cell_type": "code",
   "execution_count": 8,
   "metadata": {},
   "outputs": [
    {
     "name": "stdout",
     "output_type": "stream",
     "text": [
      "         ┌───┐          \n",
      "q1053_0: ┤ H ├──■────■──\n",
      "         └───┘┌─┴─┐  │  \n",
      "q1053_1: ─────┤ X ├──┼──\n",
      "              └───┘┌─┴─┐\n",
      "q1053_2: ──────────┤ X ├\n",
      "                   └───┘\n"
     ]
    },
    {
     "data": {
      "image/png": "[encoded data removed]",
      "text/plain": [
       "<Figure size 432x288 with 1 Axes>"
      ]
     },
     "metadata": {
      "needs_background": "light"
     },
     "output_type": "display_data"
    }
   ],
   "source": [
    "\"\"\"[Notes on the states]\n",
    "\n",
    "Confusingly, the cluster state is actually NUM_QUBITS^2 qubits rather than NUM_QUBITS. \n",
    "This is due to the way the circuit is designed. The rest are as you would expect.\n",
    "\"\"\"\n",
    "\n",
    "if STATE_TYPE == 'GHZ':\n",
    "    # Prepare: GHZ State (from: Q-circuit)\n",
    "    from GHZ_generator import GHZ_state_circuit\n",
    "    state = Statevector.from_int(0, 2**NUM_QUBITS)\n",
    "    qc = GHZ_state_circuit(L=NUM_QUBITS)\n",
    "    print(qc)\n",
    "    state = state.evolve(qc)\n",
    "elif STATE_TYPE == 'XY':\n",
    "    # Prepare: XY(L) (from: ED)\n",
    "    from XY_generator import xy_ground_state\n",
    "    state = Statevector(xy_ground_state(NUM_QUBITS).numpy())\n",
    "elif STATE_TYPE == 'Cluster':\n",
    "    # Prepare cluster(L) (from: Q-circuit)\n",
    "    from cluster_generator import cluster_state_circuit\n",
    "    state = Statevector.from_int(0, 2**(NUM_QUBITS**2))\n",
    "    qc = cluster_state_circuit(NUM_QUBITS)\n",
    "    print(qc)\n",
    "    state = state.evolve(qc)\n",
    "else:\n",
    "    raise TypeError(\"Invalid state type specified.\")\n",
    "\n",
    "# Visualize the distribution\n",
    "plt.bar(qubit_expansion(state.num_qubits), state.probabilities())\n",
    "plt.title(f\"{NUM_QUBITS}-{STATE_TYPE} State Distribution (z-basis)\")\n",
    "plt.show()"
   ]
  },
  {
   "cell_type": "markdown",
   "metadata": {},
   "source": [
    "## HQN Training\n",
    "We will construct the bases we want as a list of `L x 3` rotation-parameter matrices, then pass them into the hybrid quantum net and run the optimization algorithm. "
   ]
  },
  {
   "cell_type": "code",
   "execution_count": 9,
   "metadata": {},
   "outputs": [
    {
     "data": {
      "image/png": "[encoded data removed]",
      "text/plain": [
       "<Figure size 432x288 with 1 Axes>"
      ]
     },
     "metadata": {
      "needs_background": "light"
     },
     "output_type": "display_data"
    }
   ],
   "source": [
    "# Preparation of two bases\n",
    "init_basis = t.zeros(state.num_qubits, PARAM_PER_QUBIT) # z-basis\n",
    "perturbation = init_basis.clone()\n",
    "perturbation[:,0] += pi/10 * t.ones(state.num_qubits) # small rotation in one axis for each qubit\n",
    "perturbed_basis = init_basis + perturbation\n",
    "bases = [init_basis, perturbed_basis]\n",
    "num_bases = len(bases)\n",
    "\n",
    "# Visualize the distribution of the bases\n",
    "fig, ax = plt.subplots()\n",
    "for i, basis in enumerate(bases):\n",
    "    dist_i = BasisTransformer([state], basis).updated_dist()[0]\n",
    "    bar = ax.bar(np.arange(2**state.num_qubits) + 0.25*i - 0.04*state.num_qubits, dist_i, width=0.25)\n",
    "    bar.set_label(f\"Basis {i+1}\")\n",
    "plt.legend()\n",
    "ax.set_xticks(np.arange(2**state.num_qubits))\n",
    "ax.set_xticklabels(qubit_expansion(state.num_qubits))\n",
    "plt.title(\"State Distribution Over Rotations\")\n",
    "plt.show()"
   ]
  },
  {
   "cell_type": "code",
   "execution_count": 10,
   "metadata": {},
   "outputs": [
    {
     "name": "stdout",
     "output_type": "stream",
     "text": [
      "Classical deep net initialized.\n",
      "Classical deep net initialized.\n",
      "Parametrized quantum circuit initialized.\n",
      "Parametrized quantum circuit initialized.\n",
      "3-qubit non-regularized 'Nelder-Mead' hybrid quantum net initialized -- Hello world!\n"
     ]
    },
    {
     "data": {
      "image/png": "[encoded data removed]",
      "text/plain": [
       "<Figure size 259.501x204.68 with 1 Axes>"
      ]
     },
     "execution_count": 10,
     "metadata": {},
     "output_type": "execute_result"
    }
   ],
   "source": [
    "# Start up the HQN\n",
    "disp = False # Display convergence messages from optimizer\n",
    "\n",
    "hqn = HQNet(state, bases, eta=1e-3, maxiter=5000, disp=disp,\n",
    "            mode='Nelder-Mead', depth=CIRCUIT_DEPTH, \n",
    "            metric_func=KL, regularize=False)\n",
    "\n",
    "# Examine the parametrized circuit\n",
    "hqn.view_circuit().draw(output='mpl')"
   ]
  },
  {
   "cell_type": "code",
   "execution_count": 11,
   "metadata": {},
   "outputs": [
    {
     "name": "stdout",
     "output_type": "stream",
     "text": [
      "Optimized to QKL = -2.3796427153132066e-16\n",
      "Queried loss func 1180 times\n",
      "Optimized to QKL = 3.54385100366679e-14\n",
      "Queried loss func 1216 times\n",
      "Optimized to QKL = 1.4103143041013831e-15\n",
      "Queried loss func 1039 times\n",
      "Optimized to QKL = -8.675839782579394e-16\n",
      "Queried loss func 1214 times\n",
      "Optimized to QKL = -3.486387081503108e-16\n",
      "Queried loss func 1275 times\n",
      "\n",
      "Average loss: 7.078927476565943e-15\n"
     ]
    }
   ],
   "source": [
    "# Optimize a few times.\n",
    "NRUN = 5\n",
    "param_dim = state.num_qubits * PARAM_PER_QUBIT\n",
    "proposed_syms = t.zeros((NRUN, param_dim))\n",
    "avg = 0\n",
    "for i in range(NRUN):\n",
    "    if disp:\n",
    "        print(f\"== Run {i+1}/{NRUN} ==\")\n",
    "    potential_sym, loss, regularizer_loss = hqn.find_potential_symmetry(print_log=True)\n",
    "    proposed_syms[i] = potential_sym if t.is_tensor(potential_sym) else t.from_numpy(potential_sym)\n",
    "    potential_sym = potential_sym.reshape((state.num_qubits, PARAM_PER_QUBIT))\n",
    "    if disp:\n",
    "        print(f\"Proposed symmetry:\\n{potential_sym}\\n\")\n",
    "    avg += loss / NRUN\n",
    "print(f\"\\nAverage loss: {avg}\")\n",
    "\n",
    "# ? | Ooen question: `regularizer_loss` gives a list (one element per basis) of losses over time\n",
    "# ? | that the regularizer CNets report during their batch training. These can be plotted\n",
    "# ? | to see how well the regularizer is learning. In particular, if the paths start out in\n",
    "# ? | totally different parts of the manifold, does the regularizer learn it well? If so, we \n",
    "# ? | are in trouble. We want the CNets to intentionally overfit, so it extrapolates relatively\n",
    "# ? | poorly."
   ]
  },
  {
   "cell_type": "markdown",
   "metadata": {},
   "source": [
    "### Summary of findings\n",
    "tl;dr Nelder-Mead and NFT works best\n",
    "\n",
    "We define `LA = A | B` to be the average loss `A` over `B` runs, throwing out extreme outliers. Times given are per run. The below results are for the 3-qubit GHZ state.\n",
    "\n",
    "#### Local optimizers\n",
    "1. Vanilla gradient descent is extremely slow (`~3 min`) and performs moderately poorly (`LA = 0.021 | 100`)\n",
    "2. Adam is super fast (`<1 sec`) but performs very poorly (`LA = 3.77 | 1000`)\n",
    "3. Nelder-Mead is very fast (`~5 sec`) and performs very well, needs `~1000` queries (`LA = 1e-14 | 100`).\n",
    "4. Conjugate gradient is super fast (`<1 sec`) but performs very poorly (`LA = 3.171 | 1000`)\n",
    "5. NFT is very fast (`~5 sec`) and performs well (`LA = 1e-5 | 100`).\n",
    "6. SPSA is very slow (`~40 sec`) and performs reasonably well (`LA = 0.0036 | 100`)\n",
    "7. TNC is extremely fast (`<<1 sec`) but performs very poorly (`LA = 3.62 | 1000`)\n",
    "8. AQGD: I cannot get it to run. Seems like they are running some strange batch training which is not compatible\n",
    "with my loss function `param_to_quantum_loss`. Too bad.\n",
    "\n",
    "#### Global optimizers\n",
    "1. TODO\n"
   ]
  },
  {
   "cell_type": "markdown",
   "metadata": {},
   "source": [
    "## Quantum Training Validation\n",
    "The quantum loss function is a sum over the classical loss metric projected into each basis, so let's first make sure that\n",
    "the loss is uniformly and sufficiently small in each of the bases we used in the search."
   ]
  },
  {
   "cell_type": "code",
   "execution_count": 12,
   "metadata": {},
   "outputs": [
    {
     "name": "stdout",
     "output_type": "stream",
     "text": [
      "Analysing proposed symmetry 1:\n",
      "tensor([[6.2832e+00, 3.5948e+00, 5.6456e+00],\n",
      "        [9.1726e-08, 4.4960e+00, 5.6959e+00],\n",
      "        [1.3979e-08, 1.0164e+00, 4.6847e+00]])\n",
      "\n",
      "\tLoss metric for training basis tensor([0., 0., 0.]) is: -4.691182348127131e-16\n",
      "\tLoss metric for training basis tensor([0.3142, 0.0000, 0.0000]) is: 1.216505729901861e-14\n",
      "\n",
      "\n",
      "Analysing proposed symmetry 2:\n",
      "tensor([[ 6.2832e+00, -8.6443e+00,  1.0270e+01],\n",
      "        [-3.0677e-07,  1.7240e+00, -6.1029e+00],\n",
      "        [ 6.2832e+00, -1.2175e+00,  2.2822e+01]])\n",
      "\n",
      "\tLoss metric for training basis tensor([0., 0., 0.]) is: -2.347817701452434e-16\n",
      "\tLoss metric for training basis tensor([0.3142, 0.0000, 0.0000]) is: 1.6465209505861337e-14\n",
      "\n",
      "\n",
      "Analysing proposed symmetry 3:\n",
      "tensor([[3.1416, 1.4778, 5.8455],\n",
      "        [3.1416, 2.1475, 0.9370],\n",
      "        [3.1416, 1.2115, 7.4782]])\n",
      "\n",
      "\tLoss metric for training basis tensor([0., 0., 0.]) is: 1.2315016280154051e-16\n",
      "\tLoss metric for training basis tensor([0.3142, 0.0000, 0.0000]) is: 2.788676273019526e-15\n",
      "\n",
      "\n",
      "Analysing proposed symmetry 4:\n",
      "tensor([[ 6.2832e+00,  2.8014e+00,  3.9148e+00],\n",
      "        [ 6.2832e+00,  1.0451e+00,  6.2144e+00],\n",
      "        [-3.9067e-08,  4.3672e+00,  5.0731e-01]])\n",
      "\n",
      "\tLoss metric for training basis tensor([0., 0., 0.]) is: -3.4595424679426655e-16\n",
      "\tLoss metric for training basis tensor([0.3142, 0.0000, 0.0000]) is: 1.7229592501911972e-14\n",
      "\n",
      "\n",
      "Analysing proposed symmetry 5:\n",
      "tensor([[1.7886e-08, 1.0715e+01, 6.8548e+00],\n",
      "        [6.2832e+00, 2.2400e+00, 4.0288e+00],\n",
      "        [4.4128e-08, 4.5697e+00, 3.0070e+00]])\n",
      "\n",
      "\tLoss metric for training basis tensor([0., 0., 0.]) is: -4.3796689839126103e-16\n",
      "\tLoss metric for training basis tensor([0.3142, 0.0000, 0.0000]) is: 5.480179045321326e-15\n"
     ]
    }
   ],
   "source": [
    "# Look at the final KL divergence in each of the chosen bases.\n",
    "for i, sym in enumerate(proposed_syms):\n",
    "    if i > 0:\n",
    "        print(\"\\n\")\n",
    "    print(f\"Analysing proposed symmetry {i+1}:\\n{sym.reshape((state.num_qubits, 3))}\\n\")\n",
    "    for basis_here in bases:\n",
    "        loss_metric = PQC(state, basis_param=basis_here, metric_func=KL, say_hi=False).evaluate_true_metric(sym)\n",
    "        print(f\"\\tLoss metric for training basis {basis_here[0]} is: {loss_metric}\")"
   ]
  },
  {
   "cell_type": "markdown",
   "metadata": {},
   "source": [
    "## Quantum Loss Cross-Validation\n",
    "We chose a small number of bases to run the quantum loss scheme over. But are those bases enough? \n",
    "If the proposed symmetries are truly symmetries, then they will be a symmetry in every basis. We shall test\n",
    "these proposed symmetries by choosing some random bases, applying the quantum circuit, and examining the loss metric there.\n",
    "\n",
    "If the loss metric is high there, then we did not use enough bases in the quantum loss function.\n",
    "\n",
    "Note that this has more general implications, as the number of bases necessary to achieve a good quantum loss function\n",
    "informs the amount of information necessary to construct a reasonable tomography of the state."
   ]
  },
  {
   "cell_type": "code",
   "execution_count": 13,
   "metadata": {},
   "outputs": [
    {
     "name": "stdout",
     "output_type": "stream",
     "text": [
      "Analysing proposed symmetry 1:\n",
      "tensor([[6.2832e+00, 3.5948e+00, 5.6456e+00],\n",
      "        [9.1726e-08, 4.4960e+00, 5.6959e+00],\n",
      "        [1.3979e-08, 1.0164e+00, 4.6847e+00]])\n",
      "\n",
      "\tLoss metric for random basis [1.4277325  3.2816246  0.11074211] is: 2.3201377016838956e-07\n",
      "\tLoss metric for random basis [2.806322   1.523789   0.10861041] is: 3.2897250612429504e-10\n",
      "\tLoss metric for random basis [0.24150386 1.7936491  4.234179  ] is: 1.5600453090519615e-11\n",
      "\n",
      "\n",
      "\n",
      "\n",
      "Analysing proposed symmetry 2:\n",
      "tensor([[ 6.2832e+00, -8.6443e+00,  1.0270e+01],\n",
      "        [-3.0677e-07,  1.7240e+00, -6.1029e+00],\n",
      "        [ 6.2832e+00, -1.2175e+00,  2.2822e+01]])\n",
      "\n",
      "\tLoss metric for random basis [2.2336028  0.51013327 3.1413913 ] is: 1.3377137157906974e-12\n",
      "\tLoss metric for random basis [4.305585  4.8255367 1.7551868] is: 5.943837887853942e-07\n",
      "\tLoss metric for random basis [3.5942492 3.9310753 4.9084396] is: 2.0920569779903526e-08\n",
      "\n",
      "\n",
      "\n",
      "\n",
      "Analysing proposed symmetry 3:\n",
      "tensor([[3.1416, 1.4778, 5.8455],\n",
      "        [3.1416, 2.1475, 0.9370],\n",
      "        [3.1416, 1.2115, 7.4782]])\n",
      "\n",
      "\tLoss metric for random basis [2.1652117 2.5087943 3.6679702] is: 1.7424415031944346e-07\n",
      "\tLoss metric for random basis [2.4751503  0.78273284 2.0009084 ] is: 5.906706798234314e-09\n",
      "\tLoss metric for random basis [1.9319001 2.4070327 6.199594 ] is: 9.254010095154045e-08\n",
      "\n",
      "\n",
      "\n",
      "\n",
      "Analysing proposed symmetry 4:\n",
      "tensor([[ 6.2832e+00,  2.8014e+00,  3.9148e+00],\n",
      "        [ 6.2832e+00,  1.0451e+00,  6.2144e+00],\n",
      "        [-3.9067e-08,  4.3672e+00,  5.0731e-01]])\n",
      "\n",
      "\tLoss metric for random basis [5.9349937  0.82326794 4.7899494 ] is: 1.9120179587504583e-09\n",
      "\tLoss metric for random basis [6.2320824 2.052607  1.0963948] is: 3.790581240882736e-14\n",
      "\tLoss metric for random basis [2.0329137 3.0080667 5.6557527] is: 1.0659362830420948e-07\n",
      "\n",
      "\n",
      "\n",
      "\n",
      "Analysing proposed symmetry 5:\n",
      "tensor([[1.7886e-08, 1.0715e+01, 6.8548e+00],\n",
      "        [6.2832e+00, 2.2400e+00, 4.0288e+00],\n",
      "        [4.4128e-08, 4.5697e+00, 3.0070e+00]])\n",
      "\n",
      "\tLoss metric for random basis [0.12641785 3.0156553  3.8631637 ] is: 5.605745150557121e-11\n",
      "\tLoss metric for random basis [5.9701524 2.5588427 0.1435684] is: 5.510149680506758e-10\n",
      "\tLoss metric for random basis [2.7422187 2.6483374 2.936259 ] is: 2.751153242361056e-09\n",
      "\n",
      "\n"
     ]
    }
   ],
   "source": [
    "# Choose some random bases to examine.\n",
    "NUM_RAND_BASES = 3 # arbitrary\n",
    "for i, sym in enumerate(proposed_syms):\n",
    "    if i > 0:\n",
    "        print(\"\\n\")\n",
    "    print(f\"Analysing proposed symmetry {i+1}:\\n{sym.reshape((state.num_qubits, 3))}\\n\")\n",
    "    for _ in range(NUM_RAND_BASES):\n",
    "        basis_here = rand_basis(state.num_qubits)\n",
    "        loss_metric = PQC(state, basis_param=basis_here, metric_func=KL, say_hi=False).evaluate_true_metric(sym)\n",
    "        print(f\"\\tLoss metric for random basis {basis_here[0].numpy()} is: {loss_metric}\")\n",
    "    print('\\n')"
   ]
  },
  {
   "cell_type": "code",
   "execution_count": null,
   "metadata": {},
   "outputs": [],
   "source": []
  }
 ],
 "metadata": {
  "interpreter": {
   "hash": "d6de9be78b6020e3c4b915c697ec9df5423262584917bd5f64c63e56f57b2ea4"
  },
  "kernelspec": {
   "display_name": "Python 3.7.7 64-bit ('base': conda)",
   "language": "python",
   "name": "python3"
  },
  "language_info": {
   "codemirror_mode": {
    "name": "ipython",
    "version": 3
   },
   "file_extension": ".py",
   "mimetype": "text/x-python",
   "name": "python",
   "nbconvert_exporter": "python",
   "pygments_lexer": "ipython3",
   "version": "3.7.7"
  },
  "orig_nbformat": 4
 },
 "nbformat": 4,
 "nbformat_minor": 2
}
