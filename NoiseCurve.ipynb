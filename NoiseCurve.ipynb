{
 "cells": [
  {
   "cell_type": "markdown",
   "metadata": {},
   "source": [
    "# CV and pure error on noisy circuit evaluation"
   ]
  },
  {
   "cell_type": "code",
   "execution_count": 3,
   "metadata": {},
   "outputs": [],
   "source": [
    "import numpy as np\n",
    "import matplotlib.pyplot as plt\n",
    "import matplotlib as mpl\n",
    "%matplotlib inline\n",
    "mpl.rcParams['mathtext.fontset'] = 'stix'\n",
    "mpl.rcParams['font.family'] = 'STIXGeneral'"
   ]
  },
  {
   "cell_type": "code",
   "execution_count": 13,
   "metadata": {},
   "outputs": [
    {
     "name": "stdout",
     "output_type": "stream",
     "text": [
      "Phase domain shape: (100,)\n",
      "Phase range shape: (100,)\n"
     ]
    }
   ],
   "source": [
    "main_dir = '/Users/jonathanlu/Documents/data_sym/NoiseCurve/'\n",
    "cv = np.array([np.load(main_dir + f'losses_cv_{i}.npy') for i in range(100)])\n",
    "noisy = np.array([np.load(main_dir + f'losses_noisy_{i}.npy') for i in range(100)])\n",
    "p = np.linspace(1e-5, 5e-2, 101)[:-1]\n",
    "print(f\"Phase domain shape: {p.shape}\")\n",
    "cv_avg, cv_std = np.mean(cv, axis=1), np.std(cv, axis=1)\n",
    "noisy_avg, noisy_std = np.mean(noisy, axis=1), np.std(noisy, axis=1)\n",
    "print(f\"Phase range shape: {cv_avg.shape}\")"
   ]
  },
  {
   "cell_type": "code",
   "execution_count": 15,
   "metadata": {},
   "outputs": [
    {
     "data": {
      "image/png": "[encoded data removed]",
      "text/plain": [
       "<Figure size 432x288 with 1 Axes>"
      ]
     },
     "metadata": {
      "needs_background": "light"
     },
     "output_type": "display_data"
    }
   ],
   "source": [
    "plt.scatter(p, cv_avg)\n",
    "plt.scatter(p, noisy_avg)\n",
    "plt.xscale('log')"
   ]
  },
  {
   "cell_type": "code",
   "execution_count": null,
   "metadata": {},
   "outputs": [],
   "source": []
  }
 ],
 "metadata": {
  "interpreter": {
   "hash": "d6de9be78b6020e3c4b915c697ec9df5423262584917bd5f64c63e56f57b2ea4"
  },
  "kernelspec": {
   "display_name": "Python 3.7.7 ('base')",
   "language": "python",
   "name": "python3"
  },
  "language_info": {
   "codemirror_mode": {
    "name": "ipython",
    "version": 3
   },
   "file_extension": ".py",
   "mimetype": "text/x-python",
   "name": "python",
   "nbconvert_exporter": "python",
   "pygments_lexer": "ipython3",
   "version": "3.7.7"
  },
  "orig_nbformat": 4
 },
 "nbformat": 4,
 "nbformat_minor": 2
}
