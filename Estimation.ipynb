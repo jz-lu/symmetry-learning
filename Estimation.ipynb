{
 "cells": [
  {
   "cell_type": "markdown",
   "metadata": {},
   "source": [
    "# Estimating distributions\n",
    "How much loss will we incur by sampling `O(2^L)` times from the circuit and building an empirical distribution instead of using the true distribution from the Qiskit backend?\n",
    "\n",
    "A natural way to answer this is to do the estimate, then find the KL divergence as a function of the `nrun` parameter, which controls the amount of random noise we are willing to tolerate. we can then plot this. The purpose of this notebook is to guide what the `nrun` parameter should be. It should be large enough to kill off most noise, but small enough to be efficiently implementable."
   ]
  },
  {
   "cell_type": "code",
   "execution_count": 8,
   "metadata": {},
   "outputs": [],
   "source": [
    "from qiskit.quantum_info import Statevector\n",
    "from __helpers import qubit_retraction\n",
    "import numpy as np\n",
    "from GHZ_generator import GHZ_state_circuit\n",
    "import matplotlib.pyplot as plt\n",
    "from __loss_funcs import KL\n",
    "%matplotlib inline"
   ]
  },
  {
   "cell_type": "code",
   "execution_count": 19,
   "metadata": {},
   "outputs": [],
   "source": [
    "NUM_QUBITS = 3\n",
    "RUN_RANGE = (100, 1000, 25) # min, max, step size"
   ]
  },
  {
   "cell_type": "code",
   "execution_count": 33,
   "metadata": {},
   "outputs": [],
   "source": [
    "def retrieve_dists(L, nrun, poly=None):\n",
    "    \"\"\"Returns the true distribution and the estimate\"\"\"\n",
    "    state = Statevector.from_int(0, 2**L)\n",
    "    qc = GHZ_state_circuit(L=L)\n",
    "    state = state.evolve(qc)\n",
    "\n",
    "    units = 2**L if poly is None else L**poly\n",
    "    estimate = np.zeros(2**L)\n",
    "    for i in range(nrun * units):\n",
    "        estimate[qubit_retraction(state.measure()[0])] += 1\n",
    "    estimate /= nrun * units\n",
    "    return state.probabilities(), estimate"
   ]
  },
  {
   "cell_type": "code",
   "execution_count": 34,
   "metadata": {},
   "outputs": [
    {
     "data": {
      "image/png": "[encoded data removed]",
      "text/plain": [
       "<Figure size 432x288 with 1 Axes>"
      ]
     },
     "metadata": {
      "needs_background": "light"
     },
     "output_type": "display_data"
    }
   ],
   "source": [
    "nruns = list(range(1, 100, 5))\n",
    "exploss = np.ones_like(nruns, dtype=float)\n",
    "polyloss = np.ones_like(nruns, dtype=float)\n",
    "for i, nrun in enumerate(nruns):\n",
    "    exploss[i] = np.mean([KL(*retrieve_dists(NUM_QUBITS, nrun)) for _ in range(10)])\n",
    "    polyloss[i] = np.mean([KL(*retrieve_dists(NUM_QUBITS, nrun, poly=2)) for _ in range(10)])\n",
    "\n",
    "plt.plot(nruns, exploss, label='exp', c='k')\n",
    "plt.plot(nruns, polyloss, label='poly', c='cornflowerblue')\n",
    "plt.legend()\n",
    "plt.xlabel(r\"Noise scale\")\n",
    "plt.ylabel(\"KL divergence\")\n",
    "plt.title(\"Rough KL divergence over noise scale\")\n",
    "plt.show()"
   ]
  },
  {
   "cell_type": "code",
   "execution_count": null,
   "metadata": {},
   "outputs": [
    {
     "name": "stdout",
     "output_type": "stream",
     "text": [
      "[0 0 0 0 0 0 0 0 0 0 0 0 0 0 0 0 0 0 0 0]\n"
     ]
    }
   ],
   "source": [
    "nruns = list(range(*RUN_RANGE))\n",
    "exploss = np.ones_like(nruns, dtype=float)\n",
    "polyloss = np.ones_like(nruns, dtype=float)\n",
    "for i, nrun in enumerate(nruns):\n",
    "    exploss[i] = np.mean([KL(*retrieve_dists(NUM_QUBITS, nrun)) for _ in range(10)])\n",
    "    polyloss[i] = np.mean([KL(*retrieve_dists(NUM_QUBITS, nrun, poly=2)) for _ in range(10)])\n",
    "\n",
    "plt.plot(nruns, exploss, label='exp', c='k')\n",
    "plt.plot(nruns, polyloss, label='poly', c='cornflowerblue')\n",
    "plt.legend()\n",
    "plt.xlabel(r\"Noise scale\")\n",
    "plt.ylabel(\"KL divergence\")\n",
    "plt.title(\"Fine KL divergence over noise scale\")\n",
    "plt.show()"
   ]
  }
 ],
 "metadata": {
  "interpreter": {
   "hash": "d6de9be78b6020e3c4b915c697ec9df5423262584917bd5f64c63e56f57b2ea4"
  },
  "kernelspec": {
   "display_name": "Python 3.7.7 ('base')",
   "language": "python",
   "name": "python3"
  },
  "language_info": {
   "codemirror_mode": {
    "name": "ipython",
    "version": 3
   },
   "file_extension": ".py",
   "mimetype": "text/x-python",
   "name": "python",
   "nbconvert_exporter": "python",
   "pygments_lexer": "ipython3",
   "version": "3.7.7"
  },
  "orig_nbformat": 4
 },
 "nbformat": 4,
 "nbformat_minor": 2
}
