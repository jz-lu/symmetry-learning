{
  "cells": [
    {
      "cell_type": "markdown",
      "metadata": {
        "id": "DWaFqLMXbUDa"
      },
      "source": [
        "**Problem 3**"
      ]
    },
    {
      "cell_type": "code",
      "execution_count": 13,
      "metadata": {
        "colab": {
          "base_uri": "https://localhost:8080/",
          "height": 264
        },
        "id": "K7BmCK9BbWkp",
        "outputId": "57c56a24-e35f-4b08-f096-ee9f0393665e"
      },
      "outputs": [
        {
          "name": "stdout",
          "output_type": "stream",
          "text": [
            "Statevector([0.70710678+0.j, 0.        +0.j, 0.        +0.j,\n",
            "             0.        +0.j, 0.        +0.j, 0.        +0.j,\n",
            "             0.        +0.j, 0.70710678+0.j],\n",
            "            dims=(2, 2, 2))\n",
            "Statevector([1.+0.j, 0.+0.j, 0.+0.j, 0.+0.j, 0.+0.j, 0.+0.j, 0.+0.j,\n",
            "             0.+0.j],\n",
            "            dims=(2, 2, 2))\n"
          ]
        }
      ],
      "source": [
        "\n",
        "# Useful additional packages \n",
        "import matplotlib.pyplot as plt\n",
        "import numpy as np\n",
        "from math import pi\n",
        "\n",
        "from qiskit import QuantumCircuit, ClassicalRegister, QuantumRegister, transpile\n",
        "from qiskit.tools.visualization import circuit_drawer\n",
        "from qiskit.quantum_info import state_fidelity\n",
        "from qiskit import BasicAer\n",
        "from qiskit.quantum_info import Operator\n",
        "from qiskit.quantum_info import Statevector\n",
        "import torch\n",
        "\n",
        "\n",
        "\n",
        "\n",
        "\"\"\"\n",
        "q = QuantumRegister(2)\n",
        "\n",
        "qc = QuantumCircuit(q)\n",
        "qc.u(pi,0,pi,q[0])\n",
        "qc.draw()\n",
        "\"\"\"\n",
        "\n",
        "\n",
        "#lets create GHZ state\n",
        "circ = QuantumCircuit(3)\n",
        "# Add a H gate on qubit 0, putting this qubit in superposition.\n",
        "circ.h(0)\n",
        "# Add a CX (CNOT) gate on control qubit 0 and target qubit 1, putting\n",
        "# the qubits in a Bell state.\n",
        "circ.cx(0, 1)\n",
        "# Add a CX (CNOT) gate on control qubit 0 and target qubit 2, putting\n",
        "# the qubits in a GHZ state.\n",
        "circ.cx(0, 2)\n",
        "# Set the intial state of the simulator to the ground state using from_int\n",
        "state = Statevector.from_int(0, 2**3)\n",
        "state1 = state.copy()\n",
        "# Evolve the state by the quantum circuit\n",
        "state = state.evolve(circ)\n",
        "print(state)\n",
        "print(state1)"
      ]
    },
    {
      "cell_type": "code",
      "execution_count": 23,
      "metadata": {
        "colab": {
          "base_uri": "https://localhost:8080/",
          "height": 506
        },
        "id": "KkAYQqj1tM1x",
        "outputId": "c0469ff4-6910-433f-aad1-77672e48c334"
      },
      "outputs": [
        {
          "name": "stdout",
          "output_type": "stream",
          "text": [
            "0.30000001192092896\n"
          ]
        }
      ],
      "source": [
        "#function that apply the KS test to two probability list\n",
        "def KS(P1, P2):\n",
        "    assert len(P1) == len(P2)\n",
        "    cdf1 = [P1[0]]\n",
        "    cdf2 = [P2[0]]\n",
        "    for i in range(len(P1)-1):\n",
        "        cdf1.append(cdf1[i] + P1[i+1])\n",
        "        cdf2.append(cdf2[i] + P2[i+1])\n",
        "    difference = torch.tensor(cdf1) - torch.tensor(cdf2)\n",
        "    #print(difference)\n",
        "    return difference.abs().max().item()\n",
        "\n",
        "print(KS([0.2, 0.8], [0.5, 0.5]))"
      ]
    },
    {
      "cell_type": "code",
      "execution_count": 21,
      "metadata": {},
      "outputs": [
        {
          "data": {
            "text/plain": [
              "<qiskit.circuit.instructionset.InstructionSet at 0x7f8fbf2fc700>"
            ]
          },
          "execution_count": 21,
          "metadata": {},
          "output_type": "execute_result"
        }
      ],
      "source": [
        "q = QuantumRegister(3)\n",
        "qc = QuantumCircuit(q)\n",
        "qc.u(0.5,0,pi,q[0])\n",
        "qc.u(0.5,0,pi,q[1])\n",
        "qc.u(0.5,0,pi,q[2])"
      ]
    },
    {
      "cell_type": "code",
      "execution_count": 39,
      "metadata": {},
      "outputs": [
        {
          "data": {
            "image/png": "[encoded data removed]",
            "text/plain": [
              "<Figure size 432x288 with 1 Axes>"
            ]
          },
          "metadata": {
            "needs_background": "light"
          },
          "output_type": "display_data"
        }
      ],
      "source": [
        "#this is where we try to learn the symmetry\n",
        "\n",
        "class SymFinder():\n",
        "  def __init__(self, eta, step_size):\n",
        "      self.theta0 = 2\n",
        "      self.theta1 = 0.5\n",
        "      self.theta2 = 2.4\n",
        "      self.original_state = state\n",
        "      self.transformed_state = None\n",
        "      self.lr = eta\n",
        "      self.step_size = step_size\n",
        "      self.losses = []\n",
        "\n",
        "  \n",
        "  #return a transformed state according to parameter\n",
        "  def transform(self, theta0, theta1, theta2):\n",
        "    q = QuantumRegister(3)\n",
        "    qc = QuantumCircuit(q)\n",
        "    qc.u(theta0,0,pi,q[0])\n",
        "    qc.u(theta1,0,pi,q[1])\n",
        "    qc.u(theta2,0,pi,q[2])\n",
        "    return self.original_state.copy().evolve(qc)\n",
        "  \n",
        "  \n",
        "  #return the loss from KS test of original vs another state\n",
        "  def calculate_loss(self, state2):\n",
        "    P1 = self.original_state.probabilities()\n",
        "    P2 = state2.probabilities()\n",
        "    return KS(P1, P2)\n",
        "  \n",
        "  def update(self):\n",
        "    #calculate the gradient using good old finite difference:\n",
        "    cur_state = self.transform(self.theta0, self.theta1, self.theta1)\n",
        "    state0 = self.transform(self.theta0 + self.step_size, self.theta1, self.theta1)\n",
        "    state1 = self.transform(self.theta0, self.theta1 + self.step_size, self.theta1)\n",
        "    state2 = self.transform(self.theta0, self.theta1, self.theta1 + self.step_size)\n",
        "    cur_loss = self.calculate_loss(cur_state)\n",
        "    loss0 = self.calculate_loss(state0)\n",
        "    loss1 = self.calculate_loss(state1)\n",
        "    loss2 = self.calculate_loss(state2)\n",
        "    grad0 = (loss0 - cur_loss) / self.step_size\n",
        "    grad1 = (loss1 - cur_loss) / self.step_size\n",
        "    grad2 = (loss2 - cur_loss) / self.step_size\n",
        "    #update the parameters:\n",
        "    self.theta0 = self.theta0 - self.lr * grad0\n",
        "    self.theta1 = self.theta2 - self.lr * grad1\n",
        "    self.theta2 = self.theta2 - self.lr * grad2\n",
        "    return cur_loss\n",
        "  \n",
        "  def train(self):\n",
        "    for i in range(1000):\n",
        "      self.losses.append(self.update())\n",
        "      #print(self.losses[i])\n",
        "\n",
        "\n",
        "\n",
        "model = SymFinder(0.05, 0.01)\n",
        "model.train()\n",
        "\n",
        "plt.scatter(range(len(model.losses)), model.losses)\n",
        "plt.show()\n",
        "\n",
        "\n",
        "  \n",
        "\n",
        "  \n",
        "\n",
        "  \n",
        "  \n",
        "  \n",
        "\n",
        "  \n"
      ]
    },
    {
      "cell_type": "code",
      "execution_count": 40,
      "metadata": {},
      "outputs": [
        {
          "name": "stdout",
          "output_type": "stream",
          "text": [
            "3.136588358690996 3.1365907307943854 3.1365907307943854\n"
          ]
        }
      ],
      "source": [
        "print(model.theta0, model.theta1, model.theta2)"
      ]
    }
  ],
  "metadata": {
    "colab": {
      "collapsed_sections": [],
      "name": "Untitled1.ipynb",
      "provenance": []
    },
    "interpreter": {
      "hash": "90779316f194e2e5479652345a17af545355bf918319becd7e11a824792fc4d0"
    },
    "kernelspec": {
      "display_name": "Python 3.8.5 64-bit ('base': conda)",
      "name": "python3"
    },
    "language_info": {
      "codemirror_mode": {
        "name": "ipython",
        "version": 3
      },
      "file_extension": ".py",
      "mimetype": "text/x-python",
      "name": "python",
      "nbconvert_exporter": "python",
      "pygments_lexer": "ipython3",
      "version": "3.8.5"
    }
  },
  "nbformat": 4,
  "nbformat_minor": 2
}
