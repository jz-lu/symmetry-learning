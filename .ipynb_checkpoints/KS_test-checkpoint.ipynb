{
 "cells": [
  {
   "cell_type": "code",
   "execution_count": 3,
   "metadata": {},
   "outputs": [
    {
     "name": "stdout",
     "output_type": "stream",
     "text": [
      "[0.00027396 0.00034054 0.00026133 ... 0.00617644 0.00822258 0.01692838]\n",
      "[[1. 1. 1. ... 1. 1. 1.]\n",
      " [0. 1. 1. ... 1. 1. 1.]\n",
      " [1. 0. 1. ... 1. 1. 1.]\n",
      " ...\n",
      " [0. 1. 0. ... 0. 0. 0.]\n",
      " [1. 0. 0. ... 0. 0. 0.]\n",
      " [0. 0. 0. ... 0. 0. 0.]]\n"
     ]
    }
   ],
   "source": [
    "import numpy as np\n",
    "from scipy.stats import kstest\n",
    "import torch\n",
    "input = np.loadtxt(\"data.txt\", dtype=float, delimiter=',')\n",
    "prob_ls = (input[:, 10])\n",
    "choices = (np.round_(input[:, 0:10]))\n",
    "print(prob_ls)\n",
    "print(choices)\n",
    "\n",
    "\n",
    "\n",
    "\n",
    "\n",
    "input = np.loadtxt(\"ref.txt\", dtype=float, delimiter=',')\n",
    "prob_ls2 = (input[:, 10])\n",
    "choices2 = (np.round_(input[:, 0:10]))\n",
    "\n",
    "\n",
    "data = np.random.choice(  \n",
    "    a = np.arange(prob_ls.size),  \n",
    "    size = 1000,  \n",
    "    p = prob_ls\n",
    " )                                                                                                                                                                                                                                                        \n",
    "#print(data)   \n"
   ]
  },
  {
   "cell_type": "code",
   "execution_count": 4,
   "metadata": {},
   "outputs": [],
   "source": [
    "d1 = [choices[data], prob_ls]"
   ]
  },
  {
   "cell_type": "code",
   "execution_count": 5,
   "metadata": {},
   "outputs": [],
   "source": [
    "def binlist_to_int(a):\n",
    "   return int(''.join(list(map(lambda x: str(int(x)), a))), 2)\n",
    "\n",
    "def spin_flip(d):\n",
    "    choices = d[0]\n",
    "    transformed_choices = [1 - x for x in choices]\n",
    "    return [transformed_choices, d[1]]\n",
    "\n",
    "\n",
    "\n",
    "def random_flip(d):\n",
    "    prob_ls = np.flip(d[1])\n",
    "    return [d[0], prob_ls]\n",
    "\n",
    "\n",
    "\n",
    "#d1 is of the form [[[0., 0., 0., 0., 0., 0., 1., 1., 1., 0.],\n",
    " #      [0., 0., 0., 0., 1., 1., 0., 1., 0., 0.],\n",
    " #      [1., 1., 1., 0., 0., 0., 0., 0., 0., 0.]], [0.2, 0.2, 0.6]]\n",
    "def KS(d1, d2, n):\n",
    "    choices1 = d1[0]\n",
    "    prob1 = d1[1]\n",
    "    choices2 = d2[0]\n",
    "    prob2 = d2[1]\n",
    "    \n",
    "    data1 = np.random.choice(  \n",
    "    a = np.arange(prob1.size),  \n",
    "    size = n,  \n",
    "    p = prob1\n",
    " )\n",
    "    data2 = np.random.choice(  \n",
    "    a = np.arange(prob2.size),  \n",
    "    size = n,  \n",
    "    p = prob2\n",
    " )\n",
    "    data1 = choices[data1]\n",
    "    data2 = choices[data2]\n",
    "    \n",
    "    int_data1 = np.array([binlist_to_int(d) for d in data1])\n",
    "    int_data2 = np.array([binlist_to_int(d) for d in data2])\n",
    "    \n",
    "    return kstest(int_data1, int_data2)"
   ]
  },
  {
   "cell_type": "code",
   "execution_count": 6,
   "metadata": {},
   "outputs": [
    {
     "name": "stdout",
     "output_type": "stream",
     "text": [
      "Analyzing distributions...KstestResult(statistic=0.029, pvalue=0.7946637387576738)\n",
      "done\n",
      "KstestResult(statistic=0.304, pvalue=3.5000098011524194e-41)\n",
      "KstestResult(statistic=0.698, pvalue=1.1212474452080554e-233)\n",
      "done\n",
      "KstestResult(statistic=0.821, pvalue=0.0)\n"
     ]
    }
   ],
   "source": [
    "print(\"Analyzing distributions...\", flush=True, end='')\n",
    "distribution0 = [choices, prob_ls]\n",
    "distribution1 = spin_flip(distribution0)\n",
    "distribution2 = random_flip(distribution0)\n",
    "print(KS(distribution0, distribution1, 1000))\n",
    "print(\"done\")\n",
    "print(KS(distribution0, distribution2, 1000))\n",
    "\n",
    "\n",
    "\n",
    "distribution20 = [choices2, prob_ls2]\n",
    "distribution21 = spin_flip(distribution0)\n",
    "distribution22 = random_flip(distribution0)\n",
    "print(KS(distribution20, distribution21, 1000))\n",
    "print(\"done\")\n",
    "print(KS(distribution20, distribution22, 1000))\n"
   ]
  },
  {
   "cell_type": "code",
   "execution_count": null,
   "metadata": {},
   "outputs": [],
   "source": []
  }
 ],
 "metadata": {
  "kernelspec": {
   "display_name": "Python 3",
   "language": "python",
   "name": "python3"
  },
  "language_info": {
   "codemirror_mode": {
    "name": "ipython",
    "version": 3
   },
   "file_extension": ".py",
   "mimetype": "text/x-python",
   "name": "python",
   "nbconvert_exporter": "python",
   "pygments_lexer": "ipython3",
   "version": "3.8.5"
  }
 },
 "nbformat": 4,
 "nbformat_minor": 4
}
