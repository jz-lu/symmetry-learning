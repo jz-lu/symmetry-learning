{
 "cells": [
  {
   "cell_type": "markdown",
   "metadata": {
    "id": "DWaFqLMXbUDa"
   },
   "source": [
    "**Problem 3**"
   ]
  },
  {
   "cell_type": "code",
   "execution_count": null,
   "metadata": {
    "colab": {
     "base_uri": "https://localhost:8080/",
     "height": 264
    },
    "id": "K7BmCK9BbWkp",
    "outputId": "57c56a24-e35f-4b08-f096-ee9f0393665e"
   },
   "outputs": [
    {
     "ename": "Error",
     "evalue": "Session cannot generate requests",
     "output_type": "error",
     "traceback": [
      "Error: Session cannot generate requests",
      "at S.executeCodeCell (/Users/kaiyinghou/.vscode/extensions/ms-toolsai.jupyter-2021.10.1101450599/out/client/extension.js:66:301742)",
      "at S.execute (/Users/kaiyinghou/.vscode/extensions/ms-toolsai.jupyter-2021.10.1101450599/out/client/extension.js:66:300732)",
      "at S.start (/Users/kaiyinghou/.vscode/extensions/ms-toolsai.jupyter-2021.10.1101450599/out/client/extension.js:66:296408)",
      "at runMicrotasks (<anonymous>)",
      "at processTicksAndRejections (internal/process/task_queues.js:93:5)",
      "at async t.CellExecutionQueue.executeQueuedCells (/Users/kaiyinghou/.vscode/extensions/ms-toolsai.jupyter-2021.10.1101450599/out/client/extension.js:66:312326)",
      "at async t.CellExecutionQueue.start (/Users/kaiyinghou/.vscode/extensions/ms-toolsai.jupyter-2021.10.1101450599/out/client/extension.js:66:311862)"
     ]
    }
   ],
   "source": [
    "\n",
    "# Useful additional packages \n",
    "import matplotlib.pyplot as plt\n",
    "import numpy as np\n",
    "from math import pi\n",
    "\n",
    "from qiskit import QuantumCircuit, ClassicalRegister, QuantumRegister, transpile\n",
    "from qiskit.tools.visualization import circuit_drawer\n",
    "from qiskit.quantum_info import state_fidelity\n",
    "from qiskit import BasicAer\n",
    "from qiskit.quantum_info import Operator\n",
    "from qiskit.quantum_info import Statevector\n",
    "import torch\n",
    "\n",
    "\n",
    "\n",
    "\n",
    "\"\"\"\n",
    "q = QuantumRegister(2)\n",
    "\n",
    "qc = QuantumCircuit(q)\n",
    "qc.u(pi,0,pi,q[0])\n",
    "qc.draw()\n",
    "\"\"\"\n",
    "\n",
    "\n",
    "#lets create GHZ state\n",
    "circ = QuantumCircuit(3)\n",
    "# Add a H gate on qubit 0, putting this qubit in superposition.\n",
    "circ.h(0)\n",
    "# Add a CX (CNOT) gate on control qubit 0 and target qubit 1, putting\n",
    "# the qubits in a Bell state.\n",
    "circ.cx(0, 1)\n",
    "# Add a CX (CNOT) gate on control qubit 0 and target qubit 2, putting\n",
    "# the qubits in a GHZ state.\n",
    "circ.cx(0, 2)\n",
    "# Set the intial state of the simulator to the ground state using from_int\n",
    "state = Statevector.from_int(0, 2**3)\n",
    "state1 = state.copy()\n",
    "# Evolve the state by the quantum circuit\n",
    "state = state.evolve(circ)\n",
    "print(state)\n",
    "print(state1)"
   ]
  },
  {
   "cell_type": "code",
   "execution_count": null,
   "metadata": {
    "colab": {
     "base_uri": "https://localhost:8080/",
     "height": 506
    },
    "id": "KkAYQqj1tM1x",
    "outputId": "c0469ff4-6910-433f-aad1-77672e48c334"
   },
   "outputs": [
    {
     "name": "stdout",
     "output_type": "stream",
     "text": [
      "0.30000001192092896\n"
     ]
    }
   ],
   "source": [
    "#function that apply the KS test to two probability list\n",
    "def KS(P1, P2):\n",
    "    assert len(P1) == len(P2)\n",
    "    cdf1 = [P1[0]]\n",
    "    cdf2 = [P2[0]]\n",
    "    for i in range(len(P1)-1):\n",
    "        cdf1.append(cdf1[i] + P1[i+1])\n",
    "        cdf2.append(cdf2[i] + P2[i+1])\n",
    "    difference = torch.tensor(cdf1) - torch.tensor(cdf2)\n",
    "    #print(difference)\n",
    "    return difference.abs().max().item()\n",
    "\n",
    "print(KS([0.2, 0.8], [0.5, 0.5]))"
   ]
  },
  {
   "cell_type": "code",
   "execution_count": null,
   "metadata": {},
   "outputs": [
    {
     "ename": "Error",
     "evalue": "Session cannot generate requests",
     "output_type": "error",
     "traceback": [
      "Error: Session cannot generate requests",
      "at S.executeCodeCell (/Users/kaiyinghou/.vscode/extensions/ms-toolsai.jupyter-2021.10.1101450599/out/client/extension.js:66:301742)",
      "at S.execute (/Users/kaiyinghou/.vscode/extensions/ms-toolsai.jupyter-2021.10.1101450599/out/client/extension.js:66:300732)",
      "at S.start (/Users/kaiyinghou/.vscode/extensions/ms-toolsai.jupyter-2021.10.1101450599/out/client/extension.js:66:296408)",
      "at runMicrotasks (<anonymous>)",
      "at processTicksAndRejections (internal/process/task_queues.js:93:5)",
      "at async t.CellExecutionQueue.executeQueuedCells (/Users/kaiyinghou/.vscode/extensions/ms-toolsai.jupyter-2021.10.1101450599/out/client/extension.js:66:312326)",
      "at async t.CellExecutionQueue.start (/Users/kaiyinghou/.vscode/extensions/ms-toolsai.jupyter-2021.10.1101450599/out/client/extension.js:66:311862)"
     ]
    }
   ],
   "source": [
    "from torch.nn import functional as F\n",
    "import torch.nn as nn\n",
    "\n",
    "#This is our KS network duh\n",
    "class KS_net(nn.Module):\n",
    "    def __init__(self):\n",
    "        super(KS_net, self).__init__()\n",
    "        self.linear1 = nn.Linear(9, 9)\n",
    "        self.linear2 = nn.Linear(9, 1)\n",
    "    \n",
    "    def forward(self, param):\n",
    "        x = F.relu(self.linear1(param))\n",
    "        #print(x)\n",
    "        x = self.linear2(x)\n",
    "        #print(x)\n",
    "        x = nn.Sigmoid()(x)\n",
    "        return x"
   ]
  },
  {
   "cell_type": "code",
   "execution_count": null,
   "metadata": {},
   "outputs": [
    {
     "ename": "Error",
     "evalue": "Session cannot generate requests",
     "output_type": "error",
     "traceback": [
      "Error: Session cannot generate requests",
      "at S.executeCodeCell (/Users/kaiyinghou/.vscode/extensions/ms-toolsai.jupyter-2021.10.1101450599/out/client/extension.js:66:301742)",
      "at S.execute (/Users/kaiyinghou/.vscode/extensions/ms-toolsai.jupyter-2021.10.1101450599/out/client/extension.js:66:300732)",
      "at S.start (/Users/kaiyinghou/.vscode/extensions/ms-toolsai.jupyter-2021.10.1101450599/out/client/extension.js:66:296408)",
      "at runMicrotasks (<anonymous>)",
      "at processTicksAndRejections (internal/process/task_queues.js:93:5)",
      "at async t.CellExecutionQueue.executeQueuedCells (/Users/kaiyinghou/.vscode/extensions/ms-toolsai.jupyter-2021.10.1101450599/out/client/extension.js:66:312326)",
      "at async t.CellExecutionQueue.start (/Users/kaiyinghou/.vscode/extensions/ms-toolsai.jupyter-2021.10.1101450599/out/client/extension.js:66:311862)"
     ]
    }
   ],
   "source": [
    "#this is where we try to learn the symmetry\n",
    "import random\n",
    "\n",
    "class SymFinder():\n",
    "  def __init__(self, eta, step_size):\n",
    "    self.parameters = torch.randint(0, 100, (3, 3)) * pi /100\n",
    "    #parameters[i,0] is the theta for ith qubit, 1 is \\phi, 2 is lambda\n",
    "    self.original_state = state\n",
    "    self.transformed_state = None\n",
    "    self.param_rate = eta # this is the learning rate for updating parameter\n",
    "    self.step_size = step_size\n",
    "    self.losses = []\n",
    "    self.known_symmetries = []\n",
    "\n",
    "    #now these are the nn attributes\n",
    "    self.data = torch.zeros(2000, 10) #data for training KS_net, 9 + 1 = param + value\n",
    "    self.data.requires_grad = False\n",
    "    self.learn_rate = 0.005 #learning rate for training KS_net\n",
    "    self.model = KS_net()\n",
    "    self.batch_size = 20 #batch for SGD\n",
    "    self.optimizer = torch.optim.Adam(self.model.parameters(), lr = self.learn_rate)\n",
    "    self.loss_func = nn.MSELoss()\n",
    "    self.memory_pointer = 0 #tell where to store new data\n",
    "    self.valid_range = 0#how much valid data is in the tensor, dont want to learn 00000\n",
    "\n",
    "    #these are attributes for putting the nn and KS together\n",
    "    self.reg_constant = 0.4\n",
    "    self.KS_threshold = 0.0001 #if less than value, declare it as symmetry\n",
    "    self.model2 = KS_net()\n",
    "    self.model2.load_state_dict(self.model.state_dict())\n",
    "\n",
    "  \n",
    "  #return a transformed state according to parameter\n",
    "  def transform(self, p):\n",
    "    q = QuantumRegister(3)\n",
    "    qc = QuantumCircuit(q)\n",
    "    qc.u(p[0,0].item(),p[0,1].item(),p[0,2].item(),q[0])\n",
    "    qc.u(p[1,0].item(),p[1,1].item(),p[1,2].item(),q[1])\n",
    "    qc.u(p[2,0].item(),p[2,1].item(),p[2,2].item(),q[2])\n",
    "    return self.original_state.copy().evolve(qc)\n",
    "\n",
    "\n",
    "  \n",
    "  def change_basis(self, state1, state2):\n",
    "    q = QuantumRegister(3)\n",
    "    qc = QuantumCircuit(q)\n",
    "    qc.u(pi/2, 0, 0, q[0])\n",
    "    qc.u(pi/2, 0, 0, q[1])\n",
    "    qc.u(pi/2, 0, 0, q[2])\n",
    "    return state1.copy().evolve(qc), state2.copy().evolve(qc)\n",
    "\n",
    "  #return the loss from KS test of original vs another state\n",
    "  def calculate_loss(self, state2, param):\n",
    "    #get the probability in the original basis\n",
    "    P1 = self.original_state.probabilities()\n",
    "    P2 = state2.probabilities()\n",
    "    #now we calculate probability in another basis\n",
    "    new_state1, new_state2 = self.change_basis(self.original_state, state2)\n",
    "    Q1 = new_state1.probabilities()\n",
    "    Q2 = new_state2.probabilities()\n",
    "    #lets add regularizer from our nn\n",
    "    v = self.model2(param.view(9))\n",
    "    #v = 0\n",
    "    return [KS(P1, P2) + KS(Q1, Q2) - self.reg_constant * v, KS(P1, P2) + KS(Q1, Q2)]\n",
    "  \n",
    "\n",
    "  def update_KS_net(self):\n",
    "    #this function use the data gathered to update KS_net parameters\n",
    "    self.optimizer.zero_grad()\n",
    "    num = min(self.valid_range, self.data.size(0))\n",
    "    indices = random.sample(range(num), self.batch_size)\n",
    "    sampled_data = self.data[indices].clone()\n",
    "    target = sampled_data[:, 9] #actual KS_value\n",
    "    current = self.model(sampled_data[:, 0:9]).squeeze()\n",
    "    loss = self.loss_func(current, target)\n",
    "    #self.losses.append(loss.item())\n",
    "    print(loss)\n",
    "    loss.backward()\n",
    "    self.optimizer.step()\n",
    "    \n",
    "  def update_param(self):\n",
    "    #calculate the gradient using good old finite difference:\n",
    "    cur_state = self.transform(self.parameters)\n",
    "    cur_loss = self.calculate_loss(cur_state, self.parameters)[0]\n",
    "    cur_true_loss = self.calculate_loss(cur_state, self.parameters)[1]\n",
    "    #lets store this data\n",
    "    self.data[self.memory_pointer, 0:9] = self.parameters.reshape(9)\n",
    "    self.data[self.memory_pointer, 9] = cur_true_loss\n",
    "    self.memory_pointer = (self.memory_pointer + 1) % self.data.size(0)\n",
    "    self.valid_range = self.valid_range + 1\n",
    "    grad = torch.zeros(3,3)\n",
    "    for i in range(3):\n",
    "        for j in range(3):\n",
    "            new_param = self.parameters.clone()\n",
    "            new_param[i,j] = new_param[i,j] + self.step_size\n",
    "            new_state = self.transform(new_param)\n",
    "            new_loss = self.calculate_loss(new_state, new_param)[0]\n",
    "            grad[i,j] = (new_loss - cur_loss) / self.step_size\n",
    "    #update the parameters:\n",
    "    self.parameters = self.parameters - self.param_rate * grad\n",
    "    #self.parameters.requires_grad = False\n",
    "    #self.parameters[:, 2] = torch.zeros(3)\n",
    "    return cur_true_loss\n",
    "  \n",
    "\n",
    "\n",
    "\n",
    "  def symfinding(self):\n",
    "    self.parameters = torch.randint(0, 100, (3, 3)) * 2 * pi /100\n",
    "    for i in range(700):\n",
    "      if self.update_param() < self.KS_threshold:\n",
    "        self.known_symmetries.append(self.update_param)\n",
    "        break\n",
    "\n",
    "\n",
    "\n",
    "  def train(self):\n",
    "    for i in range(50):\n",
    "      self.symfinding()\n",
    "      self.update_KS_net()\n",
    "      self.model2.load_state_dict(self.model.state_dict())\n",
    "\n",
    "\n",
    "  def current_matrix(self):\n",
    "    p = self.parameters\n",
    "    #p[0,:] = torch.tensor([3.14159, 0,3.1415926])\n",
    "    u0 = torch.tensor([[torch.cos(p[0,0]/2), -torch.exp(-p[0,2]*1j)*torch.sin(p[0,0]/2)],\\\n",
    "                    [torch.exp(p[0,1]*1j)*torch.sin(p[0,0]/2), torch.exp((p[0,1] + p[0,2])*1j)*torch.cos(p[0,0]/2)]])\n",
    "    u1 = torch.tensor([[torch.cos(p[1,0]/2), -torch.exp(-p[1,2]*1j)*torch.sin(p[1,0]/2)],\\\n",
    "                    [torch.exp(p[1,1]*1j)*torch.sin(p[1,0]/2), torch.exp((p[1,1] + p[1,2])*1j)*torch.cos(p[1,0]/2)]])\n",
    "    u2 = torch.tensor([[torch.cos(p[2,0]/2), -torch.exp(-p[2,2]*1j)*torch.sin(p[2,0]/2)],\\\n",
    "                    [torch.exp(p[2,1]*1j)*torch.sin(p[2,0]/2), torch.exp((p[2,1] + p[2,2])*1j)*torch.cos(p[2,0]/2)]])\n",
    "    return [u0, u1, u2]\n",
    "        \n",
    "        \n",
    "        \n",
    "        \n",
    "\n",
    "import numpy as np\n",
    "\n",
    "finder = SymFinder(0.05, 0.01)\n",
    "finder.train()\n",
    "plt.scatter(range(len(finder.losses)), finder.losses)\n",
    "\n",
    "plt.show()\n",
    "\n",
    "\n",
    "\n",
    "  \n",
    "\n",
    "  \n",
    "  \n",
    "  \n",
    "\n",
    "  \n"
   ]
  },
  {
   "cell_type": "code",
   "execution_count": null,
   "metadata": {},
   "outputs": [
    {
     "name": "stdout",
     "output_type": "stream",
     "text": [
      "[0.08713217079639435, 0.1461629867553711]\n"
     ]
    },
    {
     "data": {
      "image/png": "[encoded data removed]",
      "text/plain": [
       "<Figure size 432x288 with 1 Axes>"
      ]
     },
     "metadata": {
      "needs_background": "light"
     },
     "output_type": "display_data"
    }
   ],
   "source": [
    "print(finder.losses)\n",
    "plt.scatter(range(len(finder.losses)), finder.losses)\n",
    "\n",
    "plt.show()"
   ]
  },
  {
   "cell_type": "code",
   "execution_count": null,
   "metadata": {},
   "outputs": [
    {
     "ename": "SyntaxError",
     "evalue": "unexpected EOF while parsing (<ipython-input-33-31d575f077ea>, line 1)",
     "output_type": "error",
     "traceback": [
      "\u001b[0;36m  File \u001b[0;32m\"<ipython-input-33-31d575f077ea>\"\u001b[0;36m, line \u001b[0;32m1\u001b[0m\n\u001b[0;31m    print(torch.exp(torch.tensor([3+3j]))\u001b[0m\n\u001b[0m                                         ^\u001b[0m\n\u001b[0;31mSyntaxError\u001b[0m\u001b[0;31m:\u001b[0m unexpected EOF while parsing\n"
     ]
    }
   ],
   "source": [
    "print(torch.exp(torch.tensor([3+3j]))"
   ]
  },
  {
   "cell_type": "code",
   "execution_count": null,
   "metadata": {},
   "outputs": [],
   "source": []
  }
 ],
 "metadata": {
  "colab": {
   "collapsed_sections": [],
   "name": "Untitled1.ipynb",
   "provenance": []
  },
  "interpreter": {
   "hash": "90779316f194e2e5479652345a17af545355bf918319becd7e11a824792fc4d0"
  },
  "kernelspec": {
   "display_name": "Python 3",
   "language": "python",
   "name": "python3"
  },
  "language_info": {
   "codemirror_mode": {
    "name": "ipython",
    "version": 3
   },
   "file_extension": ".py",
   "mimetype": "text/x-python",
   "name": "python",
   "nbconvert_exporter": "python",
   "pygments_lexer": "ipython3",
   "version": "3.8.5"
  }
 },
 "nbformat": 4,
 "nbformat_minor": 4
}
