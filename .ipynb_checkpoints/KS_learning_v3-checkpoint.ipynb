{
 "cells": [
  {
   "cell_type": "markdown",
   "metadata": {
    "id": "DWaFqLMXbUDa"
   },
   "source": [
    "**Problem 3**"
   ]
  },
  {
   "cell_type": "code",
   "execution_count": 1,
   "metadata": {
    "colab": {
     "base_uri": "https://localhost:8080/",
     "height": 264
    },
    "id": "K7BmCK9BbWkp",
    "outputId": "57c56a24-e35f-4b08-f096-ee9f0393665e"
   },
   "outputs": [
    {
     "name": "stdout",
     "output_type": "stream",
     "text": [
      "Statevector([0.70710678+0.j, 0.        +0.j, 0.        +0.j,\n",
      "             0.        +0.j, 0.        +0.j, 0.        +0.j,\n",
      "             0.        +0.j, 0.70710678+0.j],\n",
      "            dims=(2, 2, 2))\n",
      "Statevector([1.+0.j, 0.+0.j, 0.+0.j, 0.+0.j, 0.+0.j, 0.+0.j, 0.+0.j,\n",
      "             0.+0.j],\n",
      "            dims=(2, 2, 2))\n"
     ]
    }
   ],
   "source": [
    "\n",
    "# Useful additional packages \n",
    "import matplotlib.pyplot as plt\n",
    "import numpy as np\n",
    "from math import pi\n",
    "\n",
    "from qiskit import QuantumCircuit, ClassicalRegister, QuantumRegister, transpile\n",
    "from qiskit.tools.visualization import circuit_drawer\n",
    "from qiskit.quantum_info import state_fidelity\n",
    "from qiskit import BasicAer\n",
    "from qiskit.quantum_info import Operator\n",
    "from qiskit.quantum_info import Statevector\n",
    "import torch\n",
    "\n",
    "\n",
    "\n",
    "\n",
    "\"\"\"\n",
    "q = QuantumRegister(2)\n",
    "\n",
    "qc = QuantumCircuit(q)\n",
    "qc.u(pi,0,pi,q[0])\n",
    "qc.draw()\n",
    "\"\"\"\n",
    "\n",
    "\n",
    "#lets create GHZ state\n",
    "circ = QuantumCircuit(3)\n",
    "# Add a H gate on qubit 0, putting this qubit in superposition.\n",
    "circ.h(0)\n",
    "# Add a CX (CNOT) gate on control qubit 0 and target qubit 1, putting\n",
    "# the qubits in a Bell state.\n",
    "circ.cx(0, 1)\n",
    "# Add a CX (CNOT) gate on control qubit 0 and target qubit 2, putting\n",
    "# the qubits in a GHZ state.\n",
    "circ.cx(0, 2)\n",
    "# Set the intial state of the simulator to the ground state using from_int\n",
    "state = Statevector.from_int(0, 2**3)\n",
    "state1 = state.copy()\n",
    "# Evolve the state by the quantum circuit\n",
    "state = state.evolve(circ)\n",
    "print(state)\n",
    "print(state1)"
   ]
  },
  {
   "cell_type": "code",
   "execution_count": 38,
   "metadata": {
    "colab": {
     "base_uri": "https://localhost:8080/",
     "height": 506
    },
    "id": "KkAYQqj1tM1x",
    "outputId": "c0469ff4-6910-433f-aad1-77672e48c334"
   },
   "outputs": [
    {
     "name": "stdout",
     "output_type": "stream",
     "text": [
      "tensor(0.0900)\n"
     ]
    }
   ],
   "source": [
    "#function that apply the KS test to two probability list\n",
    "def KS(P1, P2):\n",
    "    assert len(P1) == len(P2)\n",
    "    cdf1 = [P1[0]]\n",
    "    cdf2 = [P2[0]]\n",
    "    for i in range(len(P1)-1):\n",
    "        cdf1.append(cdf1[i] + P1[i+1])\n",
    "        cdf2.append(cdf2[i] + P2[i+1])\n",
    "    difference = torch.tensor(cdf1) - torch.tensor(cdf2)\n",
    "    #print(difference)\n",
    "    return difference.abs().max().item()\n",
    "\n",
    "def KS(P1, P2):\n",
    "    P1 = torch.tensor(P1)\n",
    "    P2 = torch.tensor(P2)\n",
    "    return torch.pow(P1 - P2, 2).sum() / P1.size(0)\n",
    "\n",
    "print(KS([0.2, 0.8], [0.5, 0.5]))"
   ]
  },
  {
   "cell_type": "code",
   "execution_count": 39,
   "metadata": {},
   "outputs": [],
   "source": [
    "from torch.nn import functional as F\n",
    "import torch.nn as nn\n",
    "\n",
    "#This is our KS network duh\n",
    "class KS_net(nn.Module):\n",
    "    def __init__(self):\n",
    "        super(KS_net, self).__init__()\n",
    "        self.linear1 = nn.Linear(9, 100)\n",
    "        self.linear2 = nn.Linear(100, 100)\n",
    "        self.linear3 = nn.Linear(100, 1)\n",
    "    \n",
    "    def forward(self, param):\n",
    "        x = F.relu(self.linear1(param))\n",
    "        #print(x)\n",
    "        x = F.relu(self.linear2(x))\n",
    "        #print(x)\n",
    "        x = nn.Sigmoid()(self.linear3(x))\n",
    "        return x"
   ]
  },
  {
   "cell_type": "code",
   "execution_count": 40,
   "metadata": {},
   "outputs": [
    {
     "name": "stdout",
     "output_type": "stream",
     "text": [
      "tensor(29.1996)\n",
      "0\n",
      "100\n",
      "200\n",
      "300\n",
      "400\n",
      "500\n",
      "600\n",
      "700\n",
      "800\n",
      "900\n"
     ]
    },
    {
     "data": {
      "image/png": "[encoded data removed]",
      "text/plain": [
       "<Figure size 432x288 with 1 Axes>"
      ]
     },
     "metadata": {
      "needs_background": "light"
     },
     "output_type": "display_data"
    },
    {
     "name": "stdout",
     "output_type": "stream",
     "text": [
      "tensor(7.6459)\n"
     ]
    }
   ],
   "source": [
    "#this is where we try to learn the symmetry\n",
    "import random\n",
    "\n",
    "class SymFinder():\n",
    "  def __init__(self, eta, step_size):\n",
    "    self.parameters = torch.randint(0, 100, (3, 3)) * pi /100\n",
    "    #parameters[i,0] is the theta for ith qubit, 1 is \\phi, 2 is lambda\n",
    "    self.original_state = state\n",
    "    self.transformed_state = None\n",
    "    self.param_rate = eta # this is the learning rate for updating parameter\n",
    "    self.step_size = step_size\n",
    "    self.losses = []\n",
    "    self.known_symmetries = []\n",
    "\n",
    "    #now these are the nn attributes\n",
    "    self.train_data = torch.zeros(10000, 10) #data for training KS_net, 9 + 1 = param + value\n",
    "    self.train_data.requires_grad = False\n",
    "    self.test_data = torch.zeros(1000, 10)\n",
    "    self.learn_rate = 0.01 #learning rate for training KS_net\n",
    "    self.model = KS_net()\n",
    "    self.batch_size = 20 #batch for SGD\n",
    "    self.optimizer = torch.optim.Adam(self.model.parameters(), lr = self.learn_rate)\n",
    "    self.loss_func = nn.MSELoss()\n",
    "    self.memory_pointer = 0 #tell where to store new data\n",
    "    self.valid_range = 0#how much valid data is in the tensor, dont want to learn 00000\n",
    "\n",
    "\n",
    "\n",
    "  \n",
    "  #return a transformed state according to parameter\n",
    "  def transform(self, p):\n",
    "    q = QuantumRegister(3)\n",
    "    qc = QuantumCircuit(q)\n",
    "    qc.u(p[0,0].item(),p[0,1].item(),p[0,2].item(),q[0])\n",
    "    qc.u(p[1,0].item(),p[1,1].item(),p[1,2].item(),q[1])\n",
    "    qc.u(p[2,0].item(),p[2,1].item(),p[2,2].item(),q[2])\n",
    "    return self.original_state.copy().evolve(qc)\n",
    "\n",
    "\n",
    "  \n",
    "  def change_basis(self, state1, state2):\n",
    "    q = QuantumRegister(3)\n",
    "    qc = QuantumCircuit(q)\n",
    "    qc.u(pi/2, 0, 0, q[0])\n",
    "    qc.u(pi/2, 0, 0, q[1])\n",
    "    qc.u(pi/2, 0, 0, q[2])\n",
    "    return state1.copy().evolve(qc), state2.copy().evolve(qc)\n",
    "\n",
    "  #return the loss from KS test of original vs another state\n",
    "  def calculate_loss(self, state2, param):\n",
    "    #get the probability in the original basis\n",
    "    P1 = self.original_state.probabilities()\n",
    "    P2 = state2.probabilities()\n",
    "    #now we calculate probability in another basis\n",
    "    new_state1, new_state2 = self.change_basis(self.original_state, state2)\n",
    "    Q1 = new_state1.probabilities()\n",
    "    Q2 = new_state2.probabilities()\n",
    "    return [KS(P1, P2) + 0 * KS(Q1, Q2), KS(P1, P2) + 1 * KS(Q1, Q2)]\n",
    "  \n",
    "\n",
    "  def generate_data(self):\n",
    "    #generate the test data and train data\n",
    "    for i in range(self.test_data.size(0)):\n",
    "      parameters = torch.randint(0, 200, (3, 3)) * 2 * pi / 200\n",
    "      target = torch.tensor([self.calculate_loss(self.transform(parameters), parameters)[1]])\n",
    "      self.test_data[i, 0:9] = parameters.view(9)\n",
    "      self.test_data[i, 9] = target\n",
    "    for i in range(self.train_data.size(0)):\n",
    "      parameters = torch.randint(0, 200, (3, 3)) * 2 * pi / 200\n",
    "      target = torch.tensor([self.calculate_loss(self.transform(parameters), parameters)[1]])\n",
    "      self.train_data[i, 0:9] = parameters.view(9)\n",
    "      self.train_data[i, 9] = target\n",
    "\n",
    "\n",
    "\n",
    "\n",
    "  def train_KS_net(self):\n",
    "    #this function use the data gathered to update KS_net parameters\n",
    "    for i in range(1000):\n",
    "      self.optimizer.zero_grad()\n",
    "      num = self.train_data.size(0)\n",
    "      indices = random.sample(range(num), self.batch_size)\n",
    "      sampled_data = self.train_data[indices].clone()\n",
    "      target = sampled_data[:, 9] #actual KS_value\n",
    "      current = self.model(sampled_data[:, 0:9]).squeeze()\n",
    "      loss = self.loss_func(current, target)\n",
    "      self.losses.append(loss.item())\n",
    "      #print(loss)\n",
    "      loss.backward()\n",
    "      self.optimizer.step()\n",
    "      if i % 100 == 0:\n",
    "        print(i)\n",
    "      \n",
    "  def test_error(self):\n",
    "    current = self.model(self.test_data[:, 0:9]).detach_()\n",
    "    target = self.test_data[:, 9]\n",
    "    return torch.pow(current- target, 2).sum() / current.size(0)\n",
    "\n",
    "\n",
    "\n",
    "  def current_matrix(self):\n",
    "    p = self.parameters\n",
    "    #p[0,:] = torch.tensor([3.14159, 0,3.1415926])\n",
    "    u0 = torch.tensor([[torch.cos(p[0,0]/2), -torch.exp(-p[0,2]*1j)*torch.sin(p[0,0]/2)],\\\n",
    "                    [torch.exp(p[0,1]*1j)*torch.sin(p[0,0]/2), torch.exp((p[0,1] + p[0,2])*1j)*torch.cos(p[0,0]/2)]])\n",
    "    u1 = torch.tensor([[torch.cos(p[1,0]/2), -torch.exp(-p[1,2]*1j)*torch.sin(p[1,0]/2)],\\\n",
    "                    [torch.exp(p[1,1]*1j)*torch.sin(p[1,0]/2), torch.exp((p[1,1] + p[1,2])*1j)*torch.cos(p[1,0]/2)]])\n",
    "    u2 = torch.tensor([[torch.cos(p[2,0]/2), -torch.exp(-p[2,2]*1j)*torch.sin(p[2,0]/2)],\\\n",
    "                    [torch.exp(p[2,1]*1j)*torch.sin(p[2,0]/2), torch.exp((p[2,1] + p[2,2])*1j)*torch.cos(p[2,0]/2)]])\n",
    "    return [u0, u1, u2]\n",
    "        \n",
    "        \n",
    "        \n",
    "        \n",
    "\n",
    "import numpy as np\n",
    "\n",
    "finder = SymFinder(0.05, 0.01)\n",
    "finder.generate_data()\n",
    "print(finder.test_error())\n",
    "finder.train_KS_net()\n",
    "plt.plot(range(len(finder.losses)), finder.losses)\n",
    "\n",
    "plt.show()\n",
    "print(finder.test_error())\n",
    "\n",
    "\n",
    "  \n",
    "\n",
    "  \n",
    "  \n",
    "  \n",
    "\n",
    "  \n"
   ]
  },
  {
   "cell_type": "code",
   "execution_count": 58,
   "metadata": {},
   "outputs": [],
   "source": [
    "from torch.nn import functional as F\n",
    "import torch.nn as nn\n",
    "\n",
    "#This is our KS network duh\n",
    "class KS_net(nn.Module):\n",
    "    def __init__(self):\n",
    "        super(KS_net, self).__init__()\n",
    "        self.linear1 = nn.Linear(9, 100)\n",
    "        self.linear2 = nn.Linear(100, 100)\n",
    "        self.linear3 = nn.Linear(100, 100)\n",
    "        self.linear4 = nn.Linear(100, 1)\n",
    "    \n",
    "    def forward(self, param):\n",
    "        x = F.relu(self.linear1(param))\n",
    "        #print(x)\n",
    "        x = F.relu(self.linear2(x))\n",
    "        #print(x)\n",
    "        x = F.relu(self.linear3(x))\n",
    "        x = self.linear4(x)\n",
    "        return x"
   ]
  },
  {
   "cell_type": "code",
   "execution_count": 71,
   "metadata": {},
   "outputs": [
    {
     "name": "stdout",
     "output_type": "stream",
     "text": [
      "tensor([-0.1261]) tensor(0.0622)\n",
      "tensor([-0.0013]) tensor(0.1010)\n",
      "tensor([-0.0296]) tensor(0.0694)\n",
      "tensor([-0.0819]) tensor(0.0187)\n",
      "tensor([-0.0213]) tensor(0.0774)\n",
      "tensor([-0.0074]) tensor(0.0829)\n",
      "tensor([0.1734]) tensor(0.0639)\n",
      "tensor([-0.1518]) tensor(0.0591)\n",
      "tensor([0.1847]) tensor(0.1038)\n",
      "tensor([-0.0445]) tensor(0.0539)\n",
      "tensor(23.9234)\n",
      "0\n",
      "100\n",
      "200\n",
      "300\n",
      "400\n",
      "500\n",
      "600\n",
      "700\n",
      "800\n",
      "900\n"
     ]
    },
    {
     "data": {
      "image/png": "[encoded data removed]",
      "text/plain": [
       "<Figure size 432x288 with 1 Axes>"
      ]
     },
     "metadata": {
      "needs_background": "light"
     },
     "output_type": "display_data"
    },
    {
     "name": "stdout",
     "output_type": "stream",
     "text": [
      "tensor(1.0812)\n",
      "tensor([0.0737]) tensor(0.0622)\n",
      "tensor([0.0834]) tensor(0.1010)\n",
      "tensor([0.0755]) tensor(0.0694)\n",
      "tensor([0.0771]) tensor(0.0187)\n",
      "tensor([0.0889]) tensor(0.0774)\n",
      "tensor([0.0738]) tensor(0.0829)\n",
      "tensor([0.0824]) tensor(0.0639)\n",
      "tensor([0.0916]) tensor(0.0591)\n",
      "tensor([0.0984]) tensor(0.1038)\n",
      "tensor([0.0755]) tensor(0.0539)\n"
     ]
    }
   ],
   "source": [
    "trainer = SymFinder(1,1)\n",
    "trainer.train_data = finder.train_data[0: 1000, :]\n",
    "trainer.test_data = finder.test_data\n",
    "trainer.learn_rate = 0.00005\n",
    "for i in range(10):\n",
    "    print(trainer.model(trainer.train_data[i, 0: 9]).detach_(), trainer.train_data[i, 9])\n",
    "#print(trainer.train_data.max())\n",
    "print(trainer.test_error())\n",
    "trainer.train_KS_net()\n",
    "plt.plot(range(len(trainer.losses)),np.log10(trainer.losses))\n",
    "\n",
    "plt.show()\n",
    "print(trainer.test_error())\n",
    "\n",
    "for i in range(10):\n",
    "    print(trainer.model(trainer.train_data[i, 0: 9]).detach_(), trainer.train_data[i, 9])\n"
   ]
  },
  {
   "cell_type": "code",
   "execution_count": 14,
   "metadata": {},
   "outputs": [
    {
     "data": {
      "image/png": "[encoded data removed]",
      "text/plain": [
       "<Figure size 1440x216 with 1 Axes>"
      ]
     },
     "metadata": {
      "needs_background": "light"
     },
     "output_type": "display_data"
    },
    {
     "name": "stdout",
     "output_type": "stream",
     "text": [
      "0.46787839062712644\n",
      "tensor([0.6822])\n",
      "---\n",
      "0.6126134668151071\n",
      "tensor([0.4040])\n",
      "---\n",
      "0.5368851594756203\n",
      "tensor([0.5376])\n",
      "---\n",
      "0.5845505092379504\n",
      "tensor([0.8082])\n",
      "---\n",
      "0.642044853580394\n",
      "tensor([0.6389])\n",
      "---\n",
      "0.612134229615727\n",
      "tensor([0.7014])\n",
      "---\n",
      "0.5622074012310827\n",
      "tensor([0.6197])\n",
      "---\n",
      "0.25699068247802304\n",
      "tensor([0.8044])\n",
      "---\n",
      "0.7792882420990406\n",
      "tensor([0.6071])\n",
      "---\n",
      "0.6569091453347178\n",
      "tensor([0.5575])\n",
      "---\n"
     ]
    }
   ],
   "source": [
    "plt.figure(figsize=(20, 3))\n",
    "\n",
    "plt.scatter(range(len(finder.losses)), np.log10(finder.losses))\n",
    "\n",
    "plt.show()\n",
    "\n",
    "\n",
    "def matrix(p):\n",
    "    #p[0,:] = torch.tensor([3.14159, 0,3.1415926])\n",
    "    u0 = torch.tensor([[torch.cos(p[0,0]/2), -torch.exp(-p[0,2]*1j)*torch.sin(p[0,0]/2)],\\\n",
    "                    [torch.exp(p[0,1]*1j)*torch.sin(p[0,0]/2), torch.exp((p[0,1] + p[0,2])*1j)*torch.cos(p[0,0]/2)]])\n",
    "    u1 = torch.tensor([[torch.cos(p[1,0]/2), -torch.exp(-p[1,2]*1j)*torch.sin(p[1,0]/2)],\\\n",
    "                    [torch.exp(p[1,1]*1j)*torch.sin(p[1,0]/2), torch.exp((p[1,1] + p[1,2])*1j)*torch.cos(p[1,0]/2)]])\n",
    "    u2 = torch.tensor([[torch.cos(p[2,0]/2), -torch.exp(-p[2,2]*1j)*torch.sin(p[2,0]/2)],\\\n",
    "                    [torch.exp(p[2,1]*1j)*torch.sin(p[2,0]/2), torch.exp((p[2,1] + p[2,2])*1j)*torch.cos(p[2,0]/2)]])\n",
    "    return [u0, u1, u2]\n",
    "\n",
    "\n",
    "for i in range(10):\n",
    "    parameters = torch.randint(0, 100, (3, 3)) * 2 * pi /100\n",
    "    state2 = finder.transform(parameters)\n",
    "    print\n",
    "    print(finder.calculate_loss(state2, parameters)[1])\n",
    "    print(finder.model(parameters.view(9)).detach_())\n",
    "    print(\"---\")\n",
    "\n",
    "\n",
    "for p in finder.known_symmetries:\n",
    "    print(matrix(p)[0])\n",
    "    print(matrix(p)[1])\n",
    "    print(matrix(p)[2])\n",
    "    print(\"---\")"
   ]
  },
  {
   "cell_type": "code",
   "execution_count": 6,
   "metadata": {},
   "outputs": [
    {
     "ename": "SyntaxError",
     "evalue": "unexpected EOF while parsing (<ipython-input-6-31d575f077ea>, line 1)",
     "output_type": "error",
     "traceback": [
      "\u001b[0;36m  File \u001b[0;32m\"<ipython-input-6-31d575f077ea>\"\u001b[0;36m, line \u001b[0;32m1\u001b[0m\n\u001b[0;31m    print(torch.exp(torch.tensor([3+3j]))\u001b[0m\n\u001b[0m                                         ^\u001b[0m\n\u001b[0;31mSyntaxError\u001b[0m\u001b[0;31m:\u001b[0m unexpected EOF while parsing\n"
     ]
    }
   ],
   "source": [
    "print(torch.exp(torch.tensor([3+3j]))"
   ]
  },
  {
   "cell_type": "code",
   "execution_count": null,
   "metadata": {},
   "outputs": [],
   "source": []
  }
 ],
 "metadata": {
  "colab": {
   "collapsed_sections": [],
   "name": "Untitled1.ipynb",
   "provenance": []
  },
  "interpreter": {
   "hash": "90779316f194e2e5479652345a17af545355bf918319becd7e11a824792fc4d0"
  },
  "kernelspec": {
   "display_name": "Python 3",
   "language": "python",
   "name": "python3"
  },
  "language_info": {
   "codemirror_mode": {
    "name": "ipython",
    "version": 3
   },
   "file_extension": ".py",
   "mimetype": "text/x-python",
   "name": "python",
   "nbconvert_exporter": "python",
   "pygments_lexer": "ipython3",
   "version": "3.8.5"
  }
 },
 "nbformat": 4,
 "nbformat_minor": 4
}
