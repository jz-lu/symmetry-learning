{
 "cells": [
  {
   "cell_type": "code",
   "execution_count": 10,
   "metadata": {},
   "outputs": [],
   "source": [
    "import cirq\n",
    "import numpy as np\n",
    "from cirq import Simulator\n",
    "from cirq.ops import CZ, H, S, CNOT,I\n",
    "from cirq.circuits import InsertStrategy\n",
    "from random import choices\n",
    "from random import sample\n",
    "import itertools\n",
    "import random\n",
    "import matplotlib.pyplot as plt\n",
    "from matplotlib.pyplot import figure\n",
    "from collections import Counter\n",
    "from scipy.linalg import fractional_matrix_power\n",
    "%matplotlib inline"
   ]
  },
  {
   "cell_type": "code",
   "execution_count": 11,
   "metadata": {},
   "outputs": [],
   "source": [
    "num_qubits=3\n",
    "nreal=1000\n",
    "noise=0.0"
   ]
  },
  {
   "cell_type": "code",
   "execution_count": 12,
   "metadata": {},
   "outputs": [],
   "source": [
    "#qmeas\n",
    "l = range(num_qubits*num_qubits)\n",
    "l1=[]\n",
    "l2=[]\n",
    "for j in range(0,num_qubits*num_qubits,num_qubits):\n",
    "    l1.append(j)\n",
    "    l2.append(j+num_qubits-1)"
   ]
  },
  {
   "cell_type": "code",
   "execution_count": 13,
   "metadata": {},
   "outputs": [],
   "source": [
    "qmeas=[]\n",
    "for i in range(len(l)):\n",
    "    \n",
    "    if (i not in l1 and i not in l2):\n",
    "        dummy=[]\n",
    "        dummy.append(i)\n",
    "        if (i-num_qubits in l):\n",
    "            dummy.append(i-num_qubits)\n",
    "        if (i-1 in l):\n",
    "            dummy.append(i-1)\n",
    "        if (i+1 in l):\n",
    "            dummy.append(i+1)\n",
    "        if (i+num_qubits in l):\n",
    "            dummy.append(i+num_qubits)\n",
    "        qmeas.append(dummy)\n",
    "   \n",
    "    elif(i in l1 ):\n",
    "        dummy=[]\n",
    "        dummy.append(i)\n",
    "        if (i-num_qubits in l):\n",
    "            dummy.append(i-num_qubits)\n",
    "        #if (i-1 in l):\n",
    "            #dummy.append(i-1)\n",
    "        if (i+1 in l):\n",
    "            dummy.append(i+1)\n",
    "        if (i+num_qubits in l):\n",
    "            dummy.append(i+num_qubits)\n",
    "        qmeas.append(dummy)\n",
    "        \n",
    "    elif(i in l2 ):\n",
    "        dummy=[]\n",
    "        dummy.append(i)\n",
    "        if (i-num_qubits in l):\n",
    "            dummy.append(i-num_qubits)\n",
    "        if (i-1 in l):\n",
    "            dummy.append(i-1)\n",
    "        #if (i+1 in l):\n",
    "            #dummy.append(i+1)\n",
    "        if (i+num_qubits in l):\n",
    "            dummy.append(i+num_qubits)\n",
    "        qmeas.append(dummy)"
   ]
  },
  {
   "cell_type": "code",
   "execution_count": 14,
   "metadata": {},
   "outputs": [
    {
     "data": {
      "text/plain": [
       "[[0, 1, 3],\n",
       " [1, 0, 2, 4],\n",
       " [2, 1, 5],\n",
       " [3, 0, 4, 6],\n",
       " [4, 1, 3, 5, 7],\n",
       " [5, 2, 4, 8],\n",
       " [6, 3, 7],\n",
       " [7, 4, 6, 8],\n",
       " [8, 5, 7]]"
      ]
     },
     "execution_count": 14,
     "metadata": {},
     "output_type": "execute_result"
    }
   ],
   "source": [
    "qmeas"
   ]
  },
  {
   "cell_type": "code",
   "execution_count": 15,
   "metadata": {},
   "outputs": [],
   "source": [
    "#np.savez(\"Data_cluster_stablizer/ghz_q16_qmeas.npz\",input3=qmeas)"
   ]
  },
  {
   "cell_type": "code",
   "execution_count": 16,
   "metadata": {},
   "outputs": [],
   "source": [
    "# Build a n*n grid\n",
    "q=[]\n",
    "for i in range(num_qubits):\n",
    "    [q.append(cirq.GridQubit(i, j))for j in range(num_qubits)] "
   ]
  },
  {
   "cell_type": "code",
   "execution_count": 21,
   "metadata": {},
   "outputs": [
    {
     "ename": "TypeError",
     "evalue": "'AxesSubplot' object is not iterable",
     "output_type": "error",
     "traceback": [
      "\u001b[0;31m---------------------------------------------------------------------------\u001b[0m",
      "\u001b[0;31mTypeError\u001b[0m                                 Traceback (most recent call last)",
      "\u001b[0;32m<ipython-input-21-a82ff733d472>\u001b[0m in \u001b[0;36m<module>\u001b[0;34m\u001b[0m\n\u001b[1;32m     81\u001b[0m \u001b[0;34m\u001b[0m\u001b[0m\n\u001b[1;32m     82\u001b[0m     \u001b[0mcount_new\u001b[0m\u001b[0;34m=\u001b[0m\u001b[0;34m{\u001b[0m\u001b[0;34m}\u001b[0m\u001b[0;34m\u001b[0m\u001b[0;34m\u001b[0m\u001b[0m\n\u001b[0;32m---> 83\u001b[0;31m     \u001b[0;32mfor\u001b[0m \u001b[0mi\u001b[0m\u001b[0;34m,\u001b[0m\u001b[0mcont\u001b[0m \u001b[0;32min\u001b[0m \u001b[0menumerate\u001b[0m\u001b[0;34m(\u001b[0m\u001b[0mvalues\u001b[0m\u001b[0;34m)\u001b[0m\u001b[0;34m:\u001b[0m\u001b[0;34m\u001b[0m\u001b[0;34m\u001b[0m\u001b[0m\n\u001b[0m\u001b[1;32m     84\u001b[0m         \u001b[0;32mif\u001b[0m \u001b[0mcont\u001b[0m\u001b[0;34m!=\u001b[0m\u001b[0;36m0\u001b[0m\u001b[0;34m:\u001b[0m\u001b[0;34m\u001b[0m\u001b[0;34m\u001b[0m\u001b[0m\n\u001b[1;32m     85\u001b[0m             \u001b[0mcount_new\u001b[0m\u001b[0;34m[\u001b[0m\u001b[0mi\u001b[0m\u001b[0;34m]\u001b[0m\u001b[0;34m=\u001b[0m\u001b[0mcont\u001b[0m\u001b[0;34m\u001b[0m\u001b[0;34m\u001b[0m\u001b[0m\n",
      "\u001b[0;31mTypeError\u001b[0m: 'AxesSubplot' object is not iterable"
     ]
    },
    {
     "data": {
      "image/png": "[encoded data removed]",
      "text/plain": [
       "<Figure size 432x288 with 1 Axes>"
      ]
     },
     "metadata": {
      "needs_background": "light"
     },
     "output_type": "display_data"
    }
   ],
   "source": [
    "par=[]\n",
    "for k in range(len(qmeas)):\n",
    "#for k in range(1):    \n",
    "    circuit_2DC= cirq.Circuit()\n",
    "    for i in range(len(q)):\n",
    "        circuit_2DC.append(H(q[i]))\n",
    "        \n",
    "    for i in range(0,len(q)-1,num_qubits):\n",
    "        for j in range(0,num_qubits-1):\n",
    "            circuit_2DC .append([CZ(q[i+j], q[i+j+1])],strategy=InsertStrategy.EARLIEST)\n",
    "            #circuit_2DC .append([CZ(q[i+1], q[i+2])],strategy=InsertStrategy.EARLIEST)\n",
    "        \n",
    "    for i in range(0,len(q)-num_qubits):\n",
    "        circuit_2DC .append([CZ(q[i], q[i+num_qubits])],strategy=InsertStrategy.NEW)\n",
    "        \n",
    "\n",
    "        \n",
    "    if 1==0:\n",
    "        list1=np.arange(0,3).tolist()\n",
    "        for i in range(len(q)):\n",
    "            k=(random.choice(list1)) \n",
    "            angle=k*np.pi/4\n",
    "            if i==0:\n",
    "                circuit_2DC.append(cirq.Rz(angle)(q[i]),strategy=InsertStrategy.NEW) \n",
    "            else:\n",
    "                circuit_2DC.append(cirq.Rz(angle)(q[i]),strategy=InsertStrategy.INLINE) \n",
    "            \n",
    "    for i in range(len(q)):      \n",
    "        if i==0:\n",
    "            circuit_2DC.append(cirq.depolarize(p=noise)(q[i]),strategy=InsertStrategy.NEW)\n",
    "            #circuit.append(cirq.amplitude_damp(noise)(q[i]),strategy=InsertStrategy.NEW)\n",
    "        else:\n",
    "            circuit_2DC.append(cirq.depolarize(p=noise)(q[i]),strategy=InsertStrategy.INLINE)\n",
    "            #circuit.append(cirq.amplitude_damp(noise)(q[i]),strategy=InsertStrategy.INLINE)\n",
    "            \n",
    "    for i in range(0,len(q)):\n",
    "        if i==k:\n",
    "            circuit_2DC.append(H(q[i])) \n",
    "        else:\n",
    "            circuit_2DC.append(I(q[i])) \n",
    "    \n",
    "    \n",
    "    circuit_meas=circuit_2DC\n",
    "    \n",
    "    #Old method\n",
    "    \n",
    "    #for i in range(len(qmeas[k])):\n",
    "        #circuit_meas.append(cirq.measure(q[qmeas[k][i]], key='x'))\n",
    "    ##print(circuit_2DC)\n",
    "    \n",
    "    \n",
    "    #simulator_meas_DP = cirq.Simulator()\n",
    "    #result_meas_DP = simulator_meas_DP.run(circuit_meas, repetitions=nreal)\n",
    "    #result_meas=result_meas_DP\n",
    "    \n",
    "    ##simulator_meas_DP = cirq.DensityMatrixSimulator()\n",
    "    ##result_meas_DP =  simulator_meas_DP.run(circuit_meas, repetitions=nreal)\n",
    "    ##result_meas=result_meas_DP   \n",
    "\n",
    "    #counts=print(result_meas.histogram(key='x'))\n",
    "    #outputlogical=result_meas.measurements.get(\"x\")\n",
    "    ## output=int(outputlogical=='True')\n",
    "    #output1=outputlogical*1;\n",
    "    #output2=output1.T\n",
    "    #output3=np.transpose(output2)\n",
    "    #print(output3.shape)\n",
    "    #np.savez(\"Data_cluster_stablizer/cls_q25_DP\"+str(noise)+\"_qubit\"+str(k)+\".npz\",input3=output3)\n",
    "    ##np.savez(\"Data_pure_random_t8/pure_q8_AD\"+str(noise)+\"_m\"+str(k+1)+\"_depth\"+str(j+1)+\".npz\",input3=output3)\n",
    "    \n",
    "    \n",
    "   ##New method\n",
    "\n",
    "    for i in range(len(qmeas[k])):\n",
    "        circuit_meas.append(cirq.measure(q[qmeas[k][i]]))\n",
    "        \n",
    "        \n",
    "    simulator_meas_DP = cirq.Simulator()\n",
    "    result_meas_DP = simulator_meas_DP.run(circuit_meas, repetitions=nreal)\n",
    "    result_meas=result_meas_DP\n",
    "    cirq.vis.plot_state_histogram(result_meas)\n",
    "        \n",
    "    key_list=list(result_meas.measurements.keys())\n",
    "    result_array=[]\n",
    "    for i in range(len(key_list)):\n",
    "        result_array.append(result_meas.measurements.get(key_list[i]))\n",
    "    output1=np.array(result_array)\n",
    "    output2=output1.T;\n",
    "    shape=output2.shape;\n",
    "    output3=np.reshape(output2,(shape[1],shape[2]))\n",
    "    print(output3.shape)\n",
    "    #np.savez(Data_GHZ/Data_GHZ_Stablizer_rand/ghz_q8_AD\"/ghz_q8_DP\"+str(noise)+\"m\"+str(k)+\"_sample\"+\".npz\",input3=output3)\n",
    "    \n",
    "    ev_li = []\n",
    "    od_li = []\n",
    "    for xx in range(0, len(output3)):\n",
    "\n",
    "        s=np.sum(output3[xx])\n",
    "        if (s % 2 == 0): \n",
    "            pp1=1\n",
    "            ev_li.append(pp1)\n",
    "        else: \n",
    "            pp2=-1\n",
    "            od_li.append(pp2)\n",
    "        #print(pp)\n",
    "    parity=(np.sum(ev_li)+np.sum(od_li))/len(output3)\n",
    "    print(parity)\n",
    "\n",
    "    par_list.append(parity)\n",
    "  "
   ]
  },
  {
   "cell_type": "code",
   "execution_count": null,
   "metadata": {},
   "outputs": [],
   "source": []
  }
 ],
 "metadata": {
  "kernelspec": {
   "display_name": "Python 3",
   "language": "python",
   "name": "python3"
  },
  "language_info": {
   "codemirror_mode": {
    "name": "ipython",
    "version": 3
   },
   "file_extension": ".py",
   "mimetype": "text/x-python",
   "name": "python",
   "nbconvert_exporter": "python",
   "pygments_lexer": "ipython3",
   "version": "3.7.7"
  }
 },
 "nbformat": 4,
 "nbformat_minor": 4
}
