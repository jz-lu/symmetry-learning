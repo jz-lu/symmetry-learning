{
 "cells": [
  {
   "cell_type": "markdown",
   "metadata": {},
   "source": [
    "# HQNSL for 1-qubit operations\n",
    "This notebook is a test of the HQNSL scheme for the simplest parametrization of a quantum circuit: a set of `L` 1-qubit rotations given by `L * 3` parameters. We will learn in 2 bases and examine the effectiveness of the algorithm."
   ]
  },
  {
   "cell_type": "code",
   "execution_count": 1,
   "metadata": {},
   "outputs": [],
   "source": [
    "from __helpers import qubit_expansion, rand_basis\n",
    "from __loss_funcs import KL\n",
    "from __class_BasisTransformer import BasisTransformer\n",
    "from __class_PQC import PQC\n",
    "from __class_HQNet import HQNet\n",
    "import matplotlib.pyplot as plt\n",
    "import numpy as np\n",
    "import torch as t\n",
    "from math import pi\n",
    "from qiskit import QuantumCircuit, QuantumRegister\n",
    "from qiskit.quantum_info import Statevector\n",
    "%matplotlib inline"
   ]
  },
  {
   "cell_type": "markdown",
   "metadata": {},
   "source": [
    "## Construction of the State"
   ]
  },
  {
   "cell_type": "code",
   "execution_count": 2,
   "metadata": {},
   "outputs": [
    {
     "name": "stdout",
     "output_type": "stream",
     "text": [
      "      ┌───┐                                        \n",
      "q0_0: ┤ H ├──■────■────■────■────■────■────■────■──\n",
      "      └───┘┌─┴─┐  │    │    │    │    │    │    │  \n",
      "q0_1: ─────┤ X ├──┼────┼────┼────┼────┼────┼────┼──\n",
      "           └───┘┌─┴─┐  │    │    │    │    │    │  \n",
      "q0_2: ──────────┤ X ├──┼────┼────┼────┼────┼────┼──\n",
      "                └───┘┌─┴─┐  │    │    │    │    │  \n",
      "q0_3: ───────────────┤ X ├──┼────┼────┼────┼────┼──\n",
      "                     └───┘┌─┴─┐  │    │    │    │  \n",
      "q0_4: ────────────────────┤ X ├──┼────┼────┼────┼──\n",
      "                          └───┘┌─┴─┐  │    │    │  \n",
      "q0_5: ─────────────────────────┤ X ├──┼────┼────┼──\n",
      "                               └───┘┌─┴─┐  │    │  \n",
      "q0_6: ──────────────────────────────┤ X ├──┼────┼──\n",
      "                                    └───┘┌─┴─┐  │  \n",
      "q0_7: ───────────────────────────────────┤ X ├──┼──\n",
      "                                         └───┘┌─┴─┐\n",
      "q0_8: ────────────────────────────────────────┤ X ├\n",
      "                                              └───┘\n"
     ]
    },
    {
     "data": {
      "image/png": "[encoded data removed]",
      "text/plain": [
       "<Figure size 432x288 with 1 Axes>"
      ]
     },
     "metadata": {
      "needs_background": "light"
     },
     "output_type": "display_data"
    }
   ],
   "source": [
    "STATE_TYPE = 'GHZ'\n",
    "NUM_QUBITS = 9\n",
    "if STATE_TYPE == 'GHZ':\n",
    "    # Prepare: GHZ State (from: Q-circuit)\n",
    "    from GHZ_generator import GHZ_state_circuit\n",
    "    state = Statevector.from_int(0, 2**NUM_QUBITS)\n",
    "    qc = GHZ_state_circuit(L=NUM_QUBITS)\n",
    "    print(qc)\n",
    "    state = state.evolve(qc)\n",
    "elif STATE_TYPE == 'XY':\n",
    "    # Prepare: XY(L) (from: ED)\n",
    "    from XY_generator import xy_ground_state\n",
    "    state = Statevector(xy_ground_state(NUM_QUBITS).numpy())\n",
    "elif STATE_TYPE == 'Cluster':\n",
    "    # Prepare cluster(L) (from: Q-circuit)\n",
    "    from cluster_generator import cluster_state_circuit\n",
    "    state = Statevector.from_int(0, 2**(NUM_QUBITS**2))\n",
    "    qc = cluster_state_circuit(3)\n",
    "    print(qc)\n",
    "    state = state.evolve(qc)\n",
    "else:\n",
    "    raise TypeError(\"Invalid state type specified.\")\n",
    "\n",
    "# Visualize the distribution\n",
    "plt.bar(qubit_expansion(state.num_qubits), state.probabilities())\n",
    "plt.title(f\"{NUM_QUBITS}-{STATE_TYPE} State Distribution (z-basis)\")\n",
    "plt.show()"
   ]
  },
  {
   "cell_type": "markdown",
   "metadata": {},
   "source": [
    "## HQN Training\n",
    "We will construct the bases we want as a list of `L x 3` rotation-parameter matrices, then pass them into the hybrid quantum net and run the optimization algorithm. "
   ]
  },
  {
   "cell_type": "code",
   "execution_count": 3,
   "metadata": {},
   "outputs": [
    {
     "data": {
      "image/png": "[encoded data removed]",
      "text/plain": [
       "<Figure size 432x288 with 1 Axes>"
      ]
     },
     "metadata": {
      "needs_background": "light"
     },
     "output_type": "display_data"
    }
   ],
   "source": [
    "# Preparation of two bases\n",
    "init_basis = t.zeros(state.num_qubits, 3) # z-basis\n",
    "perturbation = init_basis.clone()\n",
    "perturbation[:,0] += pi/10 * t.ones(state.num_qubits) # small rotation in one axis for each qubit\n",
    "perturbed_basis = init_basis + perturbation\n",
    "bases = [init_basis, perturbed_basis]\n",
    "num_bases = len(bases)\n",
    "\n",
    "# Visualize the distribution of the bases\n",
    "fig, ax = plt.subplots()\n",
    "for i, basis in enumerate(bases):\n",
    "    dist_i = BasisTransformer([state], basis).updated_dist()[0]\n",
    "    bar = ax.bar(np.arange(2**state.num_qubits) + 0.25*i - 0.04*state.num_qubits, dist_i, width=0.25)\n",
    "    bar.set_label(f\"Basis {i+1}\")\n",
    "plt.legend()\n",
    "ax.set_xticks(np.arange(2**state.num_qubits))\n",
    "ax.set_xticklabels(qubit_expansion(state.num_qubits))\n",
    "plt.title(\"State Distribution Over Rotations\")\n",
    "plt.show()"
   ]
  },
  {
   "cell_type": "code",
   "execution_count": 12,
   "metadata": {},
   "outputs": [
    {
     "name": "stdout",
     "output_type": "stream",
     "text": [
      "Classical deep net initialized.\n",
      "Classical deep net initialized.\n",
      "Parametrized quantum circuit initialized.\n",
      "Parametrized quantum circuit initialized.\n",
      "9-qubit non-regularized 'Nelder-Mead' hybrid quantum net initialized -- Hello world!\n"
     ]
    }
   ],
   "source": [
    "# Start up the HQN\n",
    "disp = False\n",
    "hqn = HQNet(state, bases, eta=1e-3, maxiter=5000, disp=disp,\n",
    "            mode='Nelder-Mead', \n",
    "            metric_func=KL, regularize=False)"
   ]
  },
  {
   "cell_type": "code",
   "execution_count": 13,
   "metadata": {},
   "outputs": [
    {
     "name": "stdout",
     "output_type": "stream",
     "text": [
      "Optimized to QKL = 0.6425900459289551\n",
      "Queried loss func 1001 times\n",
      "Optimized to QKL = 0.12253664433956146\n",
      "Queried loss func 1000 times\n",
      "Optimized to QKL = 0.3623858392238617\n",
      "Queried loss func 1001 times\n",
      "Optimized to QKL = 0.11403556168079376\n",
      "Queried loss func 1000 times\n",
      "Optimized to QKL = 3.926042079925537\n",
      "Queried loss func 1000 times\n",
      "\n",
      "Average loss: 1.0335180342197419\n"
     ]
    }
   ],
   "source": [
    "# Optimize a few times.\n",
    "NRUN = 5\n",
    "param_dim = state.num_qubits * 3\n",
    "proposed_syms = t.zeros((NRUN, param_dim)) #* parametrization-dependent\n",
    "avg = 0\n",
    "for i in range(NRUN):\n",
    "    if disp:\n",
    "        print(f\"== Run {i+1}/{NRUN} ==\")\n",
    "    potential_sym, loss = hqn.find_potential_symmetry(print_log=True)\n",
    "    proposed_syms[i] = potential_sym if t.is_tensor(potential_sym) else t.from_numpy(potential_sym)\n",
    "    potential_sym = potential_sym.reshape((state.num_qubits, 3)) #* parametrization-dependent\n",
    "    if disp:\n",
    "        print(f\"Proposed symmetry:\\n{potential_sym}\\n\")\n",
    "    avg += loss / NRUN\n",
    "print(f\"\\nAverage loss: {avg}\")"
   ]
  },
  {
   "cell_type": "markdown",
   "metadata": {},
   "source": [
    "### Summary of findings\n",
    "\n",
    "We define `LA = A | B` to be the average loss `A` over `B` runs, throwing out extreme outliers. Times given are per run.\n",
    "\n",
    "#### Local optimizers\n",
    "1. Vanilla gradient descent is extremely slow (`~3 min`) and performs moderately poorly (`LA = 0.021 | 100`)\n",
    "2. Adam is super fast (`<1 sec`) but performs very poorly (`LA = 3.77 | 1000`)\n",
    "3. Nelder-Mead is very fast (`~5 sec`) and performs very well, needs `~1000` queries (`LA = 1e-14 | 100`).\n",
    "4. Conjugate gradient is super fast (`<1 sec`) but performs very poorly (`LA = 3.171 | 1000`)\n",
    "5. NFT is very fast (`~5 sec`) and performs well (`LA = 1e-5 | 100`).\n",
    "6. SPSA is very slow (`~40 sec`) and performs reasonably well (`LA = 0.0036 | 100`)\n",
    "7. TNC is extremely fast (`<<1 sec`) but performs very poorly (`LA = 3.62 | 1000`)\n",
    "8. AQGD: I cannot get it to run. Seems like they are running some strange batch training which is not compatible\n",
    "with my loss function `param_to_quantum_loss`. Too bad.\n",
    "\n",
    "#### Global optimizers\n",
    "1. TODO\n"
   ]
  },
  {
   "cell_type": "code",
   "execution_count": 14,
   "metadata": {},
   "outputs": [
    {
     "name": "stdout",
     "output_type": "stream",
     "text": [
      "Analysing proposed symmetry 1:\n",
      "tensor([[3.0721, 4.9524, 0.7422],\n",
      "        [2.8331, 3.8696, 0.8527],\n",
      "        [3.1190, 1.4988, 0.8209],\n",
      "        [1.8990, 3.1992, 5.2004],\n",
      "        [3.1121, 0.6857, 2.4916],\n",
      "        [2.9923, 3.2847, 1.2084],\n",
      "        [2.9471, 2.1839, 2.3360],\n",
      "        [2.8342, 4.1225, 2.7319],\n",
      "        [3.1848, 7.1895, 5.2606]])\n",
      "\n",
      "\tLoss metric for training basis tensor([0., 0., 0.]) is: 0.478349652667965\n",
      "\tLoss metric for training basis tensor([0.3142, 0.0000, 0.0000]) is: 0.16424038293962\n",
      "\n",
      "\n",
      "Analysing proposed symmetry 2:\n",
      "tensor([[0.1310, 5.5561, 0.3177],\n",
      "        [6.3200, 2.4520, 3.5246],\n",
      "        [6.3395, 0.7232, 5.7923],\n",
      "        [6.3059, 2.3872, 1.9161],\n",
      "        [0.5566, 0.0291, 6.2315],\n",
      "        [0.2356, 2.3231, 5.6275],\n",
      "        [6.3197, 7.0073, 5.5428],\n",
      "        [6.2512, 0.9789, 4.8712],\n",
      "        [6.2897, 2.5597, 3.7831]])\n",
      "\n",
      "\tLoss metric for training basis tensor([0., 0., 0.]) is: 0.09848467297710822\n",
      "\tLoss metric for training basis tensor([0.3142, 0.0000, 0.0000]) is: 0.02405196242122585\n",
      "\n",
      "\n",
      "Analysing proposed symmetry 3:\n",
      "tensor([[ 0.3633,  5.2730,  2.6071],\n",
      "        [ 6.3279,  3.1095,  3.5063],\n",
      "        [ 0.8637,  6.0089,  3.4432],\n",
      "        [ 0.0496,  7.8665,  0.4520],\n",
      "        [ 6.3743,  7.0265,  5.9829],\n",
      "        [ 0.6111,  6.1573,  4.4422],\n",
      "        [ 6.2277,  3.7677,  8.0128],\n",
      "        [-0.0681,  5.5982,  0.8594],\n",
      "        [ 6.4171,  1.2720,  5.8259]])\n",
      "\n",
      "\tLoss metric for training basis tensor([0., 0., 0.]) is: 0.3301790429401978\n",
      "\tLoss metric for training basis tensor([0.3142, 0.0000, 0.0000]) is: 0.03220682279589368\n",
      "\n",
      "\n",
      "Analysing proposed symmetry 4:\n",
      "tensor([[ 6.2955,  4.2242,  0.1111],\n",
      "        [ 6.3180,  1.7099,  0.5858],\n",
      "        [ 6.2777,  0.7506,  1.0211],\n",
      "        [ 0.4172,  2.7053,  5.8893],\n",
      "        [ 6.4239,  1.6180,  1.4893],\n",
      "        [-0.0088,  2.8392,  2.1363],\n",
      "        [ 6.2650,  0.2738,  1.2866],\n",
      "        [ 6.2611,  0.3009,  1.3033],\n",
      "        [ 6.3090,  1.9011,  3.7851]])\n",
      "\n",
      "\tLoss metric for training basis tensor([0., 0., 0.]) is: 0.04950689013120619\n",
      "\tLoss metric for training basis tensor([0.3142, 0.0000, 0.0000]) is: 0.06452867320091932\n",
      "\n",
      "\n",
      "Analysing proposed symmetry 5:\n",
      "tensor([[2.9498, 5.1225, 3.9004],\n",
      "        [3.0427, 0.2887, 0.0847],\n",
      "        [3.1107, 1.5973, 4.9509],\n",
      "        [3.1093, 0.1188, 6.0057],\n",
      "        [1.9616, 0.3398, 1.6662],\n",
      "        [2.6693, 2.1030, 0.9056],\n",
      "        [1.0208, 1.7515, 1.8087],\n",
      "        [3.1077, 4.9399, 1.4432],\n",
      "        [2.0761, 2.5716, 1.4980]])\n",
      "\n",
      "\tLoss metric for training basis tensor([0., 0., 0.]) is: 2.1700555218549544\n",
      "\tLoss metric for training basis tensor([0.3142, 0.0000, 0.0000]) is: 1.7559867043155348\n"
     ]
    }
   ],
   "source": [
    "# Look at the final KL divergence in each of the chosen bases.\n",
    "for i, sym in enumerate(proposed_syms):\n",
    "    if i > 0:\n",
    "        print(\"\\n\")\n",
    "    print(f\"Analysing proposed symmetry {i+1}:\\n{sym.reshape((state.num_qubits, 3))}\\n\")\n",
    "    for basis_here in bases:\n",
    "        loss_metric = PQC(state, basis_param=basis_here, metric_func=KL, say_hi=False).evaluate_true_metric(sym)\n",
    "        print(f\"\\tLoss metric for training basis {basis_here[0]} is: {loss_metric}\")"
   ]
  },
  {
   "cell_type": "markdown",
   "metadata": {},
   "source": [
    "## Quantum Loss Cross-Validation\n",
    "We chose a small number of bases to run the quantum loss scheme over. But are those bases enough? \n",
    "If the proposed symmetries are truly symmetries, then they will be a symmetry in every basis. We shall test\n",
    "these proposed symmetries by choosing some random bases, applying the quantum circuit, and examining the loss metric there.\n",
    "\n",
    "If the loss metric is high there, then we did not use enough bases in the quantum loss function.\n",
    "\n",
    "Note that this has more general implications, as the number of bases necessary to achieve a good quantum loss function\n",
    "informs the amount of information necessary to construct a reasonable tomography of the state."
   ]
  },
  {
   "cell_type": "code",
   "execution_count": 15,
   "metadata": {},
   "outputs": [
    {
     "name": "stdout",
     "output_type": "stream",
     "text": [
      "Analysing proposed symmetry 1:\n",
      "tensor([[3.0721, 4.9524, 0.7422],\n",
      "        [2.8331, 3.8696, 0.8527],\n",
      "        [3.1190, 1.4988, 0.8209],\n",
      "        [1.8990, 3.1992, 5.2004],\n",
      "        [3.1121, 0.6857, 2.4916],\n",
      "        [2.9923, 3.2847, 1.2084],\n",
      "        [2.9471, 2.1839, 2.3360],\n",
      "        [2.8342, 4.1225, 2.7319],\n",
      "        [3.1848, 7.1895, 5.2606]])\n",
      "\n",
      "\tLoss metric for random basis [5.8471317 5.761253  2.3206096] is: 0.16502296162204644\n",
      "\tLoss metric for random basis [1.6945908 5.1714864 1.1275893] is: 0.061582328413266135\n",
      "\tLoss metric for random basis [5.145958  6.023995  6.2058306] is: 0.6739469046893294\n",
      "\n",
      "\n",
      "\n",
      "\n",
      "Analysing proposed symmetry 2:\n",
      "tensor([[0.1310, 5.5561, 0.3177],\n",
      "        [6.3200, 2.4520, 3.5246],\n",
      "        [6.3395, 0.7232, 5.7923],\n",
      "        [6.3059, 2.3872, 1.9161],\n",
      "        [0.5566, 0.0291, 6.2315],\n",
      "        [0.2356, 2.3231, 5.6275],\n",
      "        [6.3197, 7.0073, 5.5428],\n",
      "        [6.2512, 0.9789, 4.8712],\n",
      "        [6.2897, 2.5597, 3.7831]])\n",
      "\n",
      "\tLoss metric for random basis [1.44002   1.0303165 2.8378773] is: 0.5003108518636915\n",
      "\tLoss metric for random basis [5.1229634 3.9073315 0.5483592] is: 0.3755874358351395\n",
      "\tLoss metric for random basis [0.5908339 1.1184884 1.9927789] is: 0.08779163168356771\n",
      "\n",
      "\n",
      "\n",
      "\n",
      "Analysing proposed symmetry 3:\n",
      "tensor([[ 0.3633,  5.2730,  2.6071],\n",
      "        [ 6.3279,  3.1095,  3.5063],\n",
      "        [ 0.8637,  6.0089,  3.4432],\n",
      "        [ 0.0496,  7.8665,  0.4520],\n",
      "        [ 6.3743,  7.0265,  5.9829],\n",
      "        [ 0.6111,  6.1573,  4.4422],\n",
      "        [ 6.2277,  3.7677,  8.0128],\n",
      "        [-0.0681,  5.5982,  0.8594],\n",
      "        [ 6.4171,  1.2720,  5.8259]])\n",
      "\n",
      "\tLoss metric for random basis [5.5616302 4.5346255 3.65446  ] is: 0.08469250547372481\n",
      "\tLoss metric for random basis [2.0199673 3.1567051 1.3243685] is: 0.05094249774935897\n",
      "\tLoss metric for random basis [2.1804812 5.5639195 4.824241 ] is: 0.18010123688794172\n",
      "\n",
      "\n",
      "\n",
      "\n",
      "Analysing proposed symmetry 4:\n",
      "tensor([[ 6.2955,  4.2242,  0.1111],\n",
      "        [ 6.3180,  1.7099,  0.5858],\n",
      "        [ 6.2777,  0.7506,  1.0211],\n",
      "        [ 0.4172,  2.7053,  5.8893],\n",
      "        [ 6.4239,  1.6180,  1.4893],\n",
      "        [-0.0088,  2.8392,  2.1363],\n",
      "        [ 6.2650,  0.2738,  1.2866],\n",
      "        [ 6.2611,  0.3009,  1.3033],\n",
      "        [ 6.3090,  1.9011,  3.7851]])\n",
      "\n",
      "\tLoss metric for random basis [3.0664146 3.5429194 2.1695766] is: 0.059668567344148805\n",
      "\tLoss metric for random basis [3.3768349  3.3242757  0.72801733] is: 0.041253387800869526\n",
      "\tLoss metric for random basis [3.6730092 2.2066329 1.6795375] is: 0.014928833663337148\n",
      "\n",
      "\n",
      "\n",
      "\n",
      "Analysing proposed symmetry 5:\n",
      "tensor([[2.9498, 5.1225, 3.9004],\n",
      "        [3.0427, 0.2887, 0.0847],\n",
      "        [3.1107, 1.5973, 4.9509],\n",
      "        [3.1093, 0.1188, 6.0057],\n",
      "        [1.9616, 0.3398, 1.6662],\n",
      "        [2.6693, 2.1030, 0.9056],\n",
      "        [1.0208, 1.7515, 1.8087],\n",
      "        [3.1077, 4.9399, 1.4432],\n",
      "        [2.0761, 2.5716, 1.4980]])\n",
      "\n",
      "\tLoss metric for random basis [1.4387306 4.4577956 4.0791264] is: 0.2568933246868005\n",
      "\tLoss metric for random basis [0.41840714 1.9823241  5.1400266 ] is: 1.0967330116775456\n",
      "\tLoss metric for random basis [6.091448  4.8143964 3.6321933] is: 2.1715895663508133\n",
      "\n",
      "\n"
     ]
    }
   ],
   "source": [
    "# Choose some random bases to examine.\n",
    "NUM_RAND_BASES = 3 # arbitrary\n",
    "for i, sym in enumerate(proposed_syms):\n",
    "    if i > 0:\n",
    "        print(\"\\n\")\n",
    "    print(f\"Analysing proposed symmetry {i+1}:\\n{sym.reshape((state.num_qubits, 3))}\\n\")\n",
    "    for _ in range(NUM_RAND_BASES):\n",
    "        basis_here = rand_basis(state.num_qubits)\n",
    "        loss_metric = PQC(state, basis_param=basis_here, metric_func=KL, say_hi=False).evaluate_true_metric(sym)\n",
    "        print(f\"\\tLoss metric for random basis {basis_here[0].numpy()} is: {loss_metric}\")\n",
    "    print('\\n')"
   ]
  },
  {
   "cell_type": "code",
   "execution_count": null,
   "metadata": {},
   "outputs": [],
   "source": []
  }
 ],
 "metadata": {
  "interpreter": {
   "hash": "d6de9be78b6020e3c4b915c697ec9df5423262584917bd5f64c63e56f57b2ea4"
  },
  "kernelspec": {
   "display_name": "Python 3.7.7 64-bit ('base': conda)",
   "language": "python",
   "name": "python3"
  },
  "language_info": {
   "codemirror_mode": {
    "name": "ipython",
    "version": 3
   },
   "file_extension": ".py",
   "mimetype": "text/x-python",
   "name": "python",
   "nbconvert_exporter": "python",
   "pygments_lexer": "ipython3",
   "version": "3.7.7"
  },
  "orig_nbformat": 4
 },
 "nbformat": 4,
 "nbformat_minor": 2
}
