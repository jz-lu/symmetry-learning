{
 "cells": [
  {
   "cell_type": "markdown",
   "metadata": {},
   "source": [
    "# HQNSL for 1-qubit operations\n",
    "This notebook is a test of the HQNSL scheme for the simplest parametrization of a quantum circuit: a set of `L` 1-qubit rotations given by `L * 3` parameters. We will learn in 2 bases and examine the effectiveness of the algorithm."
   ]
  },
  {
   "cell_type": "code",
   "execution_count": 1,
   "metadata": {},
   "outputs": [],
   "source": [
    "from __helpers import qubit_expansion, rand_basis\n",
    "from __loss_funcs import KL\n",
    "from __class_BasisTransformer import BasisTransformer\n",
    "from __class_PQC import PQC\n",
    "from __class_HQNet import HQNet\n",
    "import matplotlib.pyplot as plt\n",
    "import numpy as np\n",
    "import torch as t\n",
    "from math import pi\n",
    "from qiskit import QuantumCircuit, QuantumRegister\n",
    "from qiskit.quantum_info import Statevector\n",
    "%matplotlib inline"
   ]
  },
  {
   "cell_type": "markdown",
   "metadata": {},
   "source": [
    "## Construction of the State"
   ]
  },
  {
   "cell_type": "code",
   "execution_count": 2,
   "metadata": {},
   "outputs": [
    {
     "name": "stdout",
     "output_type": "stream",
     "text": [
      "      ┌───┐          \n",
      "q0_0: ┤ H ├──■────■──\n",
      "      └───┘┌─┴─┐  │  \n",
      "q0_1: ─────┤ X ├──┼──\n",
      "           └───┘┌─┴─┐\n",
      "q0_2: ──────────┤ X ├\n",
      "                └───┘\n"
     ]
    },
    {
     "data": {
      "image/png": "[encoded data removed]",
      "text/plain": [
       "<Figure size 432x288 with 1 Axes>"
      ]
     },
     "metadata": {
      "needs_background": "light"
     },
     "output_type": "display_data"
    }
   ],
   "source": [
    "STATE_TYPE = 'GHZ'\n",
    "if STATE_TYPE == 'GHZ':\n",
    "    # Prepare: GHZ State (from: Q-circuit)\n",
    "    from GHZ_generator import GHZ_state_circuit\n",
    "    state = Statevector.from_int(0, 2**3)\n",
    "    qc = GHZ_state_circuit()\n",
    "    print(qc)\n",
    "    state = state.evolve(qc)\n",
    "elif STATE_TYPE == 'XY':\n",
    "    # Prepare: XY(3) (from: ED)\n",
    "    from XY_generator import xy_ground_state\n",
    "    state = Statevector(xy_ground_state(3).numpy()) # L = 3 qubits\n",
    "elif STATE_TYPE == 'Cluster':\n",
    "    # Prepare cluster(3) (from: Q-circuit)\n",
    "    from cluster_generator import cluster_state_circuit\n",
    "    state = Statevector.from_int(0, 2**9)\n",
    "    qc = cluster_state_circuit(3)\n",
    "    print(qc)\n",
    "    state = state.evolve(qc)\n",
    "else:\n",
    "    raise TypeError(\"Invalid state type specified.\")\n",
    "\n",
    "# Visualize the distribution\n",
    "plt.bar(qubit_expansion(state.num_qubits), state.probabilities())\n",
    "plt.title(f\"{STATE_TYPE} State Distribution (z-basis)\")\n",
    "plt.show()"
   ]
  },
  {
   "cell_type": "markdown",
   "metadata": {},
   "source": [
    "## HQN Training\n",
    "We will construct the bases we want as a list of `L x 3` rotation-parameter matrices, then pass them into the hybrid quantum net and run the optimization algorithm. "
   ]
  },
  {
   "cell_type": "code",
   "execution_count": 3,
   "metadata": {},
   "outputs": [
    {
     "data": {
      "image/png": "[encoded data removed]",
      "text/plain": [
       "<Figure size 432x288 with 1 Axes>"
      ]
     },
     "metadata": {
      "needs_background": "light"
     },
     "output_type": "display_data"
    }
   ],
   "source": [
    "# Preparation of two bases\n",
    "init_basis = t.zeros(state.num_qubits, 3) # z-basis\n",
    "perturbation = init_basis.clone()\n",
    "perturbation[:,0] += pi/10 * t.ones(3) # small rotation in one axis for each qubit\n",
    "perturbed_basis = init_basis + perturbation\n",
    "bases = [init_basis, perturbed_basis]\n",
    "num_bases = len(bases)\n",
    "\n",
    "# Visualize the distribution of the bases\n",
    "fig, ax = plt.subplots()\n",
    "for i, basis in enumerate(bases):\n",
    "    dist_i = BasisTransformer([state], basis).updated_dist()[0]\n",
    "    bar = ax.bar(np.arange(2**state.num_qubits) + 0.25*i - 0.04*state.num_qubits, dist_i, width=0.25)\n",
    "    bar.set_label(f\"Basis {i+1}\")\n",
    "plt.legend()\n",
    "ax.set_xticks(np.arange(2**state.num_qubits))\n",
    "ax.set_xticklabels(qubit_expansion(state.num_qubits))\n",
    "plt.title(\"State Distribution Over Rotations\")\n",
    "plt.show()"
   ]
  },
  {
   "cell_type": "code",
   "execution_count": 8,
   "metadata": {},
   "outputs": [
    {
     "name": "stdout",
     "output_type": "stream",
     "text": [
      "Classical deep net initialized.\n",
      "Classical deep net initialized.\n",
      "Parametrized quantum circuit initialized.\n",
      "Parametrized quantum circuit initialized.\n",
      "Non-regularized hybrid quantum net initialized -- Hello world!\n"
     ]
    }
   ],
   "source": [
    "# Start up the HQN\n",
    "hqn = HQNet(state, bases, metric_func=KL, regularize=False)\n",
    "\n",
    "options = {\n",
    "    'num_epochs': 30,  # FDSGD: number of training epochs (each epoch has a new random param set\n",
    "    'h': 0.05,       # FGSGD: finite difference step parameter\n",
    "    'max_iter': 200   # FGSGD: maximum iterations per epoch\n",
    "}"
   ]
  },
  {
   "cell_type": "code",
   "execution_count": 44,
   "metadata": {},
   "outputs": [
    {
     "name": "stdout",
     "output_type": "stream",
     "text": [
      "== Run 1/1 ==\n",
      "[Epoch 1] FDSGD failed to converge on parameter 7 within 200 steps. Grad = -0.0005054473876953125\n",
      "[Epoch 2] FDSGD failed to converge on parameter 4 within 200 steps. Grad = -0.0002384185791015625\n",
      "[Epoch 4] FDSGD failed to converge on parameter 1 within 200 steps. Grad = -0.00020503997802734375\n",
      "[Epoch 5] FDSGD failed to converge on parameter 4 within 200 steps. Grad = 0.0005578994750976562\n",
      "[Epoch 7] FDSGD failed to converge on parameter 4 within 200 steps. Grad = -0.07905006408691406\n",
      "[Epoch 8] FDSGD failed to converge on parameter 8 within 200 steps. Grad = 0.03396749496459961\n",
      "[Epoch 9] FDSGD failed to converge on parameter 2 within 200 steps. Grad = 0.1355910301208496\n",
      "[Epoch 10] FDSGD failed to converge on parameter 1 within 200 steps. Grad = -0.00024080276489257812\n",
      "[Epoch 11] FDSGD failed to converge on parameter 8 within 200 steps. Grad = -0.007529258728027344\n",
      "[Epoch 12] FDSGD failed to converge on parameter 7 within 200 steps. Grad = 0.0050449371337890625\n",
      "[Epoch 13] FDSGD failed to converge on parameter 8 within 200 steps. Grad = 0.003020763397216797\n",
      "[Epoch 14] FDSGD failed to converge on parameter 7 within 200 steps. Grad = -0.0005125999450683594\n",
      "[Epoch 15] FDSGD failed to converge on parameter 8 within 200 steps. Grad = 0.0017046928405761719\n",
      "[Epoch 19] FDSGD failed to converge on parameter 8 within 200 steps. Grad = 0.0015735626220703125\n",
      "[Epoch 20] FDSGD failed to converge on parameter 8 within 200 steps. Grad = 0.00110626220703125\n",
      "[Epoch 21] FDSGD failed to converge on parameter 1 within 200 steps. Grad = 0.0002288818359375\n",
      "[Epoch 22] FDSGD failed to converge on parameter 2 within 200 steps. Grad = 0.501868724822998\n",
      "[Epoch 24] FDSGD failed to converge on parameter 5 within 200 steps. Grad = 0.0003600120544433594\n",
      "[Epoch 26] FDSGD failed to converge on parameter 8 within 200 steps. Grad = -0.1904916763305664\n",
      "[Epoch 27] FDSGD failed to converge on parameter 2 within 200 steps. Grad = 0.00020742416381835938\n",
      "Proposed symmetry:\n",
      "[[8.328391   2.0069911  2.206971  ]\n",
      " [2.164689   6.079074   4.5707107 ]\n",
      " [3.7384956  3.9642565  0.27779514]]\n",
      "\n"
     ]
    },
    {
     "data": {
      "image/png": "[encoded data removed]",
      "text/plain": [
       "<Figure size 432x288 with 1 Axes>"
      ]
     },
     "metadata": {
      "needs_background": "light"
     },
     "output_type": "display_data"
    }
   ],
   "source": [
    "# Optimize a few times.\n",
    "NRUN = 1\n",
    "param_dim = state.num_qubits * 3\n",
    "proposed_syms = t.zeros((NRUN, param_dim)) #* parametrization-dependent\n",
    "for i in range(NRUN):\n",
    "    print(f\"== Run {i+1}/{NRUN} ==\")\n",
    "    potential_sym, idx_dist = hqn.find_potential_symmetry(algo_ops=options)\n",
    "    proposed_syms[i] = t.from_numpy(potential_sym)\n",
    "    potential_sym = potential_sym.reshape((state.num_qubits, 3)) #* parametrization-dependent\n",
    "    print(f\"Proposed symmetry:\\n{potential_sym}\\n\")\n",
    "    \n",
    "    plt.clf()\n",
    "    plt.hist(idx_dist, np.arange(param_dim+1) - 0.5)\n",
    "    plt.title(f\"[Run {i+1}] Chosen parameter indices\")\n",
    "    plt.xlim([-1, param_dim])\n",
    "    plt.xticks(range(param_dim))\n",
    "    plt.show()"
   ]
  },
  {
   "cell_type": "code",
   "execution_count": 45,
   "metadata": {},
   "outputs": [
    {
     "name": "stdout",
     "output_type": "stream",
     "text": [
      "Analysing proposed symmetry 1:\n",
      "tensor([[8.3284, 2.0070, 2.2070],\n",
      "        [2.1647, 6.0791, 4.5707],\n",
      "        [3.7385, 3.9643, 0.2778]])\n",
      "\n",
      "\tLoss metric for training basis tensor([0., 0., 0.]) is: 0.656250582707162\n",
      "\tLoss metric for training basis tensor([0.3142, 0.0000, 0.0000]) is: 0.6595270184249615\n"
     ]
    }
   ],
   "source": [
    "# Look at the final KL divergence in each of the chosen bases.\n",
    "for i, sym in enumerate(proposed_syms):\n",
    "    if i > 0:\n",
    "        print(\"\\n\")\n",
    "    print(f\"Analysing proposed symmetry {i+1}:\\n{sym.reshape((state.num_qubits, 3))}\\n\")\n",
    "    for basis_here in bases:\n",
    "        loss_metric = PQC(state, basis_param=basis_here, metric_func=KL, say_hi=False).evaluate_true_metric(sym)\n",
    "        print(f\"\\tLoss metric for training basis {basis_here[0]} is: {loss_metric}\")"
   ]
  },
  {
   "cell_type": "markdown",
   "metadata": {},
   "source": [
    "## Quantum Loss Cross-Validation\n",
    "We chose a small number of bases to run the quantum loss scheme over. But are those bases enough? \n",
    "If the proposed symmetries are truly symmetries, then they will be a symmetry in every basis. We shall test\n",
    "these proposed symmetries by choosing some random bases, applying the quantum circuit, and examining the loss metric there.\n",
    "\n",
    "If the loss metric is high there, then we did not use enough bases in the quantum loss function.\n",
    "\n",
    "Note that this has more general implications, as the number of bases necessary to achieve a good quantum loss function\n",
    "informs the amount of information necessary to construct a reasonable tomography of the state."
   ]
  },
  {
   "cell_type": "code",
   "execution_count": 46,
   "metadata": {},
   "outputs": [
    {
     "name": "stdout",
     "output_type": "stream",
     "text": [
      "Analysing proposed symmetry 1:\n",
      "tensor([[8.3284, 2.0070, 2.2070],\n",
      "        [2.1647, 6.0791, 4.5707],\n",
      "        [3.7385, 3.9643, 0.2778]])\n",
      "\n",
      "\tLoss metric for random basis [5.611537  1.1469742 0.8126533] is: 0.12916247100276818\n",
      "\tLoss metric for random basis [2.9864113  1.6486754  0.24533245] is: 0.4932633381687657\n",
      "\tLoss metric for random basis [1.7819146 2.238842  2.789406 ] is: 0.6853973400653468\n",
      "\n",
      "\n"
     ]
    }
   ],
   "source": [
    "# Choose some random bases to examine.\n",
    "NUM_RAND_BASES = 3 # arbitrary\n",
    "for i, sym in enumerate(proposed_syms):\n",
    "    if i > 0:\n",
    "        print(\"\\n\")\n",
    "    print(f\"Analysing proposed symmetry {i+1}:\\n{sym.reshape((state.num_qubits, 3))}\\n\")\n",
    "    for _ in range(NUM_RAND_BASES):\n",
    "        basis_here = rand_basis(state.num_qubits)\n",
    "        loss_metric = PQC(state, basis_param=basis_here, metric_func=KL, say_hi=False).evaluate_true_metric(sym)\n",
    "        print(f\"\\tLoss metric for random basis {basis_here[0].numpy()} is: {loss_metric}\")\n",
    "    print('\\n')"
   ]
  },
  {
   "cell_type": "code",
   "execution_count": null,
   "metadata": {},
   "outputs": [],
   "source": []
  }
 ],
 "metadata": {
  "interpreter": {
   "hash": "d6de9be78b6020e3c4b915c697ec9df5423262584917bd5f64c63e56f57b2ea4"
  },
  "kernelspec": {
   "display_name": "Python 3.7.7 64-bit ('base': conda)",
   "language": "python",
   "name": "python3"
  },
  "language_info": {
   "codemirror_mode": {
    "name": "ipython",
    "version": 3
   },
   "file_extension": ".py",
   "mimetype": "text/x-python",
   "name": "python",
   "nbconvert_exporter": "python",
   "pygments_lexer": "ipython3",
   "version": "3.7.7"
  },
  "orig_nbformat": 4
 },
 "nbformat": 4,
 "nbformat_minor": 2
}
