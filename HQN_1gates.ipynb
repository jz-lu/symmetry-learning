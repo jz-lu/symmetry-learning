{
 "cells": [
  {
   "cell_type": "markdown",
   "metadata": {},
   "source": [
    "# HQNSL for 1-qubit operations\n",
    "This notebook is a test of the HQNSL scheme for the simplest parametrization of a quantum circuit: a set of `L` 1-qubit rotations given by `L * 3` parameters. We will learn in 2 bases and examine the effectiveness of the algorithm."
   ]
  },
  {
   "cell_type": "code",
   "execution_count": 1,
   "metadata": {},
   "outputs": [],
   "source": [
    "from __helpers import qubit_expansion, rand_basis\n",
    "from __loss_funcs import KL\n",
    "from __class_BasisTransformer import BasisTransformer\n",
    "from __class_PQC import PQC\n",
    "from __class_HQNet import HQNet\n",
    "import matplotlib.pyplot as plt\n",
    "import numpy as np\n",
    "import torch as t\n",
    "from math import pi\n",
    "from qiskit import QuantumCircuit, QuantumRegister\n",
    "from qiskit.quantum_info import Statevector\n",
    "%matplotlib inline"
   ]
  },
  {
   "cell_type": "markdown",
   "metadata": {},
   "source": [
    "## Construction of the State"
   ]
  },
  {
   "cell_type": "code",
   "execution_count": 6,
   "metadata": {},
   "outputs": [
    {
     "name": "stdout",
     "output_type": "stream",
     "text": [
      "          ┌───┐                                        \n",
      "q22321_0: ┤ H ├──■────■────■────■────■────■────■────■──\n",
      "          └───┘┌─┴─┐  │    │    │    │    │    │    │  \n",
      "q22321_1: ─────┤ X ├──┼────┼────┼────┼────┼────┼────┼──\n",
      "               └───┘┌─┴─┐  │    │    │    │    │    │  \n",
      "q22321_2: ──────────┤ X ├──┼────┼────┼────┼────┼────┼──\n",
      "                    └───┘┌─┴─┐  │    │    │    │    │  \n",
      "q22321_3: ───────────────┤ X ├──┼────┼────┼────┼────┼──\n",
      "                         └───┘┌─┴─┐  │    │    │    │  \n",
      "q22321_4: ────────────────────┤ X ├──┼────┼────┼────┼──\n",
      "                              └───┘┌─┴─┐  │    │    │  \n",
      "q22321_5: ─────────────────────────┤ X ├──┼────┼────┼──\n",
      "                                   └───┘┌─┴─┐  │    │  \n",
      "q22321_6: ──────────────────────────────┤ X ├──┼────┼──\n",
      "                                        └───┘┌─┴─┐  │  \n",
      "q22321_7: ───────────────────────────────────┤ X ├──┼──\n",
      "                                             └───┘┌─┴─┐\n",
      "q22321_8: ────────────────────────────────────────┤ X ├\n",
      "                                                  └───┘\n"
     ]
    },
    {
     "data": {
      "image/png": "[encoded data removed]",
      "text/plain": [
       "<Figure size 432x288 with 1 Axes>"
      ]
     },
     "metadata": {
      "needs_background": "light"
     },
     "output_type": "display_data"
    }
   ],
   "source": [
    "STATE_TYPE = 'GHZ'\n",
    "NUM_QUBITS = 9\n",
    "if STATE_TYPE == 'GHZ':\n",
    "    # Prepare: GHZ State (from: Q-circuit)\n",
    "    from GHZ_generator import GHZ_state_circuit\n",
    "    state = Statevector.from_int(0, 2**NUM_QUBITS)\n",
    "    qc = GHZ_state_circuit(L=NUM_QUBITS)\n",
    "    print(qc)\n",
    "    state = state.evolve(qc)\n",
    "elif STATE_TYPE == 'XY':\n",
    "    # Prepare: XY(L) (from: ED)\n",
    "    from XY_generator import xy_ground_state\n",
    "    state = Statevector(xy_ground_state(NUM_QUBITS).numpy())\n",
    "elif STATE_TYPE == 'Cluster':\n",
    "    # Prepare cluster(L) (from: Q-circuit)\n",
    "    from cluster_generator import cluster_state_circuit\n",
    "    state = Statevector.from_int(0, 2**(NUM_QUBITS**2))\n",
    "    qc = cluster_state_circuit(3)\n",
    "    print(qc)\n",
    "    state = state.evolve(qc)\n",
    "else:\n",
    "    raise TypeError(\"Invalid state type specified.\")\n",
    "\n",
    "# Visualize the distribution\n",
    "plt.bar(qubit_expansion(state.num_qubits), state.probabilities())\n",
    "plt.title(f\"{NUM_QUBITS}-{STATE_TYPE} State Distribution (z-basis)\")\n",
    "plt.show()"
   ]
  },
  {
   "cell_type": "markdown",
   "metadata": {},
   "source": [
    "## HQN Training\n",
    "We will construct the bases we want as a list of `L x 3` rotation-parameter matrices, then pass them into the hybrid quantum net and run the optimization algorithm. "
   ]
  },
  {
   "cell_type": "code",
   "execution_count": 7,
   "metadata": {},
   "outputs": [
    {
     "data": {
      "image/png": "[encoded data removed]",
      "text/plain": [
       "<Figure size 432x288 with 1 Axes>"
      ]
     },
     "metadata": {
      "needs_background": "light"
     },
     "output_type": "display_data"
    }
   ],
   "source": [
    "# Preparation of two bases\n",
    "init_basis = t.zeros(state.num_qubits, 3) # z-basis\n",
    "perturbation = init_basis.clone()\n",
    "perturbation[:,0] += pi/10 * t.ones(state.num_qubits) # small rotation in one axis for each qubit\n",
    "perturbed_basis = init_basis + perturbation\n",
    "bases = [init_basis, perturbed_basis]\n",
    "num_bases = len(bases)\n",
    "\n",
    "# Visualize the distribution of the bases\n",
    "fig, ax = plt.subplots()\n",
    "for i, basis in enumerate(bases):\n",
    "    dist_i = BasisTransformer([state], basis).updated_dist()[0]\n",
    "    bar = ax.bar(np.arange(2**state.num_qubits) + 0.25*i - 0.04*state.num_qubits, dist_i, width=0.25)\n",
    "    bar.set_label(f\"Basis {i+1}\")\n",
    "plt.legend()\n",
    "ax.set_xticks(np.arange(2**state.num_qubits))\n",
    "ax.set_xticklabels(qubit_expansion(state.num_qubits))\n",
    "plt.title(\"State Distribution Over Rotations\")\n",
    "plt.show()"
   ]
  },
  {
   "cell_type": "code",
   "execution_count": 8,
   "metadata": {},
   "outputs": [
    {
     "name": "stdout",
     "output_type": "stream",
     "text": [
      "Classical deep net initialized.\n",
      "Classical deep net initialized.\n",
      "Parametrized quantum circuit initialized.\n",
      "Parametrized quantum circuit initialized.\n",
      "9-qubit non-regularized 'Nelder-Mead' hybrid quantum net initialized -- Hello world!\n"
     ]
    }
   ],
   "source": [
    "# Start up the HQN\n",
    "disp = False\n",
    "hqn = HQNet(state, bases, eta=1e-3, maxiter=5000, disp=disp,\n",
    "            mode='Nelder-Mead', \n",
    "            metric_func=KL, regularize=False)"
   ]
  },
  {
   "cell_type": "code",
   "execution_count": 9,
   "metadata": {},
   "outputs": [
    {
     "name": "stdout",
     "output_type": "stream",
     "text": [
      "Optimized to QKL = 3.216886826362675e-11\n",
      "Queried loss func 3673 times\n",
      "Optimized to QKL = 2.4241015239567787e-07\n",
      "Queried loss func 5001 times\n",
      "Optimized to QKL = 0.0005005087587051094\n",
      "Queried loss func 5000 times\n",
      "Optimized to QKL = 2.84069500366968e-07\n",
      "Queried loss func 5000 times\n",
      "Optimized to QKL = 4.88598494996495e-08\n",
      "Queried loss func 5000 times\n",
      "\n",
      "Average loss: 0.00010021682607524799\n"
     ]
    }
   ],
   "source": [
    "# Optimize a few times.\n",
    "NRUN = 5\n",
    "param_dim = state.num_qubits * 3\n",
    "proposed_syms = t.zeros((NRUN, param_dim)) #* parametrization-dependent\n",
    "avg = 0\n",
    "for i in range(NRUN):\n",
    "    if disp:\n",
    "        print(f\"== Run {i+1}/{NRUN} ==\")\n",
    "    potential_sym, loss = hqn.find_potential_symmetry(print_log=True)\n",
    "    proposed_syms[i] = potential_sym if t.is_tensor(potential_sym) else t.from_numpy(potential_sym)\n",
    "    potential_sym = potential_sym.reshape((state.num_qubits, 3)) #* parametrization-dependent\n",
    "    if disp:\n",
    "        print(f\"Proposed symmetry:\\n{potential_sym}\\n\")\n",
    "    avg += loss / NRUN\n",
    "print(f\"\\nAverage loss: {avg}\")"
   ]
  },
  {
   "cell_type": "markdown",
   "metadata": {},
   "source": [
    "### Summary of findings\n",
    "\n",
    "We define `LA = A | B` to be the average loss `A` over `B` runs, throwing out extreme outliers. Times given are per run. The below results are for the 3-qubit GHZ state.\n",
    "\n",
    "#### Local optimizers\n",
    "1. Vanilla gradient descent is extremely slow (`~3 min`) and performs moderately poorly (`LA = 0.021 | 100`)\n",
    "2. Adam is super fast (`<1 sec`) but performs very poorly (`LA = 3.77 | 1000`)\n",
    "3. Nelder-Mead is very fast (`~5 sec`) and performs very well, needs `~1000` queries (`LA = 1e-14 | 100`).\n",
    "4. Conjugate gradient is super fast (`<1 sec`) but performs very poorly (`LA = 3.171 | 1000`)\n",
    "5. NFT is very fast (`~5 sec`) and performs well (`LA = 1e-5 | 100`).\n",
    "6. SPSA is very slow (`~40 sec`) and performs reasonably well (`LA = 0.0036 | 100`)\n",
    "7. TNC is extremely fast (`<<1 sec`) but performs very poorly (`LA = 3.62 | 1000`)\n",
    "8. AQGD: I cannot get it to run. Seems like they are running some strange batch training which is not compatible\n",
    "with my loss function `param_to_quantum_loss`. Too bad.\n",
    "\n",
    "#### Global optimizers\n",
    "1. TODO\n"
   ]
  },
  {
   "cell_type": "code",
   "execution_count": 10,
   "metadata": {},
   "outputs": [
    {
     "name": "stdout",
     "output_type": "stream",
     "text": [
      "Analysing proposed symmetry 1:\n",
      "tensor([[ 6.2832e+00,  2.4173e+00,  6.7348e+00],\n",
      "        [ 6.1331e-06,  2.4369e+00,  5.0517e+00],\n",
      "        [-6.9156e-05,  1.5636e+00,  7.0439e+00],\n",
      "        [ 6.2832e+00,  1.4391e+00,  3.9390e+00],\n",
      "        [ 6.7122e-06,  7.2677e+00,  4.2529e+00],\n",
      "        [-5.0322e-07,  8.5129e+00,  8.0773e+00],\n",
      "        [-1.6607e-06,  1.4607e+00,  9.1348e+00],\n",
      "        [ 2.1286e-06,  1.8609e+00,  4.1844e+00],\n",
      "        [-9.8396e-06,  4.7561e+00,  7.7614e+00]])\n",
      "\n",
      "\tLoss metric for training basis tensor([0., 0., 0.]) is: 3.5617133039152127e-12\n",
      "\tLoss metric for training basis tensor([0.3142, 0.0000, 0.0000]) is: 2.867207606646484e-11\n",
      "\n",
      "\n",
      "Analysing proposed symmetry 2:\n",
      "tensor([[3.1416, 2.4463, 4.1508],\n",
      "        [3.1416, 0.1976, 1.3927],\n",
      "        [3.1416, 0.6064, 5.7284],\n",
      "        [3.1416, 0.4606, 3.8897],\n",
      "        [3.1418, 1.5070, 2.8296],\n",
      "        [3.1416, 2.2821, 0.5476],\n",
      "        [3.1417, 1.6981, 5.4046],\n",
      "        [3.1416, 0.0638, 5.2065],\n",
      "        [3.1416, 3.5881, 6.6650]])\n",
      "\n",
      "\tLoss metric for training basis tensor([0., 0., 0.]) is: 3.429445908780065e-10\n",
      "\tLoss metric for training basis tensor([0.3142, 0.0000, 0.0000]) is: 2.420689582130145e-07\n",
      "\n",
      "\n",
      "Analysing proposed symmetry 3:\n",
      "tensor([[ 6.2835e+00,  3.2717e+00,  2.6637e+00],\n",
      "        [ 4.3702e-02,  4.7654e+00,  5.8682e+00],\n",
      "        [ 2.9640e-04,  3.6961e+00,  4.1038e+00],\n",
      "        [ 6.2845e+00,  1.5184e+00,  3.5685e+00],\n",
      "        [-2.6295e-04,  6.3721e+00,  4.9354e+00],\n",
      "        [-1.2429e-03,  1.4814e+00,  1.6086e+00],\n",
      "        [ 6.2848e+00,  7.9804e+00,  4.6509e+00],\n",
      "        [-7.3568e-03,  9.5372e-01,  2.3577e+00],\n",
      "        [ 6.2829e+00,  2.7100e+00,  5.0921e+00]])\n",
      "\n",
      "\tLoss metric for training basis tensor([0., 0., 0.]) is: 0.0004893886046735402\n",
      "\tLoss metric for training basis tensor([0.3142, 0.0000, 0.0000]) is: 1.1120119023885517e-05\n",
      "\n",
      "\n",
      "Analysing proposed symmetry 4:\n",
      "tensor([[6.2832e+00, 3.9363e-02, 7.7842e+00],\n",
      "        [8.2797e-06, 3.1398e+00, 2.0141e+00],\n",
      "        [6.2833e+00, 4.9581e+00, 8.1511e+00],\n",
      "        [6.2832e+00, 6.6730e+00, 2.6619e+00],\n",
      "        [1.6048e-05, 1.8150e+00, 5.4270e+00],\n",
      "        [6.2832e+00, 2.7047e+00, 7.9058e+00],\n",
      "        [8.6939e-06, 3.1141e+00, 5.2375e+00],\n",
      "        [5.9729e-05, 6.0719e+00, 1.3297e+00],\n",
      "        [6.2832e+00, 7.4400e-01, 3.5865e-01]])\n",
      "\n",
      "\tLoss metric for training basis tensor([0., 0., 0.]) is: 9.118139887808307e-12\n",
      "\tLoss metric for training basis tensor([0.3142, 0.0000, 0.0000]) is: 2.840625315740631e-07\n",
      "\n",
      "\n",
      "Analysing proposed symmetry 5:\n",
      "tensor([[3.1414, 1.3171, 4.3306],\n",
      "        [3.1413, 1.6219, 6.7159],\n",
      "        [3.1416, 3.4250, 3.8657],\n",
      "        [3.1417, 2.0518, 0.7530],\n",
      "        [3.1416, 3.2637, 4.0066],\n",
      "        [3.1416, 1.5678, 0.7388],\n",
      "        [3.1415, 3.8172, 2.8761],\n",
      "        [3.1417, 5.0629, 4.2150],\n",
      "        [3.1414, 0.3217, 3.8365]])\n",
      "\n",
      "\tLoss metric for training basis tensor([0., 0., 0.]) is: 1.0821080601562814e-09\n",
      "\tLoss metric for training basis tensor([0.3142, 0.0000, 0.0000]) is: 4.778746922131188e-08\n"
     ]
    }
   ],
   "source": [
    "# Look at the final KL divergence in each of the chosen bases.\n",
    "for i, sym in enumerate(proposed_syms):\n",
    "    if i > 0:\n",
    "        print(\"\\n\")\n",
    "    print(f\"Analysing proposed symmetry {i+1}:\\n{sym.reshape((state.num_qubits, 3))}\\n\")\n",
    "    for basis_here in bases:\n",
    "        loss_metric = PQC(state, basis_param=basis_here, metric_func=KL, say_hi=False).evaluate_true_metric(sym)\n",
    "        print(f\"\\tLoss metric for training basis {basis_here[0]} is: {loss_metric}\")"
   ]
  },
  {
   "cell_type": "markdown",
   "metadata": {},
   "source": [
    "## Quantum Loss Cross-Validation\n",
    "We chose a small number of bases to run the quantum loss scheme over. But are those bases enough? \n",
    "If the proposed symmetries are truly symmetries, then they will be a symmetry in every basis. We shall test\n",
    "these proposed symmetries by choosing some random bases, applying the quantum circuit, and examining the loss metric there.\n",
    "\n",
    "If the loss metric is high there, then we did not use enough bases in the quantum loss function.\n",
    "\n",
    "Note that this has more general implications, as the number of bases necessary to achieve a good quantum loss function\n",
    "informs the amount of information necessary to construct a reasonable tomography of the state."
   ]
  },
  {
   "cell_type": "code",
   "execution_count": 11,
   "metadata": {},
   "outputs": [
    {
     "name": "stdout",
     "output_type": "stream",
     "text": [
      "Analysing proposed symmetry 1:\n",
      "tensor([[ 6.2832e+00,  2.4173e+00,  6.7348e+00],\n",
      "        [ 6.1331e-06,  2.4369e+00,  5.0517e+00],\n",
      "        [-6.9156e-05,  1.5636e+00,  7.0439e+00],\n",
      "        [ 6.2832e+00,  1.4391e+00,  3.9390e+00],\n",
      "        [ 6.7122e-06,  7.2677e+00,  4.2529e+00],\n",
      "        [-5.0322e-07,  8.5129e+00,  8.0773e+00],\n",
      "        [-1.6607e-06,  1.4607e+00,  9.1348e+00],\n",
      "        [ 2.1286e-06,  1.8609e+00,  4.1844e+00],\n",
      "        [-9.8396e-06,  4.7561e+00,  7.7614e+00]])\n",
      "\n",
      "\tLoss metric for random basis [5.315779  3.6870375 4.6666946] is: 0.00019891088810510538\n",
      "\tLoss metric for random basis [5.652077  1.8843696 2.1748104] is: 3.7141960033002422e-06\n",
      "\tLoss metric for random basis [3.401323  1.839191  2.8408055] is: 3.1321383211351005e-10\n",
      "\n",
      "\n",
      "\n",
      "\n",
      "Analysing proposed symmetry 2:\n",
      "tensor([[3.1416, 2.4463, 4.1508],\n",
      "        [3.1416, 0.1976, 1.3927],\n",
      "        [3.1416, 0.6064, 5.7284],\n",
      "        [3.1416, 0.4606, 3.8897],\n",
      "        [3.1418, 1.5070, 2.8296],\n",
      "        [3.1416, 2.2821, 0.5476],\n",
      "        [3.1417, 1.6981, 5.4046],\n",
      "        [3.1416, 0.0638, 5.2065],\n",
      "        [3.1416, 3.5881, 6.6650]])\n",
      "\n",
      "\tLoss metric for random basis [2.5021627 1.3317028 3.1008341] is: 2.526326561778606e-05\n",
      "\tLoss metric for random basis [4.826601 3.741649 4.150059] is: 0.02380192131233902\n",
      "\tLoss metric for random basis [3.4678636 3.1788988 4.8524203] is: 8.626553404892199e-08\n",
      "\n",
      "\n",
      "\n",
      "\n",
      "Analysing proposed symmetry 3:\n",
      "tensor([[ 6.2835e+00,  3.2717e+00,  2.6637e+00],\n",
      "        [ 4.3702e-02,  4.7654e+00,  5.8682e+00],\n",
      "        [ 2.9640e-04,  3.6961e+00,  4.1038e+00],\n",
      "        [ 6.2845e+00,  1.5184e+00,  3.5685e+00],\n",
      "        [-2.6295e-04,  6.3721e+00,  4.9354e+00],\n",
      "        [-1.2429e-03,  1.4814e+00,  1.6086e+00],\n",
      "        [ 6.2848e+00,  7.9804e+00,  4.6509e+00],\n",
      "        [-7.3568e-03,  9.5372e-01,  2.3577e+00],\n",
      "        [ 6.2829e+00,  2.7100e+00,  5.0921e+00]])\n",
      "\n",
      "\tLoss metric for random basis [1.1571871 2.251322  0.7117544] is: 0.19747767517160525\n",
      "\tLoss metric for random basis [2.79095   2.2668376 1.7600925] is: 0.0009963318807203422\n",
      "\tLoss metric for random basis [3.2578063  0.84114766 3.4472306 ] is: 2.1237497373144447e-05\n",
      "\n",
      "\n",
      "\n",
      "\n",
      "Analysing proposed symmetry 4:\n",
      "tensor([[6.2832e+00, 3.9363e-02, 7.7842e+00],\n",
      "        [8.2797e-06, 3.1398e+00, 2.0141e+00],\n",
      "        [6.2833e+00, 4.9581e+00, 8.1511e+00],\n",
      "        [6.2832e+00, 6.6730e+00, 2.6619e+00],\n",
      "        [1.6048e-05, 1.8150e+00, 5.4270e+00],\n",
      "        [6.2832e+00, 2.7047e+00, 7.9058e+00],\n",
      "        [8.6939e-06, 3.1141e+00, 5.2375e+00],\n",
      "        [5.9729e-05, 6.0719e+00, 1.3297e+00],\n",
      "        [6.2832e+00, 7.4400e-01, 3.5865e-01]])\n",
      "\n",
      "\tLoss metric for random basis [5.698402   2.0881379  0.77712685] is: 3.430982295114012e-05\n",
      "\tLoss metric for random basis [3.287717   0.07795589 1.6441735 ] is: 3.6236001818760375e-09\n",
      "\tLoss metric for random basis [3.4075625  0.14688578 5.262367  ] is: 1.2543338225514228e-08\n",
      "\n",
      "\n",
      "\n",
      "\n",
      "Analysing proposed symmetry 5:\n",
      "tensor([[3.1414, 1.3171, 4.3306],\n",
      "        [3.1413, 1.6219, 6.7159],\n",
      "        [3.1416, 3.4250, 3.8657],\n",
      "        [3.1417, 2.0518, 0.7530],\n",
      "        [3.1416, 3.2637, 4.0066],\n",
      "        [3.1416, 1.5678, 0.7388],\n",
      "        [3.1415, 3.8172, 2.8761],\n",
      "        [3.1417, 5.0629, 4.2150],\n",
      "        [3.1414, 0.3217, 3.8365]])\n",
      "\n",
      "\tLoss metric for random basis [2.3323479 4.9836555 3.7715101] is: 0.0021885117564567807\n",
      "\tLoss metric for random basis [4.2953386 6.1237373 0.6185253] is: 0.03357906730691563\n",
      "\tLoss metric for random basis [5.682277  6.1268554 4.5892754] is: 1.2883243946492034e-05\n",
      "\n",
      "\n"
     ]
    }
   ],
   "source": [
    "# Choose some random bases to examine.\n",
    "NUM_RAND_BASES = 3 # arbitrary\n",
    "for i, sym in enumerate(proposed_syms):\n",
    "    if i > 0:\n",
    "        print(\"\\n\")\n",
    "    print(f\"Analysing proposed symmetry {i+1}:\\n{sym.reshape((state.num_qubits, 3))}\\n\")\n",
    "    for _ in range(NUM_RAND_BASES):\n",
    "        basis_here = rand_basis(state.num_qubits)\n",
    "        loss_metric = PQC(state, basis_param=basis_here, metric_func=KL, say_hi=False).evaluate_true_metric(sym)\n",
    "        print(f\"\\tLoss metric for random basis {basis_here[0].numpy()} is: {loss_metric}\")\n",
    "    print('\\n')"
   ]
  },
  {
   "cell_type": "code",
   "execution_count": null,
   "metadata": {},
   "outputs": [],
   "source": []
  }
 ],
 "metadata": {
  "interpreter": {
   "hash": "d6de9be78b6020e3c4b915c697ec9df5423262584917bd5f64c63e56f57b2ea4"
  },
  "kernelspec": {
   "display_name": "Python 3.7.7 64-bit ('base': conda)",
   "language": "python",
   "name": "python3"
  },
  "language_info": {
   "codemirror_mode": {
    "name": "ipython",
    "version": 3
   },
   "file_extension": ".py",
   "mimetype": "text/x-python",
   "name": "python",
   "nbconvert_exporter": "python",
   "pygments_lexer": "ipython3",
   "version": "3.7.7"
  },
  "orig_nbformat": 4
 },
 "nbformat": 4,
 "nbformat_minor": 2
}
