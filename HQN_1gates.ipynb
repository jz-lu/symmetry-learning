{
 "cells": [
  {
   "cell_type": "markdown",
   "metadata": {},
   "source": [
    "# HQNSL for 1-qubit operations\n",
    "This notebook is a test of the HQNSL scheme for the simplest parametrization of a quantum circuit: a set of `L` 1-qubit rotations given by `L * 3` parameters. We will learn in 2 bases and examine the effectiveness of the algorithm."
   ]
  },
  {
   "cell_type": "code",
   "execution_count": 1,
   "metadata": {},
   "outputs": [],
   "source": [
    "from __helpers import qubit_expansion, rand_basis\n",
    "from __loss_funcs import KL\n",
    "from __class_BasisTransformer import BasisTransformer\n",
    "from __class_PQC import PQC\n",
    "from __class_HQNet import HQNet\n",
    "import matplotlib.pyplot as plt\n",
    "import numpy as np\n",
    "import torch as t\n",
    "from math import pi\n",
    "from qiskit import QuantumCircuit, QuantumRegister\n",
    "from qiskit.quantum_info import Statevector\n",
    "%matplotlib inline"
   ]
  },
  {
   "cell_type": "markdown",
   "metadata": {},
   "source": [
    "## Construction of the State"
   ]
  },
  {
   "cell_type": "code",
   "execution_count": 2,
   "metadata": {},
   "outputs": [
    {
     "name": "stdout",
     "output_type": "stream",
     "text": [
      "      ┌───┐          \n",
      "q0_0: ┤ H ├──■────■──\n",
      "      └───┘┌─┴─┐  │  \n",
      "q0_1: ─────┤ X ├──┼──\n",
      "           └───┘┌─┴─┐\n",
      "q0_2: ──────────┤ X ├\n",
      "                └───┘\n"
     ]
    },
    {
     "data": {
      "image/png": "[encoded data removed]",
      "text/plain": [
       "<Figure size 432x288 with 1 Axes>"
      ]
     },
     "metadata": {
      "needs_background": "light"
     },
     "output_type": "display_data"
    }
   ],
   "source": [
    "STATE_TYPE = 'GHZ'\n",
    "if STATE_TYPE == 'GHZ':\n",
    "    # Prepare: GHZ State (from: Q-circuit)\n",
    "    from GHZ_generator import GHZ_state_circuit\n",
    "    state = Statevector.from_int(0, 2**3)\n",
    "    qc = GHZ_state_circuit()\n",
    "    print(qc)\n",
    "    state = state.evolve(qc)\n",
    "elif STATE_TYPE == 'XY':\n",
    "    # Prepare: XY(3) (from: ED)\n",
    "    from XY_generator import xy_ground_state\n",
    "    state = Statevector(xy_ground_state(3).numpy()) # L = 3 qubits\n",
    "elif STATE_TYPE == 'Cluster':\n",
    "    # Prepare cluster(3) (from: Q-circuit)\n",
    "    from cluster_generator import cluster_state_circuit\n",
    "    state = Statevector.from_int(0, 2**9)\n",
    "    qc = cluster_state_circuit(3)\n",
    "    print(qc)\n",
    "    state = state.evolve(qc)\n",
    "else:\n",
    "    raise TypeError(\"Invalid state type specified.\")\n",
    "\n",
    "# Visualize the distribution\n",
    "plt.bar(qubit_expansion(state.num_qubits), state.probabilities())\n",
    "plt.title(f\"{STATE_TYPE} State Distribution (z-basis)\")\n",
    "plt.show()"
   ]
  },
  {
   "cell_type": "markdown",
   "metadata": {},
   "source": [
    "## HQN Training\n",
    "We will construct the bases we want as a list of `L x 3` rotation-parameter matrices, then pass them into the hybrid quantum net and run the optimization algorithm. "
   ]
  },
  {
   "cell_type": "code",
   "execution_count": 3,
   "metadata": {},
   "outputs": [
    {
     "data": {
      "image/png": "[encoded data removed]",
      "text/plain": [
       "<Figure size 432x288 with 1 Axes>"
      ]
     },
     "metadata": {
      "needs_background": "light"
     },
     "output_type": "display_data"
    }
   ],
   "source": [
    "# Preparation of two bases\n",
    "init_basis = t.zeros(state.num_qubits, 3) # z-basis\n",
    "perturbation = init_basis.clone()\n",
    "perturbation[:,0] += pi/10 * t.ones(3) # small rotation in one axis for each qubit\n",
    "perturbed_basis = init_basis + perturbation\n",
    "bases = [init_basis, perturbed_basis]\n",
    "num_bases = len(bases)\n",
    "\n",
    "# Visualize the distribution of the bases\n",
    "fig, ax = plt.subplots()\n",
    "for i, basis in enumerate(bases):\n",
    "    dist_i = BasisTransformer([state], basis).updated_dist()[0]\n",
    "    bar = ax.bar(np.arange(2**state.num_qubits) + 0.25*i - 0.04*state.num_qubits, dist_i, width=0.25)\n",
    "    bar.set_label(f\"Basis {i+1}\")\n",
    "plt.legend()\n",
    "ax.set_xticks(np.arange(2**state.num_qubits))\n",
    "ax.set_xticklabels(qubit_expansion(state.num_qubits))\n",
    "plt.title(\"State Distribution Over Rotations\")\n",
    "plt.show()"
   ]
  },
  {
   "cell_type": "code",
   "execution_count": 13,
   "metadata": {},
   "outputs": [
    {
     "name": "stdout",
     "output_type": "stream",
     "text": [
      "Classical deep net initialized.\n",
      "Classical deep net initialized.\n",
      "Parametrized quantum circuit initialized.\n",
      "Parametrized quantum circuit initialized.\n",
      "Non-regularized 'Adam' hybrid quantum net initialized -- Hello world!\n"
     ]
    }
   ],
   "source": [
    "# Start up the HQN\n",
    "hqn = HQNet(state, bases, eta=1e-2, maxiter=1000, disp=True,\n",
    "            mode='Adam', \n",
    "            metric_func=KL, regularize=False)"
   ]
  },
  {
   "cell_type": "code",
   "execution_count": 14,
   "metadata": {},
   "outputs": [
    {
     "name": "stdout",
     "output_type": "stream",
     "text": [
      "== Run 1/1 ==\n",
      "Optimized to QKL = 3.8746399879455566\n",
      "Queried loss func 1 times\n",
      "Proposed symmetry:\n",
      "tensor([[3.8642, 3.2044, 5.6549],\n",
      "        [5.0265, 2.0106, 2.4819],\n",
      "        [0.1571, 2.9845, 6.0004]], dtype=torch.float64)\n",
      "\n"
     ]
    }
   ],
   "source": [
    "# Optimize a few times.\n",
    "NRUN = 1\n",
    "param_dim = state.num_qubits * 3\n",
    "proposed_syms = t.zeros((NRUN, param_dim)) #* parametrization-dependent\n",
    "for i in range(NRUN):\n",
    "    print(f\"== Run {i+1}/{NRUN} ==\")\n",
    "    potential_sym = hqn.find_potential_symmetry(print_log=True)\n",
    "    proposed_syms[i] = potential_sym if t.is_tensor(potential_sym) else t.from_numpy(potential_sym)\n",
    "    potential_sym = potential_sym.reshape((state.num_qubits, 3)) #* parametrization-dependent\n",
    "    print(f\"Proposed symmetry:\\n{potential_sym}\\n\")"
   ]
  },
  {
   "cell_type": "code",
   "execution_count": 15,
   "metadata": {},
   "outputs": [
    {
     "name": "stdout",
     "output_type": "stream",
     "text": [
      "Analysing proposed symmetry 1:\n",
      "tensor([[3.8642, 3.2044, 5.6549],\n",
      "        [5.0265, 2.0106, 2.4819],\n",
      "        [0.1571, 2.9845, 6.0004]])\n",
      "\n",
      "\tLoss metric for training basis tensor([0., 0., 0.]) is: 2.4872812734904657\n",
      "\tLoss metric for training basis tensor([0.3142, 0.0000, 0.0000]) is: 1.3873587658756588\n"
     ]
    }
   ],
   "source": [
    "# Look at the final KL divergence in each of the chosen bases.\n",
    "for i, sym in enumerate(proposed_syms):\n",
    "    if i > 0:\n",
    "        print(\"\\n\")\n",
    "    print(f\"Analysing proposed symmetry {i+1}:\\n{sym.reshape((state.num_qubits, 3))}\\n\")\n",
    "    for basis_here in bases:\n",
    "        loss_metric = PQC(state, basis_param=basis_here, metric_func=KL, say_hi=False).evaluate_true_metric(sym)\n",
    "        print(f\"\\tLoss metric for training basis {basis_here[0]} is: {loss_metric}\")"
   ]
  },
  {
   "cell_type": "markdown",
   "metadata": {},
   "source": [
    "## Quantum Loss Cross-Validation\n",
    "We chose a small number of bases to run the quantum loss scheme over. But are those bases enough? \n",
    "If the proposed symmetries are truly symmetries, then they will be a symmetry in every basis. We shall test\n",
    "these proposed symmetries by choosing some random bases, applying the quantum circuit, and examining the loss metric there.\n",
    "\n",
    "If the loss metric is high there, then we did not use enough bases in the quantum loss function.\n",
    "\n",
    "Note that this has more general implications, as the number of bases necessary to achieve a good quantum loss function\n",
    "informs the amount of information necessary to construct a reasonable tomography of the state."
   ]
  },
  {
   "cell_type": "code",
   "execution_count": 16,
   "metadata": {},
   "outputs": [
    {
     "name": "stdout",
     "output_type": "stream",
     "text": [
      "Analysing proposed symmetry 1:\n",
      "tensor([[3.8642, 3.2044, 5.6549],\n",
      "        [5.0265, 2.0106, 2.4819],\n",
      "        [0.1571, 2.9845, 6.0004]])\n",
      "\n",
      "\tLoss metric for random basis [0.5217445 3.715976  5.613386 ] is: 0.8278630626356386\n",
      "\tLoss metric for random basis [2.5211043  0.67306817 3.6490076 ] is: 0.6430753083230871\n",
      "\tLoss metric for random basis [1.3187   2.618469 2.366798] is: 1.1082512340215003\n",
      "\n",
      "\n"
     ]
    }
   ],
   "source": [
    "# Choose some random bases to examine.\n",
    "NUM_RAND_BASES = 3 # arbitrary\n",
    "for i, sym in enumerate(proposed_syms):\n",
    "    if i > 0:\n",
    "        print(\"\\n\")\n",
    "    print(f\"Analysing proposed symmetry {i+1}:\\n{sym.reshape((state.num_qubits, 3))}\\n\")\n",
    "    for _ in range(NUM_RAND_BASES):\n",
    "        basis_here = rand_basis(state.num_qubits)\n",
    "        loss_metric = PQC(state, basis_param=basis_here, metric_func=KL, say_hi=False).evaluate_true_metric(sym)\n",
    "        print(f\"\\tLoss metric for random basis {basis_here[0].numpy()} is: {loss_metric}\")\n",
    "    print('\\n')"
   ]
  },
  {
   "cell_type": "code",
   "execution_count": null,
   "metadata": {},
   "outputs": [],
   "source": []
  }
 ],
 "metadata": {
  "interpreter": {
   "hash": "d6de9be78b6020e3c4b915c697ec9df5423262584917bd5f64c63e56f57b2ea4"
  },
  "kernelspec": {
   "display_name": "Python 3.7.7 64-bit ('base': conda)",
   "language": "python",
   "name": "python3"
  },
  "language_info": {
   "codemirror_mode": {
    "name": "ipython",
    "version": 3
   },
   "file_extension": ".py",
   "mimetype": "text/x-python",
   "name": "python",
   "nbconvert_exporter": "python",
   "pygments_lexer": "ipython3",
   "version": "3.7.7"
  },
  "orig_nbformat": 4
 },
 "nbformat": 4,
 "nbformat_minor": 2
}
